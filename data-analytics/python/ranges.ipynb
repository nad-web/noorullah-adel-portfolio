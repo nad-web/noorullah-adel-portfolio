# Ranges


In diese Aufgabe lernen Sie das `range`-Objekt näher kennen. Dieses wird vor allem für `for`-Schleifen verwendet, kann aber auch zur Erstellung eines bestimmen Zahlenintervalls oder ähnlichem dienen. Nach einer kurzen Beschreibung des Datentyps `range` besteht die eigentliche Aufgabe aus der Erstellung einfacher `range`s.


## Hintergrund


Sie möchten alle geraden Zahlen in einem bestimmten Intervall aufaddieren. Dafür könnten sie z. B. eine `while`-Schleife verwenden:



```python
i = 0
summe = 0
while i <= 10:
    if i % 2 == 0:
        summe += i
    i += 1
print(summe)
```

Dies ist umständlich und macht keinen Spaß. Stattdessen können Sie den `built-in type` `range` verwenden, welcher ein Zahlenintervall von `start` bis ausschließlich `stop` mit der Schrittweite `step` erstellt. Weitere Informationen zu Ranges finden Sie in der Vorlesung. Hier nur ein paar Hinweise:



```python
range(0, 10, 1)
```

Wie Sie sehen, wird uns nicht das eigentliche Zahlenintervall, sondern ein `range`-Objekt ausgegeben. Dieses stellt eine unveränderliche (_immutable_) Sequenz dar. Um die Zahlen explizit zu erhalten, kann eine `list` oder ein `tuple` verwendet werden:



```python
tuple(range(0, 10, 1))
```

Nun fällt auf, dass die 10 nicht im Intervall enthalten ist. Soll sie enthalten sein, muss als `stop`-Wert 11 angegeben werden:



```python
list(range(0, 11, 1))
```

Genau wie andere Sequenzen, die Sie bereits kennengelernt haben, sind Ranges iterierbar. Das heißt, Sie können diese in `for`- Schleifen verwenden.



```python
for i in range(5):
    print(i)
```

Dadurch können Sie sehr einfach Schleifen über Zahlintervalle von beliebiger Größe und beliebigem Muster erstellen. Zum Beispiel die folgende Schleife, um die obenstehende Problemstellung zu lösen:



```python
summe = 0
for i in range(0, 11, 2):
    summe += i
print(summe)
```

Anders als in der `while`-Schleife enthält diese Schleife keine Abfrage auf gerade Zahlen. Die Schleife addiert alle Zahlen in der gegebenen Range, die allerdings nur gerade Zahlen enthält. Die gleiche Schleife kann auch ungerade Zahlen addieren, wenn Sie das Intervall mit der 1 beginnen:



```python
list(range(1, 11, 2))
```

Als Sequenzen können `range`s mit vielen weiteren eingebauten Funktionen (`built-in functions`) verwendet werden. Einige von diesen kennen Sie bereits von Listen oder Tuplen. So kann die obige Problemstellung mit der Funktion `sum()` ganz ohne Schleife gelöst werden.



```python
sum(range(0, 11, 2))
```

Der Vorteil gegenüber anderen Sequenzen ist neben der einfachen Handhabung, dass ein `range`-Objekt immer nur _Start, Stop_ und _Step_ speichert. Wie Sie oben gesehen haben, werden die individuellen Einträge immer nur beim Zugriff auf diese berechnet, wie z.B. beim Konvertieren in eine Liste oder beim Iterieren in einer Schleife. Daher benötigt eine noch so große `range` im Gegensatz zu anderen Sequenzen kaum Speicherplatz.


Zuletzt können `ranges` auch gesliced werden. Das liefert eine neue Range mit vielfacher Schrittweite oder anderen Grenzen:



```python
my_range = range(0, 11, 2)
```


```python
my_range, my_range[::2], my_range[3:7:1], my_range[9:2:-3]
```

Die Schrittweite verändert sich hierbei durch das Slicing von `range(a, b, c)[::d]` zu `range(a, b, c * d)`.


Weitere Beispiele und Erklärungen finden Sie in der Python-Dokumentation unter https://docs.python.org/3/library/stdtypes.html#ranges


## Ihre Aufgabe


Sie erhalten zwei natürliche Zahlen `start` und `stop`. `start` ist immer eine gerade Zahl und kleiner als `stop`.

- Erstellen Sie eine `range` namens `ohne_stop`, die alle ganzen Zahlen von `start` bis **ausschließlich** `stop` enthält.
- Erstellen Sie eine `range` namens `mit_stop`, die alle ganzen Zahlen von `start` bis **einschließlich** `stop` enthält.
- Erstellen Sie eine `range` `gerade_zahlen`, die alle ganzen, _geraden_ Zahlen von `start` bis **ausschließlich** `stop` enthält.
- Erstellen Sie eine `range` `ungerade_zahlen`, die alle ganzen, _ungeraden_ Zahlen von `start` bis **ausschließlich** `stop` enthält.

* Sie erhalten die `range` `my_range`.
  - Überprüfen Sie, ob die Schrittweite dieser `range` in Ihr enthalten ist und speichern Sie das Ergebnis auf die Variable `step_in_range`.
  - Erstellen Sie eine neue `range`, welche die gegebene umkehrt und eine entgegengesetzte Schrittweite hat, speichern Sie das Ergebnis auf der Variable `inverse_range`.
    - Achten Sie darauf, dass `stop` nicht im ursprünglichen Intervall enthalten ist, im Gegensatz zu `start`.
    - z. B. `range(-2, 7, 2) -> range(6, -3, -2)`
    - Sie können diese Aufgabe lösen, indem Sie auf die Attribute von `my_range` zugreifen oder (einfacher) Slicing verwenden.



```python
start = -2
stop = 7
my_range = range(3,7,3)
```


```python
# Bitte schreiben Sie hier Ihren Programmcode.
```


```python
import pathlib

import pytest
from pytest_nbgrader import loader

loader.Submission.submit(_i)

args = ['-qq', '-x', '-W', 'ignore::_pytest.warning_types.PytestAssertRewriteWarning', '--cases']
subtasks = ['ohne_stop', 'mit_stop', 'gerade_zahlen', 'ungerade_zahlen', 'step_in_range', 'inverse_range']

assert all(
    pytest.main([*args, pathlib.Path('tests') / 'Ranges' / f'{subtask}.yml']) is pytest.ExitCode.OK
    for subtask in subtasks
)
```
