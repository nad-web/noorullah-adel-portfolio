
{
 "cells": [
  {
   "cell_type": "markdown",
   "id": "c076b2ca",
   "metadata": {},
   "source": [
 
   ]
  },
  {
   "cell_type": "markdown",
   "id": "9b443c4b-bc5a-4951-b4a3-ab06dc87227f",
   "metadata": {},
   "source": [
    "# Ranges\n"
   ]
  },
  {
   "cell_type": "markdown",
   "id": "5b269353-8872-4a69-a4a8-e5b3c851156d",
   "metadata": {},
   "source": [
    "In diese Aufgabe lernen Sie das `range`-Objekt näher kennen. Dieses wird vor allem für `for`-Schleifen verwendet, kann aber auch zur Erstellung eines bestimmen Zahlenintervalls oder ähnlichem dienen. Nach einer kurzen Beschreibung des Datentyps `range` besteht die eigentliche Aufgabe aus der Erstellung einfacher `range`s.\n"
   ]
  },
  {
   "cell_type": "markdown",
   "id": "adc30eae-7d28-4292-88d9-13c65da6bb79",
   "metadata": {},
   "source": [
    "## Hintergrund\n"
   ]
  },
  {
   "cell_type": "markdown",
   "id": "43948366-c07e-4e34-bb59-671c128a366d",
   "metadata": {},
   "source": [
    "Sie möchten alle geraden Zahlen in einem bestimmten Intervall aufaddieren. Dafür könnten sie z. B. eine `while`-Schleife verwenden:\n"
   ]
  },
  {
   "cell_type": "code",
   "execution_count": 17,
   "id": "7945980e-349f-4cc4-a172-4bcf5eb07954",
   "metadata": {},
   "outputs": [
    {
     "name": "stdout",
     "output_type": "stream",
     "text": [
      "30\n"
     ]
    }
   ],
   "source": [
    "i = 0\n",
    "summe = 0\n",
    "while i <= 10:\n",
    "    if i % 2 == 0:\n",
    "        summe += i\n",
    "    i += 1\n",
    "print(summe)"
   ]
  },
  {
   "cell_type": "markdown",
   "id": "aa41b762-700f-4339-91d1-52bc78127e33",
   "metadata": {},
   "source": [
    "Dies ist umständlich und macht keinen Spaß. Stattdessen können Sie den `built-in type` `range` verwenden, welcher ein Zahlenintervall von `start` bis ausschließlich `stop` mit der Schrittweite `step` erstellt. Weitere Informationen zu Ranges finden Sie in der Vorlesung. Hier nur ein paar Hinweise:\n"
   ]
  },
  {
   "cell_type": "code",
   "execution_count": 18,
   "id": "75ca91aa-d0aa-4c8b-aed1-804d591f0e4c",
   "metadata": {},
   "outputs": [
    {
     "data": {
      "text/plain": [
       "range(0, 10)"
      ]
     },
     "execution_count": 18,
     "metadata": {},
     "output_type": "execute_result"
    }
   ],
   "source": [
    "range(0, 10, 1)"
   ]
  },
  {
   "cell_type": "markdown",
   "id": "02ce4dcf-4576-4933-bcfc-87f83776761a",
   "metadata": {},
   "source": [
    "Wie Sie sehen, wird uns nicht das eigentliche Zahlenintervall, sondern ein `range`-Objekt ausgegeben. Dieses stellt eine unveränderliche (_immutable_) Sequenz dar. Um die Zahlen explizit zu erhalten, kann eine `list` oder ein `tuple` verwendet werden:\n"
   ]
  },
  {
   "cell_type": "code",
   "execution_count": 19,
   "id": "c3401d78-8f86-4c03-8917-f7d9a1d1e912",
   "metadata": {},
   "outputs": [
    {
     "data": {
      "text/plain": [
       "(0, 1, 2, 3, 4, 5, 6, 7, 8, 9)"
      ]
     },
     "execution_count": 19,
     "metadata": {},
     "output_type": "execute_result"
    }
   ],
   "source": [
    "tuple(range(0, 10, 1))"
   ]
  },
  {
   "cell_type": "markdown",
   "id": "ecf2c51a-65b5-4a1e-a3e0-503600eafebd",
   "metadata": {},
   "source": [
    "Nun fällt auf, dass die 10 nicht im Intervall enthalten ist. Soll sie enthalten sein, muss als `stop`-Wert 11 angegeben werden:\n"
   ]
  },
  {
   "cell_type": "code",
   "execution_count": 20,
   "id": "9eb19b79-a320-4eef-8859-16a5281a7194",
   "metadata": {},
   "outputs": [
    {
     "data": {
      "text/plain": [
       "[0, 1, 2, 3, 4, 5, 6, 7, 8, 9, 10]"
      ]
     },
     "execution_count": 20,
     "metadata": {},
     "output_type": "execute_result"
    }
   ],
   "source": [
    "list(range(0, 11, 1))"
   ]
  },
  {
   "cell_type": "markdown",
   "id": "d74c184c-eead-477b-9d5f-28d71ccc731d",
   "metadata": {},
   "source": [
    "Genau wie andere Sequenzen, die Sie bereits kennengelernt haben, sind Ranges iterierbar. Das heißt, Sie können diese in `for`- Schleifen verwenden.\n"
   ]
  },
  {
   "cell_type": "code",
   "execution_count": 21,
   "id": "f57dd5b8-c137-4318-8a47-38d87a2e5f7e",
   "metadata": {},
   "outputs": [
    {
     "name": "stdout",
     "output_type": "stream",
     "text": [
      "0\n",
      "1\n",
      "2\n",
      "3\n",
      "4\n"
     ]
    }
   ],
   "source": [
    "for i in range(5):\n",
    "    print(i)"
   ]
  },
  {
   "cell_type": "markdown",
   "id": "90dec331-390d-4689-bc4f-e41f4f1c660a",
   "metadata": {},
   "source": [
    "Dadurch können Sie sehr einfach Schleifen über Zahlintervalle von beliebiger Größe und beliebigem Muster erstellen. Zum Beispiel die folgende Schleife, um die obenstehende Problemstellung zu lösen:\n"
   ]
  },
  {
   "cell_type": "code",
   "execution_count": 22,
   "id": "7d759e5f-1ead-4608-854a-c89a70a44995",
   "metadata": {},
   "outputs": [
    {
     "name": "stdout",
     "output_type": "stream",
     "text": [
      "30\n"
     ]
    }
   ],
   "source": [
    "summe = 0\n",
    "for i in range(0, 11, 2):\n",
    "    summe += i\n",
    "print(summe)"
   ]
  },
  {
   "cell_type": "markdown",
   "id": "6daf42ca-8d47-43e1-abcd-157a765fc7ad",
   "metadata": {},
   "source": [
    "Anders als in der `while`-Schleife enthält diese Schleife keine Abfrage auf gerade Zahlen. Die Schleife addiert alle Zahlen in der gegebenen Range, die allerdings nur gerade Zahlen enthält. Die gleiche Schleife kann auch ungerade Zahlen addieren, wenn Sie das Intervall mit der 1 beginnen:\n"
   ]
  },
  {
   "cell_type": "code",
   "execution_count": 23,
   "id": "a464cbff-4a71-462d-8d59-d02a52f79257",
   "metadata": {},
   "outputs": [
    {
     "data": {
      "text/plain": [
       "[1, 3, 5, 7, 9]"
      ]
     },
     "execution_count": 23,
     "metadata": {},
     "output_type": "execute_result"
    }
   ],
   "source": [
    "list(range(1, 11, 2))"
   ]
  },
  {
   "cell_type": "markdown",
   "id": "63dcf191-a3f7-4baa-a393-650ff8884223",
   "metadata": {},
   "source": [
    "Als Sequenzen können `range`s mit vielen weiteren eingebauten Funktionen (`built-in functions`) verwendet werden. Einige von diesen kennen Sie bereits von Listen oder Tuplen. So kann die obige Problemstellung mit der Funktion `sum()` ganz ohne Schleife gelöst werden.\n"
   ]
  },
  {
   "cell_type": "code",
   "execution_count": 24,
   "id": "d60a7174-2617-42c3-b9c4-2d5d0d69de35",
   "metadata": {},
   "outputs": [
    {
     "data": {
      "text/plain": [
       "30"
      ]
     },
     "execution_count": 24,
     "metadata": {},
     "output_type": "execute_result"
    }
   ],
   "source": [
    "sum(range(0, 11, 2))"
   ]
  },
  {
   "cell_type": "markdown",
   "id": "28e2aaf0-7432-41be-9b69-7ecc797fee79",
   "metadata": {},
   "source": [
    "Der Vorteil gegenüber anderen Sequenzen ist neben der einfachen Handhabung, dass ein `range`-Objekt immer nur _Start, Stop_ und _Step_ speichert. Wie Sie oben gesehen haben, werden die individuellen Einträge immer nur beim Zugriff auf diese berechnet, wie z.B. beim Konvertieren in eine Liste oder beim Iterieren in einer Schleife. Daher benötigt eine noch so große `range` im Gegensatz zu anderen Sequenzen kaum Speicherplatz.\n"
   ]
  },
  {
   "cell_type": "markdown",
   "id": "18e216c6-1868-4576-bed7-56e4659c633a",
   "metadata": {},
   "source": [
    "Zuletzt können `ranges` auch gesliced werden. Das liefert eine neue Range mit vielfacher Schrittweite oder anderen Grenzen:\n"
   ]
  },
  {
   "cell_type": "code",
   "execution_count": 25,
   "id": "c5b83a77-9278-4b3a-ba16-3fe97e9df25a",
   "metadata": {},
   "outputs": [],
   "source": [
    "my_range = range(0, 11, 2)"
   ]
  },
  {
   "cell_type": "code",
   "execution_count": 26,
   "id": "1ea4c90f-5add-4e56-aa81-ebf80086267e",
   "metadata": {},
   "outputs": [
    {
     "data": {
      "text/plain": [
       "(range(0, 11, 2), range(0, 12, 4), range(6, 12, 2), range(10, 4, -6))"
      ]
     },
     "execution_count": 26,
     "metadata": {},
     "output_type": "execute_result"
    }
   ],
   "source": [
    "my_range, my_range[::2], my_range[3:7:1], my_range[9:2:-3]"
   ]
  },
  {
   "cell_type": "markdown",
   "id": "74a8762f-6763-4fe5-8d88-48340a2c4f6f",
   "metadata": {},
   "source": [
    "Die Schrittweite verändert sich hierbei durch das Slicing von `range(a, b, c)[::d]` zu `range(a, b, c * d)`.\n"
   ]
  },
  {
   "cell_type": "markdown",
   "id": "b1d18511-e777-44c0-8e36-e4d55967675a",
   "metadata": {},
   "source": [
    "Weitere Beispiele und Erklärungen finden Sie in der Python-Dokumentation unter https://docs.python.org/3/library/stdtypes.html#ranges\n"
   ]
  },
  {
   "cell_type": "markdown",
   "id": "c7cd14f0-47a9-4bf0-aa4a-0fcf7e4b5e39",
   "metadata": {},
   "source": [
    "## Ihre Aufgabe\n"
   ]
  },
  {
   "cell_type": "markdown",
   "id": "473df539-3274-443c-95bc-f771dd2f6e8b",
   "metadata": {},
   "source": [
    "Sie erhalten zwei natürliche Zahlen `start` und `stop`. `start` ist immer eine gerade Zahl und kleiner als `stop`.\n",
    "\n",
    "- Erstellen Sie eine `range` namens `ohne_stop`, die alle ganzen Zahlen von `start` bis **ausschließlich** `stop` enthält.\n",
    "- Erstellen Sie eine `range` namens `mit_stop`, die alle ganzen Zahlen von `start` bis **einschließlich** `stop` enthält.\n",
    "- Erstellen Sie eine `range` `gerade_zahlen`, die alle ganzen, _geraden_ Zahlen von `start` bis **ausschließlich** `stop` enthält.\n",
    "- Erstellen Sie eine `range` `ungerade_zahlen`, die alle ganzen, _ungeraden_ Zahlen von `start` bis **ausschließlich** `stop` enthält.\n",
    "\n",
    "* Sie erhalten die `range` `my_range`.\n",
    "  - Überprüfen Sie, ob die Schrittweite dieser `range` in Ihr enthalten ist und speichern Sie das Ergebnis auf die Variable `step_in_range`.\n",
    "  - Erstellen Sie eine neue `range`, welche die gegebene umkehrt und eine entgegengesetzte Schrittweite hat, speichern Sie das Ergebnis auf der Variable `inverse_range`.\n",
    "    - Achten Sie darauf, dass `stop` nicht im ursprünglichen Intervall enthalten ist, im Gegensatz zu `start`.\n",
    "    - z. B. `range(-2, 7, 2) -> range(6, -3, -2)`\n",
    "    - Sie können diese Aufgabe lösen, indem Sie auf die Attribute von `my_range` zugreifen oder (einfacher) Slicing verwenden.\n"
   ]
  },
  {
   "cell_type": "code",
   "execution_count": 27,
   "id": "4e00e8e9-a10b-4122-8953-0ec68924e520",
   "metadata": {
    "deletable": false,
    "editable": false,
    "nbgrader": {
     "cell_type": "code",
     "checksum": "2e3990438e9f7ce29f31a197c4a92108",
     "grade": false,
     "grade_id": "cell-b4471c57681b2d04",
     "locked": true,
     "schema_version": 3,
     "solution": false,
     "task": false
    }
   },
   "outputs": [],
   "source": [
    "start = -2\n",
    "stop = 7\n",
    "my_range = range(3,7,3)"
   ]
  },
  {
   "cell_type": "code",
   "execution_count": 34,
   "id": "ff4d2588-f9d5-48b7-bc2e-add301ba95ca",
   "metadata": {
    "deletable": false,
    "nbgrader": {
     "cell_type": "code",
     "checksum": "d5785478d3d9ad5a080254e393c6ed52",
     "grade": false,
     "grade_id": "cell-cc0decf5f5face6d",
     "locked": false,
     "schema_version": 3,
     "solution": true,
     "task": false
    }
   },
   "outputs": [],
   "source": [
    "# Bitte schreiben Sie hier Ihren Programmcode.\n",
    "\n",
    "# keine festen Werte für start, stop oder my_range setzen!\n",
    "\n",
    "# 1) ohne_stop: von start bis exklusiv stop\n",
    "ohne_stop = range(start, stop)\n",
    "\n",
    "# 2) mit_stop: von start bis inklusive stop (deshalb stop+1)\n",
    "mit_stop = range(start, stop + 1)\n",
    "\n",
    "# 3) gerade_zahlen: alle geraden Zahlen zwischen start und stop\n",
    "if start % 2 == 0:\n",
    "    erste_gerade = start\n",
    "else:\n",
    "    erste_gerade = start + 1\n",
    "gerade_zahlen = range(erste_gerade, stop, 2)\n",
    "\n",
    "# 4) ungerade_zahlen: alle ungeraden Zahlen zwischen start und stop\n",
    "if start % 2 == 1:\n",
    "    erste_ungerade = start\n",
    "else:\n",
    "    erste_ungerade = start + 1\n",
    "ungerade_zahlen = range(erste_ungerade, stop, 2)\n",
    "\n",
    "# 5) Schrittweite in my_range prüfen\n",
    "step_in_range = my_range.step in list(my_range)\n",
    "\n",
    "# 6) inverse_range erstellen (nur wenn my_range nicht leer)\n",
    "if len(my_range) > 0:\n",
    "    start_inv = my_range[-1]\n",
    "    stop_inv = my_range[0] - my_range.step\n",
    "    step_inv = -my_range.step\n",
    "    inverse_range = range(start_inv, stop_inv, step_inv)\n",
    "else:\n",
    "    inverse_range = range(0)  # leere Range als Fallback\n"
   ]
  },
  {
   "cell_type": "code",
   "execution_count": 29,
   "id": "8ae0a593-5bc6-494a-9773-687643bc4a78",
   "metadata": {
    "deletable": false,
    "editable": false,
    "nbgrader": {
     "cell_type": "code",
     "checksum": "a5dc400148aeac4b330af9b158ca967a",
     "grade": true,
     "grade_id": "cell-3d67a7a0d17307f3",
     "locked": true,
     "points": 1,
     "schema_version": 3,
     "solution": false,
     "task": false
    }
   },
   "outputs": [
    {
     "name": "stdout",
     "output_type": "stream",
     "text": [
   
