
{
 "cells": [
  {
   "cell_type": "markdown",
   "id": "963cbf6b-722b-4a92-a033-ec3f466db23d",
   "metadata": {},
   "source": [
 
   ]
  },
  {
   "cell_type": "markdown",
   "id": "62d12032-d66a-4e25-bbc7-c9789b7f9f02",
   "metadata": {},
   "source": [
    "# Variable Capturing"
   ]
  },
  {
   "cell_type": "markdown",
   "id": "1743df99-0d04-4d33-8157-ba7ed1187f58",
   "metadata": {},
   "source": [
    "Diese Aufgabe beschäftigt sich mit dem sogenannten *Variable Capturing* in Lambda-Funktionen. Das vorliegende Problem wird hierbei vorerst besprochen, anschließend wird Ihnen eine leichte Übungsaufgabe gestellt. Sie sollten sich hierfür bereits mit Lambda-Funktionen beschäftigt haben."
   ]
  },
  {
   "cell_type": "markdown",
   "id": "14fae173-7e5a-41e7-ad4a-04812511da54",
   "metadata": {},
   "source": [
    "## Problem"
   ]
  },
  {
   "cell_type": "markdown",
   "id": "b069cfe9-6ab9-48a7-9969-99ca15834718",
   "metadata": {},
   "source": [
    "Sie möchten eine Lambda-Funktion definieren, welche neben einer übergebenen Variable noch andere, zuvor definierte Variablen verwendet. Den Wert dieser Variable möchten Sie *einfangen*."
   ]
  },
  {
   "cell_type": "markdown",
   "id": "a6d1a83a-9300-4224-8906-05ead80ee9b1",
   "metadata": {},
   "source": [
    "Schauen Sie sich folgendes Beispiel an:"
   ]
  },
  {
   "cell_type": "code",
   "execution_count": null,
   "id": "200bd7c0-664e-42fe-9dd4-34719bf3f2c2",
   "metadata": {},
   "outputs": [],
   "source": [
    "x = 10\n",
    "a = lambda y: x +y\n",
    "x = 20\n",
    "b = lambda y: x + y"
   ]
  },
  {
   "cell_type": "markdown",
   "id": "3bb6a84b-a21f-435d-b86e-94f4a2672969",
   "metadata": {},
   "source": [
    "Was würden Sie bei der Auswertung von `a(10)` und `b(10)` für ein Ergebnis erwarten? "
   ]
  },
  {
   "cell_type": "code",
   "execution_count": null,
   "id": "24e6b80d-f404-4cbd-9fe5-63265bf6f625",
   "metadata": {},
   "outputs": [],
   "source": [
    "a(10), b(10)"
   ]
  },
  {
   "cell_type": "markdown",
   "id": "a42f0495-a124-4757-b6a8-bfb09cf4c0af",
   "metadata": {},
   "source": [
    "Wie Sie, vielleicht unerwartet, sehen können, hat sich die Funktion `a` den Wert von `x` nicht gemerkt. Das liegt daran, dass `x` eine freie Variable ist, dessen Wert bei der **Ausführung** der Lambda-Funktion zugeordnet wird. Der Wert von `x` in der Lambda-Funktion wird also immer der sein, der `x` gerade zugeordnet ist. "
   ]
  },
  {
   "cell_type": "markdown",
   "id": "3c56840f-76d2-4926-bfc0-b7471c20e33e",
   "metadata": {},
   "source": [
    "Einige Beispiele:"
   ]
  },
  {
   "cell_type": "code",
   "execution_count": null,
   "id": "53e23cf9-a176-49c1-9f50-b654118d47d5",
   "metadata": {},
   "outputs": [],
   "source": [
    "x = 15\n",
    "a(10)"
   ]
  },
  {
   "cell_type": "code",
   "execution_count": null,
   "id": "bf5d4b87-1b67-458d-b49e-abe12cf6346c",
   "metadata": {},
   "outputs": [],
   "source": [
    "x = 12.5\n",
    "a(10)"
   ]
  },
  {
   "cell_type": "code",
   "execution_count": null,
   "id": "c767aedf-6e56-4b8e-9bdb-28e21077d318",
   "metadata": {},
   "outputs": [],
   "source": [
    "del x\n",
    "a(10)"
   ]
  },
  {
   "cell_type": "code",
   "execution_count": null,
   "id": "ed8293ac-6218-44be-850e-8d6125ac3345",
   "metadata": {},
   "outputs": [],
   "source": [
    "x = \"abc\"\n",
    "a(10)"
   ]
  },
  {
   "cell_type": "code",
   "execution_count": null,
   "id": "3744ea2b-5e31-4e1c-b838-c743dec49bdb",
   "metadata": {},
   "outputs": [],
   "source": [
    "x = 5 \n",
    "a(10)"
   ]
  },
  {
   "cell_type": "markdown",
   "id": "06f2926e-9c90-4a7d-843f-6e615ebd4453",
   "metadata": {},
   "source": [
    "## Lösung"
   ]
  },
  {
   "cell_type": "markdown",
   "id": "e79f5358-7ef0-4575-8850-2313e9848a3e",
   "metadata": {},
   "source": [
    "Soll Wert von `x` bei der Definition von `a` wirklich *gefangen* werden, so können Sie diesen als optionalen Parameter mit Standardwert definieren:"
   ]
  },
  {
   "cell_type": "code",
   "execution_count": null,
   "id": "25949936-cebf-434b-a961-3c3fbf353899",
   "metadata": {},
   "outputs": [],
   "source": [
    "x = 10\n",
    "a = lambda y, x=x: x+y"
   ]
  },
  {
   "cell_type": "code",
   "execution_count": null,
   "id": "2bbb46d0-1ad2-433d-995c-3cd1225f76f7",
   "metadata": {},
   "outputs": [],
   "source": [
    "x = 15\n",
    "a(10)"
   ]
  },
  {
   "cell_type": "markdown",
   "id": "cbadafc6-b41f-414a-b18b-f68af912e74d",
   "metadata": {},
   "source": [
    "Nun ist der Wert zum Zeitpunkt der Ausführung egal, innerhalb von `a` hat `x` standardmäßig den Wert 10. Dieser kann wie bei jeder Funktion mit optionalen Parametern beim Funktionaufruf geändert werden:"
   ]
  },
  {
   "cell_type": "code",
   "execution_count": null,
   "id": "e00219c7-df1e-48a0-9aff-52876f61c50d",
   "metadata": {},
   "outputs": [],
   "source": [
    "a(10, 15), a(10, x = 15), a(10, x=x)"
   ]
  },
  {
   "cell_type": "markdown",
   "id": "d640172b-1877-4548-bf1b-b563e2fc14b3",
   "metadata": {},
   "source": [
    "Problemstellungen wie diese können beispielsweise auftreten, wenn Sie Lambda-Funktionen in einer Schleife erstellen, welche auf der Schleifenvariable basieren. "
   ]
  },
  {
   "cell_type": "markdown",
   "id": "995e16b1-c68f-4f1a-bd94-678442f57138",
   "metadata": {},
   "source": [
    "## Ihre Aufgabe"
   ]
  },
  {
   "cell_type": "markdown",
   "id": "213d78e3-ee91-4e15-bc71-3f2c93b03476",
   "metadata": {},
   "source": [
    "Sie möchten eine Liste von Lambda-Funktionen erstellen, welche eine Zahl `x` mit einem immer größer werdenden Wert `a` addiert. Dafür verwenden Sie eine List-Comprehension:"
   ]
  },
  {
   "cell_type": "code",
   "execution_count": null,
   "id": "c0873432-302f-4883-a1c5-220606584e70",
   "metadata": {},
   "outputs": [],
   "source": [
    "funcs = [lambda x: x + a for a in range(5)]\n",
    "for f in funcs:\n",
    "    print(f(0))"
   ]
  },
  {
   "cell_type": "markdown",
   "id": "10f5f679-81fc-42bd-aa5d-f44646983e4a",
   "metadata": {},
   "source": [
    "Die Funktionen erinnern sich nicht an den Wert von `a`. Lösen Sie dieses Problem. \n",
    "\n",
    "Verpacken Sie Ihre Lösung in eine Funktion namens `create_list_of_functions`, welche einen Parameter `n` bekommt und die Liste von Funktionen zurückgibt. Diese soll bis `range(n)` statt bis `range(5)` erstellt werden."
   ]
  },
  {
   "cell_type": "code",
   "execution_count": null,
   "id": "8513b068-d64d-4c97-b57a-e3816573cc95",
   "metadata": {
    "deletable": false,
    "nbgrader": {
     "cell_type": "code",
     "checksum": "ad18582fdd5281c82da0769aa15c723a",
     "grade": false,
     "grade_id": "cell-bc95e672c3e1ef13",
     "locked": false,
     "schema_version": 3,
     "solution": true,
     "task": false
    }
   },
   "outputs": [],
   "source": [
    "# Bitte schreiben Sie hier Ihren Programmcode."
   ]
  },
  {
   "cell_type": "code",
   "execution_count": null,
   "id": "a99c83d7-e287-4430-985a-c94fde6a21a5",
   "metadata": {
    "deletable": false,
    "editable": false,
    "nbgrader": {
     "cell_type": "code",
     "checksum": "d65eb4c40aabe5f8203bffd200e8e7c5",
     "grade": true,
     "grade_id": "cell-497ebdbcbba60c23",
     "locked": true,
     "points": 1,
     "schema_version": 3,
     "solution": false,
     "task": false
    }
   },
   "outputs": [],
   "source": [
    "import pathlib\n",
    "\n",
    "import pytest\n",
    "from pytest_nbgrader import loader\n",
    "\n",
    "loader.Submission.submit(create_list_of_functions)\n",
    "cases = pathlib.Path('tests') / 'Variable_Capturing'\n",
    "test_resource = cases / 'tests.py::TestVariableCapturing::test_'\n",
    "args = ['-qq', '-x', '-W', 'ignore::_pytest.warning_types.PytestAssertRewriteWarning', '--cases']\n",
    "\n",
    "assert pytest.main([*args, cases / 'variable_capturing.yml', f'{test_resource}variable_capturing']) is pytest.ExitCode.OK"
   ]
  }
 ],
 "metadata": {
  "kernelspec": {
   "display_name": "Python 3 (ipykernel)",
   "language": "python",
   "name": "python3"
  },
  "language_info": {
   "codemirror_mode": {
    "name": "ipython",
    "version": 3
   },
   "file_extension": ".py",
   "mimetype": "text/x-python",
   "name": "python",
   "nbconvert_exporter": "python",
   "pygments_lexer": "ipython3",
   "version": "3.12.0"
  }
 },
 "nbformat": 4,
 "nbformat_minor": 5
}

