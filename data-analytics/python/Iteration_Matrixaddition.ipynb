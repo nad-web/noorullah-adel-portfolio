
{
 "cells": [
  {
   "cell_type": "markdown",
   "metadata": {},
   "source": [
     ]
  },
  {
   "cell_type": "markdown",
   "metadata": {},
   "source": [
    "# Matrizenaddition"
   ]
  },
  {
   "cell_type": "markdown",
   "metadata": {},
   "source": [
    "In dieser Aufgabe iterieren Sie über einfach verschachtelte Listen. Die Aufgabe ist schnell gestellt und lädt Sie dazu ein, sich eigene Gedanken zu machen, wie sie erweitert werden könnte."
   ]
  },
  {
   "cell_type": "markdown",
   "metadata": {},
   "source": [
    "## Problemstellung"
   ]
  },
  {
   "cell_type": "markdown",
   "metadata": {},
   "source": [
    "Matrizen sind rechteckige Zahlenschemata einer gegebenen Form. In Python könnten Matrizen als Listen-von-Listen repräsentiert werden. Dabei repräsentiert jede innere Liste eine neue Zeile der Matrix. Hier ein Vergleich, wie man Matrizen in der Mathematik und in Python darstellen kann:"
   ]
  },
  {
   "cell_type": "markdown",
   "metadata": {},
   "source": [
    "$$\n",
    "  \\begin{pmatrix} 1 & 2 & 3\\\\ 4 & 5 & 6 \\\\ 7 & 8 & 9\\end{pmatrix}~~~~~~~~~~~~~~~~ =  ~~~~~~~~~~~~~~~~\n",
    "  \\begin{matrix}\n",
    "  \\texttt{[} & \\\\\n",
    "  & \\texttt{[1, 2, 3],} \\\\ & \\texttt{[4, 5, 6],} \\\\ & \\texttt{[7, 8, 9],} \\\\ \n",
    "  \\texttt{]} &\n",
    "  \\end{matrix}\n",
    "  $$"
   ]
  },
  {
   "cell_type": "markdown",
   "metadata": {},
   "source": [
    "Matrizen erlauben jede Menge Rechenoperationen. Insbesondere können zwei Matrizen addiert werden, wenn sie die gleiche Form besitzen. Dabei werden die einzelnen Elemente addiert. Beispielsweise:"
   ]
  },
  {
   "cell_type": "markdown",
   "metadata": {},
   "source": [
    "$$\\begin{pmatrix} 1 & 2 & 3\\\\ 4 & 5 & 6\\end{pmatrix} + \\begin{pmatrix} 2 & 3 & 5\\\\ 7 & 11 & 13\\end{pmatrix} = \\begin{pmatrix} 3 & 5 & 8\\\\ 11 & 16 & 19\\end{pmatrix}$$"
   ]
  },
  {
   "cell_type": "markdown",
   "metadata": {},
   "source": [
    "Diesen Vorgang kann man auch in Python umsetzen."
   ]
  },
  {
   "cell_type": "markdown",
   "metadata": {},
   "source": [
    "## Ihre Aufgabe"
   ]
  },
  {
   "cell_type": "markdown",
   "metadata": {
    "pycharm": {
     "name": "#%% md\n"
    },
    "tags": []
   },
   "source": [
    "Gegeben sind zwei Variablen: `matrix1` und `matrix2`. Beides sind Listen von Listen von Zahlen. Sie können davon ausgehen, dass die beiden Matrizen die gleiche Form haben, also die gleiche Anzahl an Zeilen und Spalten.\n",
    "Schreiben Sie in eine Variable `summe_matrix` die Summe der beiden Matrizen. Dies ist — nach obigem Schema — eine Liste-von-Listen der gleichen Form, deren Elemente die Summe der entsprechenden Elemente der beiden Matrizen sind."
   ]
  },
  {
   "cell_type": "markdown",
   "metadata": {},
   "source": [
    "Auch wenn jede Antwort, die die Tests besteht, die Aufgabe \"zutreffend bearbeitet\" und nicht weiter bewertet wird: Geben Sie sich Mühe, die klarste und idiomatischste Antwort zu finden. Achten Sie insbesondere darauf, Ihre Schleifen möglichst frei von Zählindizes zu halten. Eingebaute Funktionen wie `zip` und `sum` können nützlich sein."
   ]
  },
  {
   "cell_type": "markdown",
   "metadata": {},
   "source": [
    "Ebenfalls unbewertet ist folgender Teil: Überlegen Sie, welche Probleme auftauchen könnten. Welche Annahmen haben Sie getroffen? Was passiert, wenn diese nicht erfüllt sind? Wie könnten Sie damit umgehen? Und zuletzt: Wie könnte man effizient eine beliebige Zahl von Matrizen addieren?"
   ]
  },
  {
   "cell_type": "code",
   "execution_count": 5,
   "metadata": {
    "deletable": false,
    "editable": false,
    "nbgrader": {
     "cell_type": "code",
     "checksum": "2d883b5858d26ca9ba47b827d456018f",
     "grade": false,
     "grade_id": "cell-a0f63f6d14cde541",
     "locked": true,
     "schema_version": 3,
     "solution": false,
     "task": false
    }
   },
   "outputs": [],
   "source": [
    "# variable initialization.\n",
    "matrix1 = [[1, 2, 3], [4, 5, 6], [7, 8, 9]]\n",
    "matrix2 = [[3, 1, 2], [6, 4, 5], [9, 7, 8]]"
   ]
  },
  {
   "cell_type": "code",
   "execution_count": 6,
   "metadata": {
    "collapsed": false,
    "deletable": false,
    "jupyter": {
     "outputs_hidden": false
    },
    "nbgrader": {
     "cell_type": "code",
     "checksum": "a32f8db8e8b1d2e3a9e34a7a55339bf7",
     "grade": false,
     "grade_id": "cell-fffc2826f313b01a",
     "locked": false,
     "schema_version": 3,
     "solution": true,
     "task": false
    },
    "pycharm": {
     "name": "#%%\n"
    },
    "tags": []
   },
   "outputs": [],
   "source": [
    "# Bitte schreiben Sie hier Ihren Programmcode.\n",
    "\n",
    "# Berechne die Summe der beiden Matrizen\n",
    "summe_matrix = [\n",
    "    [a + b for a, b in zip(zeile1, zeile2)]\n",
    "    for zeile1, zeile2 in zip(matrix1, matrix2)\n",
    "]\n",
    "\n"
   ]
  },
  {
   "cell_type": "code",
   "execution_count": 7,
   "metadata": {
    "deletable": false,
    "editable": false,
    "nbgrader": {
     "cell_type": "code",
     "checksum": "9f1bba6ada63c3cd8e0448b4659ecf45",
     "grade": true,
     "grade_id": "cell-c286e66e32ca6edb",
     "locked": true,
     "points": 1,
     "schema_version": 3,
     "solution": false,
     "task": false
    }
   },
   "outputs": [
    {
     "name": "stdout",
     "output_type": "stream",
     "text": [
      "The following submission will be tested:\n",
      "\n",
      "# Bitte schreiben Sie hier Ihren Programmcode.\n",
      "\n",
      "# Berechne die Summe der beiden Matrizen\n",
      "summe_matrix = [\n",
      "    [a + b for a, b in zip(zeile1, zeile2)]\n",
      "    for zeile1, zeile2 in zip(matrix1, matrix2)\n",
      "]\n",
      "\u001b[33ms\u001b[0m\u001b[32m.\u001b[0m\u001b[32m.\u001b[0m\u001b[32m.\u001b[0m\u001b[32m.\u001b[0m\u001b[32m.\u001b[0m\u001b[32m.\u001b[0m\u001b[32m.\u001b[0m\u001b[32m.\u001b[0m\u001b[32m.\u001b[0m\u001b[32m.\u001b[0m\u001b[32m.\u001b[0m\u001b[32m.\u001b[0m\u001b[32m.\u001b[0m\u001b[32m.\u001b[0m\u001b[32m.\u001b[0m\u001b[32m.\u001b[0m\u001b[32m.\u001b[0m\u001b[32m.\u001b[0m\u001b[32m.\u001b[0m\u001b[32m.\u001b[0m\u001b[32m.\u001b[0m\u001b[32m.\u001b[0m\u001b[32m.\u001b[0m\u001b[32m.\u001b[0m\u001b[32m.\u001b[0m\u001b[32m.\u001b[0m\u001b[32m.\u001b[0m\u001b[32m.\u001b[0m\u001b[32m.\u001b[0m\u001b[32m.\u001b[0m\u001b[32m.\u001b[0m\u001b[32m.\u001b[0m\u001b[32m.\u001b[0m\u001b[32m.\u001b[0m\u001b[32m.\u001b[0m\u001b[32m.\u001b[0m\u001b[32m.\u001b[0m\u001b[32m.\u001b[0m\u001b[32m.\u001b[0m\u001b[32m.\u001b[0m\u001b[32m.\u001b[0m\u001b[32m.\u001b[0m\u001b[32m.\u001b[0m\u001b[32m.\u001b[0m\u001b[32m.\u001b[0m\u001b[32m.\u001b[0m\u001b[32m.\u001b[0m\u001b[32m.\u001b[0m\u001b[32m.\u001b[0m\u001b[32m.\u001b[0m\u001b[32m                      [100%]\u001b[0m\n"
     ]
    }
   ],
   "source": [
    "import pathlib\n",
    "\n",
    "import pytest\n",
    "from pytest_nbgrader import loader\n",
    "\n",
    "loader.Submission.submit(_i)\n",
    "cases = pathlib.Path('tests') / 'Matrizenaddition'\n",
    "args = ['-qq', '-x', '-W', 'ignore::_pytest.warning_types.PytestAssertRewriteWarning', '--cases']\n",
    "\n",
    "assert pytest.main([*args, cases / 'summe_matrix.yml']) is pytest.ExitCode.OK"
   ]
  },
  {
   "cell_type": "code",
   "execution_count": null,
   "metadata": {},
   "outputs": [],
   "source": []
  }
 ],
 "metadata": {
  "kernelspec": {
   "display_name": "learn-python",
   "language": "python",
   "name": "learn-python"
  },
  "language_info": {
   "codemirror_mode": {
    "name": "ipython",
    "version": 3
   },
   "file_extension": ".py",
   "mimetype": "text/x-python",
   "name": "python",
   "nbconvert_exporter": "python",
   "pygments_lexer": "ipython3",
   "version": "3.12.0"
  },
  "toc": {
   "base_numbering": 1,
   "nav_menu": {},
   "number_sections": true,
   "sideBar": true,
   "skip_h1_title": false,
   "title_cell": "Table of Contents",
   "title_sidebar": "Contents",
   "toc_cell": false,
   "toc_position": {},
   "toc_section_display": true,
   "toc_window_display": false
  }
 },
 "nbformat": 4,
 "nbformat_minor": 4
}
  
