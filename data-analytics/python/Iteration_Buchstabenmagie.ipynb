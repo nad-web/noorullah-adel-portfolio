{
 "cells": [
  {
   "cell_type": "markdown",
   "id": "963cbf6b-722b-4a92-a033-ec3f466db23d",
   "metadata": {},
   "source": [
    ]
  },
  {
   "cell_type": "markdown",
   "id": "6b3fe27b-67ac-4038-82ba-4a2023ca3926",
   "metadata": {},
   "source": [
    "# Buchstabenmagie"
   ]
  },
  {
   "cell_type": "markdown",
   "id": "4c7b631c-da9f-41b5-93e6-fefe6e83014b",
   "metadata": {},
   "source": [
    "In dieser Aufgabe dürfen Sie mit `for`-Schleifen Wörter verarbeiten, die aus einem gegebenen Alphabet bestehen. Dabei müssen Sie die in natürlicher Sprache gestellte Aufgabe in Programmcode \"übersetzen\"."
   ]
  },
  {
   "cell_type": "markdown",
   "id": "dc40453a-a462-43cb-a371-fead5fd8f551",
   "metadata": {},
   "source": [
    "## Problemstellung"
   ]
  },
  {
   "cell_type": "markdown",
   "id": "fed57ea0-c1b0-448e-a2a8-d5736f098de8",
   "metadata": {},
   "source": [
    "Alice hat für ihre Geheimsprache ein eigenes Alphabet erstellt. Dieses Alphabet verwendet nur ausgewählte Buchstaben und diese in einer neuen Reihenfolge. Außerdem gibt Sie Ihnen ein in dieser Geheimsprache geschriebenes Wort. Sie beginnen mit der Kryptoanalyse und stellen sich folgende Fragen: Wie wurden die Buchstaben bei Erstellung des Alphabets vermischt? Welche Buchstaben des Alphabets enthält das Wort wie oft?"
   ]
  },
  {
   "cell_type": "markdown",
   "id": "494670c7-0fc5-45bf-86a6-4da2280bf61a",
   "metadata": {},
   "source": [
    "## Ihre Aufgabe"
   ]
  },
  {
   "cell_type": "markdown",
   "id": "308156cf-325b-456e-a6ff-680fb912eedf",
   "metadata": {},
   "source": [
    "Sie erhalten zwei Variablen mit Strings namens `alphabet` und `wort`.\n",
    "* `alphabet` enthält einige Buchstaben, jeden davon genau einmal. Allerdings sind die Buchstaben nicht unbedingt auf herkömmliche Weise (\"lexikographisch\") geordnet.\n",
    "* `wort` ist ein String mit beliebigem Inhalt. Insbesondere sind ein paar Buchstaben des Alphabets enthalten, in beliebiger Reihenfolge und beliebig oft."
   ]
  },
  {
   "cell_type": "markdown",
   "id": "781f6c49-26c9-4902-bbae-f8f67d6ea942",
   "metadata": {},
   "source": [
    "### a) Alphabet entwirren"
   ]
  },
  {
   "cell_type": "markdown",
   "id": "339346a0-7f4a-4e36-8a0a-d3c2ae692dfe",
   "metadata": {},
   "source": [
    "Vergleichen Sie die Buchstaben im `alphabet` mit ihrer herkömmlichen Sortierung. Erstellen Sie eine Liste `indizes`, welche die Indizes enthält, an welchen die Buchstaben im Alphabet vorkommen würden, wenn dieses sortiert wäre. Beispielsweise:\n",
    "```python\n",
    "alphabet = 'CBDA'\n",
    "indizes = [2, 1, 3, 0]\n",
    "```"
   ]
  },
  {
   "cell_type": "markdown",
   "id": "0398b873-9e51-4435-96a3-17a57c26a049",
   "metadata": {},
   "source": [
    "### b) Häufigkeit zählen"
   ]
  },
  {
   "attachments": {},
   "cell_type": "markdown",
   "id": "dbeeef32-7b40-4223-b006-1039c6f1f529",
   "metadata": {},
   "source": [
    "Nun analysieren Sie `wort`. Sie möchten zählen, wie häufig die Buchstaben aus `alphabet` in `wort` enthalten sind. Erstellen Sie dazu ein Dictionary, das als Schlüssel die Buchstaben in `alphabet` verwendet und als zugehörige Werte die Häufigkeit dieses Buchstabens in `wort`. Beispielsweise:\n",
    "```python\n",
    "alphabet = 'ABCDR'\n",
    "wort = \"ABRACADABRA\" \n",
    "\n",
    "zeichen_anzahl = {'A': 5, 'B': 2, 'C': 1, 'D': 1, 'R': 2}\n",
    "```"
   ]
  },
  {
   "cell_type": "code",
   "execution_count": 17,
   "id": "c6fbbb57-4d6c-498d-ba72-e73c580e47a0",
   "metadata": {
    "deletable": false,
    "editable": false,
    "nbgrader": {
     "cell_type": "code",
     "checksum": "4d2e8c96f7ed3a54f84a41367095d93c",
     "grade": false,
     "grade_id": "cell-a727add33a9bd7dd",
     "locked": true,
     "schema_version": 3,
     "solution": false,
     "task": false
    }
   },
   "outputs": [],
   "source": [
    "# variable initialization.\n",
    "alphabet = 'RADBC'\n",
    "wort = 'ABRACADABRA'"
   ]
  },
  {
   "cell_type": "code",
   "execution_count": 18,
   "id": "2f440dca-657b-44f3-aab8-ff3de7ad875c",
   "metadata": {
    "deletable": false,
    "nbgrader": {
     "cell_type": "code",
     "checksum": "498521aed8c95e545cca7fb69be9d817",
     "grade": false,
     "grade_id": "cell-e3ebc806e200e742",
     "locked": false,
     "schema_version": 3,
     "solution": true,
     "task": false
    }
   },
   "outputs": [],
   "source": [
    "# Bitte schreiben Sie hier Ihren Programmcode.\n",
    "\n",
    "# Teil a) Alphabet entwirren: Position jedes Buchstabens aus `alphabet` im sortierten Alphabet\n",
    "sortiertes_alphabet = sorted(alphabet)\n",
    "indizes = [sortiertes_alphabet.index(buchstabe) for buchstabe in alphabet]\n",
    "\n",
    "# Teil b) Häufigkeit zählen\n",
    "zeichen_anzahl = {buchstabe: wort.count(buchstabe) for buchstabe in alphabet}\n",
    "\n",
    "sortiertes_alphabet = sorted(alphabet)\n",
    "indizes = [sortiertes_alphabet.index(buchstabe) for buchstabe in alphabet]\n",
    "\n",
    "zeichen_anzahl = {buchstabe: wort.count(buchstabe) for buchstabe in alphabet}\n"
   ]
  },
  {
   "cell_type": "code",
   "execution_count": 19,
   "id": "297da996-ae3d-4c19-b0e3-b28cc7231eaa",
   "metadata": {
    "deletable": false,
    "editable": false,
    "nbgrader": {
     "cell_type": "code",
     "checksum": "ca818f5eeee18f1a9cc01a28da232342",
     "grade": true,
     "grade_id": "cell-c92889a159aed308",
     "locked": true,
     "points": 1,
     "schema_version": 3,
     "solution": false,
     "task": false
    }
   },
   "outputs": [
    {
     "name": "stdout",
     "output_type": "stream",
     "text": [
      "The following submission will be tested:\n",
      "\n",
      "# Bitte schreiben Sie hier Ihren Programmcode.\n",
      "\n",
      "# Teil a) Alphabet entwirren: Position jedes Buchstabens aus `alphabet` im sortierten Alphabet\n",
      "sortiertes_alphabet = sorted(alphabet)\n",
      "indizes = [sortiertes_alphabet.index(buchstabe) for buchstabe in alphabet]\n",
      "\n",
      "# Teil b) Häufigkeit zählen\n",
      "zeichen_anzahl = {buchstabe: wort.count(buchstabe) for buchstabe in alphabet}\n",
      "\n",
      "sortiertes_alphabet = sorted(alphabet)\n",
      "indizes = [sortiertes_alphabet.index(buchstabe) for buchstabe in alphabet]\n",
      "\n",
      "zeichen_anzahl = {buchstabe: wort.count(buchstabe) for buchstabe in alphabet}\n",
      "\u001b[33ms\u001b[0m\u001b[32m.\u001b[0m\u001b[32m.\u001b[0m\u001b[32m.\u001b[0m\u001b[32m.\u001b[0m\u001b[32m.\u001b[0m\u001b[32m.\u001b[0m\u001b[32m.\u001b[0m\u001b[32m.\u001b[0m\u001b[32m.\u001b[0m\u001b[32m.\u001b[0m\u001b[32m.\u001b[0m\u001b[32m.\u001b[0m\u001b[32m.\u001b[0m\u001b[32m.\u001b[0m\u001b[32m.\u001b[0m\u001b[32m.\u001b[0m\u001b[32m.\u001b[0m\u001b[32m.\u001b[0m\u001b[32m.\u001b[0m\u001b[32m.\u001b[0m\u001b[32m.\u001b[0m\u001b[32m.\u001b[0m\u001b[32m.\u001b[0m\u001b[32m.\u001b[0m\u001b[32m.\u001b[0m\u001b[32m.\u001b[0m\u001b[32m.\u001b[0m\u001b[32m.\u001b[0m\u001b[32m.\u001b[0m\u001b[32m.\u001b[0m\u001b[32m.\u001b[0m\u001b[32m.\u001b[0m\u001b[32m.\u001b[0m\u001b[32m.\u001b[0m\u001b[32m.\u001b[0m\u001b[32m.\u001b[0m\u001b[32m.\u001b[0m\u001b[32m.\u001b[0m\u001b[32m.\u001b[0m\u001b[32m.\u001b[0m\u001b[32m.\u001b[0m\u001b[32m.\u001b[0m\u001b[32m.\u001b[0m\u001b[32m.\u001b[0m\u001b[32m.\u001b[0m\u001b[32m.\u001b[0m\u001b[32m.\u001b[0m\u001b[32m.\u001b[0m\u001b[32m.\u001b[0m\u001b[32m.\u001b[0m\u001b[32m.\u001b[0m\u001b[32m.\u001b[0m\u001b[32m.\u001b[0m\u001b[32m.\u001b[0m\u001b[32m.\u001b[0m\u001b[32m.\u001b[0m\u001b[32m.\u001b[0m\u001b[32m.\u001b[0m\u001b[32m.\u001b[0m\u001b[32m.\u001b[0m\u001b[32m.\u001b[0m\u001b[32m.\u001b[0m\u001b[32m.\u001b[0m\u001b[32m.\u001b[0m\u001b[32m.\u001b[0m\u001b[32m.\u001b[0m\u001b[32m.\u001b[0m\u001b[32m.\u001b[0m\u001b[32m.\u001b[0m\u001b[32m.\u001b[0m\u001b[32m.\u001b[0m\u001b[32m [ 46%]\n",
      "\u001b[0m\u001b[32m.\u001b[0m\u001b[32m.\u001b[0m\u001b[32m.\u001b[0m\u001b[32m.\u001b[0m\u001b[32m.\u001b[0m\u001b[32m.\u001b[0m\u001b[32m.\u001b[0m\u001b[32m.\u001b[0m\u001b[32m.\u001b[0m\u001b[32m.\u001b[0m\u001b[32m.\u001b[0m\u001b[32m.\u001b[0m\u001b[32m.\u001b[0m\u001b[32m.\u001b[0m\u001b[32m.\u001b[0m\u001b[32m.\u001b[0m\u001b[32m.\u001b[0m\u001b[32m.\u001b[0m\u001b[32m.\u001b[0m\u001b[32m.\u001b[0m\u001b[32m.\u001b[0m\u001b[32m.\u001b[0m\u001b[32m.\u001b[0m\u001b[32m.\u001b[0m\u001b[32m.\u001b[0m\u001b[32m.\u001b[0m\u001b[32m.\u001b[0m\u001b[32m.\u001b[0m\u001b[32m.\u001b[0m\u001b[32m.\u001b[0m\u001b[32m.\u001b[0m\u001b[32m.\u001b[0m\u001b[32m.\u001b[0m\u001b[32m.\u001b[0m\u001b[32m.\u001b[0m\u001b[32m.\u001b[0m\u001b[32m.\u001b[0m\u001b[32m.\u001b[0m\u001b[32m.\u001b[0m\u001b[32m.\u001b[0m\u001b[32m.\u001b[0m\u001b[32m.\u001b[0m\u001b[32m.\u001b[0m\u001b[32m.\u001b[0m\u001b[32m.\u001b[0m\u001b[32m.\u001b[0m\u001b[32m.\u001b[0m\u001b[32m.\u001b[0m\u001b[32m.\u001b[0m\u001b[32m.\u001b[0m\u001b[32m.\u001b[0m\u001b[32m.\u001b[0m\u001b[32m.\u001b[0m\u001b[32m.\u001b[0m\u001b[32m.\u001b[0m\u001b[32m.\u001b[0m\u001b[32m.\u001b[0m\u001b[32m.\u001b[0m\u001b[32m.\u001b[0m\u001b[32m.\u001b[0m\u001b[32m.\u001b[0m\u001b[32m.\u001b[0m\u001b[32m.\u001b[0m\u001b[32m.\u001b[0m\u001b[32m.\u001b[0m\u001b[32m.\u001b[0m\u001b[32m.\u001b[0m\u001b[32m.\u001b[0m\u001b[32m.\u001b[0m\u001b[32m.\u001b[0m\u001b[32m.\u001b[0m\u001b[32m.\u001b[0m\u001b[32m [ 92%]\n",
      "\u001b[0m\u001b[32m.\u001b[0m\u001b[32m.\u001b[0m\u001b[32m.\u001b[0m\u001b[32m.\u001b[0m\u001b[32m.\u001b[0m\u001b[32m.\u001b[0m\u001b[32m.\u001b[0m\u001b[32m.\u001b[0m\u001b[32m.\u001b[0m\u001b[32m.\u001b[0m\u001b[32m.\u001b[0m\u001b[32m                                                              [100%]\u001b[0m\n",
      "\u001b[33ms\u001b[0m\u001b[32m.\u001b[0m\u001b[32m.\u001b[0m\u001b[32m.\u001b[0m\u001b[32m.\u001b[0m\u001b[32m.\u001b[0m\u001b[32m.\u001b[0m\u001b[32m.\u001b[0m\u001b[32m.\u001b[0m\u001b[32m.\u001b[0m\u001b[32m.\u001b[0m\u001b[32m.\u001b[0m\u001b[32m.\u001b[0m\u001b[32m.\u001b[0m\u001b[32m.\u001b[0m\u001b[32m.\u001b[0m\u001b[32m.\u001b[0m\u001b[32m.\u001b[0m\u001b[32m.\u001b[0m\u001b[32m.\u001b[0m\u001b[32m.\u001b[0m\u001b[32m.\u001b[0m\u001b[32m.\u001b[0m\u001b[32m.\u001b[0m\u001b[32m.\u001b[0m\u001b[32m.\u001b[0m\u001b[32m.\u001b[0m\u001b[32m.\u001b[0m\u001b[32m.\u001b[0m\u001b[32m.\u001b[0m\u001b[32m.\u001b[0m\u001b[32m.\u001b[0m\u001b[32m.\u001b[0m\u001b[32m.\u001b[0m\u001b[32m.\u001b[0m\u001b[32m.\u001b[0m\u001b[32m.\u001b[0m\u001b[32m.\u001b[0m\u001b[32m.\u001b[0m\u001b[32m.\u001b[0m\u001b[32m.\u001b[0m\u001b[32m.\u001b[0m\u001b[32m.\u001b[0m\u001b[32m.\u001b[0m\u001b[32m.\u001b[0m\u001b[32m.\u001b[0m\u001b[32m.\u001b[0m\u001b[32m.\u001b[0m\u001b[32m.\u001b[0m\u001b[32m.\u001b[0m\u001b[32m.\u001b[0m\u001b[32m.\u001b[0m\u001b[32m.\u001b[0m\u001b[32m.\u001b[0m\u001b[32m.\u001b[0m\u001b[32m.\u001b[0m\u001b[32m.\u001b[0m\u001b[32m.\u001b[0m\u001b[32m.\u001b[0m\u001b[32m.\u001b[0m\u001b[32m.\u001b[0m\u001b[32m.\u001b[0m\u001b[32m.\u001b[0m\u001b[32m.\u001b[0m\u001b[32m.\u001b[0m\u001b[32m.\u001b[0m\u001b[32m.\u001b[0m\u001b[32m.\u001b[0m\u001b[32m.\u001b[0m\u001b[32m.\u001b[0m\u001b[32m.\u001b[0m\u001b[32m.\u001b[0m\u001b[32m [ 46%]\n",
      "\u001b[0m\u001b[32m.\u001b[0m\u001b[32m.\u001b[0m\u001b[32m.\u001b[0m\u001b[32m.\u001b[0m\u001b[32m.\u001b[0m\u001b[32m.\u001b[0m\u001b[32m.\u001b[0m\u001b[32m.\u001b[0m\u001b[32m.\u001b[0m\u001b[32m.\u001b[0m\u001b[32m.\u001b[0m\u001b[32m.\u001b[0m\u001b[32m.\u001b[0m\u001b[32m.\u001b[0m\u001b[32m.\u001b[0m\u001b[32m.\u001b[0m\u001b[32m.\u001b[0m\u001b[32m.\u001b[0m\u001b[32m.\u001b[0m\u001b[32m.\u001b[0m\u001b[32m.\u001b[0m\u001b[32m.\u001b[0m\u001b[32m.\u001b[0m\u001b[32m.\u001b[0m\u001b[32m.\u001b[0m\u001b[32m.\u001b[0m\u001b[32m.\u001b[0m\u001b[32m.\u001b[0m\u001b[32m.\u001b[0m\u001b[32m.\u001b[0m\u001b[32m.\u001b[0m\u001b[32m.\u001b[0m\u001b[32m.\u001b[0m\u001b[32m.\u001b[0m\u001b[32m.\u001b[0m\u001b[32m.\u001b[0m\u001b[32m.\u001b[0m\u001b[32m.\u001b[0m\u001b[32m.\u001b[0m\u001b[32m.\u001b[0m\u001b[32m.\u001b[0m\u001b[32m.\u001b[0m\u001b[32m.\u001b[0m\u001b[32m.\u001b[0m\u001b[32m.\u001b[0m\u001b[32m.\u001b[0m\u001b[32m.\u001b[0m\u001b[32m.\u001b[0m\u001b[32m.\u001b[0m\u001b[32m.\u001b[0m\u001b[32m.\u001b[0m\u001b[32m.\u001b[0m\u001b[32m.\u001b[0m\u001b[32m.\u001b[0m\u001b[32m.\u001b[0m\u001b[32m.\u001b[0m\u001b[32m.\u001b[0m\u001b[32m.\u001b[0m\u001b[32m.\u001b[0m\u001b[32m.\u001b[0m\u001b[32m.\u001b[0m\u001b[32m.\u001b[0m\u001b[32m.\u001b[0m\u001b[32m.\u001b[0m\u001b[32m.\u001b[0m\u001b[32m.\u001b[0m\u001b[32m.\u001b[0m\u001b[32m.\u001b[0m\u001b[32m.\u001b[0m\u001b[32m.\u001b[0m\u001b[32m.\u001b[0m\u001b[32m.\u001b[0m\u001b[32m [ 92%]\n",
      "\u001b[0m\u001b[32m.\u001b[0m\u001b[32m.\u001b[0m\u001b[32m.\u001b[0m\u001b[32m.\u001b[0m\u001b[32m.\u001b[0m\u001b[32m.\u001b[0m\u001b[32m.\u001b[0m\u001b[32m.\u001b[0m\u001b[32m.\u001b[0m\u001b[32m.\u001b[0m\u001b[32m.\u001b[0m\u001b[32m                                                              [100%]\u001b[0m\n"
     ]
    }
   ],
   "source": [
    "import pathlib\n",
    "\n",
    "import pytest\n",
    "from pytest_nbgrader import loader\n",
    "\n",
    "loader.Submission.submit(_i)\n",
    "cases = pathlib.Path('tests') / 'Buchstabenmagie'\n",
    "args = ['-qq', '-x', '-W', 'ignore::_pytest.warning_types.PytestAssertRewriteWarning', '--cases']\n",
    "\n",
    "assert pytest.main([*args, cases / 'indizes.yml']) is pytest.ExitCode.OK\n",
    "assert pytest.main([*args, cases / 'zeichen_anzahl.yml']) is pytest.ExitCode.OK"
   ]
  },
  {
   "cell_type": "code",
   "execution_count": null,
   "id": "4038ce0e-ba72-44fe-9147-c3093b2d6071",
   "metadata": {},
   "outputs": [],
   "source": []
  }
 ],
 "metadata": {
  "kernelspec": {
   "display_name": "learn-python",
   "language": "python",
   "name": "learn-python"
  },
  "language_info": {
   "codemirror_mode": {
    "name": "ipython",
    "version": 3
   },
   "file_extension": ".py",
   "mimetype": "text/x-python",
   "name": "python",
   "nbconvert_exporter": "python",
   "pygments_lexer": "ipython3",
   "version": "3.12.0"
  }
 },
 "nbformat": 4,
 "nbformat_minor": 5
}
