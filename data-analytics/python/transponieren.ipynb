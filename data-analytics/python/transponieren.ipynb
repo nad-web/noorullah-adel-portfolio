{
 "cells": [
  {
   "cell_type": "markdown",
   "id": "963cbf6b-722b-4a92-a033-ec3f466db23d",
   "metadata": {},
   "source": [

   ]
  },
  {
   "cell_type": "markdown",
   "id": "82870422-89bf-42a7-95c2-195dc6fd2138",
   "metadata": {},
   "source": [
    "# Transponieren"
   ]
  },
  {
   "cell_type": "markdown",
   "id": "1184b928-150a-4337-a77f-c3d78fe84e87",
   "metadata": {},
   "source": [
    "In dieser Aufgabe schreiben Sie eine einfache Funktion zur Arbeit mit Matrizen. Sie kann elegant mit eingebauten Funktionen und indefiniten Argumenten gelöst werden."
   ]
  },
  {
   "cell_type": "markdown",
   "id": "3e5ac110-b863-4061-937e-f1807b1060d7",
   "metadata": {},
   "source": [
    "## Grundlage"
   ]
  },
  {
   "cell_type": "markdown",
   "id": "7e701e40",
   "metadata": {},
   "source": [
    "Die Transponierte einer Matrix $\\mathbf{X}$ mit den Einträgen $X_{ij}$ ist die Matrix $\\mathbf{X}^T$ mit den Einträgen $X_{ji}$, d.h. Spalten und Zeilen wurden vertauscht. Zum Beispiel:\n",
    "\n",
    "$$\\mathbf{X} = \\begin{pmatrix}1 & 2 & 3 \\\\ 4 & 5 & 6 \\end{pmatrix}; ~~~~~~ \\mathbf{X}^T = \\begin{pmatrix}1 & 4\\\\ 2 & 5 \\\\ 3 & 6 \\end{pmatrix}$$"
   ]
  },
  {
   "cell_type": "markdown",
   "id": "ddc72640-6974-4268-949e-c7f090f192a6",
   "metadata": {},
   "source": [
    "In Standard-Python lassen sich Matrizen als `tuple` von `tuple`s von numerischen Datentypen darstellen. Für das obige Beispiel wäre also:\n",
    "```python\n",
    "x = ((1, 2, 3), (4, 5, 6))\n",
    "x_t = ((1, 4), (2, 5), (3, 6))\n",
    "```"
   ]
  },
  {
   "cell_type": "markdown",
   "id": "42f0bbe6-eaff-4bdd-a22a-090beed5f0a8",
   "metadata": {},
   "source": [
    "(Bemerkung: Wir implementieren das Transponieren mit Python-`builtins` rein zu Übungszwecken. Mit `numpy` als `np.Array`s dargestellte Matrizen können mit der `np.transpose`-Methode transponiert werden. Nutzen Sie jedoch für diese Aufgabe keine Pakete.)"
   ]
  },
  {
   "cell_type": "markdown",
   "id": "68b6d8cf-e6c5-4e47-9936-db52ad6862a4",
   "metadata": {},
   "source": [
    "## Ihre Aufgabe"
   ]
  },
  {
   "attachments": {},
   "cell_type": "markdown",
   "id": "734218ef-7bd6-40ac-a10c-7d99e095d16e",
   "metadata": {},
   "source": [
    "Implementieren Sie eine Funktion `transpose`, die für eine als Tuple von Tuples dargestellte Matrix eine neue gleicherart dargestellte Matrix erzeugt, die die Transponierte des Arguments ist. Die Funktion sollte also folgende Signatur haben:\n",
    "```python\n",
    "Matrix = tuple[tuple[int, ...], ...]\n",
    "transpose(matrix: Matrix) -> Matrix\n",
    "```\n",
    "\n",
    "Sowohl quadratische Matrizen mit $n$ Zeilen und $n$ Spalten als auch rechteckige Matrizen sollten sich transponieren lassen."
   ]
  },
  {
   "cell_type": "code",
   "execution_count": null,
   "id": "d3696418",
   "metadata": {
    "deletable": false,
    "nbgrader": {
     "cell_type": "code",
     "checksum": "1ba94cb893ec1f2d461a48e1e00682d4",
     "grade": false,
     "grade_id": "cell-d4880b09e54c079f",
     "locked": false,
     "schema_version": 3,
     "solution": true,
     "task": false
    }
   },
   "outputs": [],
   "source": [
    "# Bitte schreiben Sie hier Ihren Programmcode."
   ]
  },
  {
   "cell_type": "code",
   "execution_count": null,
   "id": "67b3728e",
   "metadata": {
    "deletable": false,
    "editable": false,
    "nbgrader": {
     "cell_type": "code",
     "checksum": "32726ce71e318349752a379d0d65eafe",
     "grade": true,
     "grade_id": "cell-2e27054884c54b62",
     "locked": true,
     "points": 1,
     "schema_version": 3,
     "solution": false,
     "task": false
    }
   },
   "outputs": [],
   "source": [
    "import pathlib\n",
    "\n",
    "import pytest\n",
    "from pytest_nbgrader import loader\n",
    "\n",
    "loader.Submission.submit(transpose)\n",
    "cases = pathlib.Path('tests') / 'Transponieren'\n",
    "args = ['-qq', '-x',  '-W', 'ignore::_pytest.warning_types.PytestAssertRewriteWarning', '--cases']\n",
    "\n",
    "assert pytest.main([*args, cases / 'square_matrices.yml']) is pytest.ExitCode.OK\n",
    "assert pytest.main([*args, cases / 'rectangular_matrices.yml']) is pytest.ExitCode.OK"
   ]
  }
 ],
 "metadata": {
  "kernelspec": {
   "display_name": "Python 3 (ipykernel)",
   "language": "python",
   "name": "python3"
  },
  "language_info": {
   "codemirror_mode": {
    "name": "ipython",
    "version": 3
   },
   "file_extension": ".py",
   "mimetype": "text/x-python",
   "name": "python",
   "nbconvert_exporter": "python",
   "pygments_lexer": "ipython3",
   "version": "3.12.7"
  }
 },
 "nbformat": 4,
 "nbformat_minor": 5
}
