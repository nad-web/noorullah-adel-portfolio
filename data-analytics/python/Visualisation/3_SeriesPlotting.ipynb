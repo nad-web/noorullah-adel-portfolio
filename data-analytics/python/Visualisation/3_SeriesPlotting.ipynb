{
 "cells": [
  {
   "cell_type": "markdown",
   "metadata": {},
   "source": [
    "# Plotting with `Series`\n",
    "\n",
    "At this point we are quite proficient with handling Pandas `Series` objects. We know how to access and modify values by calling suitable methods on a `Series` object. Indeed, the common Pandas workflow --- be it with `Series` or `DataFrame`s --- is to \"massage\" the data with some method calls to bring it into the desired form. This can be selecting a subset of values, transforming or aggregating values. Once the data has been prepared, the next step often is to visualize it. As discussed in the [introduction](why-bother-with-visualizing-data\n",
    ") compelling visualizations are key aspect of analyzing and understanding data. In the context of data science and machine learning visualizing data is the corner stone of [*exploratory data analysis*](https://en.wikipedia.org/wiki/Exploratory_data_analysis).\n",
    "\n",
    "The Pandas library offers a quite convenient interface to the [`Matplotlib`](https://matplotlib.org/) library. While a bit aged, Matplotlib offers many powerful tools to easily generate two-dimensional plots. At the same time we should probably also mention [Seaborn](https://seaborn.pydata.org/) and [Plotly](https://plotly.com/python/). Seaborn is a wrapper around Matplotlib with the goal to make commonly-used plots (e.g., histograms, scatter plots, etc.) easily accessible from a high-level Python API. Plotly also has a focus on interactive plots (zooming into plots, reading values from hovering the mouse over data points shown in the plot) which is not supported by Matplotlib.\n",
    "\n",
    ":::{note} We will neither deal with Seaborn nor Plotly in this course.\n",
    ":::\n",
    "\n",
    "As usual we start with some imports."
   ]
  },
  {
   "cell_type": "code",
   "execution_count": null,
   "metadata": {},
   "outputs": [],
   "source": [
    "%matplotlib inline\n",
    "\n",
    "import pandas as pd\n",
    "import numpy as np\n",
    "import matplotlib as mpl\n",
    "from matplotlib import pyplot as plt\n",
    "\n",
    "mpl.style.use(\"seaborn-v0_8-colorblind\")\n",
    "\n",
    "f\"Pandas version: {pd.__version__ = }, Numpy version: {np.__version__ = }\""
   ]
  },
  {
   "cell_type": "markdown",
   "metadata": {},
   "source": [
    "## `Series` plot interface\n",
    "\n",
    " Pandas Series objects have an interface to Matplotlib that can be conventiently used to generate plots of datasets. The advantage of having a dedicated method for visualising (parts of) the data will become even more aparent when we deal with Pandas `DataFrame` objects.\n",
    "\n",
    " `Series` have a [`.plot()`](https://pandas.pydata.org/pandas-docs/stable/reference/api/pandas.Series.plot.html) method that allows tho choose between different types of plots (default value is `'line'`).\n",
    "\n",
    " Possilbe value for `kind`:\n",
    "\n",
    "* `'line'` : line plot (default)\n",
    "* `'bar'` / `'barh'`: vertical / horizontal bar plot\n",
    "* `'hist'` : histogram\n",
    "* `'box'` : boxplot\n",
    "* `'kde'` : Kernel Density Estimation plot\n",
    "* `'density'` : same as ‘kde’\n",
    "* `'area'` : area plot\n",
    "* `'pie'` : pie plot\n",
    "* `'scatter'` : scatter plot\n",
    "* `'hexbin'` : hexbin plot.\n",
    "\n",
    "Additionally, it is also possible to call a plot method like so:\n",
    "\n",
    "```python\n",
    ">>> s.plot(kind=\"bar\", ...) # using `.plot(kind='bar')\n",
    ">>> s.plot.bar(...)  # using dedicated method for bar-plot\n",
    "```"
   ]
  },
  {
   "cell_type": "markdown",
   "metadata": {},
   "source": [
    "In the following we will discuss some example usage of the `Series` plot interface on some toy data. We will also discuss some good practices for generating plots."
   ]
  },
  {
   "cell_type": "markdown",
   "metadata": {},
   "source": [
    "(creating-an-appropriate-plot)=\n",
    "## Creating an appropriate plot\n",
    "\n",
    "In our first example we consider a `Series` containing repeated letters, i.e., each letter occurrs at least once in the `Series`. We would like to know the count of each letter and to visualise the result in a suitable manner. To get this information we use the `.value_counts()` method. The of calling this method is a new `Series` with each letter in the index and the count as values.\n",
    "\n",
    "Consider the following table that contains repeating values (index does not matter in this example).\n",
    "\n",
    "| index   |   values |\n",
    "|---:|---------:|\n",
    "|  0 |        1 |\n",
    "|  1 |        2 |\n",
    "|  2 |        1 |\n",
    "|  3 |        1 |\n",
    "|  4 |        3 |\n",
    "|  5 |        4 |\n",
    "|  6 |        5 |\n",
    "|  7 |       10 |\n",
    "|  8 |       10 |\n",
    "\n",
    "Calling the `.value_counts()` method on this `Series` yields the following:\n",
    "\n",
    "|  value  |   count |\n",
    "|---:|---------:|\n",
    "|  1 |        3 |\n",
    "| 10 |        2 |\n",
    "|  2 |        1 |\n",
    "|  3 |        1 |\n",
    "|  4 |        1 |\n",
    "|  5 |        1 |\n",
    "\n",
    "By default the entries in the resulting `Series` are given in descending order based on their count."
   ]
  },
  {
   "cell_type": "code",
   "execution_count": null,
   "metadata": {},
   "outputs": [],
   "source": [
    "rng = np.random.default_rng(seed=42)"
   ]
  },
  {
   "cell_type": "code",
   "execution_count": null,
   "metadata": {},
   "outputs": [],
   "source": [
    "import itertools\n",
    "import string\n",
    "\n",
    "s = pd.Series(\n",
    "    data=itertools.chain.from_iterable(\n",
    "        [letter] * rng.choice(range(1, 10))\n",
    "        for idx, letter in enumerate(string.ascii_letters[:10])\n",
    "    ),\n",
    ")"
   ]
  },
  {
   "cell_type": "markdown",
   "metadata": {},
   "source": [
    "This is the output of `.value_counts()`. Additionally, the entries of the new `Series` are sorted by the content of the index."
   ]
  },
  {
   "cell_type": "code",
   "execution_count": null,
   "metadata": {},
   "outputs": [],
   "source": [
    "s.value_counts().sort_index()"
   ]
  },
  {
   "cell_type": "markdown",
   "metadata": {},
   "source": [
    "Let's generate our first plot. The first thing that might come to our mind (some of you will object, but bear with us for the moment :-)) is a line plot."
   ]
  },
  {
   "cell_type": "code",
   "execution_count": null,
   "metadata": {
    "deletable": false,
    "nbgrader": {
     "grade": true,
     "grade_id": "cell-612674b59cba28ef",
     "locked": false,
     "points": 0,
     "schema_version": 3,
     "solution": true,
     "task": false
    }
   },
   "outputs": [],
   "source": [
    "# Fill the gap!"
   ]
  },
  {
   "cell_type": "markdown",
   "metadata": {},
   "source": [
    "There are quite a few things we do *not* like about this (believe, me I have people seen making such a plot for this kind of data!). For the moment we take note of the following:\n",
    "\n",
    "* There is no title (maybe optional, if the axes labels are clear about what is actually shown).\n",
    "* There are no axes labels.\n",
    "\n",
    "How can we remedy these issues? Well, having a look at the [documentation]((https://pandas.pydata.org/pandas-docs/stable/reference/api/pandas.Series.plot.html)) of the `.plot()` method (or, likewise the [`.line()`](https://pandas.pydata.org/pandas-docs/stable/reference/api/pandas.Series.plot.line.html)) reveals the `title`, `xlabel`, and `ylabel` parameters. Let's use these to add some additional information to our plot."
   ]
  },
  {
   "cell_type": "code",
   "execution_count": null,
   "metadata": {
    "deletable": false,
    "nbgrader": {
     "grade": true,
     "grade_id": "cell-8453abaab749d619",
     "locked": false,
     "points": 0,
     "schema_version": 3,
     "solution": true,
     "task": false
    }
   },
   "outputs": [],
   "source": [
    "# Fill the gap!"
   ]
  },
  {
   "cell_type": "markdown",
   "metadata": {},
   "source": [
    "Needless to say, there is still room for improvement. We further object that neighboring data points are connected and each data points is not clearly indicated by a dot. Furthermore, not every item name is shown on the x-axis.\n",
    "\n",
    "The single items contained in the `Series` do not necessarily bear any relation. Hence, connecting them is rather confusing.[^connecting-points-when-they-should-not-be] We rather should indicate each count as a single stand-alone instance in the plot. One way would be to remove the lines alltogether and to add dots (or a similar symbol) instead.\n",
    "\n",
    "[^connecting-points-when-they-should-not-be]: The single items could represent different categories in your data (see [here](https://pandas.pydata.org/pandas-docs/stable/user_guide/categorical.html)). Some notorious nit-pickers might even accuse of having \"invented\" additional data --- in particular if the actual data points are not clearly indicated by using an appropriate marker.\n",
    "\n",
    "We use the following additional keywords to achieve this (see [here](https://matplotlib.org/stable/api/_as_gen/matplotlib.pyplot.plot.html) for a detailed overview of possible options):\n",
    "\n",
    "* `linestyle`: Set this to an empty string to remove the lines.\n",
    "* `marker`: Specify the kind of symbol to use to indicate the actual data points.\n",
    "* `xticks`: Specify the positions at which to draw ticks on the x-axis (`yticks` is also available for the y-axis). In this case we the `.nunique()` method to determine the number of unique elements in the original `Series`. This number is the same as the size of the `Series` resulting from the `.value_counts()` method.\n",
    "* `grid`: Wether to draw a grid."
   ]
  },
  {
   "cell_type": "code",
   "execution_count": null,
   "metadata": {
    "deletable": false,
    "nbgrader": {
     "grade": true,
     "grade_id": "cell-a08c0f482cd61998",
     "locked": false,
     "points": 0,
     "schema_version": 3,
     "solution": true,
     "task": false
    }
   },
   "outputs": [],
   "source": [
    "# Fill the gap!"
   ]
  },
  {
   "cell_type": "markdown",
   "metadata": {},
   "source": [
    "In our final version of the plot we use bar plot. Each count is represented as a (vertical) bar. In this way each instance is represented as a single, self-contained piece of information in the plot. We use the `rot` keyword to specify the rotation angle used for the names of the items."
   ]
  },
  {
   "cell_type": "code",
   "execution_count": null,
   "metadata": {
    "deletable": false,
    "nbgrader": {
     "grade": true,
     "grade_id": "cell-0f2af3b36bc18a8a",
     "locked": false,
     "points": 0,
     "schema_version": 3,
     "solution": true,
     "task": false
    }
   },
   "outputs": [],
   "source": [
    "# Fill the gap!"
   ]
  },
  {
   "cell_type": "markdown",
   "metadata": {},
   "source": [
    "(exercise-plotting-normalised-item-counts)=\n",
    "### Exercise\n",
    "\n",
    "Come up with *two* different types of plot that show the *relative proportions* in % of the single items in the above `Series`.\n",
    "\n",
    "**Hint**: It is sufficient if the relative proportions can be estimated *visually*. We do not need the exact values here."
   ]
  },
  {
   "cell_type": "code",
   "execution_count": null,
   "metadata": {
    "deletable": false,
    "nbgrader": {
     "grade": true,
     "grade_id": "cell-8296c50883a03d7e",
     "locked": false,
     "points": 0,
     "schema_version": 3,
     "solution": true,
     "task": false
    }
   },
   "outputs": [],
   "source": [
    "# Fill the gap!"
   ]
  },
  {
   "cell_type": "code",
   "execution_count": null,
   "metadata": {
    "deletable": false,
    "nbgrader": {
     "grade": true,
     "grade_id": "cell-d28c5c90f76c24cf",
     "locked": false,
     "points": 0,
     "schema_version": 3,
     "solution": true,
     "task": false
    }
   },
   "outputs": [],
   "source": [
    "# Fill the gap!"
   ]
  },
  {
   "cell_type": "markdown",
   "metadata": {},
   "source": [
    "(series-plotting-different-orders-of-magnitude)=\n",
    "## Dealing with different orders of magnitude\n",
    "\n",
    "We will stay with the example of counting items; but this time we will make the occurrences highly imbalanced. Indeed, when dealing with categorical data we sometimes find that in a particular feature some categories are highly under-represented while others dominate. It may also happen that the same observation is made for the target variable in a classification task. Early spotting these imbalances in a dataset greatly helps to set up the machine learning workflow appropriately. Creating expressive visualizations is essential in this context."
   ]
  },
  {
   "cell_type": "code",
   "execution_count": null,
   "metadata": {},
   "outputs": [],
   "source": [
    "s = pd.Series(\n",
    "    data=itertools.chain.from_iterable(\n",
    "        [letter] * n_occurrence\n",
    "        for idx, (letter, n_occurrence) in enumerate(\n",
    "            zip(\n",
    "                string.ascii_letters[:6],\n",
    "                [10, 1, 2_500, 300, 5_000, 10_000],\n",
    "            )\n",
    "        )\n",
    "    )\n",
    ")"
   ]
  },
  {
   "cell_type": "markdown",
   "metadata": {},
   "source": [
    "Now let's create a visualization of the counts per item and find out what we can see. Having learned something from the previous discussion we directly opt for the bar plot."
   ]
  },
  {
   "cell_type": "code",
   "execution_count": null,
   "metadata": {
    "deletable": false,
    "nbgrader": {
     "grade": true,
     "grade_id": "cell-626d48193d9c4e30",
     "locked": false,
     "points": 0,
     "schema_version": 3,
     "solution": true,
     "task": false
    }
   },
   "outputs": [],
   "source": [
    "# Fill the gap!"
   ]
  },
  {
   "cell_type": "markdown",
   "metadata": {},
   "source": [
    "Well, evidently the item counts differ by several orders of magnitude. But we would like to know what the order of maginitude of each individual count is. This information should indeed be available from the plot. One way to ensure this is to a logarithmic scale on the y-axis (using one on the x-axis obviously does not make any sense!). Pandas plotting methods have the `logy` (and also the `logx`) parameter to accomplish this. \n",
    "\n",
    ":::{note} While the *scale* is logarithmic (taking the $\\log_{10}$ of values) the labels are still that from the linear scale ($1 = 10^0$, $10 = 10^1$, $100 = 10^2$, $1000 = 10^3$, ...). The plotting library in the background usually automatically chooses the labels to be shown on each axis.\n",
    ":::\n",
    "\n",
    "The following figure shows how a linear scale is mapped to a logarithmic scale (logarithm for base 10 in this case).\n",
    "\n",
    "![](https://upload.wikimedia.org/wikipedia/commons/b/bf/Log-Achse.png)\n",
    "\n",
    "*Image license information*: <a href=\"https://commons.wikimedia.org/wiki/File:Log-Achse.png\">Saure</a>, CC0, via Wikimedia Commons"
   ]
  },
  {
   "cell_type": "code",
   "execution_count": null,
   "metadata": {
    "deletable": false,
    "nbgrader": {
     "grade": true,
     "grade_id": "cell-ecad60f355068d2c",
     "locked": false,
     "points": 0,
     "schema_version": 3,
     "solution": true,
     "task": false
    }
   },
   "outputs": [],
   "source": [
    "# Fill the gap!"
   ]
  },
  {
   "cell_type": "markdown",
   "metadata": {},
   "source": [
    "As we can see the information about the order of magnitude of each count is now conveniently inferred from the y-axis. Indeed, logarithmic scales are very useful when the values of a certain quantity (e.g. feature in a dataset) are available on different orders of magnitude. "
   ]
  },
  {
   "cell_type": "markdown",
   "metadata": {},
   "source": [
    "## Visualizing distributions\n",
    "\n",
    "The process of gathering data usually means sampling from an underlying distribution. Take for example how net income is distributed amongst citizens of a country. Very roughly speaking, there will be people with low, medium and high net income. However, the number of people with low income will not the same as that of people with medium or high income. The number of people were same for low, medium and high income we would say the data is uniformly distributed. \n",
    "\n",
    "The data that we have will usally be continious, i.e. the data does not consist of categories like low, medium or high net income. We are rather given values from a certain range. Then it is quite often informative to visiualize the *empirical distribution* of our given data. \n",
    "\n",
    ":::{note} Depending how the data was collected our empirical distribution might not closely resemble that actual distribution of the data. One of the reasons for this is usually only a finite amount of data samples are gathered.\n",
    ":::"
   ]
  },
  {
   "cell_type": "code",
   "execution_count": null,
   "metadata": {},
   "outputs": [],
   "source": [
    "s = pd.Series(rng.normal(loc=5, size=100))"
   ]
  },
  {
   "cell_type": "markdown",
   "metadata": {},
   "source": [
    "A common way to visualize such data is consider the range spanned by the smallest and largest value (min. and max. value) of the data. This range is subdivided into a given amount of *bins*. Each bin covers a certain portion of the range. Depending on its position in the range each data value will be assigned to a particular bin. Once all data values have been assigned, we *count* all values contained in a bin. The position of each bin is then plotted on the x-axis and the count on the y-axis. Such a plot is called a *histogram*.\n",
    "\n",
    "More formally: Let $a$, $b$ be the min. and max. value and let $N$ the number of bins. The width of each bin is given by $w = \\operatorname{ceiling}\\left((b - a) / N\\right)$. The location of the $i$-th bin $B_i$ is $l_i = a + i\\cdot w$, $i = 0, \\dots, N - 1$. Some value $x_j$ ($j = 0, \\dots, \\vert D \\vert - 1$, where $\\vert D \\vert$ is the number of data instances in some dataset $D$) is contained in the $i$-th bin if[^assignment-to-bin]\n",
    "\n",
    "$$\n",
    "x_j \\in B_i \\Leftrightarrow l_i \\leq x_j < l_{i + 1}.\n",
    "$$\n",
    "\n",
    "[^assignment-to-bin]: It is also possible to use e.g. the *right* boundary of the bin to test for equality: $x_j \\in B_i \\Leftrightarrow l_i < x_j {\\color{red}{\\;\\leq\\;}} l_{i + 1}$.\n",
    "\n",
    "We can conveniently use the [`.plot.hist()`](https://pandas.pydata.org/pandas-docs/stable/reference/api/pandas.Series.hist.html#pandas.Series.hist) method to generate such a histogram plot. The `bins` parameters can be used to determine the number of bins to used to collect data values."
   ]
  },
  {
   "cell_type": "code",
   "execution_count": null,
   "metadata": {
    "deletable": false,
    "nbgrader": {
     "grade": true,
     "grade_id": "cell-9ea012fb1e6d130f",
     "locked": false,
     "points": 0,
     "schema_version": 3,
     "solution": true,
     "task": false
    }
   },
   "outputs": [],
   "source": [
    "# Fill the gap!"
   ]
  },
  {
   "cell_type": "markdown",
   "metadata": {},
   "source": [
    "Finally, we note that the we can also use a box plot to visualize a distribution. Such a plot deserves some further explanation, however.\n",
    "\n",
    "### Interquartile range (IQR)\n",
    "\n",
    "#### What is the IQR?\n",
    "\n",
    "The IQR is the difference between the 25th (second quartile) and 75th (third quartile) percentile. Let $x$ be some feature; further let $q_{25}$​ and $q_{75}$​ be the 25th and 75th percentile for this feature. The IQR then is\n",
    "\n",
    "$$\n",
    "\\Delta_\\mathrm{IQR} = q_{75} - q_{25}\n",
    "$$\n",
    "\n",
    "The IQR can be visualised with the standard format of a boxplot.\n",
    "\n",
    "* The upper and lower boundary of the box span the IQR which is bounded by the first ($q_{25}$) and the third quartile ($q_{75}$). \n",
    "* The *median* (second quartile, or $q_{50}$​) is the vertical bar inside the box. \n",
    "* The vertical bars outside of IQR are at the positions $q_{25}​ - \\frac{3}{2}​ \\Delta_\\mathrm{IQR}​$ (lower) and $q_{75} ​+ \\frac{3}{2}​\\Delta_\\mathrm{IQR​}$ (upper).\n",
    "\n",
    ":::{note} The distance of the vertical bars (also called *whiskers*) from the first and third quartile may be different even though they both should be $\\frac{3}{2}​\\Delta_\\mathrm{IQR​}$​ away from the respective quantile. The reason is that the whisker can be at most $\\frac{3}{2}​\\Delta_\\mathrm{IQR​}$​ away from the first or third quartile. If the smallest / largest value is closer than this distance from the first / third quartile, the the corresponding whisker must mark the position of this value instead. In this case the lower whisker marks the 0th percentile while the upper whisker marks the 100th percentile. It thus may happen that both whiskers have different distances from their quantile.\n",
    ":::\n",
    "\n",
    "The following sketch summarises some of the characteristics of a box plot.\n",
    "\n",
    "![Box plot](../../_build_img/BoxPlot-1.png)\n",
    "\n",
    "#### What can the IQR be used for?\n",
    "\n",
    "Based on the IQR and a distance of $\\frac{3}{2}\\Delta_\\mathrm{IQR}$​ from the first and third quartile all points are considered \"outliers\" that have distances $> \\frac{3}{2}\\Delta_\\mathrm{IQR}$​ from the corresponding quantile. Inside the boxplot the \"outliers\" are marked by the individual points."
   ]
  },
  {
   "cell_type": "code",
   "execution_count": null,
   "metadata": {
    "deletable": false,
    "nbgrader": {
     "grade": true,
     "grade_id": "cell-b1a8c88f79879a3c",
     "locked": false,
     "points": 0,
     "schema_version": 3,
     "solution": true,
     "task": false
    }
   },
   "outputs": [],
   "source": [
    "# Fill the gap!"
   ]
  },
  {
   "cell_type": "markdown",
   "metadata": {},
   "source": [
    "### Exercises\n",
    "\n",
    "Below you are given some data sampled from a [Poisson distribution](https://en.wikipedia.org/wiki/Poisson_distribution). "
   ]
  },
  {
   "cell_type": "code",
   "execution_count": null,
   "metadata": {},
   "outputs": [],
   "source": [
    "s = pd.Series(rng.poisson(4, 20_000))"
   ]
  },
  {
   "cell_type": "markdown",
   "metadata": {},
   "source": [
    "#### Generate a histogram of the data\n",
    "\n",
    "Make sure to add a title, and axis labels."
   ]
  },
  {
   "cell_type": "code",
   "execution_count": null,
   "metadata": {
    "deletable": false,
    "nbgrader": {
     "grade": true,
     "grade_id": "cell-dbc7db140a57bc65",
     "locked": false,
     "points": 0,
     "schema_version": 3,
     "solution": true,
     "task": false
    }
   },
   "outputs": [],
   "source": [
    "# Fill the gap!"
   ]
  },
  {
   "cell_type": "markdown",
   "metadata": {},
   "source": [
    "#### Percentiles\n",
    "\n",
    "Compute the 0th, 25th, 50th (the median), 75th, and 100th percentile of the data by using a suitable Pandas method. Come up with at least two different approaches (methods) to accomplish this."
   ]
  },
  {
   "cell_type": "code",
   "execution_count": null,
   "metadata": {
    "deletable": false,
    "nbgrader": {
     "grade": true,
     "grade_id": "cell-eff35d316cbe5063",
     "locked": false,
     "points": 0,
     "schema_version": 3,
     "solution": true,
     "task": false
    }
   },
   "outputs": [],
   "source": [
    "# Fill the gap!"
   ]
  },
  {
   "cell_type": "code",
   "execution_count": null,
   "metadata": {
    "deletable": false,
    "nbgrader": {
     "grade": true,
     "grade_id": "cell-2fb541e8033b3c27",
     "locked": false,
     "points": 0,
     "schema_version": 3,
     "solution": true,
     "task": false
    }
   },
   "outputs": [],
   "source": [
    "# Fill the gap!"
   ]
  },
  {
   "cell_type": "markdown",
   "metadata": {},
   "source": [
    "#### Box plot\n",
    "\n",
    "Generate a box plot of the data. Make sure to add a title and axis labels where appropriate."
   ]
  },
  {
   "cell_type": "code",
   "execution_count": null,
   "metadata": {
    "deletable": false,
    "nbgrader": {
     "grade": true,
     "grade_id": "cell-ade8e51172ffd269",
     "locked": false,
     "points": 0,
     "schema_version": 3,
     "solution": true,
     "task": false
    }
   },
   "outputs": [],
   "source": [
    "# Fill the gap!"
   ]
  },
  {
   "cell_type": "markdown",
   "metadata": {},
   "source": [
    "Remove all \"outliers\" from the `Series` and return the remaining values as a new `Series`. Visualize the remaining data in a histogram. Make sure to use method chaining, to add a title and axis labels."
   ]
  },
  {
   "cell_type": "code",
   "execution_count": null,
   "metadata": {
    "deletable": false,
    "nbgrader": {
     "grade": true,
     "grade_id": "cell-2688342b7dac3977",
     "locked": false,
     "points": 0,
     "schema_version": 3,
     "solution": true,
     "task": false
    }
   },
   "outputs": [],
   "source": [
    "# Fill the gap!"
   ]
  },
  {
   "cell_type": "code",
   "execution_count": null,
   "metadata": {
    "deletable": false,
    "nbgrader": {
     "grade": true,
     "grade_id": "cell-bf5df8be21d8630a",
     "locked": false,
     "points": 0,
     "schema_version": 3,
     "solution": true,
     "task": false
    }
   },
   "outputs": [],
   "source": [
    "# Fill the gap!"
   ]
  }
 ],
 "metadata": {
  "file_extension": ".py",
  "kernelspec": {
   "display_name": ".venv",
   "language": "python",
   "name": "python3"
  },
  "language_info": {
   "codemirror_mode": {
    "name": "ipython",
    "version": 3
   },
   "file_extension": ".py",
   "mimetype": "text/x-python",
   "name": "python",
   "nbconvert_exporter": "python",
   "pygments_lexer": "ipython3",
   "version": "3.12.3"
  },
  "mimetype": "text/x-python",
  "name": "python",
  "npconvert_exporter": "python",
  "pygments_lexer": "ipython3",
  "version": 3
 },
 "nbformat": 4,
 "nbformat_minor": 4
}
