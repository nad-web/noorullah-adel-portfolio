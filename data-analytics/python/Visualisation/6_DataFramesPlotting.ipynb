{
 "cells": [
  {
   "cell_type": "markdown",
   "metadata": {},
   "source": [
    "# Plotting with `DataFrame`s\n",
    "\n",
    "Pandas `DataFrame`s also provide a plotting API through a [`.plot()`](https://pandas.pydata.org/pandas-docs/stable/reference/api/pandas.DataFrame.plot.html) method. More specialized methods like [`.bar()`](https://pandas.pydata.org/pandas-docs/stable/reference/api/pandas.DataFrame.plot.bar.html) are also available.\n",
    "\n",
    "In the following we will use our previously gained knowledge on selecting data from `DataFrame`s to explore some --- hopefully interesting --- plotting capabilities."
   ]
  },
  {
   "cell_type": "code",
   "execution_count": null,
   "metadata": {},
   "outputs": [],
   "source": [
    "%matplotlib inline\n",
    "\n",
    "import pandas as pd\n",
    "import numpy as np\n",
    "import matplotlib as mpl\n",
    "from matplotlib import pyplot as plt\n",
    "\n",
    "mpl.style.use(\"seaborn-v0_8-colorblind\")\n",
    "\n",
    "f\"Pandas version: {pd.__version__ = }, Numpy version: {np.__version__ = }\""
   ]
  },
  {
   "cell_type": "markdown",
   "metadata": {},
   "source": [
    "The easiest way is to access each column individually; this leaves us with a `Series` for which we know how to create plots. We start with plotting the distribution of each measured quantity as a histogram in a separate graph."
   ]
  },
  {
   "cell_type": "code",
   "execution_count": null,
   "metadata": {},
   "outputs": [],
   "source": [
    "df_iris = pd.read_csv(\n",
    "    \"https://archive.ics.uci.edu/ml/machine-learning-databases/iris/iris.data\",\n",
    "    names=[\"sepal length\", \"sepal width\", \"petal length\", \"petal width\", \"species\"],\n",
    ")"
   ]
  },
  {
   "cell_type": "code",
   "execution_count": null,
   "metadata": {
    "deletable": false,
    "nbgrader": {
     "grade": true,
     "grade_id": "cell-7b63895ee6b828a9",
     "locked": false,
     "points": 0,
     "schema_version": 3,
     "solution": true,
     "task": false
    }
   },
   "outputs": [],
   "source": [
    "# Fill the gap!"
   ]
  },
  {
   "cell_type": "markdown",
   "metadata": {},
   "source": [
    "Indeed, we can achieve this kind of plot even simpler. As we can see many of the parameters used to specify the subplot layout above with `plt.subplots()` can also be passed directly to the plotting method. We use the `bool`ean parameter `subplots=True` (in combination with `layout`) to generate a separate graph for each plot. This allows to comfortably plot multiple columns with from a single `DataFrame`. \n",
    "\n",
    "There is a difference observed for the bin widths. Above, the width is computed invidiually for each plot while in the plots below the bin width seems to be to chosen to be the same for each plot."
   ]
  },
  {
   "cell_type": "code",
   "execution_count": null,
   "metadata": {
    "deletable": false,
    "nbgrader": {
     "grade": true,
     "grade_id": "cell-60debab7e66a5da8",
     "locked": false,
     "points": 0,
     "schema_version": 3,
     "solution": true,
     "task": false
    }
   },
   "outputs": [],
   "source": [
    "# Fill the gap!"
   ]
  },
  {
   "cell_type": "markdown",
   "metadata": {},
   "source": [
    "For completeness we show the distributions in a single graph."
   ]
  },
  {
   "cell_type": "code",
   "execution_count": null,
   "metadata": {
    "deletable": false,
    "nbgrader": {
     "grade": true,
     "grade_id": "cell-a840074f1f151766",
     "locked": false,
     "points": 0,
     "schema_version": 3,
     "solution": true,
     "task": false
    }
   },
   "outputs": [],
   "source": [
    "# Fill the gap!"
   ]
  },
  {
   "cell_type": "markdown",
   "metadata": {},
   "source": [
    "## Exercises\n",
    "\n",
    ":::{note} Please use the `DataFrame` plotting API whenever possible in the exercises below. For some of the tasks it will be helpful to know how to select values from the `DataFrame`. Refer to [this section](dataframe-acessing-rows-and-columns) if you need a refresher on this..\n",
    ":::"
   ]
  },
  {
   "cell_type": "markdown",
   "metadata": {},
   "source": [
    "### Boxplots\n",
    "\n",
    "Create boxplots each of the measured quantities sepal length, sepal width, petal length, and petal width. Add grid lines along the y-axis. Also make sure to add a title and axes labels (with units?) where suitable.\n",
    "\n",
    "There are two methods we can use, [`.plot.box()`](https://pandas.pydata.org/pandas-docs/stable/reference/api/pandas.DataFrame.plot.box.html) and [`.boxplot()`](https://pandas.pydata.org/docs/reference/api/pandas.plotting.boxplot.html)."
   ]
  },
  {
   "cell_type": "code",
   "execution_count": null,
   "metadata": {
    "deletable": false,
    "nbgrader": {
     "grade": true,
     "grade_id": "cell-1f757365dec32870",
     "locked": false,
     "points": 0,
     "schema_version": 3,
     "solution": true,
     "task": false
    }
   },
   "outputs": [],
   "source": [
    "# Fill the gap!"
   ]
  },
  {
   "cell_type": "code",
   "execution_count": null,
   "metadata": {},
   "outputs": [],
   "source": [
    "ax = df_iris.boxplot(\n",
    "    grid=False,\n",
    "    ylabel=\"observed values / cm\",\n",
    ")\n",
    "\n",
    "ax.grid(which=\"major\", axis=\"y\")\n",
    "ax.set_title(\"Spread of lengths and widths in the Iris dataset\")"
   ]
  },
  {
   "cell_type": "markdown",
   "metadata": {},
   "source": [
    "Next, we are interested in the distribution of lengths and widths for each specie. Generate a box plot for each specie just as above for the full dataset. Arrange the plots in a suitable grid of subplots"
   ]
  },
  {
   "cell_type": "code",
   "execution_count": null,
   "metadata": {
    "deletable": false,
    "nbgrader": {
     "grade": true,
     "grade_id": "cell-395bbe89890066bd",
     "locked": false,
     "points": 0,
     "schema_version": 3,
     "solution": true,
     "task": false
    }
   },
   "outputs": [],
   "source": [
    "# Fill the gap!"
   ]
  },
  {
   "cell_type": "code",
   "execution_count": null,
   "metadata": {},
   "outputs": [],
   "source": [
    "axes = df_iris.boxplot(\n",
    "    by=\"species\",\n",
    "    ylabel=\"observed value / cm\",\n",
    "    sharey=True,\n",
    "    figsize=(20, 4),\n",
    "    layout=(1, 4),\n",
    ")\n",
    "\n",
    "# Get the figure containing the subplots from an axes object. We\n",
    "# use the figure to customize the title of the full plot.\n",
    "(\n",
    "    axes[0]\n",
    "    .get_figure()\n",
    "    .suptitle(\n",
    "        \"Spread of lengths and widths in Iris dataset grouped by species\",\n",
    "        verticalalignment=\"bottom\",\n",
    "    )\n",
    ")\n",
    "\n",
    "for ax in axes:\n",
    "    ax.grid(which=\"major\", axis=\"x\")"
   ]
  },
  {
   "cell_type": "markdown",
   "metadata": {},
   "source": [
    "### Violin plot\n",
    "\n",
    "Violin plots convey the a similar type of information as boxplots or histograms (to some extent a combination of the two). While histograms bin data, count the number of values that fall into a particular bin and plot that count, violin plots contain a \"smoothed\" version of this. These \"smoothed histograms\" estimate the observed data distribution by means of a kernel density estimate (KDE).\n",
    "\n",
    "Matplotlib provides us with the [`violinplot()`](https://matplotlib.org/stable/api/_as_gen/matplotlib.pyplot.violinplot.html) function that can also be called from `Axis` objects. Read through the documentation and try to generate a violinplot of the observed data distribution of the sepal length, petal length, sepal width, and petal width.\n",
    "\n",
    "Also make sure to have a look at the examples at the bottom of the [violin plot documentation](https://matplotlib.org/stable/api/_as_gen/matplotlib.pyplot.violinplot.html) to learn about about violin plots themselves and how to customize them."
   ]
  },
  {
   "cell_type": "code",
   "execution_count": null,
   "metadata": {
    "deletable": false,
    "nbgrader": {
     "grade": true,
     "grade_id": "cell-75a8c1e1b6e0e12a",
     "locked": false,
     "points": 0,
     "schema_version": 3,
     "solution": true,
     "task": false
    }
   },
   "outputs": [],
   "source": [
    "# Fill the gap!"
   ]
  },
  {
   "cell_type": "markdown",
   "metadata": {},
   "source": [
    "#### Scatter plots\n",
    "\n",
    "[Earlier](plotting-data-from-iris-dataset) in this course we have created scatter plots to check if there is a correlation between different measured quantities in the Iris dataset. \n",
    "\n",
    "Create scatter plots of all reasonable combinations of sepal length, sepal width, petal length and petal width. Arrange the plots in suitable grid of subplots."
   ]
  },
  {
   "cell_type": "code",
   "execution_count": null,
   "metadata": {
    "deletable": false,
    "nbgrader": {
     "grade": true,
     "grade_id": "cell-b7f5b314ac5f0de8",
     "locked": false,
     "points": 0,
     "schema_version": 3,
     "solution": true,
     "task": false
    }
   },
   "outputs": [],
   "source": [
    "# Fill the gap!"
   ]
  }
 ],
 "metadata": {
  "file_extension": ".py",
  "kernelspec": {
   "display_name": ".venv",
   "language": "python",
   "name": "python3"
  },
  "language_info": {
   "codemirror_mode": {
    "name": "ipython",
    "version": 3
   },
   "file_extension": ".py",
   "mimetype": "text/x-python",
   "name": "python",
   "nbconvert_exporter": "python",
   "pygments_lexer": "ipython3",
   "version": "3.12.3"
  },
  "mimetype": "text/x-python",
  "name": "python",
  "npconvert_exporter": "python",
  "pygments_lexer": "ipython3",
  "version": 3
 },
 "nbformat": 4,
 "nbformat_minor": 4
}
