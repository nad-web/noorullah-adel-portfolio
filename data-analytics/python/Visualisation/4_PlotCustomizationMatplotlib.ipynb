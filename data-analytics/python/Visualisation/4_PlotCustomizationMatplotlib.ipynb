{
 "cells": [
  {
   "cell_type": "markdown",
   "metadata": {},
   "source": [
    "# Plot Customization with Matplotlib\n",
    "\n",
    "So far we have used the plotting interface available from Pandas `Series`. While this offers lots of useful functionality, we would like to have a more fine-grained control over the appearance of our plots. \n",
    "\n",
    "Pandas conventionally wraps Matplotlib as a plotting backend. Indeed, when calling the [`.plot()`](https://pandas.pydata.org/pandas-docs/stable/reference/api/pandas.Series.plot.html) method on a `Series` object a Matplotlib [`Axes`](https://matplotlib.org/stable/api/_as_gen/matplotlib.axes.Axes.html) object is returned. This has many \"knobs\" allowing us to fine-tune the appearance of a particular plot.\n",
    "\n",
    ":::{note} Below we will discuss some example use cases of the Matplotlib's object-oriented API. Please do not expect a complete treatment of a functionalities in this section. Clearly, this would be out-of-scope for this course. We rather want to understand the basic principles of working with this type of API and to know the customization points. For a more detailed overview we refer you to Matplotlib's [example gallery](https://matplotlib.org/stable/gallery/index.html).\n",
    ":::\n",
    "\n",
    "As usual we start with some imports."
   ]
  },
  {
   "cell_type": "code",
   "execution_count": null,
   "metadata": {},
   "outputs": [],
   "source": [
    "%matplotlib inline\n",
    "\n",
    "import pandas as pd\n",
    "import numpy as np\n",
    "import matplotlib as mpl\n",
    "from matplotlib import pyplot as plt\n",
    "\n",
    "mpl.style.use(\"seaborn-v0_8-colorblind\")\n",
    "\n",
    "f\"Pandas version: {pd.__version__ = }, Numpy version: {np.__version__ = }\""
   ]
  },
  {
   "cell_type": "markdown",
   "metadata": {},
   "source": [
    "## Customizing plots"
   ]
  },
  {
   "cell_type": "markdown",
   "metadata": {},
   "source": [
    "Let's return to our [initial example](creating-an-appropriate-plot) for generating a plot. We created a bar plot of some ficticious data containing several items (categories)."
   ]
  },
  {
   "cell_type": "code",
   "execution_count": null,
   "metadata": {},
   "outputs": [],
   "source": [
    "rng = np.random.default_rng(seed=42)"
   ]
  },
  {
   "cell_type": "code",
   "execution_count": null,
   "metadata": {},
   "outputs": [],
   "source": [
    "import itertools\n",
    "import string\n",
    "\n",
    "s = pd.Series(\n",
    "    data=itertools.chain.from_iterable(\n",
    "        [letter] * rng.choice(range(1, 10))\n",
    "        for idx, letter in enumerate(string.ascii_letters[:10])\n",
    "    ),\n",
    ")"
   ]
  },
  {
   "cell_type": "markdown",
   "metadata": {},
   "source": [
    "We have noted ealier that calling the `.plot()` method returns an `Axes` object. Therefore, we assign the output to a variable names `ax.` Indeed, this is the commonly chosen name for such kind of objects when working with Matplotlib. \n",
    "\n",
    "The thus generated plot is still requires some customization. While we could use suitable arguments for the `.plot()` method (in practice we would do so!) --- or the `.bar()` method in this example --- we will call appropriate methods available for `Axes` object to conduct the customization like setting the title, or adding axis labels."
   ]
  },
  {
   "cell_type": "code",
   "execution_count": null,
   "metadata": {
    "deletable": false,
    "nbgrader": {
     "grade": true,
     "grade_id": "cell-10d65d4f6ef338c3",
     "locked": false,
     "points": 0,
     "schema_version": 3,
     "solution": true,
     "task": false
    }
   },
   "outputs": [],
   "source": [
    "# Fill the gap!"
   ]
  },
  {
   "cell_type": "markdown",
   "metadata": {},
   "source": [
    "We quickly check for the type of `ax`."
   ]
  },
  {
   "cell_type": "code",
   "execution_count": null,
   "metadata": {
    "deletable": false,
    "nbgrader": {
     "grade": true,
     "grade_id": "cell-6d4b79fc57aa5e36",
     "locked": false,
     "points": 0,
     "schema_version": 3,
     "solution": true,
     "task": false
    }
   },
   "outputs": [],
   "source": [
    "# Fill the gap!"
   ]
  },
  {
   "cell_type": "markdown",
   "metadata": {},
   "source": [
    "Now we repeat the plot and add \n",
    "\n",
    "* a title,\n",
    "* axis labels, and \n",
    "* horizontal grid lines.\n",
    "\n",
    "The `ax` object effectively provides us with a handle to the plot (the x- and the y-axis, in particular). We cite from the [Matplotlib manual](https://matplotlib.org/stable/api/_as_gen/matplotlib.axes.Axes.html)\n",
    "\n",
    "> An Axes object encapsulates all the elements of an individual (sub-)plot in a figure.\n",
    "\n",
    "As we see below there are some `get`ter and `set`ter methods available to for instance set labels for the axes or manipulating the labels for the ticks along the x-axis. "
   ]
  },
  {
   "cell_type": "code",
   "execution_count": null,
   "metadata": {
    "deletable": false,
    "nbgrader": {
     "grade": true,
     "grade_id": "cell-e2cc55a339f74e2d",
     "locked": false,
     "points": 0,
     "schema_version": 3,
     "solution": true,
     "task": false
    }
   },
   "outputs": [],
   "source": [
    "# Fill the gap!"
   ]
  },
  {
   "cell_type": "markdown",
   "metadata": {},
   "source": [
    "While most of the method calls should be straight-forward to understand, the call to `.set_xticks()` requires some explanation: The purpose of calling this method is to rotate the labels of the ticks on the x-axis. The method expects the tick-positions in a sequence container (e.g. a `list` or a `np.ndarray`) and the labels e.g. as a `list`. During the call to `.bar()` these positions and labels have already been created; we just want to *customize* their appearance. Therefore, we call the `get`methods `.get_xticks()` and `.get_xticklabels()` that return us the currently set positions and labels.  "
   ]
  },
  {
   "cell_type": "code",
   "execution_count": null,
   "metadata": {
    "deletable": false,
    "nbgrader": {
     "grade": true,
     "grade_id": "cell-ba67d25d85eabb1c",
     "locked": false,
     "points": 0,
     "schema_version": 3,
     "solution": true,
     "task": false
    }
   },
   "outputs": [],
   "source": [
    "# Fill the gap!"
   ]
  },
  {
   "cell_type": "markdown",
   "metadata": {},
   "source": [
    "These are passed are arguments to the `.set_xticks()` method; the only thing left to do is to specify the `rotation` parameter."
   ]
  },
  {
   "cell_type": "markdown",
   "metadata": {},
   "source": [
    "## Subplots\n",
    "\n",
    "Oftentimes we want certain pieces of information to be visualized side-by-side. To achieve this we can use subplots embedded within a Matplotlib [`Figure`](https://matplotlib.org/stable/api/figure_api.html#matplotlib.figure.Figure).\n",
    "\n",
    "A grid of subplots can be conveniently created with the [`plt.subplots()`](https://matplotlib.org/stable/api/_as_gen/matplotlib.pyplot.subplots.html) function.\n",
    "\n",
    "```python\n",
    ">>> fig, (ax1, ax2) = plt.subplots(nrows=1, ncols=2, figsize=(12, 5))\n",
    "```\n",
    "In this example we create a 1 x 2 layout (1 row, 2 columns); the return value is a `tuple` containing a `Figure` object and a `np.ndarray` (possibly nested) of `Axes` instances. Here the size of the NumPy array containing the `Axes` objects is 2, so it is instructive to use `tuple` unpacking to assign individual names to the single instances. The width and the height of the canvas on which the plots will be drawn is specified with the `figsize` parameters: `( width, height )`.\n",
    "\n",
    "Below we revisit the example from an earlier [exercise](exercise-plotting-normalised-item-counts) in which you were asked to plot the relative proportions of items. The left plot (references by `ax1`) contains a bar chart with normalized item counts, while the right plot (references by `ax2`) contains a pie chart. Note how the labels and the values of the proportions have been customized in the plot.\n"
   ]
  },
  {
   "cell_type": "code",
   "execution_count": null,
   "metadata": {
    "deletable": false,
    "nbgrader": {
     "grade": true,
     "grade_id": "cell-c06cdb93d6a5aebe",
     "locked": false,
     "points": 0,
     "schema_version": 3,
     "solution": true,
     "task": false
    }
   },
   "outputs": [],
   "source": [
    "# Fill the gap!"
   ]
  },
  {
   "cell_type": "markdown",
   "metadata": {},
   "source": [
    "Another way to design the layout of a figure with multiple subplots is the [`.subplot_mosaic()`](https://matplotlib.org/stable/api/_as_gen/matplotlib.pyplot.subplot_mosaic.html) function. We will not discuss every detail of the code below. What is shown is a so-called scatter plot which basically just plotting $(x, y)$ pairs of data. This plot is shown as dots below. Additionally, there are two histogram attached at the top and right of the scatter plot. The top plot show the distribution of the $x$ values, while that on the right show the distribution of the $y$ values."
   ]
  },
  {
   "cell_type": "code",
   "execution_count": null,
   "metadata": {},
   "outputs": [],
   "source": [
    "fig, axes = plt.subplot_mosaic(\n",
    "    [\n",
    "        [\"histogram-x\", \".\"],\n",
    "        [\"scatterplot\", \"histogram-y\"],\n",
    "    ],\n",
    "    width_ratios=[2, 1],\n",
    "    height_ratios=[1, 2],\n",
    "    gridspec_kw={\"hspace\": 0.1, \"wspace\": 0.1},\n",
    ")\n",
    "\n",
    "(\n",
    "    x_values,\n",
    "    y_values,\n",
    ") = (\n",
    "    rng.normal(size=250),\n",
    "    rng.normal(loc=4, size=250),\n",
    ")\n",
    "\n",
    "# Scatter plot in the middle\n",
    "ax = axes[\"scatterplot\"]\n",
    "ax.minorticks_on()\n",
    "ax.set_xlabel(\"x\")\n",
    "ax.set_ylabel(\"y\")\n",
    "ax.scatter(x_values, y_values)\n",
    "\n",
    "# Histogram on the right-hand side\n",
    "ax = axes[\"histogram-y\"]\n",
    "ax.set_yticklabels([])\n",
    "ax.set_xlabel(\"count\")\n",
    "ax.hist(y_values, orientation=\"horizontal\")\n",
    "\n",
    "# Histogram at the top\n",
    "ax = axes[\"histogram-x\"]\n",
    "ax.set_xticklabels([])\n",
    "ax.set_ylabel(\"count\")\n",
    "ax.hist(x_values, bins=10);"
   ]
  },
  {
   "cell_type": "markdown",
   "metadata": {},
   "source": [
    "### Exercises"
   ]
  },
  {
   "cell_type": "markdown",
   "metadata": {},
   "source": [
    "#### Sine functions with phase shift\n",
    "\n",
    "Create a single plot with four sine functions, each have a different phase $\\phi$ in the range $[-2\\pi, 2\\pi]$:\n",
    "\n",
    "$$\n",
    "f(x) = \\sin(x - \\phi)\n",
    "$$\n",
    "\n",
    "Use angles $\\phi = 0, \\pi / 3, \\pi / 2, \\pi$. For each sine function set the linestyle as well as the color manually. Search the [documentation](https://matplotlib.org/stable/api/_as_gen/matplotlib.pyplot.plot.html) of the `.plot()` function to find the right options to conduct these customizations. Make sure that each line can be associated with a particular phase shift.\n",
    "\n",
    "*Hints*:\n",
    "\n",
    "* Use the [`np.linspace`](https://numpy.org/doc/stable/reference/generated/numpy.linspace.html) function to generate the range of x-values.\n",
    "* Compute each sine with a [NumPy function](https://numpy.org/doc/stable/reference/routines.math.html)."
   ]
  },
  {
   "cell_type": "code",
   "execution_count": null,
   "metadata": {
    "deletable": false,
    "nbgrader": {
     "grade": true,
     "grade_id": "cell-dfcb55883ef23ebd",
     "locked": false,
     "points": 0,
     "schema_version": 3,
     "solution": true,
     "task": false
    }
   },
   "outputs": [],
   "source": [
    "# Fill the gap!"
   ]
  },
  {
   "cell_type": "markdown",
   "metadata": {},
   "source": [
    "#### Sine functions with phase shift in subplots\n",
    "\n",
    "Plot the same sine functions as in the previous exercise but now plot each of the functions in a *separate* subplot in a 4x1 plot grid. Assure that all subplots have the same x-scale and y-scale. The values on the x-axis shall be in degree units."
   ]
  },
  {
   "cell_type": "code",
   "execution_count": null,
   "metadata": {
    "deletable": false,
    "nbgrader": {
     "grade": true,
     "grade_id": "cell-61d5e90388bde1c6",
     "locked": false,
     "points": 0,
     "schema_version": 3,
     "solution": true,
     "task": false
    }
   },
   "outputs": [],
   "source": [
    "# Fill the gap!"
   ]
  },
  {
   "cell_type": "markdown",
   "metadata": {},
   "source": [
    "#### Poll revisited\n",
    "\n",
    "We revisit the [exercise](series-operations-exercise-poll) dealing with the (ficticous) poll. The data is reproduced with some variations below.\n",
    "\n",
    "Generate two plots side-by-side that show *one* of the following (you choose!):\n",
    "\n",
    "* The counts of each category from the *uncleaned* dataset on the left and the counts of each category in *cleaned* dataset on the right.\n",
    "* The relative proportions of the categories from the *uncleaned* dataset on the left and the relative proportions from the uncleaned dataset on right.\n",
    "\n",
    "Depending on what kind visualization form you use, choose an appropriate plot."
   ]
  },
  {
   "cell_type": "code",
   "execution_count": null,
   "metadata": {},
   "outputs": [],
   "source": [
    "rng = np.random.default_rng(seed=42)\n",
    "\n",
    "data = np.array(\n",
    "    [\"Employed\"] * rng.choice(range(2000, 5000))\n",
    "    + [\"employed\"] * rng.choice(range(100, 500))\n",
    "    + [\"Unemployed\"] * rng.choice(range(200, 400))\n",
    "    + [\"unemployed\"] * rng.choice(range(50, 70))\n",
    "    + [\"Rate mal\"] * rng.choice(range(10, 20))\n",
    "    + [\"Having fun all day\"] * rng.choice(range(50, 100))\n",
    "    + [\"geht dich nix an\"] * rng.choice(range(20, 60))\n",
    ")\n",
    "rng.shuffle(data)\n",
    "\n",
    "poll = pd.Series(data=data)\n",
    "poll"
   ]
  },
  {
   "cell_type": "code",
   "execution_count": null,
   "metadata": {
    "deletable": false,
    "nbgrader": {
     "grade": true,
     "grade_id": "cell-f02f6b506ecc88f2",
     "locked": false,
     "points": 0,
     "schema_version": 3,
     "solution": true,
     "task": false
    }
   },
   "outputs": [],
   "source": [
    "# Fill the gap!"
   ]
  },
  {
   "cell_type": "code",
   "execution_count": null,
   "metadata": {
    "deletable": false,
    "nbgrader": {
     "grade": true,
     "grade_id": "cell-b9e42f77dc5c05ed",
     "locked": false,
     "points": 0,
     "schema_version": 3,
     "solution": true,
     "task": false
    }
   },
   "outputs": [],
   "source": [
    "# Fill the gap!"
   ]
  },
  {
   "cell_type": "markdown",
   "metadata": {},
   "source": [
    "## Detour: Multi-dimensional NumPy arrays\n",
    "\n",
    "We will very briefly discuss multi-dimensional Numpy arrays as we will use them below when dealing with the [Iris dataset](plotting-data-from-iris-dataset).\n",
    "\n",
    "### Creation and `.shape`\n",
    "\n",
    "Just as we have used linear (unnested) `list`s to create linear NumPy arrays we can used a *nested* `list` to create a two- or three-dimesional array. Of course we are not limited to two or three dimensions but it would indeed become quite cumbersome to type."
   ]
  },
  {
   "cell_type": "code",
   "execution_count": null,
   "metadata": {},
   "outputs": [],
   "source": [
    "a2d = np.array([[1, 2, 3], [4, 5, 6]], dtype=np.int32)\n",
    "a2d"
   ]
  },
  {
   "cell_type": "code",
   "execution_count": null,
   "metadata": {},
   "outputs": [],
   "source": [
    "a3d = np.array([[[1, 2], [3, 4], [5, 6]], [[11, 12], [13, 14], [15, 16]]])\n",
    "a3d"
   ]
  },
  {
   "cell_type": "markdown",
   "metadata": {},
   "source": [
    "For linear arrays the `.shape` attribute is `tuple[int]` with just a single entry which is equal to the length of the array. For higher-dimensional arrays the `.shape` tuple contains the extent of array along each of its *axes*.\n",
    "\n",
    "The concept is explained in the following sketch.\n",
    "\n",
    "![Multi-dimensional Numpy array](../../_build_img/NumpyArray-Nd-1.png)"
   ]
  },
  {
   "cell_type": "code",
   "execution_count": null,
   "metadata": {},
   "outputs": [],
   "source": [
    "a2d.shape, a3d.shape"
   ]
  },
  {
   "cell_type": "markdown",
   "metadata": {},
   "source": [
    ":::{note} It is useful to think of axis 0 as the \"rows\" and axis 1 als the \"columns\" for a two-dimensional array. For higher dimensions this concept breaks down. What you should remember is that each additional dimension adds another axis to the right. That is, the shape of a N-dimensional array has axis indices 0, ..., N - 1.   \n",
    "```\n",
    "shape with extents:    ( M_0,  M_1, ..., M_i, ...,  N_{N-1} )\n",
    "axis index        :       0     1         i          N - 1\n",
    "```\n",
    ":::"
   ]
  },
  {
   "cell_type": "markdown",
   "metadata": {},
   "source": [
    "Higher-dimensional arrays can also be created from (linear) arrays be `.reshape()`ing. For instance, let's use a factory function to generate a linear array that will be converted to a nested array with two dimensions."
   ]
  },
  {
   "cell_type": "code",
   "execution_count": null,
   "metadata": {},
   "outputs": [],
   "source": [
    "a1d = np.arange(1, 10)\n",
    "a1d, a1d.shape"
   ]
  },
  {
   "cell_type": "code",
   "execution_count": null,
   "metadata": {
    "deletable": false,
    "nbgrader": {
     "grade": true,
     "grade_id": "cell-c92dc2a998f1257f",
     "locked": false,
     "points": 0,
     "schema_version": 3,
     "solution": true,
     "task": false
    }
   },
   "outputs": [],
   "source": [
    "# Fill the gap!"
   ]
  },
  {
   "cell_type": "markdown",
   "metadata": {},
   "source": [
    "The value `-1` has a special meaning in the context of reshaping: It instructs NumPy to use *infer* the extend of the particular dimension from the rest of the provided shape tuple."
   ]
  },
  {
   "cell_type": "code",
   "execution_count": null,
   "metadata": {
    "deletable": false,
    "nbgrader": {
     "grade": true,
     "grade_id": "cell-87d936777f6d404c",
     "locked": false,
     "points": 0,
     "schema_version": 3,
     "solution": true,
     "task": false
    }
   },
   "outputs": [],
   "source": [
    "# Fill the gap!"
   ]
  },
  {
   "cell_type": "code",
   "execution_count": null,
   "metadata": {
    "deletable": false,
    "nbgrader": {
     "grade": true,
     "grade_id": "cell-bc24b40d35a8cb36",
     "locked": false,
     "points": 0,
     "schema_version": 3,
     "solution": true,
     "task": false
    }
   },
   "outputs": [],
   "source": [
    "# Fill the gap!"
   ]
  },
  {
   "cell_type": "markdown",
   "metadata": {},
   "source": [
    "The \"inverse\" of reshaping is unravelling / flattening.\n",
    "\n",
    ":::{note} The difference between the [`.ravel()`](https://numpy.org/doc/stable/reference/generated/numpy.ravel.html) and the [`.flatten()`](https://numpy.org/doc/stable/reference/generated/numpy.flatten.html) method is that `flatten`ing gives a *copy* of the original data (but as one-dimensinal array!) while `ravel`ling does not copy the original data but just alters the shape of the original array (it returns a \"view\" on the memory buffer of the original array).\n",
    ":::"
   ]
  },
  {
   "cell_type": "code",
   "execution_count": null,
   "metadata": {
    "deletable": false,
    "nbgrader": {
     "grade": true,
     "grade_id": "cell-86836f0c8ef26f27",
     "locked": false,
     "points": 0,
     "schema_version": 3,
     "solution": true,
     "task": false
    }
   },
   "outputs": [],
   "source": [
    "# Fill the gap!"
   ]
  },
  {
   "cell_type": "markdown",
   "metadata": {},
   "source": [
    "We can also use the `.reshape()` method to \"linearize\" a nested array."
   ]
  },
  {
   "cell_type": "code",
   "execution_count": null,
   "metadata": {
    "deletable": false,
    "nbgrader": {
     "grade": true,
     "grade_id": "cell-a951ade14c8b0176",
     "locked": false,
     "points": 0,
     "schema_version": 3,
     "solution": true,
     "task": false
    }
   },
   "outputs": [],
   "source": [
    "# Fill the gap!"
   ]
  },
  {
   "cell_type": "markdown",
   "metadata": {},
   "source": [
    "The process of reshaping is summarized in the following sketch.\n",
    "\n",
    "![Reshaping a one-dimensional NumPy array](../../_build_img/NumpyReshaping-1.png)\n",
    "\n",
    ":::{warning} Needless to say, when reshaping an array the new dimension must be compatible with the old dimensions. More formally, let $(d_0, d_1, \\dots, d_{M - 1})$ be the *old* shape (M-dimensional array) and $(D_0, D_1, \\dots, D_{K - 1})$ be the *new* shape (K-dimensional array). The new shape must be such that \n",
    "\n",
    "$$\n",
    "\\prod_{i = 0}^{M - 1}d_i = \\prod_{j = 0}^{K - 1} D_j\n",
    "$$\n",
    ":::"
   ]
  },
  {
   "cell_type": "markdown",
   "metadata": {},
   "source": [
    "### Indexing\n",
    "\n",
    "Indexing multi-dimensional arrays is a straight forward extension of the principles of indexing in one dimension. Indeed, anything we know about indexing a linear NumPy array can be applied to any dimension of a multi-dimensional array."
   ]
  },
  {
   "cell_type": "code",
   "execution_count": null,
   "metadata": {},
   "outputs": [],
   "source": [
    "a = np.arange(1, 26).reshape((5, 5))\n",
    "a"
   ]
  },
  {
   "cell_type": "markdown",
   "metadata": {},
   "source": [
    "Integer-based indexing along each dimension."
   ]
  },
  {
   "cell_type": "code",
   "execution_count": null,
   "metadata": {
    "deletable": false,
    "nbgrader": {
     "grade": true,
     "grade_id": "cell-c77df487960de879",
     "locked": false,
     "points": 0,
     "schema_version": 3,
     "solution": true,
     "task": false
    }
   },
   "outputs": [],
   "source": [
    "# Fill the gap!"
   ]
  },
  {
   "cell_type": "code",
   "execution_count": null,
   "metadata": {
    "deletable": false,
    "nbgrader": {
     "grade": true,
     "grade_id": "cell-237b3bbd8b002fa6",
     "locked": false,
     "points": 0,
     "schema_version": 3,
     "solution": true,
     "task": false
    }
   },
   "outputs": [],
   "source": [
    "# Fill the gap!"
   ]
  },
  {
   "cell_type": "markdown",
   "metadata": {},
   "source": [
    "Slicing along each dimension. Slicing can also be combined with \"ordinary\" indexing with integers."
   ]
  },
  {
   "cell_type": "code",
   "execution_count": null,
   "metadata": {
    "deletable": false,
    "nbgrader": {
     "grade": true,
     "grade_id": "cell-fe4b5d6fff9cf489",
     "locked": false,
     "points": 0,
     "schema_version": 3,
     "solution": true,
     "task": false
    }
   },
   "outputs": [],
   "source": [
    "# Fill the gap!"
   ]
  },
  {
   "cell_type": "code",
   "execution_count": null,
   "metadata": {
    "deletable": false,
    "nbgrader": {
     "grade": true,
     "grade_id": "cell-56e477cf57a67d22",
     "locked": false,
     "points": 0,
     "schema_version": 3,
     "solution": true,
     "task": false
    }
   },
   "outputs": [],
   "source": [
    "# Fill the gap!"
   ]
  },
  {
   "cell_type": "markdown",
   "metadata": {},
   "source": [
    "Advanced indexing with `list`s of indices for each dimension."
   ]
  },
  {
   "cell_type": "code",
   "execution_count": null,
   "metadata": {
    "deletable": false,
    "nbgrader": {
     "grade": true,
     "grade_id": "cell-1005b439ad7a5e69",
     "locked": false,
     "points": 0,
     "schema_version": 3,
     "solution": true,
     "task": false
    }
   },
   "outputs": [],
   "source": [
    "# Fill the gap!"
   ]
  },
  {
   "cell_type": "markdown",
   "metadata": {},
   "source": [
    "Boolean masks can be created in the same way as for linear arrays. The result in another NumPy array with `dtype == bool`."
   ]
  },
  {
   "cell_type": "code",
   "execution_count": null,
   "metadata": {},
   "outputs": [],
   "source": [
    "a"
   ]
  },
  {
   "cell_type": "code",
   "execution_count": null,
   "metadata": {
    "deletable": false,
    "nbgrader": {
     "grade": true,
     "grade_id": "cell-09351b677f67275c",
     "locked": false,
     "points": 0,
     "schema_version": 3,
     "solution": true,
     "task": false
    }
   },
   "outputs": [],
   "source": [
    "# Fill the gap!"
   ]
  },
  {
   "cell_type": "markdown",
   "metadata": {},
   "source": [
    "When selecting array elements with the boolean mask the result usually is a linear array, even if the original array from which the boolean mask was derived actually is nested. Basically, the reason is that a the elements selected from the original array need not be representable in an array with the same number of dimensions (they actual will be different if not all elements are selected)."
   ]
  },
  {
   "cell_type": "markdown",
   "metadata": {},
   "source": [
    "This is the number of elements that will be selected with the boolean mask:[^why-an-array-of-bools-can-be-summed]\n",
    "\n",
    "[^why-an-array-of-bools-can-be-summed]: An array of bools can be summed because the `True` and `False` values can be represented as integers. `True` will be 1 and `False` will be 0. Hence, summing all values in an array with `dtype == bool` the result will be equal to the count of `True` entries."
   ]
  },
  {
   "cell_type": "code",
   "execution_count": null,
   "metadata": {
    "deletable": false,
    "nbgrader": {
     "grade": true,
     "grade_id": "cell-5c0c8ad823d8e077",
     "locked": false,
     "points": 0,
     "schema_version": 3,
     "solution": true,
     "task": false
    }
   },
   "outputs": [],
   "source": [
    "# Fill the gap!"
   ]
  },
  {
   "cell_type": "code",
   "execution_count": null,
   "metadata": {
    "deletable": false,
    "nbgrader": {
     "grade": true,
     "grade_id": "cell-6f9d20a4e954cb77",
     "locked": false,
     "points": 0,
     "schema_version": 3,
     "solution": true,
     "task": false
    }
   },
   "outputs": [],
   "source": [
    "# Fill the gap!"
   ]
  },
  {
   "cell_type": "markdown",
   "metadata": {},
   "source": [
    ":::{warning} Accessing elements from a multi-dimensional array with a boolean mask (of the same shape) will return a *linear* array.\n",
    ":::\n",
    "\n",
    "\n",
    "Here we show that we can (at least) come up with two *different* shapes for the resulting array. That is, the shape is *ambiguous* and therefore returning a particular shape does not make any sense."
   ]
  },
  {
   "cell_type": "code",
   "execution_count": null,
   "metadata": {
    "deletable": false,
    "nbgrader": {
     "grade": true,
     "grade_id": "cell-17aa8f2d82ca6ab3",
     "locked": false,
     "points": 0,
     "schema_version": 3,
     "solution": true,
     "task": false
    }
   },
   "outputs": [],
   "source": [
    "# Fill the gap!"
   ]
  },
  {
   "cell_type": "code",
   "execution_count": null,
   "metadata": {
    "deletable": false,
    "nbgrader": {
     "grade": true,
     "grade_id": "cell-e50bb04a37ca555b",
     "locked": false,
     "points": 0,
     "schema_version": 3,
     "solution": true,
     "task": false
    }
   },
   "outputs": [],
   "source": [
    "# Fill the gap!"
   ]
  },
  {
   "cell_type": "markdown",
   "metadata": {},
   "source": [
    "### Exercises"
   ]
  },
  {
   "cell_type": "markdown",
   "metadata": {},
   "source": [
    "#### Array creation\n",
    "\n",
    "Create a `ndarray` containing the following elements and shape. The `dtype` should be integer type.\n",
    "\n",
    "$$\n",
    "\\begin{bmatrix}\n",
    "10 & 20 & 30 & 40\\\\\n",
    "50 & 60 & 70 & 80 \\\\\n",
    "\\end{bmatrix}\n",
    "$$"
   ]
  },
  {
   "cell_type": "code",
   "execution_count": null,
   "metadata": {
    "deletable": false,
    "nbgrader": {
     "grade": true,
     "grade_id": "cell-7f37562daa59016f",
     "locked": false,
     "points": 0,
     "schema_version": 3,
     "solution": true,
     "task": false
    }
   },
   "outputs": [],
   "source": [
    "# Fill the gap!"
   ]
  },
  {
   "cell_type": "code",
   "execution_count": null,
   "metadata": {
    "deletable": false,
    "nbgrader": {
     "grade": true,
     "grade_id": "cell-df39952fe7741dd0",
     "locked": false,
     "points": 0,
     "schema_version": 3,
     "solution": true,
     "task": false
    }
   },
   "outputs": [],
   "source": [
    "# Fill the gap!"
   ]
  },
  {
   "cell_type": "markdown",
   "metadata": {},
   "source": [
    "#### Unit matrix\n",
    "\n",
    "Create an `ndarray` with `dtype == np.int32` and shape `(5, 5)` that has 1s on the diagonal and 0s everywhere else (the unit matrix)."
   ]
  },
  {
   "cell_type": "code",
   "execution_count": null,
   "metadata": {
    "deletable": false,
    "nbgrader": {
     "grade": true,
     "grade_id": "cell-6acad8576de90e6b",
     "locked": false,
     "points": 0,
     "schema_version": 3,
     "solution": true,
     "task": false
    }
   },
   "outputs": [],
   "source": [
    "# Fill the gap!"
   ]
  },
  {
   "cell_type": "markdown",
   "metadata": {},
   "source": [
    "#### Element access\n",
    "\n",
    "You are given the 3-dimensional array below (also known as the [Levi-Civita tensor](https://en.wikipedia.org/wiki/Levi-Civita_symbol))."
   ]
  },
  {
   "cell_type": "code",
   "execution_count": null,
   "metadata": {},
   "outputs": [],
   "source": [
    "e = np.array(\n",
    "    [\n",
    "        [\n",
    "            [0, 0, 0],\n",
    "            [0, 0, 1],\n",
    "            [0, -1, 0],\n",
    "        ],\n",
    "        [\n",
    "            [0, 0, -1],\n",
    "            [0, 0, 0],\n",
    "            [1, 0, 0],\n",
    "        ],\n",
    "        [\n",
    "            [0, 1, 0],\n",
    "            [-1, 0, 0],\n",
    "            [0, 0, 0],\n",
    "        ],\n",
    "    ],\n",
    "    dtype=np.int32,\n",
    ")\n",
    "e"
   ]
  },
  {
   "cell_type": "markdown",
   "metadata": {},
   "source": [
    "Print the shape."
   ]
  },
  {
   "cell_type": "code",
   "execution_count": null,
   "metadata": {
    "deletable": false,
    "nbgrader": {
     "grade": true,
     "grade_id": "cell-dfedc2d7248214e5",
     "locked": false,
     "points": 0,
     "schema_version": 3,
     "solution": true,
     "task": false
    }
   },
   "outputs": [],
   "source": [
    "# Fill the gap!"
   ]
  },
  {
   "cell_type": "markdown",
   "metadata": {},
   "source": [
    "Access each sub-array of shape `(3, 3)` along the first dimension (`axis == 0`)."
   ]
  },
  {
   "cell_type": "code",
   "execution_count": null,
   "metadata": {
    "deletable": false,
    "nbgrader": {
     "grade": true,
     "grade_id": "cell-f1bdc87952aaccac",
     "locked": false,
     "points": 0,
     "schema_version": 3,
     "solution": true,
     "task": false
    }
   },
   "outputs": [],
   "source": [
    "# Fill the gap!"
   ]
  },
  {
   "cell_type": "markdown",
   "metadata": {},
   "source": [
    "Access all its *non-zero* elements with integer indexing."
   ]
  },
  {
   "cell_type": "code",
   "execution_count": null,
   "metadata": {
    "deletable": false,
    "nbgrader": {
     "grade": true,
     "grade_id": "cell-381f600d515f88bf",
     "locked": false,
     "points": 0,
     "schema_version": 3,
     "solution": true,
     "task": false
    }
   },
   "outputs": [],
   "source": [
    "# Fill the gap!"
   ]
  },
  {
   "cell_type": "markdown",
   "metadata": {},
   "source": [
    "#### Advanced indexing\n",
    "\n",
    "You are given the following array:"
   ]
  },
  {
   "cell_type": "code",
   "execution_count": null,
   "metadata": {},
   "outputs": [],
   "source": [
    "a = np.array([[idx1 * idx2 for idx2 in range(1, 10)] for idx1 in range(1, 10)])\n",
    "a"
   ]
  },
  {
   "cell_type": "markdown",
   "metadata": {},
   "source": [
    "Return a sub-array containing every second element from each row and every third element from each column."
   ]
  },
  {
   "cell_type": "code",
   "execution_count": null,
   "metadata": {
    "deletable": false,
    "nbgrader": {
     "grade": true,
     "grade_id": "cell-72cdd4ad7a0f10cd",
     "locked": false,
     "points": 0,
     "schema_version": 3,
     "solution": true,
     "task": false
    }
   },
   "outputs": [],
   "source": [
    "# Fill the gap!"
   ]
  },
  {
   "cell_type": "markdown",
   "metadata": {},
   "source": [
    "Come with a solutions that uses advanced indexing with `list[int]`.\n",
    "\n",
    "*Hint*: Use `itertools.product` to generate all required index combinations."
   ]
  },
  {
   "cell_type": "code",
   "execution_count": null,
   "metadata": {
    "deletable": false,
    "nbgrader": {
     "grade": true,
     "grade_id": "cell-343460f97f17661e",
     "locked": false,
     "points": 0,
     "schema_version": 3,
     "solution": true,
     "task": false
    }
   },
   "outputs": [],
   "source": [
    "# Fill the gap!"
   ]
  },
  {
   "cell_type": "code",
   "execution_count": null,
   "metadata": {
    "deletable": false,
    "nbgrader": {
     "grade": true,
     "grade_id": "cell-e901cc454e7d4f9a",
     "locked": false,
     "points": 0,
     "schema_version": 3,
     "solution": true,
     "task": false
    }
   },
   "outputs": [],
   "source": [
    "# Fill the gap!"
   ]
  },
  {
   "cell_type": "markdown",
   "metadata": {},
   "source": [
    "#### Boolean masks\n",
    "\n",
    "You are given the following two-dimensional array:"
   ]
  },
  {
   "cell_type": "code",
   "execution_count": null,
   "metadata": {},
   "outputs": [],
   "source": [
    "a = (\n",
    "    np.diag([11, 22, 33, 44, 55])\n",
    "    + np.triu(np.full((5, 5), -1), k=1)\n",
    "    + np.tril(np.full((5, 5), 1), k=-1)\n",
    ")\n",
    "a"
   ]
  },
  {
   "cell_type": "markdown",
   "metadata": {},
   "source": [
    "Select all diagonal elements with a suitable `bool`ean mask."
   ]
  },
  {
   "cell_type": "code",
   "execution_count": null,
   "metadata": {
    "deletable": false,
    "nbgrader": {
     "grade": true,
     "grade_id": "cell-e4aa28e7a6cc2478",
     "locked": false,
     "points": 0,
     "schema_version": 3,
     "solution": true,
     "task": false
    }
   },
   "outputs": [],
   "source": [
    "# Fill the gap!"
   ]
  },
  {
   "cell_type": "markdown",
   "metadata": {},
   "source": [
    "Select all elements *above* the diagonal with a suitable `bool`ean mask."
   ]
  },
  {
   "cell_type": "code",
   "execution_count": null,
   "metadata": {
    "deletable": false,
    "nbgrader": {
     "grade": true,
     "grade_id": "cell-ff8ded50febf4dc6",
     "locked": false,
     "points": 0,
     "schema_version": 3,
     "solution": true,
     "task": false
    }
   },
   "outputs": [],
   "source": [
    "# Fill the gap!"
   ]
  },
  {
   "cell_type": "markdown",
   "metadata": {},
   "source": [
    "Select all elements *below* the diagonal with a suitable `bool`ean mask."
   ]
  },
  {
   "cell_type": "code",
   "execution_count": null,
   "metadata": {
    "deletable": false,
    "nbgrader": {
     "grade": true,
     "grade_id": "cell-34db92cdd20bc1c2",
     "locked": false,
     "points": 0,
     "schema_version": 3,
     "solution": true,
     "task": false
    }
   },
   "outputs": [],
   "source": [
    "# Fill the gap!"
   ]
  },
  {
   "cell_type": "markdown",
   "metadata": {},
   "source": [
    "#### Reshaping\n",
    "\n",
    "Create a two-dimensional 10x10 array containing the values 0, 1, 2, ..., 99 with `dtype == np.float32`."
   ]
  },
  {
   "cell_type": "code",
   "execution_count": null,
   "metadata": {
    "deletable": false,
    "nbgrader": {
     "grade": true,
     "grade_id": "cell-5551ed03ece65909",
     "locked": false,
     "points": 0,
     "schema_version": 3,
     "solution": true,
     "task": false
    }
   },
   "outputs": [],
   "source": [
    "# Fill the gap!"
   ]
  },
  {
   "cell_type": "markdown",
   "metadata": {},
   "source": [
    "Create three arrays with the following shape:\n",
    "\n",
    "* `(2, 4)`\n",
    "* `(1, 8)`\n",
    "* `(8, 1)`\n",
    "\n",
    "where each array contains the numbers 10, 20, ..., 80."
   ]
  },
  {
   "cell_type": "code",
   "execution_count": null,
   "metadata": {
    "deletable": false,
    "nbgrader": {
     "grade": true,
     "grade_id": "cell-796d50704b5ff42e",
     "locked": false,
     "points": 0,
     "schema_version": 3,
     "solution": true,
     "task": false
    }
   },
   "outputs": [],
   "source": [
    "# Fill the gap!"
   ]
  },
  {
   "cell_type": "code",
   "execution_count": null,
   "metadata": {
    "deletable": false,
    "nbgrader": {
     "grade": true,
     "grade_id": "cell-2da89a927563d1c2",
     "locked": false,
     "points": 0,
     "schema_version": 3,
     "solution": true,
     "task": false
    }
   },
   "outputs": [],
   "source": [
    "# Fill the gap!"
   ]
  },
  {
   "cell_type": "code",
   "execution_count": null,
   "metadata": {
    "deletable": false,
    "nbgrader": {
     "grade": true,
     "grade_id": "cell-6bcc11f9ac483786",
     "locked": false,
     "points": 0,
     "schema_version": 3,
     "solution": true,
     "task": false
    }
   },
   "outputs": [],
   "source": [
    "# Fill the gap!"
   ]
  },
  {
   "cell_type": "code",
   "execution_count": null,
   "metadata": {
    "deletable": false,
    "nbgrader": {
     "grade": true,
     "grade_id": "cell-3132dbdd1e17c384",
     "locked": false,
     "points": 0,
     "schema_version": 3,
     "solution": true,
     "task": false
    }
   },
   "outputs": [],
   "source": [
    "# Fill the gap!"
   ]
  },
  {
   "cell_type": "markdown",
   "metadata": {},
   "source": [
    "(plotting-data-from-iris-dataset)=\n",
    "## Iris dataset\n",
    "\n",
    "A plot often does not contain just a single kind of data (or a single line or a single type of points) but rather multiple (related) quantities are shown. Obviously, we need a way to distinguish them to be able to note important differences and commonalities. \n",
    "\n",
    "Consider the previous example of the scatter plot. Assume we have data with differenet categories; for all categories certain quantities have been measured and we would like to compare the measurements between the categories. A commonly used example for such a dataset is the [Iris dataset](https://archive.ics.uci.edu/dataset/53/iris): The dataset contains several measurements for the petal width / length, and the sepal width / length[^Iris-measurement-quantities-german-translation] of the Iris plant.\n",
    "\n",
    "[^Iris-measurement-quantities-german-translation]: In German: petal: Blütenblatt, sepal: Kelchblatt."
   ]
  },
  {
   "cell_type": "markdown",
   "metadata": {},
   "source": [
    "We start by downloading the Iris dataset:\n",
    "\n",
    "* Download link: https://archive.ics.uci.edu/static/public/53/iris.zip\n",
    "* DOI [10.24432/C56C76](https://doi.org/10.24432/C56C76)\n",
    "* Dataset creator: R. A. Fisher\n",
    "* License: [CC-BY-4.0](https://creativecommons.org/licenses/by/4.0/legalcode)"
   ]
  },
  {
   "cell_type": "code",
   "execution_count": null,
   "metadata": {},
   "outputs": [],
   "source": [
    "from pathlib import Path\n",
    "\n",
    "\n",
    "def get_iris(url: str, output_path: Path):\n",
    "    def download_and_extract(\n",
    "        url: str,\n",
    "        output_path: Path = Path(\"_iris\"),\n",
    "    ) -> None:\n",
    "        import io\n",
    "        import requests\n",
    "        from zipfile import ZipFile\n",
    "\n",
    "        output_path.mkdir(exist_ok=True, parents=True)\n",
    "\n",
    "        (ZipFile(io.BytesIO(requests.get(url).content)).extractall(path=output_path))\n",
    "\n",
    "    download_and_extract(url, output_path)\n",
    "\n",
    "    with open(output_path / \"iris.data\", \"r\", encoding=\"utf-8\") as f:\n",
    "        content = [line.split(\",\") for line in f if line != \"\\n\"]\n",
    "\n",
    "        quantities = [\n",
    "            \"sepal length\",\n",
    "            \"sepal width\",\n",
    "            \"petal length\",\n",
    "            \"petal width\",\n",
    "        ]\n",
    "\n",
    "        measurements, labels = (\n",
    "            np.array([[float(x) for x in line[:-1]] for line in content if line]),\n",
    "            np.array([line[-1].rstrip() for line in content]),\n",
    "        )\n",
    "\n",
    "    return quantities, measurements, labels"
   ]
  },
  {
   "cell_type": "markdown",
   "metadata": {},
   "source": [
    "The data is returned as follows:\n",
    "\n",
    "* `quantities` - `list`of names of the measured quantities: sepal length, sepal width, petal length, petal width (all given in cm units).\n",
    "* `measurements` -  nested `np.ndarray` containing the measured values. columns 0: sepal lengths, column 1: sepal width, column 2: petal length, and column 3: petal width.\n",
    "* `labels`: Kind of Iris plant: Measurements have been conducted for the species Iris setosa, Iris versicolor, and Iris virginica. For each row in `measurements` there is a label which are store in a one-dimensional `np.ndarray`."
   ]
  },
  {
   "cell_type": "code",
   "execution_count": null,
   "metadata": {},
   "outputs": [],
   "source": [
    "quantities, measurements, labels = get_iris(\n",
    "    \"https://archive.ics.uci.edu/static/public/53/iris.zip\",\n",
    "    Path(\"_iris\"),\n",
    ")"
   ]
  },
  {
   "cell_type": "markdown",
   "metadata": {},
   "source": [
    "As the dataset contains measurements for continuous quantities (widths and lengths) we first ask for the distribution of the sepal length / width, and petal length / width depending on the species. We plot the distribution of these quantities as histograms. \n",
    "\n",
    "For each measured quantity we include three histogram plot in one graph, one for each species. In this case it is important to add a legend to be able to correctly assign each histogram to one of the species. We choose a columnar layout and we make all graphs share the same scale on the x-axis. This allows to compare the range of values covered by the measured quantities. For example, we can easilty see that the petal width is smaller than the petal length for each species. At the same time we observe that the distribution of values for both quantities tends to be quite narrow for the Iris setosa species while it is broader for Iris-versicolor and Iris-virginica."
   ]
  },
  {
   "cell_type": "code",
   "execution_count": null,
   "metadata": {
    "deletable": false,
    "nbgrader": {
     "grade": true,
     "grade_id": "cell-ac609602a7364dc5",
     "locked": false,
     "points": 0,
     "schema_version": 3,
     "solution": true,
     "task": false
    }
   },
   "outputs": [],
   "source": [
    "# Fill the gap!"
   ]
  },
  {
   "cell_type": "markdown",
   "metadata": {},
   "source": [
    "Next we ask for the correlation of between different quantities. These can be investigated with scatter plots. We conclude[^correlation-in-depth-requires-species], for instance, that the petal length is *positively* correlated with the petal width, as the latter is increasing when the former is. We might (be tempted to) conclude a slightly *negative* correlation --- although not as clearly visible as for petal length and width --- between the sepal length and the sepal width.\n",
    "\n",
    "[^correlation-in-depth-requires-species]: We tacitly ignore that this need not be the case for all species. A more in-depth analysis would investigate the correlation for the different species. Refer to the [exercise](exercise-iris-scatter-plots) below to see that we actually are mistaken regarding the negative correlation for sepal length and sepal width."
   ]
  },
  {
   "cell_type": "code",
   "execution_count": null,
   "metadata": {
    "deletable": false,
    "nbgrader": {
     "grade": true,
     "grade_id": "cell-705b68e73efe68fa",
     "locked": false,
     "points": 0,
     "schema_version": 3,
     "solution": true,
     "task": false
    }
   },
   "outputs": [],
   "source": [
    "# Fill the gap!"
   ]
  },
  {
   "cell_type": "markdown",
   "metadata": {},
   "source": [
    "(exercise-iris-scatter-plots)=\n",
    "### Exercise\n",
    "\n",
    "For the Iris dataset create a scatter plot of petal length vs. petal width *and* sepal length and sepal width. Disguish between the differenet species of the Iris plant, Iris-setosa, Iris-versicolor, and Iris-virginica in a suitable manner."
   ]
  },
  {
   "cell_type": "code",
   "execution_count": null,
   "metadata": {
    "deletable": false,
    "nbgrader": {
     "grade": true,
     "grade_id": "cell-98a3574a1820904d",
     "locked": false,
     "points": 0,
     "schema_version": 3,
     "solution": true,
     "task": false
    }
   },
   "outputs": [],
   "source": [
    "# Fill the gap!"
   ]
  },
  {
   "cell_type": "markdown",
   "metadata": {},
   "source": [
    "## Revisited: Logarithmic plots\n",
    "\n",
    "### Log-Log plots and Log-Linear plots\n",
    "\n",
    "Plots involving logarithmic scales come in several flavours: Semi-log and Log-Log plots. We have seen an [earlier example](series-plotting-different-orders-of-magnitude) for a Semi-Log (Log-Linear) plot that better displays count values having different orders of magnitude.\n",
    "\n",
    "Indeed, these types of plots can be helpful for investigating functional relationships inherent to data. In particular, both plotting variants can be used to transform the data such that the plot shows a linear relationship. \n",
    "\n",
    "(plotting-log-log)=\n",
    "#### Log-Log plots\n",
    "\n",
    "If we have a functional relationship of the form $f(x) = y = a x^m$ we can take the logarithm to base $B$ (any base) on both sides to obtain:\n",
    "\n",
    "$$\n",
    "\\log_B y = \\log_B\\left(a x^m\\right) = \\log_B a + \\log_B \\left(x^m\\right) = \\log_B a + m \\log_B x \n",
    "$$\n",
    "\n",
    "Setting $Y = \\log_B y$, $X = \\log_B x$ and $b = \\log_B a$ we arrive at a linear equation \n",
    "\n",
    "$$\n",
    "Y = m X + b\n",
    "$$\n",
    "\n",
    "with slope $m$ and (log $y$)-axis intercept $b$.\n"
   ]
  },
  {
   "cell_type": "code",
   "execution_count": null,
   "metadata": {},
   "outputs": [],
   "source": [
    "x_values = np.linspace(0.1, 10)\n",
    "\n",
    "\n",
    "def fpower1(x, a, b):\n",
    "    return a * x_values**b"
   ]
  },
  {
   "cell_type": "markdown",
   "metadata": {},
   "source": [
    "We would like to draw you attention to the plot in the middle and the bottom. For the plot in the middle the scales shown on the x-axis and the y-axis are the *same* as in the top plot (no logarithm has been computed here!). The logarithm of the x- and the y-data is computed internally. At the bottom the logarithm of the x- and the y-data has been computed *before* creating the plot. The values shown on the x- and the y-axis there are the *exponents* ($b = \\log_{10} 10^{b}$, e.g. $2 = \\log_{10} 100 = \\log_{10} 10^2$) of the original values as can be inferred by comparing the tick labels of the y-axes of the middle and bottom plot."
   ]
  },
  {
   "cell_type": "code",
   "execution_count": null,
   "metadata": {},
   "outputs": [],
   "source": [
    "fig, (ax1, ax2, ax3) = plt.subplots(1, 3, figsize=(15, 5))\n",
    "\n",
    "a, b = 2, 3\n",
    "\n",
    "ax1.set_title(r\"linear-linear plot\")\n",
    "ax1.set_xlabel(r\"$x$\")\n",
    "ax1.set_ylabel(r\"$y$\")\n",
    "ax1.plot(x_values, fpower1(x_values, a, b))\n",
    "\n",
    "ax2.set_title(r\"$\\log_{10}$-$\\log_{10}$ plot of \" + r\"$y = a x^b$\")\n",
    "ax2.grid(which=\"both\", axis=\"both\")\n",
    "ax2.set_xlabel(r\"$x$\")\n",
    "ax2.set_ylabel(r\"$y$\")\n",
    "ax2.set_xscale(\"log\")\n",
    "ax2.set_yscale(\"log\")\n",
    "ax2.plot(x_values, fpower1(x_values, a, b))\n",
    "\n",
    "ax3.set_title(r\"plot of \" + r\"$\\log_{10}y = \\log_{10}(a x^b)$\")\n",
    "ax3.set_xlabel(r\"$\\log_{10}x$\")\n",
    "ax3.set_ylabel(r\"$\\log_{10}y$\")\n",
    "ax3.set_xscale(\"linear\")\n",
    "ax3.set_yscale(\"linear\")\n",
    "ax3.plot(np.log10(x_values), np.log10(fpower1(x_values, a, b)))"
   ]
  },
  {
   "cell_type": "markdown",
   "metadata": {},
   "source": [
    "Matplotlib offers a the convenience function [`loglog()`](https://matplotlib.org/stable/api/_as_gen/matplotlib.pyplot.loglog.html) that can be used to generate a Log-Log plot just as in that in the middle subplot of the figure above. "
   ]
  },
  {
   "cell_type": "code",
   "execution_count": null,
   "metadata": {},
   "outputs": [],
   "source": [
    "fig, ax = plt.subplots(1, 1)\n",
    "\n",
    "ax.set_title(r\"$\\log_{10}$-$\\log_{10}$ plot of \" + r\"$y = a x^b$\")\n",
    "ax.grid(which=\"both\", axis=\"both\")\n",
    "ax.set_xlabel(r\"$x$\")\n",
    "ax.set_ylabel(r\"$y$\")\n",
    "ax.loglog(x_values, fpower1(x_values, a, b))"
   ]
  },
  {
   "cell_type": "markdown",
   "metadata": {},
   "source": [
    "(plotting-log-linear)=\n",
    "#### Log-Linear plot\n",
    "\n",
    "If we have a functional relationship of the form $f(x) = y = \\lambda a^{\\gamma x}$ we can take the logarithm to base $B$ (any base) on both sides to obtain:\n",
    "\n",
    "$$\n",
    "\\log_B y = \\log_B\\left(\\lambda a^{\\gamma x}\\right) = \\log_B \\lambda + x \\gamma \\log_B a\n",
    "$$\n",
    "\n",
    "Setting $Y = \\log_B y$, $m = \\gamma \\log_Ba$ and $b = \\log_B\\lambda$ we obtain a linear equation \n",
    "\n",
    "$$\n",
    "Y = m x + b\n",
    "$$\n",
    "\n",
    "with slope $m$ and (log $y$)-axis intercept $b$."
   ]
  },
  {
   "cell_type": "code",
   "execution_count": null,
   "metadata": {},
   "outputs": [],
   "source": [
    "x_values = np.linspace(0.1, 10)\n",
    "\n",
    "\n",
    "def fpower2(x, a, l, g):\n",
    "    return l * a ** (g * x_values)"
   ]
  },
  {
   "cell_type": "code",
   "execution_count": null,
   "metadata": {},
   "outputs": [],
   "source": [
    "fig, (ax1, ax2, ax3) = plt.subplots(1, 3, figsize=(15, 5))\n",
    "\n",
    "a, l, g = 10, 2, 0.5\n",
    "\n",
    "ax1.set_title(r\"linear-linear plot\")\n",
    "ax1.set_xlabel(r\"$x$\")\n",
    "ax1.set_ylabel(r\"$y$\")\n",
    "ax1.plot(x_values, fpower2(x_values, a, l, g))\n",
    "\n",
    "ax2.set_title(r\"$\\log_{10}$-linear plot of \" + r\"$y = \\lambda a^{\\gamma x}$\")\n",
    "ax2.grid(which=\"both\", axis=\"y\")\n",
    "ax2.set_xlabel(r\"$x$\")\n",
    "ax2.set_ylabel(r\"$y$\")\n",
    "ax2.set_xscale(\"linear\")\n",
    "ax2.set_yscale(\"log\")\n",
    "ax2.plot(x_values, fpower2(x_values, a, l, g))\n",
    "\n",
    "ax3.set_title(\n",
    "    \"plot of \" + r\"$\\log_{10} y = \\log_{10}\\left(\\lambda a^{\\gamma x}\\right)$\"\n",
    ")\n",
    "ax3.set_xlabel(r\"$x$\")\n",
    "ax3.set_ylabel(r\"$\\log_{10} y$\")\n",
    "ax3.set_xscale(\"linear\")\n",
    "ax3.set_yscale(\"linear\")\n",
    "ax3.plot(x_values, np.log10(fpower2(x_values, a, l, g)))"
   ]
  },
  {
   "cell_type": "markdown",
   "metadata": {},
   "source": [
    "Similarly, as for the Log-Log plots, Matplotlib again offers a the convenience function [`semilogy()`](https://matplotlib.org/stable/api/_as_gen/matplotlib.pyplot.semiglogy.html) that can be used to generate a Log-Linear plot just as in that in the middle subplot of the figure above. "
   ]
  },
  {
   "cell_type": "code",
   "execution_count": null,
   "metadata": {},
   "outputs": [],
   "source": [
    "fig, ax = plt.subplots(1, 1)\n",
    "\n",
    "ax.set_title(r\"$\\log_{10}$-linear plot of \" + r\"$y = \\lambda a^{\\gamma x}$\")\n",
    "ax.grid(which=\"both\", axis=\"y\")\n",
    "ax.set_xlabel(r\"$x$\")\n",
    "ax.set_ylabel(r\"$y$\")\n",
    "ax.semilogy(x_values, fpower2(x_values, a, l, g))"
   ]
  },
  {
   "cell_type": "markdown",
   "metadata": {},
   "source": [
    "### Exercises"
   ]
  },
  {
   "cell_type": "markdown",
   "metadata": {},
   "source": [
    "#### Log-Linear plot and linear fit\n",
    "\n",
    "In this exercise we revisit the [Log-Linear](plotting-log-linear) plot.\n",
    "\n",
    "Rates $k$ of chemical reactions describe e.g. that rate at which chemical substances --- the reactants --- react to form a product (another chemical substance). They are given in units of $\\mathrm{s}^{-1}$. $k$'s dependence on temperature (given in Kelvin $\\mathrm{K}$) is given by an equation of the form\n",
    "\n",
    "$$\n",
    "k = k_0 \\cdot \\exp\\left(\\frac{-E_A}{R T}\\right),\n",
    "$$\n",
    "\n",
    "where $R$ is a natural constant and $E_A$, and $k_0$ are free parameters that are characteristic for the chemical reaction under investigation.\n",
    "\n",
    "This equation is suitable for a Log-Linear plot because it resembles the generic form $f(x) = a \\cdot b^{\\gamma x}$. In this case $b = \\mathrm{e}$, Euler's number. The suitable log-function to choose here is the $\\ln \\equiv \\log_\\mathrm{e}$ (natural logarithm). Applying $\\ln$ to both sides of the latter equation we get\n",
    "\n",
    "$$\n",
    "\\ln k = \n",
    "\\ln \\left[k_0 \\cdot \\exp\\left(-\\frac{E_A}{ R \\cdot T}\\right)\\right] = \n",
    "\\ln k_0 + \\ln\\left[\\exp\\left(-\\frac{E_A}{R \\cdot T}\\right)\\right] \n",
    "$$\n",
    "\n",
    "Let's rewrite the last expression a bit to make the next point more clear:\n",
    "\n",
    "$$\n",
    "\\ln k_0 - \\frac{E_A}{R \\cdot T} = \\ln k_0 - \\frac{E_A}{R} \\left( \\frac{1}{T}\\right)\n",
    "$$\n",
    "\n",
    "This right-hand side has the form of the right-hand size of a generic linear equation $y = a\\cdot x + b$; in our case $a = -\\frac{E_A}{R}$, $b = \\ln k_0$, and $x = T^{-1}$. Hence, plotting the $\\ln k$ vs $T^{-1}$ should yield a line with slope $-\\frac{E_A}{R}$ and y-intercept $\\ln k_0$.\n",
    "\n",
    "In the following you will be given data points from a ficticious measurement of $k$ for different temperatures $\\vartheta$ (in ${}^{\\circ}$C units)."
   ]
  },
  {
   "cell_type": "code",
   "execution_count": null,
   "metadata": {},
   "outputs": [],
   "source": [
    "reaction_rates = pd.Series(\n",
    "    data=(2.52, 5.25, 63, 316),\n",
    "    index=(190, 199, 230, 251),\n",
    ")"
   ]
  },
  {
   "cell_type": "markdown",
   "metadata": {},
   "source": [
    "Visualise the data in a suitable manner."
   ]
  },
  {
   "cell_type": "code",
   "execution_count": null,
   "metadata": {
    "deletable": false,
    "nbgrader": {
     "grade": true,
     "grade_id": "cell-a351e75eae9e4da6",
     "locked": false,
     "points": 0,
     "schema_version": 3,
     "solution": true,
     "task": false
    }
   },
   "outputs": [],
   "source": [
    "# Fill the gap!"
   ]
  },
  {
   "cell_type": "markdown",
   "metadata": {},
   "source": [
    "Compute $\\ln k$ and $1000 \\times \\frac{1}{T}$ and visualise the results. The additional factor 1000 is chosen to have \"nicer looking\" values on the x-axis.\n",
    "\n",
    ":::{warning} Please note the difference here: You are given $\\vartheta$ in ${}^{\\circ}$C but we want $T$ in K. The relationship is $T / \\mathrm{K} = (\\vartheta / {}^{\\circ}\\mathrm{C} + 273)$. Read this as \"temperature (in Kelvin units) equals temperature in degree Celsius --- with the unit removed --- plus 273\".\n",
    ":::"
   ]
  },
  {
   "cell_type": "code",
   "execution_count": null,
   "metadata": {
    "deletable": false,
    "nbgrader": {
     "grade": true,
     "grade_id": "cell-489aa2841a568d64",
     "locked": false,
     "points": 0,
     "schema_version": 3,
     "solution": true,
     "task": false
    }
   },
   "outputs": [],
   "source": [
    "# Fill the gap!"
   ]
  },
  {
   "cell_type": "markdown",
   "metadata": {},
   "source": [
    "Determine the slope and the intercept from a linear fit to the data $\\ln k$ (\"y-values\") and $1000 \\times \\frac{1}{T}$ (\"x-values\"). Use the [`Polynomial.fit()`](https://numpy.org/doc/stable/reference/generated/numpy.polynomial.polynomial.Polynomial.fit.html#numpy.polynomial.polynomial.Polynomial.fit) provided by NumPy."
   ]
  },
  {
   "cell_type": "code",
   "execution_count": null,
   "metadata": {
    "deletable": false,
    "nbgrader": {
     "grade": true,
     "grade_id": "cell-6d78dc59f0a68642",
     "locked": false,
     "points": 0,
     "schema_version": 3,
     "solution": true,
     "task": false
    }
   },
   "outputs": [],
   "source": [
    "# Fill the gap!"
   ]
  },
  {
   "cell_type": "markdown",
   "metadata": {},
   "source": [
    "Visualise the line computed with the slope and intercept from the fit together with the measured data in a suitable manner."
   ]
  },
  {
   "cell_type": "code",
   "execution_count": null,
   "metadata": {
    "deletable": false,
    "nbgrader": {
     "grade": true,
     "grade_id": "cell-01dec0e8f43e2b1f",
     "locked": false,
     "points": 0,
     "schema_version": 3,
     "solution": true,
     "task": false
    }
   },
   "outputs": [],
   "source": [
    "# Fill the gap!"
   ]
  }
 ],
 "metadata": {
  "file_extension": ".py",
  "kernelspec": {
   "display_name": "Python 3 (ipykernel)",
   "language": "python",
   "name": "python3"
  },
  "language_info": {
   "codemirror_mode": {
    "name": "ipython",
    "version": 3
   },
   "file_extension": ".py",
   "mimetype": "text/x-python",
   "name": "python",
   "nbconvert_exporter": "python",
   "pygments_lexer": "ipython3",
   "version": "3.12.3"
  },
  "mimetype": "text/x-python",
  "name": "python",
  "npconvert_exporter": "python",
  "pygments_lexer": "ipython3",
  "version": 3
 },
 "nbformat": 4,
 "nbformat_minor": 4
}
