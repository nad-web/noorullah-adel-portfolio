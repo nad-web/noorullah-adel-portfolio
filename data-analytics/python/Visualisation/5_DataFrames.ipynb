{
 "cells": [
  {
   "cell_type": "markdown",
   "metadata": {},
   "source": [
    "(pandas_dataframes)=\n",
    "# Pandas `DataFrame` Objects\n",
    "\n",
    "We start with a quote from the [Pandas documentation](https://pandas.pydata.org/pandas-docs/stable/reference/api/pandas.DataFrame.html) for the `pd.DataFrame` object:\n",
    "\n",
    "> Two-dimensional, size-mutable, potentially heterogeneous tabular data. [...] Can be thought of as a dict-like container for Series objects. The primary pandas data structure.\n",
    "\n",
    "We will be honest with you... `DataFrame`s are *by far* the more interesting and useful than `Series`. \"Then why bother with `Series`?\" you may ask. Well, we feel that knowing the basics well indeed is worthwhile. `Series` are an integral part of `DataFrame`s (more on this below) and so, sooner or later, we would have dealt with them anyway. Additionally, much of what we have learned about `Series` can be applied --- or transferred with ease --- to \"`DataFrame` land\". So, let's go right at it ...\n",
    "\n",
    "To start with, take a look at the following sketch that tries its best to give an overview over the `DataFrame` object. As we can see a key difference between a `Series` and a `DataFrame` is that the latter can have multiple columns. These columns all share the same index and each of them is a fully-fledged `Series`. As a result a `DataFrame` is the go-to tool for handling datasets with multiple features. Usually, each feature will be a column. The columns may have names that describe the feature if possible (for some datasets we might not know what the features actually represent). \n",
    "\n",
    "![](../../_build_img/PandasDataFrame-1.png)\n",
    "\n",
    "Before we dive into the details of `DataFrames` we have to make a few `import`s."
   ]
  },
  {
   "cell_type": "code",
   "execution_count": null,
   "metadata": {},
   "outputs": [],
   "source": [
    "%matplotlib inline\n",
    "\n",
    "import pandas as pd\n",
    "import numpy as np\n",
    "from matplotlib import pyplot as plt\n",
    "\n",
    "f\"Pandas version: {pd.__version__ = }, Numpy version: {np.__version__ = }\""
   ]
  },
  {
   "cell_type": "markdown",
   "metadata": {},
   "source": [
    "## `DataFrame` creation\n",
    "\n",
    "As usual, we start with creating `DataFrames`. Since they are two-dimensional we can initialize them from nested data stuctures such a nested `list` or a `np.ndarray`."
   ]
  },
  {
   "cell_type": "code",
   "execution_count": null,
   "metadata": {
    "deletable": false,
    "nbgrader": {
     "grade": true,
     "grade_id": "cell-b791c0ddebadede6",
     "locked": false,
     "points": 0,
     "schema_version": 3,
     "solution": true,
     "task": false
    }
   },
   "outputs": [],
   "source": [
    "# Fill the gap!"
   ]
  },
  {
   "cell_type": "code",
   "execution_count": null,
   "metadata": {
    "deletable": false,
    "nbgrader": {
     "grade": true,
     "grade_id": "cell-02c229591ce1cc99",
     "locked": false,
     "points": 0,
     "schema_version": 3,
     "solution": true,
     "task": false
    }
   },
   "outputs": [],
   "source": [
    "# Fill the gap!"
   ]
  },
  {
   "cell_type": "markdown",
   "metadata": {},
   "source": [
    "While this for of initialization is straight forward, the result is not very useful. Obviously, we would (at least) like the columns to have some decent names. By default, i.e if no column labels are given, we are provided with integer values --- just as for the index. So, here we go and specify some names for the columns."
   ]
  },
  {
   "cell_type": "code",
   "execution_count": null,
   "metadata": {
    "deletable": false,
    "nbgrader": {
     "grade": true,
     "grade_id": "cell-e81d371d7f971234",
     "locked": false,
     "points": 0,
     "schema_version": 3,
     "solution": true,
     "task": false
    }
   },
   "outputs": [],
   "source": [
    "# Fill the gap!"
   ]
  },
  {
   "cell_type": "markdown",
   "metadata": {},
   "source": [
    "And, for the sake of completeness, we initialize the index as well."
   ]
  },
  {
   "cell_type": "code",
   "execution_count": null,
   "metadata": {
    "deletable": false,
    "nbgrader": {
     "grade": true,
     "grade_id": "cell-1c1c300a5ca7d3f9",
     "locked": false,
     "points": 0,
     "schema_version": 3,
     "solution": true,
     "task": false
    }
   },
   "outputs": [],
   "source": [
    "# Fill the gap!"
   ]
  },
  {
   "cell_type": "markdown",
   "metadata": {},
   "source": [
    "Other ways to initialize a `DataFrame` are the following:"
   ]
  },
  {
   "cell_type": "code",
   "execution_count": null,
   "metadata": {},
   "outputs": [],
   "source": [
    "name = [\"person 1\", \"person 2\", \"person 3\"]\n",
    "age = [23, 27, 34]"
   ]
  },
  {
   "cell_type": "code",
   "execution_count": null,
   "metadata": {
    "deletable": false,
    "nbgrader": {
     "grade": true,
     "grade_id": "cell-4f5b4010d6e45cdd",
     "locked": false,
     "points": 0,
     "schema_version": 3,
     "solution": true,
     "task": false
    }
   },
   "outputs": [],
   "source": [
    "# Fill the gap!"
   ]
  },
  {
   "cell_type": "code",
   "execution_count": null,
   "metadata": {
    "deletable": false,
    "nbgrader": {
     "grade": true,
     "grade_id": "cell-5a2d66235f699963",
     "locked": false,
     "points": 0,
     "schema_version": 3,
     "solution": true,
     "task": false
    }
   },
   "outputs": [],
   "source": [
    "# Fill the gap!"
   ]
  },
  {
   "cell_type": "markdown",
   "metadata": {},
   "source": [
    "From the examples for creating a `DataFrames` you have been able to guess the names of the attributes.[^common-dataframe-variable-names]\n",
    "\n",
    "[^common-dataframe-variable-names]: While this might be considered an anti pattern by some people, it is common to use variables names like `df` (short for dataframe) or `df_<something descriptive goes here>`."
   ]
  },
  {
   "cell_type": "code",
   "execution_count": null,
   "metadata": {},
   "outputs": [],
   "source": [
    "df = pd.DataFrame({\"Name\": name, \"Age\": age})"
   ]
  },
  {
   "cell_type": "code",
   "execution_count": null,
   "metadata": {
    "deletable": false,
    "nbgrader": {
     "grade": true,
     "grade_id": "cell-4c7cfbf01b205697",
     "locked": false,
     "points": 0,
     "schema_version": 3,
     "solution": true,
     "task": false
    }
   },
   "outputs": [],
   "source": [
    "# Fill the gap!"
   ]
  },
  {
   "cell_type": "code",
   "execution_count": null,
   "metadata": {
    "deletable": false,
    "nbgrader": {
     "grade": true,
     "grade_id": "cell-c6a0d4527737f875",
     "locked": false,
     "points": 0,
     "schema_version": 3,
     "solution": true,
     "task": false
    }
   },
   "outputs": [],
   "source": [
    "# Fill the gap!"
   ]
  },
  {
   "cell_type": "code",
   "execution_count": null,
   "metadata": {
    "deletable": false,
    "nbgrader": {
     "grade": true,
     "grade_id": "cell-c56a9f610ae83ba4",
     "locked": false,
     "points": 0,
     "schema_version": 3,
     "solution": true,
     "task": false
    }
   },
   "outputs": [],
   "source": [
    "# Fill the gap!"
   ]
  },
  {
   "cell_type": "markdown",
   "metadata": {},
   "source": [
    "So far nothing new. However, we now also have `.dtypes` and  `.columns` attributes where the latter that contains the names of all columns."
   ]
  },
  {
   "cell_type": "code",
   "execution_count": null,
   "metadata": {
    "deletable": false,
    "nbgrader": {
     "grade": true,
     "grade_id": "cell-d4b0cc31b599abf3",
     "locked": false,
     "points": 0,
     "schema_version": 3,
     "solution": true,
     "task": false
    }
   },
   "outputs": [],
   "source": [
    "# Fill the gap!"
   ]
  },
  {
   "cell_type": "code",
   "execution_count": null,
   "metadata": {
    "deletable": false,
    "nbgrader": {
     "grade": true,
     "grade_id": "cell-ea638bf2461209dd",
     "locked": false,
     "points": 0,
     "schema_version": 3,
     "solution": true,
     "task": false
    }
   },
   "outputs": [],
   "source": [
    "# Fill the gap!"
   ]
  },
  {
   "cell_type": "markdown",
   "metadata": {},
   "source": [
    "We can obtain a compact overview of some important information when calling the [`.info()`](https://pandas.pydata.org/pandas-docs/stable/reference/api/pandas.DataFrame.info.html) method."
   ]
  },
  {
   "cell_type": "code",
   "execution_count": null,
   "metadata": {
    "deletable": false,
    "nbgrader": {
     "grade": true,
     "grade_id": "cell-53291778a476c48c",
     "locked": false,
     "points": 0,
     "schema_version": 3,
     "solution": true,
     "task": false
    }
   },
   "outputs": [],
   "source": [
    "# Fill the gap!"
   ]
  },
  {
   "cell_type": "markdown",
   "metadata": {},
   "source": [
    "Let's quickly revisit the call to the `.to_numpy()`method."
   ]
  },
  {
   "cell_type": "code",
   "execution_count": null,
   "metadata": {
    "deletable": false,
    "nbgrader": {
     "grade": true,
     "grade_id": "cell-ff4ffc5234328025",
     "locked": false,
     "points": 0,
     "schema_version": 3,
     "solution": true,
     "task": false
    }
   },
   "outputs": [],
   "source": [
    "# Fill the gap!"
   ]
  },
  {
   "cell_type": "markdown",
   "metadata": {},
   "source": [
    "As you can see we receive a Numpy array with `dtype == object`. The reason for this is that the array must encompass the *data from all columns* of the `DataFrame`. NumPy's real power lies in performant number crunching which requires numerical data types (some integer or some floating point data types). Since columns `DataFrame`s can evidently have different `dtype`s (cf. the content of `.dtypes`) packing all of them in a `ndarray` requires finding something like a \"common deminator\" for all types. If there is a column with `str` entries the `ndarray` cannot have a numerical type and we get `object`. Operations on arrays with numerical and non-numerical datatypes are not well-defined in all cases (after all, a `+` has a different meaning for `float` than for `str`). Additionally, operations with `dtype == object` arrays are not near as performant as with numerical `dtype`s. In short, calling `.to_values()` only makes sense if all columns have a numerical `dtype`.[^encoding-of-non-numerical-data] Even then, bear in mind that some types will be converted (like `int` to `float`) in the process of creating the `ndarrays`.\n",
    "\n",
    "[^encoding-of-non-numerical-data]: In many datasets you will have numerical as well as non-numerical features. Machine learning algorithms usually require us to bring all the data into a numerical representation. Therefore, we usually *encode* non-numerical data in a suitable manner (e.g., ordinal encoding for categorical variables)."
   ]
  },
  {
   "cell_type": "code",
   "execution_count": null,
   "metadata": {},
   "outputs": [],
   "source": [
    "df = pd.DataFrame({\"integers\": [1, 2, 3], \"floats\": [10.0, 20.0, 30.0]})\n",
    "df"
   ]
  },
  {
   "cell_type": "code",
   "execution_count": null,
   "metadata": {
    "deletable": false,
    "nbgrader": {
     "grade": true,
     "grade_id": "cell-55403e0fc40b71a6",
     "locked": false,
     "points": 0,
     "schema_version": 3,
     "solution": true,
     "task": false
    }
   },
   "outputs": [],
   "source": [
    "# Fill the gap!"
   ]
  },
  {
   "cell_type": "markdown",
   "metadata": {},
   "source": [
    "All integers will be type-cast to `float64`."
   ]
  },
  {
   "cell_type": "code",
   "execution_count": null,
   "metadata": {
    "deletable": false,
    "nbgrader": {
     "grade": true,
     "grade_id": "cell-1d7db824da18d800",
     "locked": false,
     "points": 0,
     "schema_version": 3,
     "solution": true,
     "task": false
    }
   },
   "outputs": [],
   "source": [
    "# Fill the gap!"
   ]
  },
  {
   "cell_type": "markdown",
   "metadata": {},
   "source": [
    "### Quiz"
   ]
  },
  {
   "cell_type": "markdown",
   "metadata": {
    "deletable": false,
    "editable": false,
    "nbgrader": {
     "grade": false,
     "grade_id": "cell-3a4e853cc0a128a9",
     "locked": true,
     "points": 0,
     "schema_version": 3,
     "solution": false,
     "task": true
    }
   },
   "source": [
    "<span style=\"display:none\" id=\"5_DataFrames:1\">W3sidHlwZSI6ICJtYW55X2Nob2ljZSIsICJhbnN3ZXJfY29scyI6IDMsICJxdWVzdGlvbiI6ICJXaGljaCBvZiB0aGUgZm9sbG93aW5nIGF0dHJpYnV0ZXMgZG8gUGFuZGFzIGBEYXRhRnJhbWVzYCBoYXZlPyIsICJhbnN3ZXJzIjogW3siY29ycmVjdCI6IGZhbHNlLCAiYW5zd2VyIjogIiAiLCAiY29kZSI6ICIuYXJyYXkifSwgeyJjb3JyZWN0IjogZmFsc2UsICJhbnN3ZXIiOiAiICIsICJjb2RlIjogIi5yb3dzIn0sIHsiY29ycmVjdCI6IHRydWUsICJhbnN3ZXIiOiAiICIsICJjb2RlIjogIi5pbmRleCJ9LCB7ImNvcnJlY3QiOiB0cnVlLCAiYW5zd2VyIjogIiAiLCAiY29kZSI6ICIuY29sdW1ucyJ9LCB7ImNvcnJlY3QiOiB0cnVlLCAiYW5zd2VyIjogIiAiLCAiY29kZSI6ICIudmFsdWVzIn0sIHsiY29ycmVjdCI6IGZhbHNlLCAiYW5zd2VyIjogIiAiLCAiY29kZSI6ICIuZHR5cGUifSwgeyJjb3JyZWN0IjogdHJ1ZSwgImFuc3dlciI6ICIgIiwgImNvZGUiOiAiLnNpemUifSwgeyJjb3JyZWN0IjogdHJ1ZSwgImFuc3dlciI6ICIgIiwgImNvZGUiOiAiLnNoYXBlIn0sIHsiY29ycmVjdCI6IGZhbHNlLCAiYW5zd2VyIjogIiAiLCAiY29kZSI6ICIucm93cyJ9XX1d</span>"
   ]
  },
  {
   "cell_type": "code",
   "execution_count": null,
   "id": "5be3c88b",
   "metadata": {
    "tags": [
     "remove-input"
    ]
   },
   "outputs": [],
   "source": [
    "import jupyterquiz\n",
    "jupyterquiz.display_quiz(\"#5_DataFrames:1\")"
   ]
  },
  {
   "cell_type": "markdown",
   "metadata": {
    "deletable": false,
    "editable": false,
    "nbgrader": {
     "grade": false,
     "grade_id": "cell-99ee3c030b6d1696",
     "locked": true,
     "points": 0,
     "schema_version": 3,
     "solution": false,
     "task": true
    }
   },
   "source": [
    "<span style=\"display:none\" id=\"5_DataFrames:2\">W3sidHlwZSI6ICJtYW55X2Nob2ljZSIsICJhbnN3ZXJfY29scyI6IDEsICJxdWVzdGlvbiI6ICJZb3UgYXJlIGdpdmVuIHR3byBgbmRhcnJheXNgIChzYW1lIHNpemUpIHdpdGggbmFtZXMgYHYxLCBhbmQgYHYyYC4gV2hpY2ggb2YgdGhlIGZvbGxvd2luZyBleHByZXNzaW9ucyB3aWxsIGNyZWF0ZSBhIGBEYXRhRnJhbWVgPyIsICJhbnN3ZXJzIjogW3siY29ycmVjdCI6IHRydWUsICJhbnN3ZXIiOiAiICIsICJjb2RlIjogInBkLkRhdGFGcmFtZShbdjEsIHYyXSkifSwgeyJjb3JyZWN0IjogdHJ1ZSwgImFuc3dlciI6ICIgIiwgImNvZGUiOiAicGQuRGF0YUZyYW1lKHppcCh2MSwgdjIpKSJ9LCB7ImNvcnJlY3QiOiBmYWxzZSwgImFuc3dlciI6ICIgIiwgImNvZGUiOiAicGQuRGF0YUZyYW1lKHYxLCB2MikifSwgeyJjb3JyZWN0IjogZmFsc2UsICJhbnN3ZXIiOiAiICIsICJjb2RlIjogInBkLkRhdGFGcmFtZSh7djEsIHYyfSkifSwgeyJjb3JyZWN0IjogdHJ1ZSwgImFuc3dlciI6ICIgIiwgImNvZGUiOiAicGQuRGF0YUZyYW1lKHtcImNvbHVtbiAxXCI6IHYxLCBcImNvbHVtbiAyXCI6IHYyfSkifV19XQ==</span>"
   ]
  },
  {
   "cell_type": "code",
   "execution_count": null,
   "id": "75f71fad",
   "metadata": {
    "tags": [
     "remove-input"
    ]
   },
   "outputs": [],
   "source": [
    "\n",
    "jupyterquiz.display_quiz(\"#5_DataFrames:2\")"
   ]
  },
  {
   "cell_type": "markdown",
   "metadata": {
    "deletable": false,
    "editable": false,
    "nbgrader": {
     "grade": false,
     "grade_id": "cell-b23c81029c895761",
     "locked": true,
     "schema_version": 3,
     "solution": false,
     "task": false
    }
   },
   "source": [
    "You are given the following `DataFrame` (as a table).\n",
    "\n",
    "| Index | A |   B  |  C  |\n",
    "|:-----:|:-:|:----:|:---:|\n",
    "|   a   | 1 | 40.0 | \"a\" |\n",
    "|   b   | 2 | 30.0 | \"b\" |\n",
    "|   c   | 3 | 20.0 | \"c\" |\n",
    "|   d   | 4 | 10.0 | \"d\" |"
   ]
  },
  {
   "cell_type": "markdown",
   "metadata": {
    "deletable": false,
    "editable": false,
    "nbgrader": {
     "grade": false,
     "grade_id": "cell-5d9a27361762b415",
     "locked": true,
     "points": 0,
     "schema_version": 3,
     "solution": false,
     "task": true
    }
   },
   "source": [
    "<span style=\"display:none\" id=\"5_DataFrames:3\">W3sidHlwZSI6ICJtYW55X2Nob2ljZSIsICJhbnN3ZXJfY29scyI6IDEsICJxdWVzdGlvbiI6ICJXaGF0IGlzIHRoZSBgZHR5cGVgIG9idGFpbmVkIHdoZW4gY2FsbGluZyB0aGUgYC50b19udW1weSgpYCBtZXRob2Q/IiwgImFuc3dlcnMiOiBbeyJjb3JyZWN0IjogZmFsc2UsICJhbnN3ZXIiOiAiICIsICJjb2RlIjogImZsb2F0NjQifSwgeyJjb3JyZWN0IjogZmFsc2UsICJhbnN3ZXIiOiAiICIsICJjb2RlIjogImNvbXBsZXgxMjgifSwgeyJjb3JyZWN0IjogZmFsc2UsICJhbnN3ZXIiOiAiICIsICJjb2RlIjogInVpbnQzMiJ9LCB7ImNvcnJlY3QiOiB0cnVlLCAiYW5zd2VyIjogIiAiLCAiY29kZSI6ICJvYmplY3QifSwgeyJjb3JyZWN0IjogZmFsc2UsICJhbnN3ZXIiOiAiICIsICJjb2RlIjogInN0ciJ9XX1d</span>"
   ]
  },
  {
   "cell_type": "code",
   "execution_count": null,
   "id": "4467ee15",
   "metadata": {
    "tags": [
     "remove-input"
    ]
   },
   "outputs": [],
   "source": [
    "\n",
    "jupyterquiz.display_quiz(\"#5_DataFrames:3\")"
   ]
  },
  {
   "cell_type": "markdown",
   "metadata": {},
   "source": [
    "### Exercises"
   ]
  },
  {
   "cell_type": "markdown",
   "metadata": {},
   "source": [
    "#### `DataFrame` creation 1\n",
    "\n",
    "Given the `list` below generate a `DataFrame` in two different ways. The names of the columns shall be `\"random numbers\"` (for `values1`) and `\"countdown\"` (for `values2`)."
   ]
  },
  {
   "cell_type": "code",
   "execution_count": null,
   "metadata": {},
   "outputs": [],
   "source": [
    "values1 = np.random.randint(-10, 10, size=5)\n",
    "values2 = range(5, 0, -1)"
   ]
  },
  {
   "cell_type": "markdown",
   "metadata": {},
   "source": [
    "First solution."
   ]
  },
  {
   "cell_type": "code",
   "execution_count": null,
   "metadata": {
    "deletable": false,
    "nbgrader": {
     "grade": true,
     "grade_id": "cell-e777c3b7acdea7d5",
     "locked": false,
     "points": 0,
     "schema_version": 3,
     "solution": true,
     "task": false
    }
   },
   "outputs": [],
   "source": [
    "# Fill the gap!"
   ]
  },
  {
   "cell_type": "markdown",
   "metadata": {},
   "source": [
    "Second solution."
   ]
  },
  {
   "cell_type": "code",
   "execution_count": null,
   "metadata": {
    "deletable": false,
    "nbgrader": {
     "grade": true,
     "grade_id": "cell-5313089865b6ded2",
     "locked": false,
     "points": 0,
     "schema_version": 3,
     "solution": true,
     "task": false
    }
   },
   "outputs": [],
   "source": [
    "# Fill the gap!"
   ]
  },
  {
   "cell_type": "markdown",
   "metadata": {},
   "source": [
    "#### `DataFrame` creation 2\n",
    "\n",
    "Generate a NumPy array with shape `(10, 10)` containing values 1, 2, ..., 100. Use this array to create a `DataFrame` with column names `\"col1\"`, `\"col2\"`, ..., `\"col10\"`, and index `\"row1\"`, `\"row2\"`, ..., `\"row10\"`."
   ]
  },
  {
   "cell_type": "code",
   "execution_count": null,
   "metadata": {
    "deletable": false,
    "nbgrader": {
     "grade": true,
     "grade_id": "cell-fe784a12d79e5a8d",
     "locked": false,
     "points": 0,
     "schema_version": 3,
     "solution": true,
     "task": false
    }
   },
   "outputs": [],
   "source": [
    "# Fill the gap!"
   ]
  },
  {
   "cell_type": "markdown",
   "metadata": {},
   "source": [
    "(dataframe-acessing-rows-and-columns)=\n",
    "## Accessing rows and columns\n",
    "\n",
    "Now that we know about what makes a `DataFrame` its time to learn about how to access its content. Since there rows and columns, we can can access both individually.\n",
    "\n",
    "To make things more interesting we will again work with the Iris dataset. Below we load the dataset from the [UCI Machine Learning Repository](https://archive.ics.uci.edu/) using the [`pd.read_csv()`](https://pandas.pydata.org/pandas-docs/stable/reference/api/pandas.read_csv.html) function. This powerful function can load load CSV-like data from a large variety of sources (e.g http(s) or file URLs). For the moment, however, we ask to ignore the details of the function call as we will discuss using this function later in this course."
   ]
  },
  {
   "cell_type": "code",
   "execution_count": null,
   "metadata": {},
   "outputs": [],
   "source": [
    "df_iris = pd.read_csv(\n",
    "    \"https://archive.ics.uci.edu/ml/machine-learning-databases/iris/iris.data\",\n",
    "    names=[\"sepal length\", \"sepal width\", \"petal length\", \"petal width\", \"species\"],\n",
    ")"
   ]
  },
  {
   "cell_type": "code",
   "execution_count": null,
   "metadata": {},
   "outputs": [],
   "source": [
    "df_iris.sample(5)"
   ]
  },
  {
   "cell_type": "markdown",
   "metadata": {},
   "source": [
    "Let's first have look at the content of the `DataFrame`. The `.info()` method offers a compact overview thereof."
   ]
  },
  {
   "cell_type": "code",
   "execution_count": null,
   "metadata": {},
   "outputs": [],
   "source": [
    "df_iris.info()"
   ]
  },
  {
   "cell_type": "markdown",
   "metadata": {},
   "source": [
    "The columns contain the measured values (`\"[sepal/petal_[length|width]\"`) in cm units. We note that each value has been stored as a 64-bit floating points value while the `\"species\"` column, that contains the name of a particular species for which a measurement has been made, is of type `object` (`str` values).\n",
    "\n",
    "If we now wish to access columns with the Iris specie names we can do this in two different ways. On uses the `[...]` operator while the other uses the [`.loc[...]`](https://pandas.pydata.org/pandas-docs/stable/reference/api/pandas.DataFrame.loc.html) operator that we already now from our [earlier discussion](series-indexing-with-loc-and-iloc) of `Series`."
   ]
  },
  {
   "cell_type": "code",
   "execution_count": null,
   "metadata": {
    "deletable": false,
    "nbgrader": {
     "grade": true,
     "grade_id": "cell-9216b5843385bf9c",
     "locked": false,
     "points": 0,
     "schema_version": 3,
     "solution": true,
     "task": false
    }
   },
   "outputs": [],
   "source": [
    "# Fill the gap!"
   ]
  },
  {
   "cell_type": "code",
   "execution_count": null,
   "metadata": {
    "deletable": false,
    "nbgrader": {
     "grade": true,
     "grade_id": "cell-b59e197be5fd746c",
     "locked": false,
     "points": 0,
     "schema_version": 3,
     "solution": true,
     "task": false
    }
   },
   "outputs": [],
   "source": [
    "# Fill the gap!"
   ]
  },
  {
   "cell_type": "code",
   "execution_count": null,
   "metadata": {
    "deletable": false,
    "nbgrader": {
     "grade": true,
     "grade_id": "cell-8fb1e2e5fb8f7a0e",
     "locked": false,
     "points": 0,
     "schema_version": 3,
     "solution": true,
     "task": false
    }
   },
   "outputs": [],
   "source": [
    "# Fill the gap!"
   ]
  },
  {
   "cell_type": "code",
   "execution_count": null,
   "metadata": {
    "deletable": false,
    "nbgrader": {
     "grade": true,
     "grade_id": "cell-42c1bb2da5610699",
     "locked": false,
     "points": 0,
     "schema_version": 3,
     "solution": true,
     "task": false
    }
   },
   "outputs": [],
   "source": [
    "# Fill the gap!"
   ]
  },
  {
   "cell_type": "markdown",
   "metadata": {},
   "source": [
    "Indeed, if we access a single column the result is a `Series` object. You will also have noted that the call to the `.loc[]` method is slightly different to what we are used from the `Series`. The differences is, that now we have the opportunity to index along the rows *and* the columns. The syntax `.loc[:, \"species\"]` uses a slice `:` to access all rows in the column names \"`species`\". This is very much like we know it from `ndarray`s like in the following example:"
   ]
  },
  {
   "cell_type": "code",
   "execution_count": null,
   "metadata": {},
   "outputs": [],
   "source": [
    "a = np.array([[1, 2], [3, 4], [5, 6]])\n",
    "a"
   ]
  },
  {
   "cell_type": "code",
   "execution_count": null,
   "metadata": {},
   "outputs": [],
   "source": [
    "a[:, 0]"
   ]
  },
  {
   "cell_type": "markdown",
   "metadata": {},
   "source": [
    "If we want more than just a single column --- say, all columns related to measurements of the sepal --- we can get their content by passing a `list` of valid column names to the `[...]` operator. Please note that that the order in which the columns are passed does *not* matter. Indeed, we do not need to care too much about the order in which a `DataFrame` contains columns. If we provide a valid name the inner workings of such an object will make sure we get the right content (just like with an associative container as a `dict`).\n",
    "\n",
    ":::{note} While accessing a *single* column returns a `Series` object, accessing multiple columns returns another `DataFrame` object.\n",
    ":::\n",
    "\n",
    "The sketch below summarizes the differences between accessing a single column and multiple columns.\n",
    "\n",
    "![Accessing a single row vs accessing multiple column](../../_build_img/DataFrameColumnAccess-1.png)"
   ]
  },
  {
   "cell_type": "code",
   "execution_count": null,
   "metadata": {
    "deletable": false,
    "nbgrader": {
     "grade": true,
     "grade_id": "cell-eb7b7820c28fa1fb",
     "locked": false,
     "points": 0,
     "schema_version": 3,
     "solution": true,
     "task": false
    }
   },
   "outputs": [],
   "source": [
    "# Fill the gap!"
   ]
  },
  {
   "cell_type": "code",
   "execution_count": null,
   "metadata": {
    "deletable": false,
    "nbgrader": {
     "grade": true,
     "grade_id": "cell-e0e23acf05ef6961",
     "locked": false,
     "points": 0,
     "schema_version": 3,
     "solution": true,
     "task": false
    }
   },
   "outputs": [],
   "source": [
    "# Fill the gap!"
   ]
  },
  {
   "cell_type": "markdown",
   "metadata": {},
   "source": [
    "Again, we can also use the `.loc[]` method to get the same result. The way in which we specify the columns to be accessed is the same as with `[...]`."
   ]
  },
  {
   "cell_type": "code",
   "execution_count": null,
   "metadata": {
    "deletable": false,
    "nbgrader": {
     "grade": true,
     "grade_id": "cell-ec678e8e134380f3",
     "locked": false,
     "points": 0,
     "schema_version": 3,
     "solution": true,
     "task": false
    }
   },
   "outputs": [],
   "source": [
    "# Fill the gap!"
   ]
  },
  {
   "cell_type": "markdown",
   "metadata": {},
   "source": [
    "If the column names (partially) follow naming schemes that exhibit a certain pattern, the [`.filter()`](https://pandas.pydata.org/pandas-docs/stable/reference/api/pandas.DataFrame.filter.html) method is helpful to select the columns according to a given pattern. If we say we want all columns containing the character sequence `\"petal\"` to can do this:"
   ]
  },
  {
   "cell_type": "code",
   "execution_count": null,
   "metadata": {
    "deletable": false,
    "nbgrader": {
     "grade": true,
     "grade_id": "cell-2d773b1e773faabd",
     "locked": false,
     "points": 0,
     "schema_version": 3,
     "solution": true,
     "task": false
    }
   },
   "outputs": [],
   "source": [
    "# Fill the gap!"
   ]
  },
  {
   "cell_type": "markdown",
   "metadata": {},
   "source": [
    "We can also use regular expressions with `.filter()` which is particularly interesting if the column names are a bit more compilicated. For instance, in the following example we want to get all columns that end with `\"length\"` (this is what the `$` symbol means in the context of regular expressions)."
   ]
  },
  {
   "cell_type": "code",
   "execution_count": null,
   "metadata": {
    "deletable": false,
    "nbgrader": {
     "grade": true,
     "grade_id": "cell-7c6c4295d798160d",
     "locked": false,
     "points": 0,
     "schema_version": 3,
     "solution": true,
     "task": false
    }
   },
   "outputs": [],
   "source": [
    "# Fill the gap!"
   ]
  },
  {
   "cell_type": "markdown",
   "metadata": {},
   "source": [
    "Oftentimes, we want to select particular row and column entries at the same time. When selecting particular rows we have to query the index correspondingly as we have dealt with ealier in the section on [`Series`](series-indexing-with-loc-and-iloc). It is important to memorize that there is just a *single* index for all columns in a `DataFrame`. That is, if we query the index we will get information from *all* columns.\n",
    "\n",
    "Consider the following example in which we query the index label `10` (in `df_iris` the index is just a row counter). The result is a `Series` where the index now consists of the column labels from `df_iris`."
   ]
  },
  {
   "cell_type": "code",
   "execution_count": null,
   "metadata": {
    "deletable": false,
    "nbgrader": {
     "grade": true,
     "grade_id": "cell-1ac785cdd6dcc6e0",
     "locked": false,
     "points": 0,
     "schema_version": 3,
     "solution": true,
     "task": false
    }
   },
   "outputs": [],
   "source": [
    "# Fill the gap!"
   ]
  },
  {
   "cell_type": "markdown",
   "metadata": {},
   "source": [
    "Of course we can also use slicing. `DataFrame` also have a `.iloc[]` method available; regarding accessing the row dimension (`axis=:\"rows\"`) the semantics are the same as for `Series`. Have a look at the following to recall the different behaviour both methods. Note how the output from calling `.iloc[]` is missing the line with the index label `5`!"
   ]
  },
  {
   "cell_type": "code",
   "execution_count": null,
   "metadata": {
    "deletable": false,
    "nbgrader": {
     "grade": true,
     "grade_id": "cell-6aba592a9eaa01cb",
     "locked": false,
     "points": 0,
     "schema_version": 3,
     "solution": true,
     "task": false
    }
   },
   "outputs": [],
   "source": [
    "# Fill the gap!"
   ]
  },
  {
   "cell_type": "code",
   "execution_count": null,
   "metadata": {
    "deletable": false,
    "nbgrader": {
     "grade": true,
     "grade_id": "cell-b05b031d4064ec6e",
     "locked": false,
     "points": 0,
     "schema_version": 3,
     "solution": true,
     "task": false
    }
   },
   "outputs": [],
   "source": [
    "# Fill the gap!"
   ]
  },
  {
   "cell_type": "markdown",
   "metadata": {},
   "source": [
    "You will not be surprised that the following line is *equivalent* to that using `.loc[]` two cells above. Through `:` we merely express the intent to use all the columns."
   ]
  },
  {
   "cell_type": "code",
   "execution_count": null,
   "metadata": {
    "deletable": false,
    "nbgrader": {
     "grade": true,
     "grade_id": "cell-e265cf5930c41f9c",
     "locked": false,
     "points": 0,
     "schema_version": 3,
     "solution": true,
     "task": false
    }
   },
   "outputs": [],
   "source": [
    "# Fill the gap!"
   ]
  },
  {
   "cell_type": "markdown",
   "metadata": {},
   "source": [
    "Now we can *combine* row and column access like so:"
   ]
  },
  {
   "cell_type": "code",
   "execution_count": null,
   "metadata": {
    "deletable": false,
    "nbgrader": {
     "grade": true,
     "grade_id": "cell-692e2b05d2eda9b7",
     "locked": false,
     "points": 0,
     "schema_version": 3,
     "solution": true,
     "task": false
    }
   },
   "outputs": [],
   "source": [
    "# Fill the gap!"
   ]
  },
  {
   "cell_type": "markdown",
   "metadata": {},
   "source": [
    "This gives a `Series` because we've only specified a single column name. Of course we can use more than just a single columns like we did before and get another `DataFrame`. The behavior is summarized in the following sketch.\n",
    "\n",
    "![Accessing rows and columns with `.loc[]`](../../_build_img/DataFrameColumnAccessLoc-1.png)"
   ]
  },
  {
   "cell_type": "code",
   "execution_count": null,
   "metadata": {
    "deletable": false,
    "nbgrader": {
     "grade": true,
     "grade_id": "cell-a50aef7f9822c102",
     "locked": false,
     "points": 0,
     "schema_version": 3,
     "solution": true,
     "task": false
    }
   },
   "outputs": [],
   "source": [
    "# Fill the gap!"
   ]
  },
  {
   "cell_type": "markdown",
   "metadata": {},
   "source": [
    "It may also get a bit fancier when using boolean masks for the index. For instance, let's say we want the columns `\"petal length\"` and `\"sepal length\"` from the `DataFrame` for the species `\"Iris-setosa\"`. *Note that we have limited the length of the output by chaining the call to `.loc[]` with [`.sample()`](https://pandas.pydata.org/pandas-docs/stable/reference/api/pandas.DataFrame.sample.html) which randomly selects a certain number of rows*. "
   ]
  },
  {
   "cell_type": "code",
   "execution_count": null,
   "metadata": {
    "deletable": false,
    "nbgrader": {
     "grade": true,
     "grade_id": "cell-2821ee0f0486db85",
     "locked": false,
     "points": 0,
     "schema_version": 3,
     "solution": true,
     "task": false
    }
   },
   "outputs": [],
   "source": [
    "# Fill the gap!"
   ]
  },
  {
   "cell_type": "markdown",
   "metadata": {},
   "source": [
    "### Quiz"
   ]
  },
  {
   "cell_type": "markdown",
   "metadata": {
    "deletable": false,
    "editable": false,
    "nbgrader": {
     "grade": false,
     "grade_id": "cell-527f56fe303e835f",
     "locked": true,
     "points": 0,
     "schema_version": 3,
     "solution": false,
     "task": true
    }
   },
   "source": [
    "<span style=\"display:none\" id=\"5_DataFrames:4\">W3sidHlwZSI6ICJtYW55X2Nob2ljZSIsICJhbnN3ZXJfY29scyI6IDEsICJxdWVzdGlvbiI6ICJXaGF0IGRvZXMgdGhlIGV4cHJlc3Npb24gYGRmWydBJ11gIHJldHVybj8gYCdBJ2AgY2FuIGJlIGFzc3VtZWQgdG8gYmUgYSB2YWxpZCBjb2x1bW4gb2YgYGRmYC4iLCAiYW5zd2VycyI6IFt7ImNvcnJlY3QiOiBmYWxzZSwgImFuc3dlciI6ICJBIFB5dGhvbiBsaXN0LiJ9LCB7ImNvcnJlY3QiOiB0cnVlLCAiYW5zd2VyIjogIkEgUGFuZGFzIFNlcmllcyJ9LCB7ImNvcnJlY3QiOiBmYWxzZSwgImFuc3dlciI6ICJBbm90aGVyIE51bVB5IGFycmF5In0sIHsiY29ycmVjdCI6IGZhbHNlLCAiYW5zd2VyIjogIkFub3RoZXIgZGF0YWZyYW1lIn1dfV0=</span>"
   ]
  },
  {
   "cell_type": "code",
   "execution_count": null,
   "id": "e7715baf",
   "metadata": {
    "tags": [
     "remove-input"
    ]
   },
   "outputs": [],
   "source": [
    "\n",
    "jupyterquiz.display_quiz(\"#5_DataFrames:4\")"
   ]
  },
  {
   "cell_type": "markdown",
   "metadata": {
    "deletable": false,
    "editable": false,
    "nbgrader": {
     "grade": false,
     "grade_id": "cell-a425749922873498",
     "locked": true,
     "points": 0,
     "schema_version": 3,
     "solution": false,
     "task": true
    }
   },
   "source": [
    "<span style=\"display:none\" id=\"5_DataFrames:5\">W3sidHlwZSI6ICJtYW55X2Nob2ljZSIsICJhbnN3ZXJfY29scyI6IDEsICJxdWVzdGlvbiI6ICJXaGF0IGlzIHRoZSB0cnVlIGZvciBmb2xsb3dpbmcgcGFpciBvZiBleHByZXNzaW9uczogYGRmWydBJ11gIGFuZCBgZGZbWydBJywgJ0InXV1gPyBgJ0EnYCBhbmQgYCdCJ2AgY2FuIGJvdGggYmUgYXNzdW1lZCB0byBiZSB2YWxpZCBjb2x1bW5zIG9mIGBkZmAuIiwgImFuc3dlcnMiOiBbeyJjb3JyZWN0IjogdHJ1ZSwgImFuc3dlciI6ICJCb3RoIGFyZSB2YWxpZCBleHByZXNzaW9ucyJ9LCB7ImNvcnJlY3QiOiBmYWxzZSwgImFuc3dlciI6ICJUaGUgbGVmdCBpcyBpbnZhbGlkIHdoaWxlIHRoZSByaWdodCBpcyB2YWxpZCJ9LCB7ImNvcnJlY3QiOiBmYWxzZSwgImFuc3dlciI6ICJUaGUgbGVmdCBpcyB2YWxpZCB3aGlsZSB0aGUgcmlnaHQgaXMgaW52YWxpZCJ9LCB7ImNvcnJlY3QiOiB0cnVlLCAiYW5zd2VyIjogIlRoZSBsZWZ0IHJldHVybnMgYSBzZXJpZXMgd2hpbGUgdGhlIHJpZ2h0IHJldHVybnMgYSBkYXRhZnJhbWUifSwgeyJjb3JyZWN0IjogZmFsc2UsICJhbnN3ZXIiOiAiQm90aCByZXR1cm4gZGF0YWZyYW1lcyJ9LCB7ImNvcnJlY3QiOiBmYWxzZSwgImFuc3dlciI6ICJCb3RoIHJldHVybiBzZXJpZXMifV19XQ==</span>"
   ]
  },
  {
   "cell_type": "code",
   "execution_count": null,
   "id": "c4d26895",
   "metadata": {
    "tags": [
     "remove-input"
    ]
   },
   "outputs": [],
   "source": [
    "\n",
    "jupyterquiz.display_quiz(\"#5_DataFrames:5\")"
   ]
  },
  {
   "cell_type": "markdown",
   "metadata": {
    "deletable": false,
    "editable": false,
    "nbgrader": {
     "grade": false,
     "grade_id": "cell-d2de531e21fa4d7d",
     "locked": true,
     "points": 0,
     "schema_version": 3,
     "solution": false,
     "task": true
    }
   },
   "source": [
    "<span style=\"display:none\" id=\"5_DataFrames:6\">W3sidHlwZSI6ICJtYW55X2Nob2ljZSIsICJhbnN3ZXJfY29scyI6IDEsICJxdWVzdGlvbiI6ICJXaGF0IGlzIHRydWUgYWJvdXQgdGhlIGluZGV4PyIsICJhbnN3ZXJzIjogW3siY29ycmVjdCI6IGZhbHNlLCAiYW5zd2VyIjogIlRoZXJlIGlzIG5vIGluZGV4LiJ9LCB7ImNvcnJlY3QiOiB0cnVlLCAiYW5zd2VyIjogIlRoZSBpbmRleCBsYWJlbHMgY2FuIG9ubHkgYmUgYWNjZXNzZWQgd2l0aCB0aGUgYC5sb2NbXWAgbWV0aG9kLiJ9LCB7ImNvcnJlY3QiOiB0cnVlLCAiYW5zd2VyIjogIlRoZXJlIGlzIGEgc2luZ2xlIGluZGV4IGFuZCBpdCBpcyB1c2VkIHRvIGFjY2VzcyB0aGUgcm93IG9mIGVhY2ggY29sdW1uLiJ9LCB7ImNvcnJlY3QiOiBmYWxzZSwgImFuc3dlciI6ICJUaGUgaW5kZXggbGFiZWxzIGNhbiBvbmx5IGJlIGFjY2Vzc2VkIHdpdGggdGhlIGAuaWxvY1tdYCBtZXRob2QuIn0sIHsiY29ycmVjdCI6IGZhbHNlLCAiYW5zd2VyIjogIlRoZXJlIGlzIGEgc2VwYXJhdGUgaW5kZXggZm9yIGVhY2ggY29sdW1uLiJ9XX1d</span>"
   ]
  },
  {
   "cell_type": "code",
   "execution_count": null,
   "id": "15a83437",
   "metadata": {
    "tags": [
     "remove-input"
    ]
   },
   "outputs": [],
   "source": [
    "\n",
    "jupyterquiz.display_quiz(\"#5_DataFrames:6\")"
   ]
  },
  {
   "cell_type": "markdown",
   "metadata": {
    "deletable": false,
    "editable": false,
    "nbgrader": {
     "grade": false,
     "grade_id": "cell-bc01912a102cce52",
     "locked": true,
     "points": 0,
     "schema_version": 3,
     "solution": false,
     "task": true
    }
   },
   "source": [
    "<span style=\"display:none\" id=\"5_DataFrames:7\">W3sidHlwZSI6ICJtYW55X2Nob2ljZSIsICJhbnN3ZXJfY29scyI6IDEsICJxdWVzdGlvbiI6ICJXaGF0IGEgdmFsaWQgd2F5IHRvIGFjY2VzcyByb3cgYW5kIGNvbHVtbnMgYXQgdGhlIHNhbWUgdGltZT8gTG93ZXIgY2FzZSBsZXR0ZXIgYXJlIGluZGV4IGxhYmVscywgdXBwZXIgY2FzZSBsZXR0ZXJzIGFyZSBjb2x1bW4gbGFiZWxzLiIsICJhbnN3ZXJzIjogW3siY29ycmVjdCI6IHRydWUsICJhbnN3ZXIiOiAiIiwgImNvZGUiOiAiZGYubG9jW1wiYVwiOlwiY1wiLCBbXCJBXCIsIFwiQlwiXV0ifSwgeyJjb3JyZWN0IjogdHJ1ZSwgImFuc3dlciI6ICIiLCAiY29kZSI6ICJkZi5sb2NbXCJhXCI6XCJjXCIsIFtcIkJcIiwgXCJBXCJdXSJ9LCB7ImNvcnJlY3QiOiB0cnVlLCAiYW5zd2VyIjogIiIsICJjb2RlIjogImRmLmxvY1tcImFcIjpcImNcIl1bW1wiQVwiLCBcIkJcIl1dIn0sIHsiY29ycmVjdCI6IGZhbHNlLCAiYW5zd2VyIjogIiIsICJjb2RlIjogImRmW1wiQVwiLCBcIkJcIl0ubG9jW1wiYTpkXCJdIn0sIHsiY29ycmVjdCI6IGZhbHNlLCAiYW5zd2VyIjogIiIsICJjb2RlIjogImRmW1wiQVwiLCBcIkJcIiwgXCJhOmRcIl0ifV19XQ==</span>"
   ]
  },
  {
   "cell_type": "code",
   "execution_count": null,
   "id": "e96fe1af",
   "metadata": {
    "tags": [
     "remove-input"
    ]
   },
   "outputs": [],
   "source": [
    "\n",
    "jupyterquiz.display_quiz(\"#5_DataFrames:7\")"
   ]
  },
  {
   "cell_type": "markdown",
   "metadata": {},
   "source": [
    "Feel free to experiment with following `DataFrame` to answer this question."
   ]
  },
  {
   "cell_type": "code",
   "execution_count": null,
   "metadata": {},
   "outputs": [],
   "source": [
    "df = pd.DataFrame({\"A\": range(1, 5), \"B\": range(10, 50, 10)}, index=list(\"abcd\"))\n",
    "df"
   ]
  },
  {
   "cell_type": "markdown",
   "metadata": {},
   "source": [
    "### Exercises"
   ]
  },
  {
   "cell_type": "markdown",
   "metadata": {},
   "source": [
    "#### Accessing multiple columns\n",
    "\n",
    "Access the columns `\"sepal length\"`, `\"petal width\"` und `\"species\"` *at the same time* in two different ways."
   ]
  },
  {
   "cell_type": "markdown",
   "metadata": {},
   "source": [
    "First solution."
   ]
  },
  {
   "cell_type": "code",
   "execution_count": null,
   "metadata": {
    "deletable": false,
    "nbgrader": {
     "grade": true,
     "grade_id": "cell-ffec10f812372acd",
     "locked": false,
     "points": 0,
     "schema_version": 3,
     "solution": true,
     "task": false
    }
   },
   "outputs": [],
   "source": [
    "# Fill the gap!"
   ]
  },
  {
   "cell_type": "markdown",
   "metadata": {},
   "source": [
    "Second solution."
   ]
  },
  {
   "cell_type": "code",
   "execution_count": null,
   "metadata": {
    "deletable": false,
    "nbgrader": {
     "grade": true,
     "grade_id": "cell-c21f931eb150c627",
     "locked": false,
     "points": 0,
     "schema_version": 3,
     "solution": true,
     "task": false
    }
   },
   "outputs": [],
   "source": [
    "# Fill the gap!"
   ]
  },
  {
   "cell_type": "markdown",
   "metadata": {},
   "source": [
    "#### Get columns by pattern\n",
    "\n",
    "Use the `.loc[]` method to select columns that contain the the substring `\"width\"` from the `df_iris` `DataFrame`. \n",
    "\n",
    ":::{note} No, the solution is not to just specify `[\"sepal width\", \"petal width\"]` manually. Rather think about a programmatic way to generate such a `list`. It actually should be possible to just substitute `\"width\"` with `\"length\"` to get `[\"sepal length\", \"petal length\"]`.\n",
    ":::"
   ]
  },
  {
   "cell_type": "markdown",
   "metadata": {},
   "source": [
    "Programmatically generate a `list` containing the relevant column names. Use this list with the `.loc[]` method."
   ]
  },
  {
   "cell_type": "code",
   "execution_count": null,
   "metadata": {
    "deletable": false,
    "nbgrader": {
     "grade": true,
     "grade_id": "cell-8e9719645c064375",
     "locked": false,
     "points": 0,
     "schema_version": 3,
     "solution": true,
     "task": false
    }
   },
   "outputs": [],
   "source": [
    "# Fill the gap!"
   ]
  },
  {
   "cell_type": "markdown",
   "metadata": {},
   "source": [
    "Programmatically generate a `bool`ean mask that has `True` entries at those positions where `df_iris.columns` has entries containing `\"width\"`. Use this boolean mask with the `.lop[]` method."
   ]
  },
  {
   "cell_type": "code",
   "execution_count": null,
   "metadata": {
    "deletable": false,
    "nbgrader": {
     "grade": true,
     "grade_id": "cell-369ec9f6dbcc20ab",
     "locked": false,
     "points": 0,
     "schema_version": 3,
     "solution": true,
     "task": false
    }
   },
   "outputs": [],
   "source": [
    "# Fill the gap!"
   ]
  },
  {
   "cell_type": "markdown",
   "metadata": {},
   "source": [
    "#### Accessing rows and columns\n",
    "\n",
    "For which species are the data instances in which the sepal length > 6 cm *and* (at the same time!) petal length > 3.5 cm? How many instances are there per species. Use boolean masks and method chaining.\n",
    "\n",
    "*Note*: The are multiple cells in which you can write a solution because there are several ways to solve this task."
   ]
  },
  {
   "cell_type": "code",
   "execution_count": null,
   "metadata": {
    "deletable": false,
    "nbgrader": {
     "grade": true,
     "grade_id": "cell-9cc8de286d37f69b",
     "locked": false,
     "points": 0,
     "schema_version": 3,
     "solution": true,
     "task": false
    }
   },
   "outputs": [],
   "source": [
    "# Fill the gap!"
   ]
  },
  {
   "cell_type": "code",
   "execution_count": null,
   "metadata": {
    "deletable": false,
    "nbgrader": {
     "grade": true,
     "grade_id": "cell-387867723241bc39",
     "locked": false,
     "points": 0,
     "schema_version": 3,
     "solution": true,
     "task": false
    }
   },
   "outputs": [],
   "source": [
    "# Fill the gap!"
   ]
  },
  {
   "cell_type": "code",
   "execution_count": null,
   "metadata": {
    "deletable": false,
    "nbgrader": {
     "grade": true,
     "grade_id": "cell-38d3df657e0fe55c",
     "locked": false,
     "points": 0,
     "schema_version": 3,
     "solution": true,
     "task": false
    }
   },
   "outputs": [],
   "source": [
    "# Fill the gap!"
   ]
  },
  {
   "cell_type": "markdown",
   "metadata": {},
   "source": [
    "#### Replacing values\n",
    "\n",
    "Assume the data for the specie `\"Iris-setosa\"` is not usable anymore. Change all entries containing *measured values* (e.g. sepal length / width) in rows with `\"Iris-setosa\"` inside the `DataFrame`s `df_tmp1`, and `df_tmp2` to `np.nan`.\n",
    "\n",
    "* `df_tmp1`: Use sequential indexing `df_tmp1[cols][rows]`. That is, first access all relevant columns with `[cols]` where `cols` is a placeholder for the corresponding columns. Secondly, access all relevent rows with `[rows]`.\n",
    "* `df_tmp2`: Use indexing with the `.loc[]` method.\n",
    "\n",
    "For both approaches check if the changes have come into effect."
   ]
  },
  {
   "cell_type": "code",
   "execution_count": null,
   "metadata": {},
   "outputs": [],
   "source": [
    "df_tmp1 = df_iris.copy(deep=True)\n",
    "df_tmp2 = df_iris.copy(deep=True)"
   ]
  },
  {
   "cell_type": "markdown",
   "metadata": {},
   "source": [
    "Sequential indexing for `df_tmp1`."
   ]
  },
  {
   "cell_type": "code",
   "execution_count": null,
   "metadata": {
    "deletable": false,
    "nbgrader": {
     "grade": true,
     "grade_id": "cell-a1677b58d3b2d8f4",
     "locked": false,
     "points": 0,
     "schema_version": 3,
     "solution": true,
     "task": false
    }
   },
   "outputs": [],
   "source": [
    "# Fill the gap!"
   ]
  },
  {
   "cell_type": "markdown",
   "metadata": {},
   "source": [
    "Use the `.loc[]` method for `df_tmp2`."
   ]
  },
  {
   "cell_type": "code",
   "execution_count": null,
   "metadata": {
    "deletable": false,
    "nbgrader": {
     "grade": true,
     "grade_id": "cell-efec6900d94d74ab",
     "locked": false,
     "points": 0,
     "schema_version": 3,
     "solution": true,
     "task": false
    }
   },
   "outputs": [],
   "source": [
    "# Fill the gap!"
   ]
  }
 ],
 "metadata": {
  "file_extension": ".py",
  "kernelspec": {
   "display_name": ".venv",
   "language": "python",
   "name": "python3"
  },
  "language_info": {
   "codemirror_mode": {
    "name": "ipython",
    "version": 3
   },
   "file_extension": ".py",
   "mimetype": "text/x-python",
   "name": "python",
   "nbconvert_exporter": "python",
   "pygments_lexer": "ipython3",
   "version": "3.12.3"
  },
  "mimetype": "text/x-python",
  "name": "python",
  "npconvert_exporter": "python",
  "pygments_lexer": "ipython3",
  "version": 3
 },
 "nbformat": 4,
 "nbformat_minor": 4
}
