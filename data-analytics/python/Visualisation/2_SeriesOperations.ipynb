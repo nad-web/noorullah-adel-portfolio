{
 "cells": [
  {
   "cell_type": "markdown",
   "metadata": {},
   "source": [
    "# Operations on `Series`\n",
    "\n",
    "In the [introduction](pandas_series) on Pandas `Series` we noted that they are objects and as such have inner state given by the attributes (e.g., `.index` and `.values`) and methods to query and modify this inner state. So far we have just touched on methods more or less accidentially (cf. the [`NaNs` in `Series`](nans-in-series) section).\n",
    "\n",
    "In this section we will spent some time exploring different types of methods available for Pandas `Series`. As we will learn, calling methods --- and in particular chaining several method calls (so-called method chaining) --- is a quite common pattern when working with Pandas.\n",
    "\n",
    "An exhaustive list of available methods can be found in the [`Series` documentation](https://pandas.pydata.org/pandas-docs/stable/reference/api/pandas.Series.html)).\n",
    "\n",
    "As usual we start with some imports."
   ]
  },
  {
   "cell_type": "code",
   "execution_count": null,
   "metadata": {},
   "outputs": [],
   "source": [
    "%matplotlib inline\n",
    "\n",
    "import pandas as pd\n",
    "import numpy as np\n",
    "from matplotlib import pyplot as plt\n",
    "\n",
    "f\"Pandas version: {pd.__version__ = }, Numpy version: {np.__version__ = }\""
   ]
  },
  {
   "cell_type": "markdown",
   "metadata": {},
   "source": [
    "(series-statistics)=\n",
    "## Statistics in `Series`\n",
    "\n",
    "Series have a number of methods for performing basic statistics. The result of the corresponding methods call may vary: Some (may) yield other `Series` while others yield scalar values."
   ]
  },
  {
   "cell_type": "markdown",
   "metadata": {},
   "source": [
    "### Reductions\n",
    "\n",
    "Reductions are operations that map the content of a `Series` to a single scalar value. The principle is illustrated in the following sketch.\n",
    "\n",
    "![`Series` reductions: Summation, mean value, and standard deviation](../../_build_img/Reductions-1.png)\n",
    "\n",
    ":::{note} We note that reductions are most commonly used with numerical data. In particular mean value, the standard deviation, or the median strange quantities in the context of non-numerical data such as strings. \n",
    ":::"
   ]
  },
  {
   "cell_type": "code",
   "execution_count": null,
   "metadata": {},
   "outputs": [],
   "source": [
    "s = pd.Series(range(1, 10))\n",
    "s"
   ]
  },
  {
   "cell_type": "markdown",
   "metadata": {},
   "source": [
    "Sum all elements in the `Series` to yield a scalar value. The result usually is of the same type as the `dtype` of the `Series`."
   ]
  },
  {
   "cell_type": "code",
   "execution_count": null,
   "metadata": {
    "deletable": false,
    "nbgrader": {
     "grade": true,
     "grade_id": "cell-fc1423fc099d2a34",
     "locked": false,
     "points": 0,
     "schema_version": 3,
     "solution": true,
     "task": false
    }
   },
   "outputs": [],
   "source": [
    "# Fill the gap!"
   ]
  },
  {
   "cell_type": "markdown",
   "metadata": {},
   "source": [
    "The mean value is the sum over all elements devided by the size of the `Series`. Due to the division operation result has a floating point type.\n",
    "\n",
    "$$\n",
    "\\mu = \\frac{1}{N}\\sum_{i = 0}^{N - 1}s_i,\n",
    "$$\n",
    "\n",
    "where $N$ is the size of the `Series` and $s_i$ are the elements of the `Series`, $ i = 0, \\dots, N - 1$. "
   ]
  },
  {
   "cell_type": "code",
   "execution_count": null,
   "metadata": {
    "deletable": false,
    "nbgrader": {
     "grade": true,
     "grade_id": "cell-23ded10fcc97c893",
     "locked": false,
     "points": 0,
     "schema_version": 3,
     "solution": true,
     "task": false
    }
   },
   "outputs": [],
   "source": [
    "# Fill the gap!"
   ]
  },
  {
   "cell_type": "markdown",
   "metadata": {},
   "source": [
    "The computation of the standard deviation deserves a bit of explanation. In *Pandas* it is implemented like\n",
    "\n",
    "$$\n",
    "\\sigma = \\sqrt{\\frac{1}{N - \\Delta} \\sum_{i = 0}^{N - 1}\\left(s_i - \\mu\\right)^2},\n",
    "$$\n",
    "\n",
    "and $\\Delta = 1$. The $\\Delta$-value is important; this is also called \"the degree of freedom\". NumPy, on the contrary computes the standard deviation with $\\Delta = 0$. When using the [`np.std`](https://numpy.org/doc/stable/reference/generated/numpy.std.html) function we have to specify the `ddof` parameter to obtain the same result as obtained from calling `.std()` on a `Series`."
   ]
  },
  {
   "cell_type": "code",
   "execution_count": null,
   "metadata": {
    "deletable": false,
    "nbgrader": {
     "grade": true,
     "grade_id": "cell-87f174775472b1f8",
     "locked": false,
     "points": 0,
     "schema_version": 3,
     "solution": true,
     "task": false
    }
   },
   "outputs": [],
   "source": [
    "# Fill the gap!"
   ]
  },
  {
   "cell_type": "markdown",
   "metadata": {},
   "source": [
    "We note that the variance is the standard deviation squared, $\\sigma^2$."
   ]
  },
  {
   "cell_type": "code",
   "execution_count": null,
   "metadata": {
    "deletable": false,
    "nbgrader": {
     "grade": true,
     "grade_id": "cell-ad226e649de788e4",
     "locked": false,
     "points": 0,
     "schema_version": 3,
     "solution": true,
     "task": false
    }
   },
   "outputs": [],
   "source": [
    "# Fill the gap!"
   ]
  },
  {
   "cell_type": "markdown",
   "metadata": {},
   "source": [
    "Another important statistics to be computed is the median."
   ]
  },
  {
   "cell_type": "code",
   "execution_count": null,
   "metadata": {
    "deletable": false,
    "nbgrader": {
     "grade": true,
     "grade_id": "cell-89b5a60edd7e0872",
     "locked": false,
     "points": 0,
     "schema_version": 3,
     "solution": true,
     "task": false
    }
   },
   "outputs": [],
   "source": [
    "# Fill the gap!"
   ]
  },
  {
   "cell_type": "markdown",
   "metadata": {},
   "source": [
    "The [`.agg()`](https://pandas.pydata.org/pandas-docs/stable/reference/api/pandas.Series.agg.html) method allows to compute multiple reductions at once. In contrast to the specialized methods used so far, the result *may be* another `Series` object.[^agg-returns-a-series] The method also accepts a `list[str]`, where each `str`ing is a valid name of a reduction (e.g. `\"mean\"` for the mean value, or `\"median\"` for the median value). \n",
    "\n",
    "[^agg-returns-a-series]: `.agg()` will return a `Series` if the argument `func` is of type `list` (more generally, an iterable). Even if the `list` has just a single argument (like in `s.agg([\"mean\",])`)  the result will be a new `Series` of size equal to 1."
   ]
  },
  {
   "cell_type": "code",
   "execution_count": null,
   "metadata": {
    "deletable": false,
    "nbgrader": {
     "grade": true,
     "grade_id": "cell-3d5a1f7a3ac472dd",
     "locked": false,
     "points": 0,
     "schema_version": 3,
     "solution": true,
     "task": false
    }
   },
   "outputs": [],
   "source": [
    "# Fill the gap!"
   ]
  },
  {
   "cell_type": "markdown",
   "metadata": {},
   "source": [
    "Actually, it is also possible to pass a `list[callable]` (a `list` of `callable` functions) where each of the functions must compute some sort of reduction. In practice, this will often by NumPy ufuncs like [`np.mean`](https://numpy.org/doc/stable/reference/generated/numpy.mean.html), or [`np.std`](https://numpy.org/doc/stable/reference/generated/numpy.std.html)."
   ]
  },
  {
   "cell_type": "code",
   "execution_count": null,
   "metadata": {
    "deletable": false,
    "nbgrader": {
     "grade": true,
     "grade_id": "cell-a246f2c93f8e2f0f",
     "locked": false,
     "points": 0,
     "schema_version": 3,
     "solution": true,
     "task": false
    }
   },
   "outputs": [],
   "source": [
    "# Fill the gap!"
   ]
  },
  {
   "cell_type": "markdown",
   "metadata": {},
   "source": [
    "As a final example for reductions we consider passing custom functions in a `dict`. The keys specify the index label of the result in the resulting `Series`."
   ]
  },
  {
   "cell_type": "code",
   "execution_count": null,
   "metadata": {
    "deletable": false,
    "nbgrader": {
     "grade": true,
     "grade_id": "cell-6d9fbac97a0b8a0f",
     "locked": false,
     "points": 0,
     "schema_version": 3,
     "solution": true,
     "task": false
    }
   },
   "outputs": [],
   "source": [
    "# Fill the gap!"
   ]
  },
  {
   "cell_type": "markdown",
   "metadata": {},
   "source": [
    "Each of the functions defined inside the `dict` operates on the whole `Series` on which the `.agg()` method is called. The expression `lambda x: (x ** 2).sum()` defines an anonymous `lambda` function that takes a `Series` as argument `x`, squares it `(x ** 2)`[^sum-of-squares-with-method-chaining] (this is another `Series`!), and then calls `.sum()` on the new `Series` resulting from the previous operation. The result of the summation is returned and is the entry associated with the label `\"sum of squares\"`.\n",
    "\n",
    "[^sum-of-squares-with-method-chaining]: An alternative to compute the sum of squares is to chain appropriate method calls: `lambda x: x.pow(2).sum()`. `x` is a `Series`, on which we call `pow(2)` (compute each element to the power of 2) which returns a *new* `Series`, on which we call `.sum()` to compute the actual reduction."
   ]
  },
  {
   "cell_type": "markdown",
   "metadata": {},
   "source": [
    "### Methods yielding other `Series` (or something similar)\n",
    "\n",
    "Apart from reductions there also exist \"statistical\" methods that may return a new `Series`. "
   ]
  },
  {
   "cell_type": "code",
   "execution_count": null,
   "metadata": {
    "deletable": false,
    "nbgrader": {
     "grade": true,
     "grade_id": "cell-24d5e13831a97062",
     "locked": false,
     "points": 0,
     "schema_version": 3,
     "solution": true,
     "task": false
    }
   },
   "outputs": [],
   "source": [
    "# Fill the gap!"
   ]
  },
  {
   "cell_type": "markdown",
   "metadata": {},
   "source": [
    "The `.value_counts()` methods returns a `Series` with the frequency of values. The index of the resulting `Series` are the unique entries of the original `Series` object, while data it holds is the count of each of the unique values."
   ]
  },
  {
   "cell_type": "code",
   "execution_count": null,
   "metadata": {
    "deletable": false,
    "nbgrader": {
     "grade": true,
     "grade_id": "cell-80ab82396272bec6",
     "locked": false,
     "points": 0,
     "schema_version": 3,
     "solution": true,
     "task": false
    }
   },
   "outputs": [],
   "source": [
    "# Fill the gap!"
   ]
  },
  {
   "cell_type": "markdown",
   "metadata": {},
   "source": [
    "The unique values can either be obtained from the index of the previous result or we use the `.unique()` method.\n",
    "\n",
    ":::{note} The `.unique()` method returns the its result as a `np.ndarray`.\n",
    ":::"
   ]
  },
  {
   "cell_type": "code",
   "execution_count": null,
   "metadata": {
    "deletable": false,
    "nbgrader": {
     "grade": true,
     "grade_id": "cell-1379d2d2c504dd46",
     "locked": false,
     "points": 0,
     "schema_version": 3,
     "solution": true,
     "task": false
    }
   },
   "outputs": [],
   "source": [
    "# Fill the gap!"
   ]
  },
  {
   "cell_type": "markdown",
   "metadata": {},
   "source": [
    "As the last method discussed in this section we take the [`.duplicated()`](https://pandas.pydata.org/pandas-docs/stable/reference/api/pandas.Series.duplicated.html) method. This method returns a new `Series` with `dtype == bool` that has `True` at the position of each duplicate value. One of the values with multiplicity > 1 in the `Series` is marked with `False`."
   ]
  },
  {
   "cell_type": "code",
   "execution_count": null,
   "metadata": {},
   "outputs": [],
   "source": [
    "s = pd.Series(index=[f\"a{idx}\" for idx in range(len(s))], data=s.to_numpy())\n",
    "s"
   ]
  },
  {
   "cell_type": "code",
   "execution_count": null,
   "metadata": {
    "deletable": false,
    "nbgrader": {
     "grade": true,
     "grade_id": "cell-2681dbc1e565abad",
     "locked": false,
     "points": 0,
     "schema_version": 3,
     "solution": true,
     "task": false
    }
   },
   "outputs": [],
   "source": [
    "# Fill the gap!"
   ]
  },
  {
   "cell_type": "markdown",
   "metadata": {},
   "source": [
    "We can use this `Series` as a boolean mask to extract the the unique values from the `Series`. The `~` in front of `s.duplicated()` *negates* all entries in the `Series`; this is a syntactic sugar for calling [`np.logical_not`](https://numpy.org/doc/stable/reference/generated/numpy.logical_not.html).[^numpy-logical-functions] We note that the index of the `Series` we obtain contains the labels at which the `~s.duplicated()` has `True` entries.\n",
    "\n",
    "[^numpy-logical-functions]: An exhaustive list of NumPy's logical functions can be found on: https://numpy.org/doc/stable/reference/routines.logic.html."
   ]
  },
  {
   "cell_type": "code",
   "execution_count": null,
   "metadata": {
    "deletable": false,
    "nbgrader": {
     "grade": true,
     "grade_id": "cell-1ddb8ea56c606cbe",
     "locked": false,
     "points": 0,
     "schema_version": 3,
     "solution": true,
     "task": false
    }
   },
   "outputs": [],
   "source": [
    "# Fill the gap!"
   ]
  },
  {
   "cell_type": "code",
   "execution_count": null,
   "metadata": {
    "deletable": false,
    "nbgrader": {
     "grade": true,
     "grade_id": "cell-944dce3e0a43f088",
     "locked": false,
     "points": 0,
     "schema_version": 3,
     "solution": true,
     "task": false
    }
   },
   "outputs": [],
   "source": [
    "# Fill the gap!"
   ]
  },
  {
   "cell_type": "markdown",
   "metadata": {},
   "source": [
    "Before closing this section we will demonstrate that the `.value_counts()` method can also be used for non-numerical data, `str` for example.\n",
    "\n",
    ":::{note} The `dtype` of a `Series` containing `str` objects is `object`.\n",
    ":::"
   ]
  },
  {
   "cell_type": "code",
   "execution_count": null,
   "metadata": {},
   "outputs": [],
   "source": [
    "words = pd.Series(\"In Ulm und um Ulm und um Ulm herum\".split())\n",
    "words"
   ]
  },
  {
   "cell_type": "code",
   "execution_count": null,
   "metadata": {
    "deletable": false,
    "nbgrader": {
     "grade": true,
     "grade_id": "cell-f79f81ba3e8b5c88",
     "locked": false,
     "points": 0,
     "schema_version": 3,
     "solution": true,
     "task": false
    }
   },
   "outputs": [],
   "source": [
    "# Fill the gap!"
   ]
  },
  {
   "cell_type": "code",
   "execution_count": null,
   "metadata": {
    "deletable": false,
    "nbgrader": {
     "grade": true,
     "grade_id": "cell-7fa43b3d05d77c40",
     "locked": false,
     "points": 0,
     "schema_version": 3,
     "solution": true,
     "task": false
    }
   },
   "outputs": [],
   "source": [
    "# Fill the gap!"
   ]
  },
  {
   "cell_type": "markdown",
   "metadata": {},
   "source": [
    "(series-methods-manipulation)=\n",
    "## `Series` manipulation\n",
    "\n",
    "Much of the work with `Pandas` data structures is done with calling appropriate methods on objects. Indeed, chaining method calls is a commonly observed pattern found in Pandas workflows. \n",
    "\n",
    "In the following we will discuss some helpful methods used to manipulate content of a `Series` object. \n",
    "\n",
    ":::{warning} Essentially all methods discussed here return *new* objects. That is, they either return a *new* `Series` (e.g. by transforming the content of another `Series`) or new scalar values (e.g. resulting from an aggregation).\n",
    ":::\n",
    "\n",
    "The principle of use methods calls on objects is sketched in the following figure (we will deal with the `.transform()` and the `.apply()` method below).\n",
    "\n",
    "![Calling methods on Pandas `Series` objects.](../../_build_img/SeriesMethods-1.png)"
   ]
  },
  {
   "cell_type": "markdown",
   "metadata": {},
   "source": [
    "### `.replace()` and `.map()`\n",
    "\n",
    "The methods [`.map()`](https://pandas.pydata.org/pandas-docs/stable/reference/api/pandas.Series.map.html) and [.`replace()`](https://pandas.pydata.org/pandas-docs/stable/reference/api/pandas.Series.replace.html) are used to replace different values according to a replacement rule.\n",
    "\n",
    "We start with `.replace()`. You will soon realize that methods called on `Series` (and `DataFrame`s as well) accept quite a lot of different types of arguments (e.g., `str`, `list`, `dict`, and `callable`s). This is also true for `.replace()` (refer to the `to_replace` parameter) as we will now see."
   ]
  },
  {
   "cell_type": "code",
   "execution_count": null,
   "metadata": {},
   "outputs": [],
   "source": [
    "strings = pd.Series(\"Er sah das Wasser as\".split())\n",
    "strings"
   ]
  },
  {
   "cell_type": "markdown",
   "metadata": {},
   "source": [
    "The following method call will replace the entry `'as'` with `'an'`: We use two (positional) arguments to replace any occurrence of the first with the second. It is important to note that an entry must *exactly* match the string `'as'` --- no characters to the left or the right are allowed. As a result, the substrings in`'das'` or `'Wasser'` will *not* be replaced with `'an'`."
   ]
  },
  {
   "cell_type": "code",
   "execution_count": null,
   "metadata": {
    "deletable": false,
    "nbgrader": {
     "grade": true,
     "grade_id": "cell-46b21f686422e8cc",
     "locked": false,
     "points": 0,
     "schema_version": 3,
     "solution": true,
     "task": false
    }
   },
   "outputs": [],
   "source": [
    "# Fill the gap!"
   ]
  },
  {
   "cell_type": "markdown",
   "metadata": {},
   "source": [
    "If we want to `'as'` to be interpreted as a pattern that shell be replaced we must use [regular expressions](https://docs.python.org/3/howto/regex.html). We will, however, not dwell too long with \"regexs\" as this is topic for itself. Suffice it to say, that regular expressions are often very helpful when working with strings."
   ]
  },
  {
   "cell_type": "code",
   "execution_count": null,
   "metadata": {
    "deletable": false,
    "nbgrader": {
     "grade": true,
     "grade_id": "cell-e5b540580b05807a",
     "locked": false,
     "points": 0,
     "schema_version": 3,
     "solution": true,
     "task": false
    }
   },
   "outputs": [],
   "source": [
    "# Fill the gap!"
   ]
  },
  {
   "cell_type": "code",
   "execution_count": null,
   "metadata": {
    "deletable": false,
    "nbgrader": {
     "grade": true,
     "grade_id": "cell-8a172ccf68b1e7d7",
     "locked": false,
     "points": 0,
     "schema_version": 3,
     "solution": true,
     "task": false
    }
   },
   "outputs": [],
   "source": [
    "# Fill the gap!"
   ]
  },
  {
   "cell_type": "markdown",
   "metadata": {},
   "source": [
    "Python `dict`s are good for expressing replacement rules: The keys describe what to replace (old values) while the values describe what to fill in instead (new values).\n",
    "\n",
    ":::{note} Replacements are made for (old) values that are *explicitly* specified while all others are *ignored*. As a result the size of the old and the new `Series` will be the same. Needless to say they, they also have the same index.\n",
    ":::"
   ]
  },
  {
   "cell_type": "code",
   "execution_count": null,
   "metadata": {},
   "outputs": [],
   "source": [
    "integers = pd.Series((0, 10, 20, 30))\n",
    "integers"
   ]
  },
  {
   "cell_type": "code",
   "execution_count": null,
   "metadata": {
    "deletable": false,
    "nbgrader": {
     "grade": true,
     "grade_id": "cell-5f4dc9c55a73caf5",
     "locked": false,
     "points": 0,
     "schema_version": 3,
     "solution": true,
     "task": false
    }
   },
   "outputs": [],
   "source": [
    "# Fill the gap!"
   ]
  },
  {
   "cell_type": "markdown",
   "metadata": {},
   "source": [
    "The same result can also be achieved with passing a `Series` as argument."
   ]
  },
  {
   "cell_type": "code",
   "execution_count": null,
   "metadata": {
    "deletable": false,
    "nbgrader": {
     "grade": true,
     "grade_id": "cell-a96f7b2c65037c3d",
     "locked": false,
     "points": 0,
     "schema_version": 3,
     "solution": true,
     "task": false
    }
   },
   "outputs": [],
   "source": [
    "# Fill the gap!"
   ]
  },
  {
   "cell_type": "markdown",
   "metadata": {},
   "source": [
    "To quickly demonstrate the a call to `.replace()` actually returns a *new* `Series` --- that does *not* share memory with the original `Series` object it was created from --- we inspect the content of the original `Series`:"
   ]
  },
  {
   "cell_type": "code",
   "execution_count": null,
   "metadata": {},
   "outputs": [],
   "source": [
    "integers"
   ]
  },
  {
   "cell_type": "markdown",
   "metadata": {},
   "source": [
    "As we can see the content of the original `Series` is unchanged. In fact, calling `.replace()` on `integers_with_replaced` would yield another `Series` independent of that it was created from (and so forth).\n",
    "\n",
    "The `.map()` method is also available for making replacements. The semantics are slightly different, however. Let's start with the example from above where we used a `dict` to specify the replacements rules:"
   ]
  },
  {
   "cell_type": "code",
   "execution_count": null,
   "metadata": {
    "deletable": false,
    "nbgrader": {
     "grade": true,
     "grade_id": "cell-b5d9763260909668",
     "locked": false,
     "points": 0,
     "schema_version": 3,
     "solution": true,
     "task": false
    }
   },
   "outputs": [],
   "source": [
    "# Fill the gap!"
   ]
  },
  {
   "cell_type": "markdown",
   "metadata": {},
   "source": [
    "We note that *all* values not captured by the replacement rules have been replaced with `NaN`. As a result the `dtype` has been changed to `float64` (remember that `NaN` is a special floating point value). If we do not want the `NaN` values we can use a [`defaultdict`](https://docs.python.org/3/library/collections.html#collections.defaultdict) with a suitable (whatever your current situation demands) default value."
   ]
  },
  {
   "cell_type": "code",
   "execution_count": null,
   "metadata": {
    "deletable": false,
    "nbgrader": {
     "grade": true,
     "grade_id": "cell-a5f83a7307bc7433",
     "locked": false,
     "points": 0,
     "schema_version": 3,
     "solution": true,
     "task": false
    }
   },
   "outputs": [],
   "source": [
    "# Fill the gap!"
   ]
  },
  {
   "cell_type": "markdown",
   "metadata": {},
   "source": [
    "Instead of letting values not taken into account in the replacement specification being converted to `NaN`s, we specify a default replacment value for them (-5000 in this case)."
   ]
  },
  {
   "cell_type": "code",
   "execution_count": null,
   "metadata": {
    "deletable": false,
    "nbgrader": {
     "grade": true,
     "grade_id": "cell-c5aebccd2ceae5c7",
     "locked": false,
     "points": 0,
     "schema_version": 3,
     "solution": true,
     "task": false
    }
   },
   "outputs": [],
   "source": [
    "# Fill the gap!"
   ]
  },
  {
   "cell_type": "markdown",
   "metadata": {},
   "source": [
    "Finally, we also note that `.map()` also accepts a `callable` that will be applied element-wise to the `Series` (operates on one row at a time). The `callable` can either be an anonymous `lambda` function or a named functions (defined with the `def` keyword)."
   ]
  },
  {
   "cell_type": "code",
   "execution_count": null,
   "metadata": {
    "deletable": false,
    "nbgrader": {
     "grade": true,
     "grade_id": "cell-6e9e789701129d61",
     "locked": false,
     "points": 0,
     "schema_version": 3,
     "solution": true,
     "task": false
    }
   },
   "outputs": [],
   "source": [
    "# Fill the gap!"
   ]
  },
  {
   "cell_type": "code",
   "execution_count": null,
   "metadata": {
    "deletable": false,
    "nbgrader": {
     "grade": true,
     "grade_id": "cell-af88274eb221ad82",
     "locked": false,
     "points": 0,
     "schema_version": 3,
     "solution": true,
     "task": false
    }
   },
   "outputs": [],
   "source": [
    "# Fill the gap!"
   ]
  },
  {
   "cell_type": "code",
   "execution_count": null,
   "metadata": {
    "deletable": false,
    "nbgrader": {
     "grade": true,
     "grade_id": "cell-8e5b3c44c41e32d6",
     "locked": false,
     "points": 0,
     "schema_version": 3,
     "solution": true,
     "task": false
    }
   },
   "outputs": [],
   "source": [
    "# Fill the gap!"
   ]
  },
  {
   "cell_type": "markdown",
   "metadata": {},
   "source": [
    "In summary, `.replace()` and map *can* do similar things. `.map()` is more generic: It can be used to replace values in a `Series`, but at the same time it does more than just replace specified values. Unspecified values will be replaced as well (e.g. with `NaN`) and, when passing a `callable`, we can specify operations to be applied to every element of the `Series`. As a result the `dtype` of the resulting `Series` can be different from the of `Series` on which `.map()` has been called on. This makes `.map()` more difficult to reason about and a more detailed inspection of the code may be required to fully understand the intent of calling it."
   ]
  },
  {
   "cell_type": "markdown",
   "metadata": {},
   "source": [
    "### Quiz"
   ]
  },
  {
   "cell_type": "markdown",
   "metadata": {
    "deletable": false,
    "editable": false,
    "nbgrader": {
     "grade": false,
     "grade_id": "cell-22d9d56165833273",
     "locked": true,
     "points": 0,
     "schema_version": 3,
     "solution": false,
     "task": true
    }
   },
   "source": [
    "<span style=\"display:none\" id=\"2_SeriesOperations:1\">W3sidHlwZSI6ICJtYW55X2Nob2ljZSIsICJhbnN3ZXJfY29scyI6IDEsICJxdWVzdGlvbiI6ICJXaGF0IGlzIGEgdmFsaWQgYm9vbGVuIGV4cHJlc3Npb24gd2hlbiBgYWAgYW5kIGBiYCBhcmUgTnVtUHkgYXJyYXlzPyIsICJhbnN3ZXJzIjogW3siY29ycmVjdCI6IHRydWUsICJhbnN3ZXIiOiAiICIsICJjb2RlIjogIihhICUgMiA9PSAwKSAmIChiIDwgNDIpIn0sIHsiY29ycmVjdCI6IHRydWUsICJhbnN3ZXIiOiAiICIsICJjb2RlIjogImEgLSBiIDwgMCJ9LCB7ImNvcnJlY3QiOiBmYWxzZSwgImFuc3dlciI6ICIgIiwgImNvZGUiOiAiKGEgJSAyID09IDEpIGFuZCAoYiAqIGEgPT0gbnAucGkpIn0sIHsiY29ycmVjdCI6IGZhbHNlLCAiYW5zd2VyIjogIiAiLCAiY29kZSI6ICIoYiA+IDApIG9yIChhIDwgMCkifSwgeyJjb3JyZWN0IjogdHJ1ZSwgImFuc3dlciI6ICIgIiwgImNvZGUiOiAiKGEgPiBiKSB8IChhIDwgYikifV19XQ==</span>"
   ]
  },
  {
   "cell_type": "code",
   "execution_count": null,
   "id": "fea25a0b",
   "metadata": {
    "tags": [
     "remove-input"
    ]
   },
   "outputs": [],
   "source": [
    "import jupyterquiz\n",
    "jupyterquiz.display_quiz(\"#2_SeriesOperations:1\")"
   ]
  },
  {
   "cell_type": "markdown",
   "metadata": {},
   "source": [
    "You are given a `Series` with name `s` with index labels `[\"a\", \"g\", \"h\", \"p\", \"q\", \"b\", \"t\"]`."
   ]
  },
  {
   "cell_type": "markdown",
   "metadata": {
    "deletable": false,
    "editable": false,
    "nbgrader": {
     "grade": false,
     "grade_id": "cell-16562fb9ab9d1fd5",
     "locked": true,
     "points": 0,
     "schema_version": 3,
     "solution": false,
     "task": true
    }
   },
   "source": [
    "<span style=\"display:none\" id=\"2_SeriesOperations:2\">W3sidHlwZSI6ICJtYW55X2Nob2ljZSIsICJhbnN3ZXJfY29scyI6IDEsICJxdWVzdGlvbiI6ICJXaGF0IGFyZSBwb3NzaWJsZSB3YXlzIHRvIGFjY2VzcyB0aGUgbGFiZWxzIGAnZydgLCBgJ2gnYCwgYCdwJ2AsIGAncSdgPyIsICJhbnN3ZXJzIjogW3siY29ycmVjdCI6IHRydWUsICJhbnN3ZXIiOiAiICIsICJjb2RlIjogInMubG9jW1tcImdcIiwgXCJoXCIsIFwicFwiLCBcInFcIl1dIn0sIHsiY29ycmVjdCI6IGZhbHNlLCAiYW5zd2VyIjogIiAiLCAiY29kZSI6ICJzLmxvY1tcImdcIiwgXCJoXCIsIFwicFwiLCBcInFcIl0ifSwgeyJjb3JyZWN0IjogdHJ1ZSwgImFuc3dlciI6ICIgIiwgImNvZGUiOiAicy5sb2NbXCJnXCI6XCJxXCJdIn0sIHsiY29ycmVjdCI6IGZhbHNlLCAiYW5zd2VyIjogIiAiLCAiY29kZSI6ICJzLmlsb2NbXCJnXCI6XCJxXCJdIn0sIHsiY29ycmVjdCI6IGZhbHNlLCAiYW5zd2VyIjogIiAiLCAiY29kZSI6ICJzLmlsb2NbW1wiZ1wiLCBcImhcIiwgXCJwXCIsIFwicVwiXV0ifSwgeyJjb3JyZWN0IjogdHJ1ZSwgImFuc3dlciI6ICIgIiwgImNvZGUiOiAic1tbXCJnXCIsIFwiaFwiLCBcInBcIiwgXCJxXCJdXSJ9XX1d</span>"
   ]
  },
  {
   "cell_type": "code",
   "execution_count": null,
   "id": "8b484c60",
   "metadata": {
    "tags": [
     "remove-input"
    ]
   },
   "outputs": [],
   "source": [
    "\n",
    "jupyterquiz.display_quiz(\"#2_SeriesOperations:2\")"
   ]
  },
  {
   "cell_type": "markdown",
   "metadata": {
    "deletable": false,
    "editable": false,
    "nbgrader": {
     "grade": false,
     "grade_id": "cell-b1d258a926ea7357",
     "locked": true,
     "points": 0,
     "schema_version": 3,
     "solution": false,
     "task": true
    }
   },
   "source": [
    "<span style=\"display:none\" id=\"2_SeriesOperations:3\">W3sidHlwZSI6ICJtYW55X2Nob2ljZSIsICJhbnN3ZXJfY29scyI6IDEsICJxdWVzdGlvbiI6ICJXaGF0IGFyZSB2YWxpZCB3YXlzIHRvIGdldCB0aGUgbWVhbiwgbWVkaWFuLCBhbmQgc3RhbmRhcmQgZGV2aWF0aW9uIGZyb20gYSBgU2VyaWVzYCBhbmQgcmV0dXJuIHRoZW0gaW4gYSBgU2VyaWVzYD8iLCAiYW5zd2VycyI6IFt7ImNvcnJlY3QiOiB0cnVlLCAiYW5zd2VyIjogIiAiLCAiY29kZSI6ICJzLmFnZyhbXCJtZWFuXCIsIFwibWVkaWFuXCIsIFwic3RkXCJdKSJ9LCB7ImNvcnJlY3QiOiB0cnVlLCAiYW5zd2VyIjogIiAiLCAiY29kZSI6ICJwZC5TZXJpZXMoW3MubWVhbigpLCBzLm1lZGlhbigpLCBzLnN0ZCgpXSkifSwgeyJjb3JyZWN0IjogZmFsc2UsICJhbnN3ZXIiOiAiICIsICJjb2RlIjogInMubWVhbigpLCBzLm1lZGlhbigpLCBzLnN0ZCgpIn0sIHsiY29ycmVjdCI6IHRydWUsICJhbnN3ZXIiOiAiICIsICJjb2RlIjogInMuYWdnKHtcIm1lYW5cIjogbGFtYmRhIHg6IHgubWVhbigpLCBcIm1lZGlhblwiOiBsYW1iZGEgeDogeC5tZWRpYW4oKSwgXCJzdGRcIjogbGFtYmRhIHg6IHguc3RkKCl9KSJ9LCB7ImNvcnJlY3QiOiBmYWxzZSwgImFuc3dlciI6ICIgIiwgImNvZGUiOiAicy5yZXBsYWNlKHtcIm1lYW5cIjogbGFtYmRhIHg6IHgubWVhbigpLCBcIm1lZGlhblwiOiBsYW1iZGEgeDogeC5tZWRpYW4oKSwgXCJzdGRcIjogbGFtYmRhIHg6IHguc3RkKCl9KSJ9XX1d</span>"
   ]
  },
  {
   "cell_type": "code",
   "execution_count": null,
   "id": "1d16945f",
   "metadata": {
    "tags": [
     "remove-input"
    ]
   },
   "outputs": [],
   "source": [
    "\n",
    "jupyterquiz.display_quiz(\"#2_SeriesOperations:3\")"
   ]
  },
  {
   "cell_type": "markdown",
   "metadata": {},
   "source": [
    "You are given two `Series`, one with index `[\"a\", \"a\", \"b\"]`, and the other with index `[\"a\", \"a\", \"d\", \"b\"]`."
   ]
  },
  {
   "cell_type": "markdown",
   "metadata": {
    "deletable": false,
    "editable": false,
    "nbgrader": {
     "grade": false,
     "grade_id": "cell-c237f355f90557aa",
     "locked": true,
     "points": 0,
     "schema_version": 3,
     "solution": false,
     "task": true
    }
   },
   "source": [
    "<span style=\"display:none\" id=\"2_SeriesOperations:4\">W3sidHlwZSI6ICJtYW55X2Nob2ljZSIsICJhbnN3ZXJfY29scyI6IDEsICJxdWVzdGlvbiI6ICJXaGF0IGlzIHRoZSBjb250ZW50IG9mIHRoZSBpbmRleCBmb3IgYSBgU2VyaWVzYCByZXN1bHRpbmcgZnJvbSBhbiBvcGVyYXRpb24gYmV0d2VlbiB0aGUgdHdvIChlLmcuIGFkZGl0aW9uKT8gKG9yZGVyIGRvZXMgbm90IG1hdHRlciBoZXJlISkiLCAiYW5zd2VycyI6IFt7ImNvcnJlY3QiOiB0cnVlLCAiYW5zd2VyIjogIiAiLCAiY29kZSI6ICJbXCJhXCIsIFwiYVwiLCBcImFcIiwgXCJhXCIsIFwiYlwiLCBcImRcIl0ifSwgeyJjb3JyZWN0IjogZmFsc2UsICJhbnN3ZXIiOiAiICIsICJjb2RlIjogIltcImFcIiwgXCJhXCIsIFwiYlwiLCBcImRcIl0ifSwgeyJjb3JyZWN0IjogZmFsc2UsICJhbnN3ZXIiOiAiICIsICJjb2RlIjogIltcImFcIiwgXCJhXCIsIFwiYVwiLCBcImFcIiwgXCJiXCIsIFwiYlwiLCBcImRcIl0ifV19XQ==</span>"
   ]
  },
  {
   "cell_type": "code",
   "execution_count": null,
   "id": "6968a53a",
   "metadata": {
    "tags": [
     "remove-input"
    ]
   },
   "outputs": [],
   "source": [
    "\n",
    "jupyterquiz.display_quiz(\"#2_SeriesOperations:4\")"
   ]
  },
  {
   "cell_type": "markdown",
   "metadata": {
    "deletable": false,
    "editable": false,
    "nbgrader": {
     "grade": false,
     "grade_id": "cell-672f6551367c6a47",
     "locked": true,
     "points": 0,
     "schema_version": 3,
     "solution": false,
     "task": true
    }
   },
   "source": [
    "<span style=\"display:none\" id=\"2_SeriesOperations:5\">W3sidHlwZSI6ICJtYW55X2Nob2ljZSIsICJhbnN3ZXJfY29scyI6IDEsICJxdWVzdGlvbiI6ICJXaGljaCB2YWx1ZSBpcyB1c2VkIGFzIGEgcmVzdWx0IGluIHBvc2l0aW9ucyB3aGVyZSB0aGUgaW5kZXggb2YgdHdvIGBTZXJpZXNgIG9wZXJhbmRzIGRvIG5vdCBtYXRjaCBpbiBhbiBvcGVyYXRpb24/IiwgImFuc3dlcnMiOiBbeyJjb3JyZWN0IjogdHJ1ZSwgImFuc3dlciI6ICIgIiwgImNvZGUiOiAibmFuIn0sIHsiY29ycmVjdCI6IGZhbHNlLCAiYW5zd2VyIjogIiAiLCAiY29kZSI6ICJpbmYifSwgeyJjb3JyZWN0IjogZmFsc2UsICJhbnN3ZXIiOiAiICIsICJjb2RlIjogIi1pbmYifSwgeyJjb3JyZWN0IjogZmFsc2UsICJhbnN3ZXIiOiAiICIsICJjb2RlIjogIk5vbmUifSwgeyJjb3JyZWN0IjogZmFsc2UsICJhbnN3ZXIiOiAiICIsICJjb2RlIjogIjQyIn1dfV0=</span>"
   ]
  },
  {
   "cell_type": "code",
   "execution_count": null,
   "id": "68a94a55",
   "metadata": {
    "tags": [
     "remove-input"
    ]
   },
   "outputs": [],
   "source": [
    "\n",
    "jupyterquiz.display_quiz(\"#2_SeriesOperations:5\")"
   ]
  },
  {
   "cell_type": "markdown",
   "metadata": {},
   "source": [
    "(series-operations-transform-and-apply)=\n",
    "### `.transform()` and `.apply()`\n",
    "\n",
    "The [`.transform()`](https://pandas.pydata.org/pandas-docs/stable/reference/api/pandas.Series.transform.html) as well as [`.apply()`](https://pandas.pydata.org/pandas-docs/stable/reference/api/pandas.Series.apply.html) method are used to \"apply\" a function to the values of a `Series`. As we will soon see, `.transform()` more clearly conveys its intent --- which is \"transforming\" one `Series` into another --- while `.apply()` is more generic (and harder to understand).\n",
    "\n",
    "We start with `.transform()`: It expects a `callable` that often is a user-defined (anonymous or named) function that operates on the whole `Series`. Some examples will best illustrate common usage of this method."
   ]
  },
  {
   "cell_type": "code",
   "execution_count": null,
   "metadata": {},
   "outputs": [],
   "source": [
    "integers = pd.Series(data=range(10), index=[f\"a{idx}\" for idx in range(10)])\n",
    "integers"
   ]
  },
  {
   "cell_type": "markdown",
   "metadata": {},
   "source": [
    "In our first example we query if a value is even or not. The result is a new `Series` of the same length with `dtype == bool` and the same entries in the index."
   ]
  },
  {
   "cell_type": "code",
   "execution_count": null,
   "metadata": {
    "deletable": false,
    "nbgrader": {
     "grade": true,
     "grade_id": "cell-407bae19782f1b1d",
     "locked": false,
     "points": 0,
     "schema_version": 3,
     "solution": true,
     "task": false
    }
   },
   "outputs": [],
   "source": [
    "# Fill the gap!"
   ]
  },
  {
   "cell_type": "markdown",
   "metadata": {},
   "source": [
    "Of course, the same result could have been achieved by writing a `bool`ean expression that directly uses the `Series` but often using `.transform()` is better as it nicely \"paves the way\" for calling multiple methods in sequence (method chaining)."
   ]
  },
  {
   "cell_type": "code",
   "execution_count": null,
   "metadata": {
    "deletable": false,
    "nbgrader": {
     "grade": true,
     "grade_id": "cell-8b5b3bddc749c14a",
     "locked": false,
     "points": 0,
     "schema_version": 3,
     "solution": true,
     "task": false
    }
   },
   "outputs": [],
   "source": [
    "# Fill the gap!"
   ]
  },
  {
   "cell_type": "markdown",
   "metadata": {},
   "source": [
    "It is important to understand that the `.transform()` method expects a functions to actually \"transform\", i.e., reductions --- like summing all values --- are not allowed because this will *not* return a `Series` but rather a single scalar value. Have a look at the following where we attempt to compute the mean of all values with the `.transform()` method.\n",
    "\n",
    "```python\n",
    ">>> integers.transform(np.mean)\n",
    "...\n",
    "ValueError: Function did not transform\n",
    "```"
   ]
  },
  {
   "cell_type": "code",
   "execution_count": null,
   "metadata": {},
   "outputs": [],
   "source": [
    "# integers.transform(np.mean) # uncomment to get detailed output"
   ]
  },
  {
   "cell_type": "markdown",
   "metadata": {},
   "source": [
    "If the function used to transform the values has more than a single parameter, we can pass values for this parameter as keyword arguments to the `.transform()` method. The following functions shifts a value by a specified amount. We use it to scale all values to the interval $[0, 1]$.\n",
    "\n",
    "$$\n",
    "s_i^{(\\mathrm{scaled})} = \\frac{s_i - s_\\mathrm{min}}{s_\\mathrm{max} - s_\\mathrm{min}}, \\quad s_\\mathrm{max} = \\max_i s_i, \\quad s_\\mathrm{min} = \\min_i s_i, \\quad i = 1, \\dots, N - 1\n",
    "$$"
   ]
  },
  {
   "cell_type": "code",
   "execution_count": null,
   "metadata": {
    "deletable": false,
    "nbgrader": {
     "grade": true,
     "grade_id": "cell-3e46edb4cf353a75",
     "locked": false,
     "points": 0,
     "schema_version": 3,
     "solution": true,
     "task": false
    }
   },
   "outputs": [],
   "source": [
    "# Fill the gap!"
   ]
  },
  {
   "cell_type": "code",
   "execution_count": null,
   "metadata": {
    "deletable": false,
    "nbgrader": {
     "grade": true,
     "grade_id": "cell-9e75c64f6ba183ca",
     "locked": false,
     "points": 0,
     "schema_version": 3,
     "solution": true,
     "task": false
    }
   },
   "outputs": [],
   "source": [
    "# Fill the gap!"
   ]
  },
  {
   "cell_type": "markdown",
   "metadata": {},
   "source": [
    "The same can result can be achieved by either using a `lambda` function or using [`functools.partial`](https://docs.python.org/3/library/functools.html#functools.partial)."
   ]
  },
  {
   "cell_type": "code",
   "execution_count": null,
   "metadata": {
    "deletable": false,
    "nbgrader": {
     "grade": true,
     "grade_id": "cell-cf0e1c72dd1cba5d",
     "locked": false,
     "points": 0,
     "schema_version": 3,
     "solution": true,
     "task": false
    }
   },
   "outputs": [],
   "source": [
    "# Fill the gap!"
   ]
  },
  {
   "cell_type": "markdown",
   "metadata": {},
   "source": [
    "`functools.partial` will return a new function where some of its arguments have been fixed to concrete values. In our case we fix the `min_value` / `max_value` parameter to contain the smallest / largest value `integers`. The resulting function expects a single argument which is the element of the `Series` to transform. "
   ]
  },
  {
   "cell_type": "code",
   "execution_count": null,
   "metadata": {
    "deletable": false,
    "nbgrader": {
     "grade": true,
     "grade_id": "cell-3e1cc4599fe97843",
     "locked": false,
     "points": 0,
     "schema_version": 3,
     "solution": true,
     "task": false
    }
   },
   "outputs": [],
   "source": [
    "# Fill the gap!"
   ]
  },
  {
   "cell_type": "markdown",
   "metadata": {},
   "source": [
    "Finally, we also take note of the following cases. Firstly, we can pass on of NumPy's universal functions that operates on the whole `Series`."
   ]
  },
  {
   "cell_type": "code",
   "execution_count": null,
   "metadata": {},
   "outputs": [],
   "source": [
    "integers.transform(np.square)"
   ]
  },
  {
   "cell_type": "markdown",
   "metadata": {},
   "source": [
    "Secondly, it is also possible to have a function that is called on one element at a time."
   ]
  },
  {
   "cell_type": "code",
   "execution_count": null,
   "metadata": {},
   "outputs": [],
   "source": [
    "def f(x):\n",
    "    print(type(x))  # inspect the type of the argument\n",
    "    if x % 2 == 0:\n",
    "        return \"divisible by 2\"\n",
    "    elif x % 3 == 0:\n",
    "        return \"divisible by 3\"\n",
    "    elif x % 4 == 0:\n",
    "        return \"divisible by 4\"\n",
    "    else:\n",
    "        return \"something else\"\n",
    "\n",
    "\n",
    "(\n",
    "    integers\n",
    "    .iloc[:5]\n",
    "    .transform(f)  # iloc for shorter output\n",
    ")"
   ]
  },
  {
   "cell_type": "markdown",
   "metadata": {},
   "source": [
    "We briefly contrast this with the case in which the whole `Series` is the argument of the callable."
   ]
  },
  {
   "cell_type": "code",
   "execution_count": null,
   "metadata": {},
   "outputs": [],
   "source": [
    "def f(s):\n",
    "    output = (s - s.min()) / (s.max() - s.min())\n",
    "    print(type(s))  # inspect the type of the argument\n",
    "    return output\n",
    "\n",
    "\n",
    "integers.transform(lambda s: f(s))"
   ]
  },
  {
   "cell_type": "markdown",
   "metadata": {},
   "source": [
    "We now turn to the `.apply()` method. Let's first look at an example where `.apply()` can be used in just the same manner as `.transform()`."
   ]
  },
  {
   "cell_type": "code",
   "execution_count": null,
   "metadata": {
    "deletable": false,
    "nbgrader": {
     "grade": true,
     "grade_id": "cell-ad8ecc7c4f293df2",
     "locked": false,
     "points": 0,
     "schema_version": 3,
     "solution": true,
     "task": false
    }
   },
   "outputs": [],
   "source": [
    "# Fill the gap!"
   ]
  },
  {
   "cell_type": "code",
   "execution_count": null,
   "metadata": {
    "deletable": false,
    "nbgrader": {
     "grade": true,
     "grade_id": "cell-90e0467873181ebf",
     "locked": false,
     "points": 0,
     "schema_version": 3,
     "solution": true,
     "task": false
    }
   },
   "outputs": [],
   "source": [
    "# Fill the gap!"
   ]
  },
  {
   "cell_type": "markdown",
   "metadata": {},
   "source": [
    "So far, so good. We have seen that --- at least the case of transformations --- `.transform()` and `.apply()` can be used interchangably. \n",
    "\n",
    ":::{note} If you want to transform a `Series` (and later also `DataFrame`s) we recommend to use the `.transform()` method as it more clearly expresses the intent of what you actually want to achieve with this particular operation.\n",
    ":::\n",
    "\n",
    "Let's revisit the case in which we earlier obtained a `ValueError: Function did not transform` with a slight modication of the the method call. When using `by_row=False` the function will be applied to the *whole* `Series`. If the function happens to be a reduction, like computing the sum or the median of all elements, the result of the reduction is returned."
   ]
  },
  {
   "cell_type": "code",
   "execution_count": null,
   "metadata": {
    "deletable": false,
    "nbgrader": {
     "grade": true,
     "grade_id": "cell-7f18bd4475c1b89c",
     "locked": false,
     "points": 0,
     "schema_version": 3,
     "solution": true,
     "task": false
    }
   },
   "outputs": [],
   "source": [
    "# Fill the gap!"
   ]
  },
  {
   "cell_type": "markdown",
   "metadata": {},
   "source": [
    "The reduction above is equivalent to calling `.agg()` in the following way:"
   ]
  },
  {
   "cell_type": "code",
   "execution_count": null,
   "metadata": {
    "deletable": false,
    "nbgrader": {
     "grade": true,
     "grade_id": "cell-4e3ba5e644165dfa",
     "locked": false,
     "points": 0,
     "schema_version": 3,
     "solution": true,
     "task": false
    }
   },
   "outputs": [],
   "source": [
    "# Fill the gap!"
   ]
  },
  {
   "cell_type": "markdown",
   "metadata": {},
   "source": [
    "In fact, we can mix transformations and reductions in a single call to `.apply()`. The transformation is the square operation and the addition, the reduction is computing the sum of the transformed result."
   ]
  },
  {
   "cell_type": "code",
   "execution_count": null,
   "metadata": {
    "deletable": false,
    "nbgrader": {
     "grade": true,
     "grade_id": "cell-efb773d4963ba5fb",
     "locked": false,
     "points": 0,
     "schema_version": 3,
     "solution": true,
     "task": false
    }
   },
   "outputs": [],
   "source": [
    "# Fill the gap!"
   ]
  },
  {
   "cell_type": "markdown",
   "metadata": {},
   "source": [
    "A more readable way to write this is using method chaining:"
   ]
  },
  {
   "cell_type": "code",
   "execution_count": null,
   "metadata": {
    "deletable": false,
    "nbgrader": {
     "grade": true,
     "grade_id": "cell-6ba0de9bcf4fcead",
     "locked": false,
     "points": 0,
     "schema_version": 3,
     "solution": true,
     "task": false
    }
   },
   "outputs": [],
   "source": [
    "# Fill the gap!"
   ]
  },
  {
   "cell_type": "markdown",
   "metadata": {},
   "source": [
    "Yet another way to write the expression above is the following. We would, however, prefer the call to `.transform()` which allows to merge the two transformations in a single one and hence is more compact."
   ]
  },
  {
   "cell_type": "code",
   "execution_count": null,
   "metadata": {
    "deletable": false,
    "nbgrader": {
     "grade": true,
     "grade_id": "cell-b5bf9f7d111e1676",
     "locked": false,
     "points": 0,
     "schema_version": 3,
     "solution": true,
     "task": false
    }
   },
   "outputs": [],
   "source": [
    "# Fill the gap!"
   ]
  },
  {
   "cell_type": "markdown",
   "metadata": {},
   "source": [
    "\n",
    ":::{note} Use `.transform()` if you want to transform and `.agg()` (or a specialized version like `.sum()` or `.mean()`) if you want to aggregate. While `.apply()` can do both, code using methods with explicit names more clearly convey your intent. The more complex your workflow, the more you will come to appreciate expressive code. \n",
    ":::"
   ]
  },
  {
   "cell_type": "markdown",
   "metadata": {},
   "source": [
    "### `.where()`\n",
    "\n",
    "The `.where()` method is a useful tool to replace values based on a condition."
   ]
  },
  {
   "cell_type": "code",
   "execution_count": null,
   "metadata": {},
   "outputs": [],
   "source": [
    "integers = pd.Series(range(10))"
   ]
  },
  {
   "cell_type": "markdown",
   "metadata": {},
   "source": [
    "In this example we test for all values < 5 but replace all values for which the condition `x < 5` is *not* true with 0; i.e., all values >= 5 will be set to 0. "
   ]
  },
  {
   "cell_type": "code",
   "execution_count": null,
   "metadata": {
    "deletable": false,
    "nbgrader": {
     "grade": true,
     "grade_id": "cell-71db858d1c51600b",
     "locked": false,
     "points": 0,
     "schema_version": 3,
     "solution": true,
     "task": false
    }
   },
   "outputs": [],
   "source": [
    "# Fill the gap!"
   ]
  },
  {
   "cell_type": "markdown",
   "metadata": {},
   "source": [
    "Let's come up with a more realistic (still very contrived) example: We want to sum all values smaller than a certain threshold. Based on what we have learned so far we may indeed come up with multiple ways to achieve this.\n",
    "\n",
    "The following figure sketches on possible way of doing this and also showcases the workflow of chaining method calls (method chaining).\n",
    "\n",
    "![Chaining method calls on Pandas `Series` objects](../../_build_img/SeriesMethodChaining-1.png)"
   ]
  },
  {
   "cell_type": "code",
   "execution_count": null,
   "metadata": {},
   "outputs": [],
   "source": [
    "threshold = 100\n",
    "s = pd.Series(range(1_000))"
   ]
  },
  {
   "cell_type": "markdown",
   "metadata": {},
   "source": [
    "Set all values greater than `threshold` to 0 as they will not make a contribution to the sum."
   ]
  },
  {
   "cell_type": "code",
   "execution_count": null,
   "metadata": {
    "deletable": false,
    "nbgrader": {
     "grade": true,
     "grade_id": "cell-a3b95970be27f62f",
     "locked": false,
     "points": 0,
     "schema_version": 3,
     "solution": true,
     "task": false
    }
   },
   "outputs": [],
   "source": [
    "# Fill the gap!"
   ]
  },
  {
   "cell_type": "markdown",
   "metadata": {},
   "source": [
    "Return a `Series` containing only the values which are smaller than the threshold and sum them up."
   ]
  },
  {
   "cell_type": "code",
   "execution_count": null,
   "metadata": {
    "deletable": false,
    "nbgrader": {
     "grade": true,
     "grade_id": "cell-65079f31bf719bc8",
     "locked": false,
     "points": 0,
     "schema_version": 3,
     "solution": true,
     "task": false
    }
   },
   "outputs": [],
   "source": [
    "# Fill the gap!"
   ]
  },
  {
   "cell_type": "markdown",
   "metadata": {},
   "source": [
    "Like with `.where()` above, set all values greater than `threshold` to 0 as they will not make a contribution to the sum."
   ]
  },
  {
   "cell_type": "code",
   "execution_count": null,
   "metadata": {
    "deletable": false,
    "nbgrader": {
     "grade": true,
     "grade_id": "cell-37765ce01e7c8474",
     "locked": false,
     "points": 0,
     "schema_version": 3,
     "solution": true,
     "task": false
    }
   },
   "outputs": [],
   "source": [
    "# Fill the gap!"
   ]
  },
  {
   "cell_type": "markdown",
   "metadata": {},
   "source": [
    "Wrap the example using `.loc[]` from above with `.apply()`."
   ]
  },
  {
   "cell_type": "code",
   "execution_count": null,
   "metadata": {
    "deletable": false,
    "nbgrader": {
     "grade": true,
     "grade_id": "cell-ab2b84f6a02b4816",
     "locked": false,
     "points": 0,
     "schema_version": 3,
     "solution": true,
     "task": false
    }
   },
   "outputs": [],
   "source": [
    "# Fill the gap!"
   ]
  },
  {
   "cell_type": "markdown",
   "metadata": {},
   "source": [
    "(series-operations-exercise-poll)=\n",
    "## Exercises"
   ]
  },
  {
   "cell_type": "code",
   "execution_count": null,
   "metadata": {},
   "outputs": [],
   "source": [
    "rng = np.random.default_rng(seed=42)"
   ]
  },
  {
   "cell_type": "markdown",
   "metadata": {},
   "source": [
    "Suppose you have conducted an anonymous poll in which --- amongst other things --- you have asked participants to provide information regarding employment status. Annoyingly, the online form to gather the data contained a field in which people could write arbitray text (maybe the number of characters was limited) instead of a drop-down menu that provides several answers from which people can choose what fits them best. Anyway, as a result you are getting some answers which are not really suitable for your research (e.g. \"Working with the Avengers\"). You have to apply some of the techniques just learned about manipulating `Series` to bring the data into a form suitable for further processing.\n",
    "\n",
    "To keep things simple let's assume the answers you were hoping for are `\"Employed\"` (or `\"employed\"` --- yes, capitalization can will also get in your way here ;-)), and `\"Unemployed\"` (or `\"unemployed\"`). We consider these as 'usable' while the rest is 'unusable' (we assume that the poll does not containe further information that allows to make them 'usable').\n",
    "\n",
    "\n",
    ":::{note} In this exercise you are meant to practise modifying the content of `Series` with suitable method calls. We strongly advise to use method chaining.\n",
    ":::"
   ]
  },
  {
   "cell_type": "code",
   "execution_count": null,
   "metadata": {},
   "outputs": [],
   "source": [
    "data = np.array(\n",
    "    [\"Employed\"] * rng.choice(range(50, 200))\n",
    "    + [\"employed\"] * rng.choice(range(10, 60))\n",
    "    + [\"Unemployed\"] * rng.choice(range(10, 100))\n",
    "    + [\"unemployed\"] * rng.choice(range(50, 70))\n",
    "    + [\"Working with the Avengers\"] * rng.choice(range(2, 10))\n",
    "    + [\"Geht dich nix an\"] * rng.choice(range(1, 5))\n",
    "    + [\"Rate mal\"] * rng.choice(range(2, 8))\n",
    "    + [\"Having fun all day\"] * rng.choice(range(5, 10))\n",
    "    + [\"geht dich nix an\"] * rng.choice(range(10, 20))\n",
    ")\n",
    "rng.shuffle(data)\n",
    "\n",
    "poll = pd.Series(data=data)\n",
    "poll"
   ]
  },
  {
   "cell_type": "markdown",
   "metadata": {},
   "source": [
    "### Statistics"
   ]
  },
  {
   "cell_type": "markdown",
   "metadata": {},
   "source": [
    "How may instances of each category (every answer that has been given) is contained in the dataset? What is the proportion of each class in percent?"
   ]
  },
  {
   "cell_type": "code",
   "execution_count": null,
   "metadata": {
    "deletable": false,
    "nbgrader": {
     "grade": true,
     "grade_id": "cell-263880ff01aa7e54",
     "locked": false,
     "points": 0,
     "schema_version": 3,
     "solution": true,
     "task": false
    }
   },
   "outputs": [],
   "source": [
    "# Fill the gap!"
   ]
  },
  {
   "cell_type": "code",
   "execution_count": null,
   "metadata": {
    "deletable": false,
    "nbgrader": {
     "grade": true,
     "grade_id": "cell-6742b60991955f1f",
     "locked": false,
     "points": 0,
     "schema_version": 3,
     "solution": true,
     "task": false
    }
   },
   "outputs": [],
   "source": [
    "# Fill the gap!"
   ]
  },
  {
   "cell_type": "markdown",
   "metadata": {},
   "source": [
    "What is the number 'usable' answers?"
   ]
  },
  {
   "cell_type": "code",
   "execution_count": null,
   "metadata": {
    "deletable": false,
    "nbgrader": {
     "grade": true,
     "grade_id": "cell-5ad9b1dc39bd22b4",
     "locked": false,
     "points": 0,
     "schema_version": 3,
     "solution": true,
     "task": false
    }
   },
   "outputs": [],
   "source": [
    "# Fill the gap!"
   ]
  },
  {
   "cell_type": "markdown",
   "metadata": {},
   "source": [
    "What is the number of 'unusable' answers? \n",
    "\n",
    "*Hint*: There are multiple free fields to fill in a solution because there are multiple ways to solve this."
   ]
  },
  {
   "cell_type": "code",
   "execution_count": null,
   "metadata": {
    "deletable": false,
    "nbgrader": {
     "grade": true,
     "grade_id": "cell-66eb5796f8cb3cf8",
     "locked": false,
     "points": 0,
     "schema_version": 3,
     "solution": true,
     "task": false
    }
   },
   "outputs": [],
   "source": [
    "# Fill the gap!"
   ]
  },
  {
   "cell_type": "code",
   "execution_count": null,
   "metadata": {
    "deletable": false,
    "nbgrader": {
     "grade": true,
     "grade_id": "cell-bb7e0a965c167574",
     "locked": false,
     "points": 0,
     "schema_version": 3,
     "solution": true,
     "task": false
    }
   },
   "outputs": [],
   "source": [
    "# Fill the gap!"
   ]
  },
  {
   "cell_type": "markdown",
   "metadata": {},
   "source": [
    "### Cleaning"
   ]
  },
  {
   "cell_type": "markdown",
   "metadata": {},
   "source": [
    "Now that you have an overview of how many usable and unusable answers you have gotten, it is time to bring the data into a cleaner form: Replace all entries you consider 'unusable' with `\"unknown\"`. Futher change all 'usable' entries to lowercase. Finally print the counts per (cleaned) category.\n",
    "\n",
    "You are asked to solve this using 3 different methods (you will probably need other as well but the particular method should be used!)."
   ]
  },
  {
   "cell_type": "markdown",
   "metadata": {},
   "source": [
    "1. Use the [`.where()`](https://pandas.pydata.org/pandas-docs/stable/reference/api/pandas.Series.where.html) method."
   ]
  },
  {
   "cell_type": "code",
   "execution_count": null,
   "metadata": {
    "deletable": false,
    "nbgrader": {
     "grade": true,
     "grade_id": "cell-847e86a76e108880",
     "locked": false,
     "points": 0,
     "schema_version": 3,
     "solution": true,
     "task": false
    }
   },
   "outputs": [],
   "source": [
    "# Fill the gap!"
   ]
  },
  {
   "cell_type": "markdown",
   "metadata": {},
   "source": [
    "2. Use the [`.transform()`](https://pandas.pydata.org/pandas-docs/stable/reference/api/pandas.Series.transform.html) *or* the [`.apply()`](https://pandas.pydata.org/pandas-docs/stable/reference/api/pandas.Series.apply.html) method."
   ]
  },
  {
   "cell_type": "code",
   "execution_count": null,
   "metadata": {
    "deletable": false,
    "nbgrader": {
     "grade": true,
     "grade_id": "cell-3b148dd83dde5e87",
     "locked": false,
     "points": 0,
     "schema_version": 3,
     "solution": true,
     "task": false
    }
   },
   "outputs": [],
   "source": [
    "# Fill the gap!"
   ]
  },
  {
   "cell_type": "markdown",
   "metadata": {},
   "source": [
    "3. Use the [`.replace()`](https://pandas.pydata.org/pandas-docs/stable/reference/api/pandas.Series.replace.html) method."
   ]
  },
  {
   "cell_type": "code",
   "execution_count": null,
   "metadata": {
    "deletable": false,
    "nbgrader": {
     "grade": true,
     "grade_id": "cell-a9fb7baead7215e9",
     "locked": false,
     "points": 0,
     "schema_version": 3,
     "solution": true,
     "task": false
    }
   },
   "outputs": [],
   "source": [
    "# Fill the gap!"
   ]
  }
 ],
 "metadata": {
  "file_extension": ".py",
  "kernelspec": {
   "display_name": ".venv",
   "language": "python",
   "name": "python3"
  },
  "language_info": {
   "codemirror_mode": {
    "name": "ipython",
    "version": 3
   },
   "file_extension": ".py",
   "mimetype": "text/x-python",
   "name": "python",
   "nbconvert_exporter": "python",
   "pygments_lexer": "ipython3",
   "version": "3.12.3"
  },
  "mimetype": "text/x-python",
  "name": "python",
  "npconvert_exporter": "python",
  "pygments_lexer": "ipython3",
  "version": 3
 },
 "nbformat": 4,
 "nbformat_minor": 4
}
