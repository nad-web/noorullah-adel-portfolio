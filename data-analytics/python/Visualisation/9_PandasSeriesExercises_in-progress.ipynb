{
 "cells": [
  {
   "cell_type": "markdown",
   "metadata": {},
   "source": [
    "# Pandas `Series` Exercises\n",
    "\n",
    "Now that we have learned quite a lot about Pandas `Series`, `DataFrame`s and plotting, it is time to refresh the content of the past days by working on some exercises."
   ]
  },
  {
   "cell_type": "code",
   "execution_count": 1,
   "metadata": {},
   "outputs": [
    {
     "data": {
      "text/plain": [
       "\"Pandas version: pd.__version__ = '2.2.3', Numpy version: np.__version__ = '2.2.3'\""
      ]
     },
     "execution_count": 1,
     "metadata": {},
     "output_type": "execute_result"
    }
   ],
   "source": [
    "%matplotlib inline\n",
    "\n",
    "import pandas as pd\n",
    "import numpy as np\n",
    "import matplotlib as mpl\n",
    "from matplotlib import pyplot as plt\n",
    "\n",
    "mpl.style.use(\"seaborn-v0_8-colorblind\")\n",
    "\n",
    "f\"Pandas version: {pd.__version__ = }, Numpy version: {np.__version__ = }\""
   ]
  },
  {
   "cell_type": "markdown",
   "metadata": {},
   "source": [
    "## Creation and element access"
   ]
  },
  {
   "cell_type": "markdown",
   "metadata": {},
   "source": [
    "### Ways to create a `Series`\n",
    "\n",
    "You are given the following Python containers. Use them to create a `Series` in two different ways."
   ]
  },
  {
   "cell_type": "code",
   "execution_count": 2,
   "metadata": {},
   "outputs": [
    {
     "data": {
      "text/plain": [
       "(['a0', 'a1', 'a2', 'a3', 'a4', 'a5'], [0, 2, 4, 6, 8, 10])"
      ]
     },
     "execution_count": 2,
     "metadata": {},
     "output_type": "execute_result"
    }
   ],
   "source": [
    "index, values = [f\"a{idx}\" for idx in range(len(range(0, 11, 2)))], list(\n",
    "    range(0, 11, 2)\n",
    ")\n",
    "index, values"
   ]
  },
  {
   "cell_type": "code",
   "execution_count": 3,
   "metadata": {
    "deletable": false,
    "nbgrader": {
     "grade": true,
     "grade_id": "cell-e370e4f005a8545c",
     "locked": false,
     "points": 0,
     "schema_version": 3,
     "solution": true,
     "task": false
    }
   },
   "outputs": [
    {
     "data": {
      "text/plain": [
       "a0     0\n",
       "a1     2\n",
       "a2     4\n",
       "a3     6\n",
       "a4     8\n",
       "a5    10\n",
       "dtype: int64"
      ]
     },
     "execution_count": 3,
     "metadata": {},
     "output_type": "execute_result"
    }
   ],
   "source": [
    "pd.Series(index=index, data=values)"
   ]
  },
  {
   "cell_type": "code",
   "execution_count": 4,
   "metadata": {
    "deletable": false,
    "nbgrader": {
     "grade": true,
     "grade_id": "cell-259625f10bdbdad0",
     "locked": false,
     "points": 0,
     "schema_version": 3,
     "solution": true,
     "task": false
    }
   },
   "outputs": [
    {
     "data": {
      "text/plain": [
       "a0     0\n",
       "a1     2\n",
       "a2     4\n",
       "a3     6\n",
       "a4     8\n",
       "a5    10\n",
       "dtype: int64"
      ]
     },
     "execution_count": 4,
     "metadata": {},
     "output_type": "execute_result"
    }
   ],
   "source": [
    "pd.Series(\n",
    "    {\n",
    "        index_label: value for index_label, value in zip(index, values)\n",
    "    }\n",
    ")"
   ]
  },
  {
   "cell_type": "markdown",
   "metadata": {},
   "source": [
    "### Type conversion\n",
    "\n",
    "Using the same Python containers as in the previous exercise, generate a `Series` containing the elements of the `values` container as 32-bit floating point values."
   ]
  },
  {
   "cell_type": "code",
   "execution_count": 5,
   "metadata": {},
   "outputs": [
    {
     "data": {
      "text/plain": [
       "(['a0', 'a1', 'a2', 'a3', 'a4', 'a5'], [0, 2, 4, 6, 8, 10])"
      ]
     },
     "execution_count": 5,
     "metadata": {},
     "output_type": "execute_result"
    }
   ],
   "source": [
    "index, values = [f\"a{idx}\" for idx in range(len(range(0, 11, 2)))], list(\n",
    "    range(0, 11, 2)\n",
    ")\n",
    "index, values"
   ]
  },
  {
   "cell_type": "code",
   "execution_count": 6,
   "metadata": {
    "deletable": false,
    "nbgrader": {
     "grade": true,
     "grade_id": "cell-c240c90764d33248",
     "locked": false,
     "points": 0,
     "schema_version": 3,
     "solution": true,
     "task": false
    }
   },
   "outputs": [
    {
     "data": {
      "text/plain": [
       "a0     0.0\n",
       "a1     2.0\n",
       "a2     4.0\n",
       "a3     6.0\n",
       "a4     8.0\n",
       "a5    10.0\n",
       "dtype: float32"
      ]
     },
     "execution_count": 6,
     "metadata": {},
     "output_type": "execute_result"
    }
   ],
   "source": [
    "pd.Series(index=index, data=values, dtype=np.float32)"
   ]
  },
  {
   "cell_type": "code",
   "execution_count": 7,
   "metadata": {
    "deletable": false,
    "nbgrader": {
     "grade": true,
     "grade_id": "cell-6fbabf907e3a6991",
     "locked": false,
     "points": 0,
     "schema_version": 3,
     "solution": true,
     "task": false
    }
   },
   "outputs": [
    {
     "data": {
      "text/plain": [
       "a0     0.0\n",
       "a1     2.0\n",
       "a2     4.0\n",
       "a3     6.0\n",
       "a4     8.0\n",
       "a5    10.0\n",
       "dtype: float32"
      ]
     },
     "execution_count": 7,
     "metadata": {},
     "output_type": "execute_result"
    }
   ],
   "source": [
    "pd.Series(index=index, data=values).astype('float32')"
   ]
  },
  {
   "cell_type": "markdown",
   "metadata": {},
   "source": [
    "### Accessing the index"
   ]
  },
  {
   "cell_type": "markdown",
   "metadata": {},
   "source": [
    "Given the series below access the elements with index labels `\"a\"`, `\"f\"`, and `\"i\"` in three different ways."
   ]
  },
  {
   "cell_type": "code",
   "execution_count": 8,
   "metadata": {},
   "outputs": [
    {
     "data": {
      "text/plain": [
       "a     10\n",
       "b     20\n",
       "c     30\n",
       "d     40\n",
       "e     50\n",
       "f     60\n",
       "g     70\n",
       "h     80\n",
       "i     90\n",
       "j    100\n",
       "dtype: int64"
      ]
     },
     "execution_count": 8,
     "metadata": {},
     "output_type": "execute_result"
    }
   ],
   "source": [
    "s = pd.Series(range(10, 110, 10), list(\"abcdefghij\"))\n",
    "s"
   ]
  },
  {
   "cell_type": "code",
   "execution_count": 9,
   "metadata": {
    "deletable": false,
    "nbgrader": {
     "grade": true,
     "grade_id": "cell-80432176fc6ff803",
     "locked": false,
     "points": 0,
     "schema_version": 3,
     "solution": true,
     "task": false
    }
   },
   "outputs": [
    {
     "data": {
      "text/plain": [
       "a    10\n",
       "f    60\n",
       "i    90\n",
       "dtype: int64"
      ]
     },
     "execution_count": 9,
     "metadata": {},
     "output_type": "execute_result"
    }
   ],
   "source": [
    "labels_to_access = ['a', 'f', 'i']\n",
    "s.loc[labels_to_access]"
   ]
  },
  {
   "cell_type": "code",
   "execution_count": 10,
   "metadata": {
    "deletable": false,
    "nbgrader": {
     "grade": true,
     "grade_id": "cell-5d8a73580f046f67",
     "locked": false,
     "points": 0,
     "schema_version": 3,
     "solution": true,
     "task": false
    }
   },
   "outputs": [
    {
     "data": {
      "text/plain": [
       "a    10\n",
       "f    60\n",
       "i    90\n",
       "dtype: int64"
      ]
     },
     "execution_count": 10,
     "metadata": {},
     "output_type": "execute_result"
    }
   ],
   "source": [
    "s.loc[[label in labels_to_access for label in s.index]]"
   ]
  },
  {
   "cell_type": "code",
   "execution_count": 11,
   "metadata": {
    "deletable": false,
    "nbgrader": {
     "grade": true,
     "grade_id": "cell-4f9e8e4b4520dc3c",
     "locked": false,
     "points": 0,
     "schema_version": 3,
     "solution": true,
     "task": false
    }
   },
   "outputs": [
    {
     "data": {
      "text/plain": [
       "a    10\n",
       "f    60\n",
       "i    90\n",
       "dtype: int64"
      ]
     },
     "execution_count": 11,
     "metadata": {},
     "output_type": "execute_result"
    }
   ],
   "source": [
    "s.loc[s.index.isin(labels_to_access)]"
   ]
  },
  {
   "cell_type": "markdown",
   "metadata": {},
   "source": [
    "### Filtering elements\n",
    "\n",
    "Given the `Series` below, return a `Series` that contains al elements that are close to the corresponding integer part (ignoring all decimal places) within 0.001%."
   ]
  },
  {
   "cell_type": "code",
   "execution_count": 12,
   "metadata": {},
   "outputs": [
    {
     "data": {
      "text/plain": [
       "0     1.10000\n",
       "1     2.00000\n",
       "2     3.00100\n",
       "3    10.50000\n",
       "4     4.00000\n",
       "5     5.00000\n",
       "6     7.00001\n",
       "7    12.00000\n",
       "dtype: float64"
      ]
     },
     "execution_count": 12,
     "metadata": {},
     "output_type": "execute_result"
    }
   ],
   "source": [
    "s = pd.Series([1.1, 2.0, 3.001, 10.5, 4.0, 5, 7.00001, 12.0])\n",
    "s"
   ]
  },
  {
   "cell_type": "code",
   "execution_count": 13,
   "metadata": {
    "deletable": false,
    "nbgrader": {
     "grade": true,
     "grade_id": "cell-fa4cbeba4b8e534c",
     "locked": false,
     "points": 0,
     "schema_version": 3,
     "solution": true,
     "task": false
    }
   },
   "outputs": [
    {
     "data": {
      "text/plain": [
       "1     2.00000\n",
       "4     4.00000\n",
       "5     5.00000\n",
       "6     7.00001\n",
       "7    12.00000\n",
       "dtype: float64"
      ]
     },
     "execution_count": 13,
     "metadata": {},
     "output_type": "execute_result"
    }
   ],
   "source": [
    "s.loc[\n",
    "    (\n",
    "        (s.astype(int) - s)\n",
    "        .abs()\n",
    "        .div(s.astype(int))\n",
    "        .lt(0.001 / 100)\n",
    "    )\n",
    "]"
   ]
  },
  {
   "cell_type": "markdown",
   "metadata": {},
   "source": [
    "From the same `Series` *with all its elements converted to integers* return another `Series` that contains all even entries."
   ]
  },
  {
   "cell_type": "code",
   "execution_count": 14,
   "metadata": {
    "deletable": false,
    "nbgrader": {
     "grade": true,
     "grade_id": "cell-49ce582460fe5a78",
     "locked": false,
     "points": 0,
     "schema_version": 3,
     "solution": true,
     "task": false
    }
   },
   "outputs": [
    {
     "data": {
      "text/plain": [
       "1     2\n",
       "3    10\n",
       "4     4\n",
       "7    12\n",
       "dtype: int64"
      ]
     },
     "execution_count": 14,
     "metadata": {},
     "output_type": "execute_result"
    }
   ],
   "source": [
    "(\n",
    "    s\n",
    "    .astype('int')\n",
    "    .loc[lambda x: x % 2 == 0]\n",
    ")"
   ]
  },
  {
   "cell_type": "markdown",
   "metadata": {},
   "source": [
    "### Modifying elements"
   ]
  },
  {
   "cell_type": "markdown",
   "metadata": {},
   "source": [
    "You are given the `Series` below. Replace the values at index labels `\"c\"`, `\"d\"`, `\"e\"`, and `\"f\"` with the value -1000 *in one of the copies of `s`*. Come with three different methods to accomplish these changes. For each of the different approaches of copy of the original `Series` is available below."
   ]
  },
  {
   "cell_type": "code",
   "execution_count": 15,
   "metadata": {},
   "outputs": [
    {
     "data": {
      "text/plain": [
       "a     10\n",
       "b     20\n",
       "c     30\n",
       "d     40\n",
       "e     50\n",
       "f     60\n",
       "g     70\n",
       "h     80\n",
       "i     90\n",
       "j    100\n",
       "dtype: int64"
      ]
     },
     "execution_count": 15,
     "metadata": {},
     "output_type": "execute_result"
    }
   ],
   "source": [
    "s = pd.Series(range(10, 110, 10), list(\"abcdefghij\"))\n",
    "s"
   ]
  },
  {
   "cell_type": "code",
   "execution_count": 16,
   "metadata": {},
   "outputs": [],
   "source": [
    "s_copy1 = s.copy(deep=True)  # execute this line before making changes in the cell below"
   ]
  },
  {
   "cell_type": "code",
   "execution_count": 17,
   "metadata": {
    "deletable": false,
    "nbgrader": {
     "grade": true,
     "grade_id": "cell-fac3e0fc939a4671",
     "locked": false,
     "points": 0,
     "schema_version": 3,
     "solution": true,
     "task": false
    }
   },
   "outputs": [
    {
     "data": {
      "text/plain": [
       "a      10\n",
       "b      20\n",
       "c   -1000\n",
       "d   -1000\n",
       "e   -1000\n",
       "f   -1000\n",
       "g      70\n",
       "h      80\n",
       "i      90\n",
       "j     100\n",
       "dtype: int64"
      ]
     },
     "execution_count": 17,
     "metadata": {},
     "output_type": "execute_result"
    }
   ],
   "source": [
    "s_copy1.loc[\"c\":\"f\"] = -1000\n",
    "s_copy1"
   ]
  },
  {
   "cell_type": "code",
   "execution_count": 18,
   "metadata": {},
   "outputs": [],
   "source": [
    "s_copy2 = s.copy(deep=True)  # execute this cell before making changes in the cell below"
   ]
  },
  {
   "cell_type": "code",
   "execution_count": 19,
   "metadata": {
    "deletable": false,
    "nbgrader": {
     "grade": true,
     "grade_id": "cell-f0097f2c2e2e0e2f",
     "locked": false,
     "points": 0,
     "schema_version": 3,
     "solution": true,
     "task": false
    }
   },
   "outputs": [
    {
     "data": {
      "text/plain": [
       "a      10\n",
       "b      20\n",
       "c   -1000\n",
       "d   -1000\n",
       "e   -1000\n",
       "f   -1000\n",
       "g      70\n",
       "h      80\n",
       "i      90\n",
       "j     100\n",
       "dtype: int64"
      ]
     },
     "execution_count": 19,
     "metadata": {},
     "output_type": "execute_result"
    }
   ],
   "source": [
    "s_copy2.loc[['c', 'd', 'e', 'f']] = -1000\n",
    "s_copy2"
   ]
  },
  {
   "cell_type": "code",
   "execution_count": 20,
   "metadata": {},
   "outputs": [],
   "source": [
    "s_copy3 = s.copy(deep=True)  # execute this cell before making changes in the cell below"
   ]
  },
  {
   "cell_type": "code",
   "execution_count": 21,
   "metadata": {
    "deletable": false,
    "nbgrader": {
     "grade": true,
     "grade_id": "cell-e2339d7f466f3a06",
     "locked": false,
     "points": 0,
     "schema_version": 3,
     "solution": true,
     "task": false
    }
   },
   "outputs": [
    {
     "data": {
      "text/plain": [
       "a      10\n",
       "b      20\n",
       "c   -1000\n",
       "d   -1000\n",
       "e   -1000\n",
       "f   -1000\n",
       "g      70\n",
       "h      80\n",
       "i      90\n",
       "j     100\n",
       "dtype: int64"
      ]
     },
     "execution_count": 21,
     "metadata": {},
     "output_type": "execute_result"
    }
   ],
   "source": [
    "s_copy3.loc[[label in ['c', 'd', 'e', 'f'] for label in s_copy3.index]] = -1000\n",
    "s_copy3"
   ]
  },
  {
   "cell_type": "markdown",
   "metadata": {},
   "source": [
    "### `Series` with duplicate entries in the index\n",
    "\n",
    "The `Series` given below has duplicated entries in its index. Access all elements sharing this index label. Afterward return a `Series` where the duplicate entries have been removed.\n",
    "\n",
    "*Hint*: You can for example use a boolean mask to accomplish the removal. Can you come up with different ways to create such a boolean mask?"
   ]
  },
  {
   "cell_type": "code",
   "execution_count": 22,
   "metadata": {},
   "outputs": [
    {
     "data": {
      "text/plain": [
       "a    0\n",
       "b    1\n",
       "a    2\n",
       "a    3\n",
       "c    4\n",
       "d    5\n",
       "e    6\n",
       "f    7\n",
       "a    8\n",
       "g    9\n",
       "dtype: int64"
      ]
     },
     "execution_count": 22,
     "metadata": {},
     "output_type": "execute_result"
    }
   ],
   "source": [
    "s = pd.Series(range(10), index=[\"a\", \"b\", \"a\", \"a\", \"c\", \"d\", \"e\", \"f\", \"a\", \"g\"])\n",
    "s"
   ]
  },
  {
   "cell_type": "markdown",
   "metadata": {},
   "source": [
    "Get all values at duplicate  index entries."
   ]
  },
  {
   "cell_type": "code",
   "execution_count": 23,
   "metadata": {
    "deletable": false,
    "nbgrader": {
     "grade": true,
     "grade_id": "cell-be5f99a816b75400",
     "locked": false,
     "points": 0,
     "schema_version": 3,
     "solution": true,
     "task": false
    }
   },
   "outputs": [
    {
     "data": {
      "text/plain": [
       "a    0\n",
       "a    2\n",
       "a    3\n",
       "a    8\n",
       "dtype: int64"
      ]
     },
     "execution_count": 23,
     "metadata": {},
     "output_type": "execute_result"
    }
   ],
   "source": [
    "s.loc['a']"
   ]
  },
  {
   "cell_type": "markdown",
   "metadata": {},
   "source": [
    "Return `Series` without all duplicate index labels."
   ]
  },
  {
   "cell_type": "code",
   "execution_count": 24,
   "metadata": {
    "deletable": false,
    "nbgrader": {
     "grade": true,
     "grade_id": "cell-ab89eb656f8a9bcc",
     "locked": false,
     "points": 0,
     "schema_version": 3,
     "solution": true,
     "task": false
    }
   },
   "outputs": [
    {
     "data": {
      "text/plain": [
       "b    1\n",
       "c    4\n",
       "d    5\n",
       "e    6\n",
       "f    7\n",
       "g    9\n",
       "dtype: int64"
      ]
     },
     "execution_count": 24,
     "metadata": {},
     "output_type": "execute_result"
    }
   ],
   "source": [
    "s.loc[~s.index.str.contains('a')]"
   ]
  },
  {
   "cell_type": "code",
   "execution_count": 25,
   "metadata": {
    "deletable": false,
    "nbgrader": {
     "grade": true,
     "grade_id": "cell-2a2bbf2d7bd63c57",
     "locked": false,
     "points": 0,
     "schema_version": 3,
     "solution": true,
     "task": false
    }
   },
   "outputs": [
    {
     "data": {
      "text/plain": [
       "b    1\n",
       "c    4\n",
       "d    5\n",
       "e    6\n",
       "f    7\n",
       "g    9\n",
       "dtype: int64"
      ]
     },
     "execution_count": 25,
     "metadata": {},
     "output_type": "execute_result"
    }
   ],
   "source": [
    "s.loc[[label != 'a' for label in s.index]]"
   ]
  },
  {
   "cell_type": "markdown",
   "metadata": {},
   "source": [
    "## Operations between `Series`"
   ]
  },
  {
   "cell_type": "markdown",
   "metadata": {},
   "source": [
    "### Arithmetic"
   ]
  },
  {
   "cell_type": "markdown",
   "metadata": {},
   "source": [
    "Given the `Series` below, compute their sum, difference, product and division. Do by using 1. the usual arithmetic operator, and 2. an appropriate method call."
   ]
  },
  {
   "cell_type": "code",
   "execution_count": 26,
   "metadata": {},
   "outputs": [
    {
     "data": {
      "text/plain": [
       "(0    1\n",
       " 1    2\n",
       " 2    3\n",
       " 3    4\n",
       " 4    5\n",
       " dtype: int64,\n",
       " 0    5\n",
       " 1    4\n",
       " 2    3\n",
       " 3    2\n",
       " 4    1\n",
       " dtype: int64)"
      ]
     },
     "execution_count": 26,
     "metadata": {},
     "output_type": "execute_result"
    }
   ],
   "source": [
    "s1, s2 = pd.Series(range(1, 6)), pd.Series(range(5, 0, -1))\n",
    "s1, s2"
   ]
  },
  {
   "cell_type": "code",
   "execution_count": 57,
   "metadata": {
    "deletable": false,
    "nbgrader": {
     "grade": true,
     "grade_id": "cell-1a66a7e2341be794",
     "locked": false,
     "points": 0,
     "schema_version": 3,
     "solution": true,
     "task": false
    }
   },
   "outputs": [
    {
     "data": {
      "text/plain": [
       "(a    11.0\n",
       " b    22.0\n",
       " c    33.0\n",
       " d    44.0\n",
       " e    55.0\n",
       " f     NaN\n",
       " g     NaN\n",
       " dtype: float64,\n",
       " a    11.0\n",
       " b    22.0\n",
       " c    33.0\n",
       " d    44.0\n",
       " e    55.0\n",
       " f     NaN\n",
       " g     NaN\n",
       " dtype: float64)"
      ]
     },
     "execution_count": 57,
     "metadata": {},
     "output_type": "execute_result"
    }
   ],
   "source": [
    "s1 + s2, s1.add(s2)"
   ]
  },
  {
   "cell_type": "code",
   "execution_count": 58,
   "metadata": {
    "deletable": false,
    "nbgrader": {
     "grade": true,
     "grade_id": "cell-64c594bab2fd41e1",
     "locked": false,
     "points": 0,
     "schema_version": 3,
     "solution": true,
     "task": false
    }
   },
   "outputs": [
    {
     "data": {
      "text/plain": [
       "(a    -9.0\n",
       " b   -18.0\n",
       " c   -27.0\n",
       " d   -36.0\n",
       " e   -45.0\n",
       " f     NaN\n",
       " g     NaN\n",
       " dtype: float64,\n",
       " a    -9.0\n",
       " b   -18.0\n",
       " c   -27.0\n",
       " d   -36.0\n",
       " e   -45.0\n",
       " f     NaN\n",
       " g     NaN\n",
       " dtype: float64)"
      ]
     },
     "execution_count": 58,
     "metadata": {},
     "output_type": "execute_result"
    }
   ],
   "source": [
    "s1 - s2, s1.sub(s2)"
   ]
  },
  {
   "cell_type": "code",
   "execution_count": 59,
   "metadata": {
    "deletable": false,
    "nbgrader": {
     "grade": true,
     "grade_id": "cell-4c4774972eb58d61",
     "locked": false,
     "points": 0,
     "schema_version": 3,
     "solution": true,
     "task": false
    }
   },
   "outputs": [
    {
     "data": {
      "text/plain": [
       "(a     10.0\n",
       " b     40.0\n",
       " c     90.0\n",
       " d    160.0\n",
       " e    250.0\n",
       " f      NaN\n",
       " g      NaN\n",
       " dtype: float64,\n",
       " a     10.0\n",
       " b     40.0\n",
       " c     90.0\n",
       " d    160.0\n",
       " e    250.0\n",
       " f      NaN\n",
       " g      NaN\n",
       " dtype: float64)"
      ]
     },
     "execution_count": 59,
     "metadata": {},
     "output_type": "execute_result"
    }
   ],
   "source": [
    "s1 * s2, s1.mul(s2)"
   ]
  },
  {
   "cell_type": "code",
   "execution_count": 60,
   "metadata": {
    "deletable": false,
    "nbgrader": {
     "grade": true,
     "grade_id": "cell-09c13f118701efd1",
     "locked": false,
     "points": 0,
     "schema_version": 3,
     "solution": true,
     "task": false
    }
   },
   "outputs": [
    {
     "data": {
      "text/plain": [
       "(a    1.0\n",
       " b    1.0\n",
       " c    1.0\n",
       " d    1.0\n",
       " e    1.0\n",
       " dtype: float64,\n",
       " a    0.1\n",
       " b    0.1\n",
       " c    0.1\n",
       " d    0.1\n",
       " e    0.1\n",
       " f    NaN\n",
       " g    NaN\n",
       " dtype: float64)"
      ]
     },
     "execution_count": 60,
     "metadata": {},
     "output_type": "execute_result"
    }
   ],
   "source": [
    "s1 / s1, s1.div(s2)"
   ]
  },
  {
   "cell_type": "markdown",
   "metadata": {},
   "source": [
    "### Match by index\n",
    "\n",
    "The `Series` given below have different sizes and hence do not share the same index. Compute the result of adding both `Series`."
   ]
  },
  {
   "cell_type": "code",
   "execution_count": 31,
   "metadata": {},
   "outputs": [
    {
     "data": {
      "text/plain": [
       "(a    1\n",
       " b    2\n",
       " c    3\n",
       " d    4\n",
       " e    5\n",
       " dtype: int64,\n",
       " g    70\n",
       " f    60\n",
       " e    50\n",
       " d    40\n",
       " c    30\n",
       " b    20\n",
       " a    10\n",
       " dtype: int64)"
      ]
     },
     "execution_count": 31,
     "metadata": {},
     "output_type": "execute_result"
    }
   ],
   "source": [
    "s1 = pd.Series(range(1, 6), index=list(\"abcde\"))\n",
    "s2 = pd.Series(range(70, 0, -10), index=list(\"abcdefg\")[::-1])\n",
    "s1, s2"
   ]
  },
  {
   "cell_type": "markdown",
   "metadata": {},
   "source": [
    "1. Remove all elements for which no result is obtained."
   ]
  },
  {
   "cell_type": "code",
   "execution_count": 62,
   "metadata": {
    "deletable": false,
    "nbgrader": {
     "grade": true,
     "grade_id": "cell-0db425e46c76d6dc",
     "locked": false,
     "points": 0,
     "schema_version": 3,
     "solution": true,
     "task": false
    }
   },
   "outputs": [
    {
     "data": {
      "text/plain": [
       "a    11.0\n",
       "b    22.0\n",
       "c    33.0\n",
       "d    44.0\n",
       "e    55.0\n",
       "dtype: float64"
      ]
     },
     "execution_count": 62,
     "metadata": {},
     "output_type": "execute_result"
    }
   ],
   "source": [
    "(s1 + s2).dropna()"
   ]
  },
  {
   "cell_type": "markdown",
   "metadata": {},
   "source": [
    "2. Fill all elements with no result with a default value of your choice."
   ]
  },
  {
   "cell_type": "code",
   "execution_count": 65,
   "metadata": {
    "deletable": false,
    "nbgrader": {
     "grade": true,
     "grade_id": "cell-5feff9ccc6b81623",
     "locked": false,
     "points": 0,
     "schema_version": 3,
     "solution": true,
     "task": false
    }
   },
   "outputs": [
    {
     "data": {
      "text/plain": [
       "a      11.0\n",
       "b      22.0\n",
       "c      33.0\n",
       "d      44.0\n",
       "e      55.0\n",
       "f   -1000.0\n",
       "g   -1000.0\n",
       "dtype: float64"
      ]
     },
     "execution_count": 65,
     "metadata": {},
     "output_type": "execute_result"
    }
   ],
   "source": [
    "(s1 + s2).fillna(-1000)"
   ]
  },
  {
   "cell_type": "markdown",
   "metadata": {},
   "source": [
    "## `Series` method calls"
   ]
  },
  {
   "cell_type": "markdown",
   "metadata": {},
   "source": [
    "### Statistics\n",
    "\n",
    "Given the `Series` below determine the minimal, maximal, mean, and median value. Do so in three different ways.\n",
    "\n",
    "*Hint*: The `.apply()` method can also reduce."
   ]
  },
  {
   "cell_type": "code",
   "execution_count": 66,
   "metadata": {},
   "outputs": [],
   "source": [
    "s = pd.Series(np.random.normal(size=200))"
   ]
  },
  {
   "cell_type": "code",
   "execution_count": 68,
   "metadata": {
    "deletable": false,
    "nbgrader": {
     "grade": true,
     "grade_id": "cell-db698bda7ea49330",
     "locked": false,
     "points": 0,
     "schema_version": 3,
     "solution": true,
     "task": false
    }
   },
   "outputs": [
    {
     "data": {
      "text/plain": [
       "min    -2.613807\n",
       "max     2.671980\n",
       "mean    0.075700\n",
       "50%     0.098854\n",
       "dtype: float64"
      ]
     },
     "execution_count": 68,
     "metadata": {},
     "output_type": "execute_result"
    }
   ],
   "source": [
    "s.describe().loc[[\"min\", \"max\", \"mean\", \"50%\"]]"
   ]
  },
  {
   "cell_type": "code",
   "execution_count": 69,
   "metadata": {
    "deletable": false,
    "nbgrader": {
     "grade": true,
     "grade_id": "cell-3d0d50e928eda7ec",
     "locked": false,
     "points": 0,
     "schema_version": 3,
     "solution": true,
     "task": false
    }
   },
   "outputs": [
    {
     "data": {
      "text/plain": [
       "min      -2.613807\n",
       "max       2.671980\n",
       "mean      0.075700\n",
       "median    0.098854\n",
       "dtype: float64"
      ]
     },
     "execution_count": 69,
     "metadata": {},
     "output_type": "execute_result"
    }
   ],
   "source": [
    "s.agg([\"min\", \"max\", \"mean\", \"median\"])"
   ]
  },
  {
   "cell_type": "code",
   "execution_count": 70,
   "metadata": {
    "deletable": false,
    "nbgrader": {
     "grade": true,
     "grade_id": "cell-57f73248b654b5d8",
     "locked": false,
     "points": 0,
     "schema_version": 3,
     "solution": true,
     "task": false
    }
   },
   "outputs": [
    {
     "data": {
      "text/plain": [
       "min      -2.613807\n",
       "max       2.671980\n",
       "mean      0.075700\n",
       "median    0.098854\n",
       "dtype: float64"
      ]
     },
     "execution_count": 70,
     "metadata": {},
     "output_type": "execute_result"
    }
   ],
   "source": [
    "s.apply({\n",
    "    \"min\": lambda s: s.min(),\n",
    "    \"max\": lambda s: s.max(),\n",
    "    \"mean\": lambda s: s.mean(),\n",
    "    \"median\": lambda s: s.median(),    \n",
    "})"
   ]
  },
  {
   "cell_type": "markdown",
   "metadata": {},
   "source": [
    "### Centering on the mean\n",
    "\n",
    "Subtract the mean value computed for the `Series` below from all of its elements. Do so by using \n",
    "\n",
    "1. the `.transform()` method,\n",
    "2. the `.apply()` method.\n",
    "3. another method you can think of."
   ]
  },
  {
   "cell_type": "code",
   "execution_count": 71,
   "metadata": {},
   "outputs": [
    {
     "data": {
      "text/plain": [
       "0     20\n",
       "1     30\n",
       "2     40\n",
       "3     50\n",
       "4     60\n",
       "5     70\n",
       "6     80\n",
       "7     90\n",
       "8    100\n",
       "dtype: int64"
      ]
     },
     "execution_count": 71,
     "metadata": {},
     "output_type": "execute_result"
    }
   ],
   "source": [
    "s = pd.Series(range(20, 110, 10))\n",
    "s"
   ]
  },
  {
   "cell_type": "code",
   "execution_count": 72,
   "metadata": {
    "deletable": false,
    "nbgrader": {
     "grade": true,
     "grade_id": "cell-581dec6f2489335e",
     "locked": false,
     "points": 0,
     "schema_version": 3,
     "solution": true,
     "task": false
    }
   },
   "outputs": [
    {
     "data": {
      "text/plain": [
       "0   -40.0\n",
       "1   -30.0\n",
       "2   -20.0\n",
       "3   -10.0\n",
       "4     0.0\n",
       "5    10.0\n",
       "6    20.0\n",
       "7    30.0\n",
       "8    40.0\n",
       "dtype: float64"
      ]
     },
     "execution_count": 72,
     "metadata": {},
     "output_type": "execute_result"
    }
   ],
   "source": [
    "s.transform(lambda s: s - s.mean())"
   ]
  },
  {
   "cell_type": "code",
   "execution_count": 74,
   "metadata": {
    "deletable": false,
    "nbgrader": {
     "grade": true,
     "grade_id": "cell-7538d4241e6503ff",
     "locked": false,
     "points": 0,
     "schema_version": 3,
     "solution": true,
     "task": false
    }
   },
   "outputs": [
    {
     "data": {
      "text/plain": [
       "0   -40.0\n",
       "1   -30.0\n",
       "2   -20.0\n",
       "3   -10.0\n",
       "4     0.0\n",
       "5    10.0\n",
       "6    20.0\n",
       "7    30.0\n",
       "8    40.0\n",
       "dtype: float64"
      ]
     },
     "execution_count": 74,
     "metadata": {},
     "output_type": "execute_result"
    }
   ],
   "source": [
    "s.apply(lambda s: s - s.mean(), by_row=False)"
   ]
  },
  {
   "cell_type": "code",
   "execution_count": 75,
   "metadata": {
    "deletable": false,
    "nbgrader": {
     "grade": true,
     "grade_id": "cell-d6788054efa269e7",
     "locked": false,
     "points": 0,
     "schema_version": 3,
     "solution": true,
     "task": false
    }
   },
   "outputs": [
    {
     "data": {
      "text/plain": [
       "0   -40.0\n",
       "1   -30.0\n",
       "2   -20.0\n",
       "3   -10.0\n",
       "4     0.0\n",
       "5    10.0\n",
       "6    20.0\n",
       "7    30.0\n",
       "8    40.0\n",
       "dtype: float64"
      ]
     },
     "execution_count": 75,
     "metadata": {},
     "output_type": "execute_result"
    }
   ],
   "source": [
    "s.sub(s.mean())"
   ]
  },
  {
   "cell_type": "markdown",
   "metadata": {},
   "source": [
    "### Fix me!\n",
    "\n",
    "What is the issue with the following line of code? The code is *commented* and will not execute until you remove the `#`."
   ]
  },
  {
   "cell_type": "code",
   "execution_count": 77,
   "metadata": {},
   "outputs": [],
   "source": [
    "# pd.Series(range(10)).transform(lambda s: s.mean())"
   ]
  },
  {
   "cell_type": "markdown",
   "metadata": {},
   "source": [
    "### Computing with NaNs\n",
    "\n",
    "The `Series` below contains several `NaN` entries."
   ]
  },
  {
   "cell_type": "code",
   "execution_count": 85,
   "metadata": {},
   "outputs": [
    {
     "data": {
      "text/plain": [
       "0     20.0\n",
       "1      NaN\n",
       "2      1.0\n",
       "3      NaN\n",
       "4      NaN\n",
       "5     40.0\n",
       "6      4.0\n",
       "7      3.0\n",
       "8     30.0\n",
       "9      2.0\n",
       "10     0.0\n",
       "11     NaN\n",
       "12    10.0\n",
       "dtype: float64"
      ]
     },
     "execution_count": 85,
     "metadata": {},
     "output_type": "execute_result"
    }
   ],
   "source": [
    "data = np.array(list(range(5)) + [np.nan] * 4 + list(range(10, 50, 10)))\n",
    "np.random.shuffle(data)\n",
    "s = pd.Series(data)\n",
    "s"
   ]
  },
  {
   "cell_type": "markdown",
   "metadata": {},
   "source": [
    "1. Compute the mean and the median value. "
   ]
  },
  {
   "cell_type": "code",
   "execution_count": 89,
   "metadata": {
    "deletable": false,
    "nbgrader": {
     "grade": true,
     "grade_id": "cell-5d3e2614b85bd2c5",
     "locked": false,
     "points": 0,
     "schema_version": 3,
     "solution": true,
     "task": false
    }
   },
   "outputs": [
    {
     "data": {
      "text/plain": [
       "mean      12.222222\n",
       "median     4.000000\n",
       "dtype: float64"
      ]
     },
     "execution_count": 89,
     "metadata": {},
     "output_type": "execute_result"
    }
   ],
   "source": [
    "s.agg([\"mean\", \"median\"], skipna=True)"
   ]
  },
  {
   "cell_type": "code",
   "execution_count": 90,
   "metadata": {},
   "outputs": [
    {
     "data": {
      "text/plain": [
       "mean      12.222222\n",
       "median     4.000000\n",
       "dtype: float64"
      ]
     },
     "execution_count": 90,
     "metadata": {},
     "output_type": "execute_result"
    }
   ],
   "source": [
    "s.dropna().agg([\"mean\", \"median\"])\n",
    "# s.mean(skipna=False)"
   ]
  },
  {
   "cell_type": "markdown",
   "metadata": {},
   "source": [
    "2. Recompute the mean and the median values but before doing this, replace the \"missing values\" (all the `NaN`s) with `np.pi`. Conduct this replacement in two different ways.\n",
    "\n",
    "*Hint*: One way to achieve this is the `.where()`  method."
   ]
  },
  {
   "cell_type": "code",
   "execution_count": 92,
   "metadata": {
    "deletable": false,
    "nbgrader": {
     "grade": true,
     "grade_id": "cell-bc2d7a608f74353e",
     "locked": false,
     "points": 0,
     "schema_version": 3,
     "solution": true,
     "task": false
    }
   },
   "outputs": [
    {
     "data": {
      "text/plain": [
       "mean      9.428182\n",
       "median    3.141593\n",
       "dtype: float64"
      ]
     },
     "execution_count": 92,
     "metadata": {},
     "output_type": "execute_result"
    }
   ],
   "source": [
    "(\n",
    "    s\n",
    "    .fillna(np.pi)\n",
    "    .agg([\"mean\", \"median\"])\n",
    ")"
   ]
  },
  {
   "cell_type": "code",
   "execution_count": 95,
   "metadata": {
    "deletable": false,
    "nbgrader": {
     "grade": true,
     "grade_id": "cell-37cc74db242208fd",
     "locked": false,
     "points": 0,
     "schema_version": 3,
     "solution": true,
     "task": false
    }
   },
   "outputs": [
    {
     "data": {
      "text/plain": [
       "mean      9.428182\n",
       "median    3.141593\n",
       "dtype: float64"
      ]
     },
     "execution_count": 95,
     "metadata": {},
     "output_type": "execute_result"
    }
   ],
   "source": [
    "(\n",
    "    s\n",
    "    .where(lambda s_: s_.notna(), np.pi) \n",
    "    .agg([\"mean\", \"median\"])\n",
    ")"
   ]
  },
  {
   "cell_type": "markdown",
   "metadata": {},
   "source": [
    "## Plotting with `Series`"
   ]
  },
  {
   "cell_type": "markdown",
   "metadata": {},
   "source": [
    "### Basic"
   ]
  },
  {
   "cell_type": "markdown",
   "metadata": {},
   "source": [
    "Create a histogram plot for the data in the following `Series`."
   ]
  },
  {
   "cell_type": "code",
   "execution_count": 96,
   "metadata": {},
   "outputs": [],
   "source": [
    "s = pd.Series(\n",
    "    np.concatenate(\n",
    "        (\n",
    "            np.random.normal(loc=0, scale=0.75, size=500),\n",
    "            np.random.normal(loc=3, scale=0.5, size=500),\n",
    "        ),\n",
    "        axis=0,\n",
    "    )\n",
    ")"
   ]
  },
  {
   "cell_type": "code",
   "execution_count": 98,
   "metadata": {
    "deletable": false,
    "nbgrader": {
     "grade": true,
     "grade_id": "cell-bd57c3f18bc88837",
     "locked": false,
     "points": 0,
     "schema_version": 3,
     "solution": true,
     "task": false
    }
   },
   "outputs": [
    {
     "data": {
      "text/plain": [
       "<Axes: ylabel='Frequency'>"
      ]
     },
     "execution_count": 98,
     "metadata": {},
     "output_type": "execute_result"
    },
    {
     "data": {
      "image/png": "[encoded data removed]",
      "text/plain": [
       "<Figure size 640x480 with 1 Axes>"
      ]
     },
     "metadata": {},
     "output_type": "display_data"
    }
   ],
   "source": [
    "s.plot.hist(bins=20)"
   ]
  },
  {
   "cell_type": "markdown",
   "metadata": {},
   "source": [
    "Now create a boxplot."
   ]
  },
  {
   "cell_type": "code",
   "execution_count": 99,
   "metadata": {
    "deletable": false,
    "nbgrader": {
     "grade": true,
     "grade_id": "cell-d1ca5b18870a5ef4",
     "locked": false,
     "points": 0,
     "schema_version": 3,
     "solution": true,
     "task": false
    }
   },
   "outputs": [
    {
     "data": {
      "text/plain": [
       "<Axes: >"
      ]
     },
     "execution_count": 99,
     "metadata": {},
     "output_type": "execute_result"
    },
    {
     "data": {
      "image/png": "[encoded data removed]",
      "text/plain": [
       "<Figure size 640x480 with 1 Axes>"
      ]
     },
     "metadata": {},
     "output_type": "display_data"
    }
   ],
   "source": [
    "s.plot.box()"
   ]
  },
  {
   "cell_type": "markdown",
   "metadata": {},
   "source": [
    "Now create a violin plot."
   ]
  },
  {
   "cell_type": "code",
   "execution_count": 101,
   "metadata": {
    "deletable": false,
    "nbgrader": {
     "grade": true,
     "grade_id": "cell-35c10e3b3df87b49",
     "locked": false,
     "points": 0,
     "schema_version": 3,
     "solution": true,
     "task": false
    }
   },
   "outputs": [
    {
     "data": {
      "text/plain": [
       "{'bodies': [<matplotlib.collections.FillBetweenPolyCollection at 0x7efeed791850>],\n",
       " 'cmaxes': <matplotlib.collections.LineCollection at 0x7efeeaadfef0>,\n",
       " 'cmins': <matplotlib.collections.LineCollection at 0x7efeeabb5550>,\n",
       " 'cbars': <matplotlib.collections.LineCollection at 0x7efeea9221b0>,\n",
       " 'cmedians': <matplotlib.collections.LineCollection at 0x7efeea9226f0>}"
      ]
     },
     "execution_count": 101,
     "metadata": {},
     "output_type": "execute_result"
    },
    {
     "data": {
      "image/png": "[encoded data removed]",
      "text/plain": [
       "<Figure size 640x480 with 1 Axes>"
      ]
     },
     "metadata": {},
     "output_type": "display_data"
    }
   ],
   "source": [
    "fig, ax = plt.subplots(1, 1)\n",
    "\n",
    "ax.violinplot(s, showextrema=True, showmedians=True)"
   ]
  },
  {
   "cell_type": "markdown",
   "metadata": {},
   "source": [
    "### Subplots\n",
    "\n",
    "You are given the `Series` below that contains duplicated index entries of three kinds: `\"classA\"`, `\"classB\"`, and `\"classC\"`."
   ]
  },
  {
   "cell_type": "code",
   "execution_count": 51,
   "metadata": {},
   "outputs": [],
   "source": [
    "s = pd.Series(\n",
    "    np.concatenate(\n",
    "        (\n",
    "            np.random.normal(loc=2, scale=1, size=200),\n",
    "            np.random.normal(loc=5, scale=0.5, size=200),\n",
    "            np.random.normal(loc=3, scale=1.15, size=100),\n",
    "            np.random.normal(loc=8, scale=0.75, size=200),\n",
    "        ),\n",
    "        axis=0,\n",
    "    ),\n",
    "    index=[\"classA\"] * 200 + [\"classB\"] * 200 + [\"classC\"] * 100 + [\"classC\"] * 200,\n",
    ")"
   ]
  },
  {
   "cell_type": "markdown",
   "metadata": {},
   "source": [
    "Create a histogram plot of the that allows to distinguish all three classes; in particular the peaks of the single distributions must be visible. Make sure to add a legend so all classes can be distinguished."
   ]
  },
  {
   "cell_type": "code",
   "execution_count": 52,
   "metadata": {
    "deletable": false,
    "nbgrader": {
     "grade": true,
     "grade_id": "cell-a7bfe0d2f9617fa8",
     "locked": false,
     "points": 0,
     "schema_version": 3,
     "solution": true,
     "task": false
    }
   },
   "outputs": [],
   "source": [
    "# Fill the gap!"
   ]
  },
  {
   "cell_type": "markdown",
   "metadata": {},
   "source": [
    "Now create a 3x1 grid of subplots. Each subplot shall hold a histogram of a particular class and the subplots shall share a common x-axis."
   ]
  },
  {
   "cell_type": "code",
   "execution_count": 53,
   "metadata": {
    "deletable": false,
    "nbgrader": {
     "grade": true,
     "grade_id": "cell-922c6aa8cae9173b",
     "locked": false,
     "points": 0,
     "schema_version": 3,
     "solution": true,
     "task": false
    }
   },
   "outputs": [],
   "source": [
    "# Fill the gap!"
   ]
  },
  {
   "cell_type": "markdown",
   "metadata": {},
   "source": [
    "### Polling for data\n",
    "\n",
    "Suppose you have conducted an anonymous poll in which --- amongst other things --- you have asked participants to provide information regarding employment status. Annoyingly, the online form to gather the data contained a field in which people could write arbitray text (maybe the number of characters was limited) instead of a drop-down menu that provides several answers from which people can choose what fits them best. Anyway, as a result you are getting some answers which are not really suitable for your research (e.g. \"Working with the Avengers\"). You have to apply some of the techniques just learned about manipulating `Series` to bring the data into a form suitable for further processing.\n",
    "\n",
    "To keep things simple let's assume the answers you were hoping for are `\"Employed\"` (or `\"employed\"` --- yes, capitalization can will also get in your way here ;-)), and `\"Unemployed\"` (or `\"unemployed\"`). We consider these as 'usable' while the rest is 'unusable' (we assume that the poll does not containe further information that allows to make them 'usable').\n",
    "\n",
    "Replace all entries you consider 'unusable' with `\"unknown\"`. Futher change all 'usable' entries to lowercase.\n",
    "\n",
    "Generate two plots side-by-side that show *one* of the following (you choose!):\n",
    "\n",
    "* The counts of each category from the *uncleaned* dataset on the left and the counts of each category in *cleaned* dataset on the right.\n",
    "* The relative proportions of the categories from the *uncleaned* dataset on the left and the relative proportions from the uncleaned dataset on right.\n",
    "\n",
    "Depending on what kind visualization form you use, choose an appropriate plot."
   ]
  },
  {
   "cell_type": "code",
   "execution_count": 54,
   "metadata": {},
   "outputs": [
    {
     "data": {
      "text/plain": [
       "0         Employed\n",
       "1         Employed\n",
       "2         employed\n",
       "3       Unemployed\n",
       "4         Employed\n",
       "           ...    \n",
       "3188      Employed\n",
       "3189      Employed\n",
       "3190      Employed\n",
       "3191      Employed\n",
       "3192      Employed\n",
       "Length: 3193, dtype: object"
      ]
     },
     "execution_count": 54,
     "metadata": {},
     "output_type": "execute_result"
    }
   ],
   "source": [
    "rng = np.random.default_rng(seed=42)\n",
    "\n",
    "data = np.array(\n",
    "    [\"Employed\"] * rng.choice(range(2000, 5000))\n",
    "    + [\"employed\"] * rng.choice(range(100, 500))\n",
    "    + [\"Unemployed\"] * rng.choice(range(200, 400))\n",
    "    + [\"unemployed\"] * rng.choice(range(50, 70))\n",
    "    + [\"Rate mal\"] * rng.choice(range(10, 20))\n",
    "    + [\"Having fun all day\"] * rng.choice(range(50, 100))\n",
    "    + [\"geht dich nix an\"] * rng.choice(range(20, 60))\n",
    ")\n",
    "rng.shuffle(data)\n",
    "\n",
    "poll = pd.Series(data=data)\n",
    "poll"
   ]
  },
  {
   "cell_type": "code",
   "execution_count": 55,
   "metadata": {
    "deletable": false,
    "nbgrader": {
     "grade": true,
     "grade_id": "cell-e147c25901823d7f",
     "locked": false,
     "points": 0,
     "schema_version": 3,
     "solution": true,
     "task": false
    }
   },
   "outputs": [],
   "source": [
    "# Fill the gap!"
   ]
  },
  {
   "cell_type": "code",
   "execution_count": 56,
   "metadata": {
    "deletable": false,
    "nbgrader": {
     "grade": true,
     "grade_id": "cell-dd688a48a672a84e",
     "locked": false,
     "points": 0,
     "schema_version": 3,
     "solution": true,
     "task": false
    }
   },
   "outputs": [],
   "source": [
    "# Fill the gap!"
   ]
  },
  {
   "cell_type": "code",
   "execution_count": null,
   "metadata": {},
   "outputs": [],
   "source": []
  }
 ],
 "metadata": {
  "file_extension": ".py",
  "kernelspec": {
   "display_name": "Python 3 (ipykernel)",
   "language": "python",
   "name": "python3"
  },
  "language_info": {
   "codemirror_mode": {
    "name": "ipython",
    "version": 3
   },
   "file_extension": ".py",
   "mimetype": "text/x-python",
   "name": "python",
   "nbconvert_exporter": "python",
   "pygments_lexer": "ipython3",
   "version": "3.12.8"
  },
  "mimetype": "text/x-python",
  "name": "python",
  "npconvert_exporter": "python",
  "pygments_lexer": "ipython3",
  "version": 3
 },
 "nbformat": 4,
 "nbformat_minor": 4
}
