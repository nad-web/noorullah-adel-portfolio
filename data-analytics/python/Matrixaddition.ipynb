
{
 "cells": [
  {
   "cell_type": "markdown",
   "id": "963cbf6b-722b-4a92-a033-ec3f466db23d",
   "metadata": {},
   "source": [

   ]
  },
  {
   "cell_type": "markdown",
   "metadata": {},
   "source": [
    "# Addition geschachtelter Listen"
   ]
  },
  {
   "cell_type": "markdown",
   "metadata": {},
   "source": [
    "Diese Aufgabe wiederholt eine Problemstellung vorheriger Aufgaben (Matrizenaddition) und verallgemeinert sie. Sie können die vorherigen Lösungen als Grundlage verwenden, müssen aber noch eigene Arbeit leisten."
   ]
  },
  {
   "cell_type": "markdown",
   "metadata": {},
   "source": [
    "## Problemstellung"
   ]
  },
  {
   "cell_type": "markdown",
   "metadata": {},
   "source": [
    "In vergangenen Aufgaben haben Sie zwei Listen-von-Listen addiert. Diese sind nicht zwingend rechteckig, haben aber beide die gleiche Form. Das Ergebnis war eine geschachtelte Liste derselben Form."
   ]
  },
  {
   "cell_type": "markdown",
   "metadata": {},
   "source": [
    "Nun möchten Sie Ihre Funktion verallgemeinern und *beliebig viele* Listen-von-Listen auf einmal addieren. Diese müssen ebenfalls alle die gleiche Form haben."
   ]
  },
  {
   "cell_type": "markdown",
   "metadata": {},
   "source": [
    "## Ihre Aufgabe"
   ]
  },
  {
   "cell_type": "markdown",
   "metadata": {
    "deletable": false,
    "editable": false,
    "nbgrader": {
     "cell_type": "markdown",
     "checksum": "e9eff111a225b23cbfc3db3c5f863c4f",
     "grade": false,
     "grade_id": "cell-2eb2fe1ff2af9f69",
     "locked": true,
     "schema_version": 3,
     "solution": false,
     "task": false
    },
    "pycharm": {
     "name": "#%% md\n"
    },
    "tags": []
   },
   "source": [
    "Schreiben Sie eine Funktion `add`, die beliebig viele Listen von Listen addiert und eine Liste von Listen zurückgibt, deren Einträge die Summen der jeweiligen Einträge der gegebenen Listen sind.\n",
    "\n",
    "Als Hilfestellung können Sie sich die Lösungen der anderen Matrizenadditionsaufgaben anschauen. Achten Sie weiterhin darauf, Ihre Schleifen möglichst frei von Zählindizes zu halten, falls Sie Schleifen verwenden müssen. List Comprehensions und eingebaute Funktionen wie `zip`, `sum`, `len`, `any`, `all`, `min`, und `max` können nützlich sein. Lösen Sie diese Aufgabe ohne Verwendung externer Pakete oder Module.\n",
    "\n",
    "Die bisherigen Anforderungen sollten Sie weiterhin erfüllen:\n",
    "\n",
    "0. Die Funktion sollte in der Lage sein, zwei rechteckige Matrizen zu addieren.\n",
    "1. Die Funktion sollte zwei beliebige Listen-von-Listen addieren können, solange beide Listen die gleiche Form haben.\n",
    "2. Die Funktion soll `None` zurückgeben, falls die gegebenen Listen von Listen nicht die gleiche Form haben.\n",
    "\n",
    "Aber auch die folgenden Anforderungen sollen erfüllt sein:\n",
    "\n",
    "3. Die Funktion soll eine beliebige Zahl von Listen-von-Listen addieren können. Diese werden allesamt als positionelle Argumente an die Funktion übergeben.\n",
    "4. Stellen Sie sicher, dass Ihre Funktion damit umgehen kann, wenn dasselbe veränderliche Objekt mehrfach auftaucht."
   ]
  },
  {
   "cell_type": "code",
   "execution_count": null,
   "metadata": {
    "deletable": false,
    "jupyter": {
     "outputs_hidden": false
    },
    "nbgrader": {
     "cell_type": "code",
     "checksum": "a32f8db8e8b1d2e3a9e34a7a55339bf7",
     "grade": false,
     "grade_id": "cell-fffc2826f313b01a",
     "locked": false,
     "schema_version": 3,
     "solution": true,
     "task": false
    },
    "pycharm": {
     "name": "#%%\n"
    },
    "tags": []
   },
   "outputs": [],
   "source": [
    "# Bitte schreiben Sie hier Ihren Programmcode."
   ]
  },
  {
   "cell_type": "code",
   "execution_count": null,
   "metadata": {
    "deletable": false,
    "editable": false,
    "jupyter": {
     "outputs_hidden": false
    },
    "nbgrader": {
     "cell_type": "code",
     "checksum": "772c0ba3b489049ad46330338fe6c7d3",
     "grade": true,
     "grade_id": "cell-def19781878f4647",
     "locked": true,
     "points": 1,
     "schema_version": 3,
     "solution": false,
     "task": false
    },
    "pycharm": {
     "name": "#%%\n"
    },
    "tags": []
   },
   "outputs": [],
   "source": [
    "import pathlib\n",
    "\n",
    "import pytest\n",
    "from pytest_nbgrader import loader\n",
    "\n",
    "loader.Submission.submit(add)\n",
    "cases = pathlib.Path('tests') / 'Matrizenaddition'\n",
    "args = ['-qq', '-x', '-W', 'ignore::_pytest.warning_types.PytestAssertRewriteWarning', '--cases']\n",
    "\n",
    "assert pytest.main([*args, cases / 'rechteckige_listen.yml']) is pytest.ExitCode.OK\n",
    "assert pytest.main([*args, cases / 'beliebige_listen.yml']) is pytest.ExitCode.OK\n",
    "assert pytest.main([*args, cases / 'beliebige_zahl_an_listen.yml']) is pytest.ExitCode.OK\n",
    "assert pytest.main([*args, cases / 'pruefe_auf_gleiche_form.yml']) is pytest.ExitCode.OK\n",
    "assert pytest.main([*args, cases / 'mutable_elemente.yml']) is pytest.ExitCode.OK"
   ]
  }
 ],
 "metadata": {
  "kernelspec": {
   "display_name": "Python 3 (ipykernel)",
   "language": "python",
   "name": "python3"
  },
  "language_info": {
   "codemirror_mode": {
    "name": "ipython",
    "version": 3
   },
   "file_extension": ".py",
   "mimetype": "text/x-python",
   "name": "python",
   "nbconvert_exporter": "python",
   "pygments_lexer": "ipython3",
   "version": "3.12.0"
  },
  "toc": {
   "base_numbering": 1,
   "nav_menu": {},
   "number_sections": true,
   "sideBar": true,
   "skip_h1_title": false,
   "title_cell": "Table of Contents",
   "title_sidebar": "Contents",
   "toc_cell": false,
   "toc_position": {},
   "toc_section_display": true,
   "toc_window_display": false
  }
 },
 "nbformat": 4,
 "nbformat_minor": 4
}
