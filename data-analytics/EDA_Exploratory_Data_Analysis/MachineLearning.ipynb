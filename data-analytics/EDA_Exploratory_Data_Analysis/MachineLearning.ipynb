{
 "cells": [
  {
   "cell_type": "code",
   "execution_count": 1,
   "id": "31271993-bf25-4625-8ec8-2187f24ca21a",
   "metadata": {
    "deletable": false,
    "editable": false,
    "nbgrader": {
     "cell_type": "code",
     "checksum": "c15b6358b7d548e27f6d2a4b4abf9dc5",
     "grade": false,
     "grade_id": "cell-66fd743571be94ad",
     "locked": true,
     "schema_version": 3,
     "solution": false,
     "task": false
    }
   },
   "outputs": [],
   "source": [
    "%matplotlib inline\n",
    "\n",
    "import pandas as pd\n",
    "import numpy as np\n",
    "\n",
    "import matplotlib as mpl\n",
    "import matplotlib.pyplot as plt\n",
    "\n",
    "import seaborn as sns\n",
    "\n",
    "import requests\n",
    "import io\n",
    "from zipfile import ZipFile\n",
    "from pathlib import Path"
   ]
  },
  {
   "cell_type": "code",
   "execution_count": 2,
   "id": "b34b90ac-2d95-4527-8b04-db566c689969",
   "metadata": {
    "deletable": false,
    "editable": false,
    "nbgrader": {
     "cell_type": "code",
     "checksum": "50cc36b6de1970317b46bec34c72749c",
     "grade": false,
     "grade_id": "cell-67ba8e24291bea4e",
     "locked": true,
     "schema_version": 3,
     "solution": false,
     "task": false
    }
   },
   "outputs": [],
   "source": [
    "# mpl.style.available\n",
    "mpl.style.use(\"seaborn-v0_8-colorblind\")"
   ]
  },
  {
   "cell_type": "markdown",
   "id": "2f3d0056-58d5-4232-ba83-5b68dc52d0ea",
   "metadata": {
    "deletable": false,
    "editable": false,
    "jp-MarkdownHeadingCollapsed": true,
    "nbgrader": {
     "cell_type": "markdown",
     "checksum": "375af778f9fd4e12233d3668b19b3d63",
     "grade": false,
     "grade_id": "cell-8f4762a43e050a0f",
     "locked": true,
     "schema_version": 3,
     "solution": false,
     "task": false
    }
   },
   "source": [
    "# Missing Values and Data Pipelines [**12P**]"
   ]
  },
  {
   "cell_type": "markdown",
   "id": "d3a88537-4794-467f-b913-365f21230aa7",
   "metadata": {
    "deletable": false,
    "editable": false,
    "nbgrader": {
     "cell_type": "markdown",
     "checksum": "119cad51a9e059654d8064db20c7ac66",
     "grade": false,
     "grade_id": "cell-42103e2b306de1bf",
     "locked": true,
     "schema_version": 3,
     "solution": false,
     "task": false
    }
   },
   "source": [
    "# Dataset"
   ]
  },
  {
   "cell_type": "markdown",
   "id": "7ba586fd-ca75-49d8-b391-63550dd52cc8",
   "metadata": {
    "deletable": false,
    "editable": false,
    "nbgrader": {
     "cell_type": "markdown",
     "checksum": "62558671dcccd29c4fc3da532319e34f",
     "grade": false,
     "grade_id": "cell-62dbccd60b2622b2",
     "locked": true,
     "schema_version": 3,
     "solution": false,
     "task": false
    }
   },
   "source": [
    "Information on the \"Credit Approval\" dataset from the [UC Irvine Machine Learning Repository](https://archive.ics.uci.edu/) dcan be found here: \n",
    "\n",
    "* Download URL: https://archive.ics.uci.edu/static/public/27/credit+approval.zip\n",
    "* DOI: https://doi.org/10.24432/C5FS30\n",
    "* Dataset creators: J. R. Quinlan\n",
    "* License: Creative Commons Attribution 4.0 International ([CC BY 4.0](https://creativecommons.org/licenses/by/4.0/legalcode))"
   ]
  },
  {
   "cell_type": "markdown",
   "id": "ddfc92a8-25db-41fc-b3e6-87f14584d717",
   "metadata": {},
   "source": [
    
    "### DO NOTE DELETE THIS CELL ###\n",
    "```\n",
    "\n",
    "are cells used to inspect you solutions. The output from the Python code is used to grade your submissions. As you might guess from the text, we politely ask you to **not** (!!!) delete **or** copy these cells."
   ]
  },
  {
   "cell_type": "markdown",
   "id": "7713d624-7c8d-4a2b-851b-59f9ae48e834",
   "metadata": {
    "deletable": false,
    "editable": false,
    "nbgrader": {
     "cell_type": "markdown",
     "checksum": "78a1b66508b152e469732d36f4cf2092",
     "grade": false,
     "grade_id": "cell-f8893b863fc99fdf",
     "locked": true,
     "schema_version": 3,
     "solution": false,
     "task": false
    }
   },
   "source": [
    "## Download"
   ]
  },
  {
   "cell_type": "code",
   "execution_count": 3,
   "id": "aa765a07-112a-4803-8528-43fdb11184f8",
   "metadata": {
    "deletable": false,
    "editable": false,
    "nbgrader": {
     "cell_type": "code",
     "checksum": "18edbad481a0f5d653dd8730518709a7",
     "grade": false,
     "grade_id": "cell-8df8a00fa6d2cbd7",
     "locked": true,
     "schema_version": 3,
     "solution": false,
     "task": false
    }
   },
   "outputs": [],
   "source": [
    "def download_and_extract(\n",
    "    url: str, output_path: Path = Path(\"_data\"), verify_ssl: bool = True,\n",
    ") -> None:\n",
    "    output_path.mkdir(exist_ok=True, parents=True)\n",
    "\n",
    "    (\n",
    "        ZipFile(io.BytesIO(requests.get(url, verify=verify_ssl).content)).extractall(\n",
    "            path=output_path\n",
    "        )\n",
    "    )"
   ]
  },
  {
   "cell_type": "code",
   "execution_count": 4,
   "id": "617c75c5-cf8e-4f8d-bf05-d80bb8b36597",
   "metadata": {
    "deletable": false,
    "editable": false,
    "nbgrader": {
     "cell_type": "code",
     "checksum": "6aa004d4669162e12bd58412ef06d7d8",
     "grade": false,
     "grade_id": "cell-0ed35d1ab20d44a8",
     "locked": true,
     "schema_version": 3,
     "solution": false,
     "task": false
    }
   },
   "outputs": [],
   "source": [
    "DATAURL = \"https://archive.ics.uci.edu/static/public/27/credit+approval.zip\"\n",
    "OUTPUT_PATH = Path(\"_data/credit+approval\")"
   ]
  },
  {
   "cell_type": "code",
   "execution_count": 5,
   "id": "ac062e54-9246-4d8c-8c26-cfa909fa6014",
   "metadata": {
    "deletable": false,
    "editable": false,
    "nbgrader": {
     "cell_type": "code",
     "checksum": "4cd2580d610f2acf2bdac0c26404fcc9",
     "grade": false,
     "grade_id": "cell-3f0989146eba1b29",
     "locked": true,
     "schema_version": 3,
     "solution": false,
     "task": false
    }
   },
   "outputs": [],
   "source": [
    "download_and_extract(DATAURL, output_path=OUTPUT_PATH)"
   ]
  },
  {
   "cell_type": "markdown",
   "id": "7eed00dc-9485-4329-8167-ed831c23410e",
   "metadata": {
    "deletable": false,
    "editable": false,
    "nbgrader": {
     "cell_type": "markdown",
     "checksum": "445ef16e38a2b2f0e3fd3dd8878755e6",
     "grade": false,
     "grade_id": "cell-ba09758df3ec056d",
     "locked": true,
     "schema_version": 3,
     "solution": false,
     "task": false
    }
   },
   "source": [
    "# Load "
   ]
  },
  {
   "cell_type": "code",
   "execution_count": 6,
   "id": "63d674e8-a094-41a6-a2ca-4335d2369c4a",
   "metadata": {
    "deletable": false,
    "editable": false,
    "nbgrader": {
     "cell_type": "code",
     "checksum": "dee1ecf1a348cd403d87b51d5a557e62",
     "grade": false,
     "grade_id": "cell-dba7d3cfa02fb0ae",
     "locked": true,
     "schema_version": 3,
     "solution": false,
     "task": false
    }
   },
   "outputs": [],
   "source": [
    "## From the description of the dataset\n",
    "# A1:\tb, a.\n",
    "# A2:\tcontinuous.\n",
    "# A3:\tcontinuous.\n",
    "# A4:\tu, y, l, t.\n",
    "# A5:\tg, p, gg.\n",
    "# A6:\tc, d, cc, i, j, k, m, r, q, w, x, e, aa, ff.\n",
    "# A7:\tv, h, bb, j, n, z, dd, ff, o.possible\n",
    "# A8:\tcontinuous.\n",
    "# A9:\tt, f.\n",
    "# A10:\tt, f.\n",
    "# A11:\tcontinuous.\n",
    "# A12:\tt, f.\n",
    "# A13:\tg, p, s.\n",
    "# A14:\tcontinuous.\n",
    "# A15:\tcontinuous.\n",
    "# A16: +,-         (class attribute)\n",
    "\n",
    "\n",
    "columns_with_missing_values = {\n",
    "    \"A1\": 12,\n",
    "    \"A2\": 12,\n",
    "    \"A4\": 6,\n",
    "    \"A5\": 6,\n",
    "    \"A6\": 9,\n",
    "    \"A7\": 9,\n",
    "    \"A14\": 13,\n",
    "}\n",
    "\n",
    "## Encode the type of the vars in the column names to be able to better distinguish their type during EDA.\n",
    "column_dtypes = {\n",
    "    cname: \"float\"\n",
    "    for cname in (\"A2-cont\", \"A3-cont\", \"A8-cont\", \"A11-cont\", \"A14-cont\", \"A15-cont\")\n",
    "} | {\n",
    "    cname: \"category\"\n",
    "    for cname in (\n",
    "        \"A1-cat\",\n",
    "        \"A10-cat\",\n",
    "        \"A4-cat\",\n",
    "        \"A5-cat\",\n",
    "        \"A6-cat\",\n",
    "        \"A7-cat\",\n",
    "        \"A9-cat\",\n",
    "        \"A10-cat\",\n",
    "        \"A12-cat\",\n",
    "        \"A13-cat\",\n",
    "        \"target\",\n",
    "    )\n",
    "}\n",
    "# column_dtypes\n",
    "\n",
    "## Finally, import the data. To be able to convert to the right types, it is helpful to set the `na_values` parameter.\n",
    "## Otherwise, the automatic type inference might yield a wrong type.\n",
    "df = pd.read_csv(\n",
    "    OUTPUT_PATH / \"crx.data\",\n",
    "    header=None,\n",
    "    index_col=False,\n",
    "    # The missing values are encoded with ?. With the following line we will encode them with NaN\n",
    "    na_values=\"?\",\n",
    "    # Set the names of the columns.\n",
    "    names=sorted(\n",
    "        (colname for colname in column_dtypes.keys() if colname != \"target\"),\n",
    "        key=lambda s: int(s.split(\"-\")[0][1:]),\n",
    "    )\n",
    "    + [\n",
    "        \"target\",\n",
    "    ],\n",
    "    # Set the dtype of the columns.\n",
    "    dtype=column_dtypes,\n",
    ")"
   ]
  },
  {
   "cell_type": "markdown",
   "id": "4e9d2f00-e69a-4738-b6b4-28156ec7ff07",
   "metadata": {
    "deletable": false,
    "editable": false,
    "nbgrader": {
     "cell_type": "markdown",
     "checksum": "48deae39f5667c17765c1e89e3a4ff50",
     "grade": false,
     "grade_id": "cell-207a5caf67689e13",
     "locked": true,
     "schema_version": 3,
     "solution": false,
     "task": false
    }
   },
   "source": [
    "# [`RandomForestClassifier`](https://scikit-learn.org/stable/modules/generated/sklearn.ensemble.RandomForestClassifier.html) [**6P**]"
   ]
  },
  {
   "cell_type": "code",
   "execution_count": 7,
   "id": "e3edfa2f-15c6-418d-af65-5577656072e9",
   "metadata": {
    "deletable": false,
    "editable": false,
    "nbgrader": {
     "cell_type": "code",
     "checksum": "741f01e59fd4d5e256848ac999dcc585",
     "grade": false,
     "grade_id": "cell-e74b96d011147f2d",
     "locked": true,
     "schema_version": 3,
     "solution": false,
     "task": false
    }
   },
   "outputs": [],
   "source": [
    "from sklearn.model_selection import train_test_split\n",
    "\n",
    "from sklearn.metrics import RocCurveDisplay\n",
    "\n",
    "from sklearn.preprocessing import (\n",
    "    OneHotEncoder,\n",
    "    OrdinalEncoder,\n",
    "    MinMaxScaler,\n",
    ")\n",
    "\n",
    "from sklearn.pipeline import make_pipeline\n",
    "from sklearn.compose import make_column_transformer\n",
    "\n",
    "from sklearn.ensemble import RandomForestClassifier"
   ]
  },
  {
   "cell_type": "markdown",
   "id": "fa543597-f2ac-41d2-bdfd-39b7a41a69d4",
   "metadata": {
    "deletable": false,
    "editable": false,
    "nbgrader": {
     "cell_type": "markdown",
     "checksum": "1c077c09ca5987e33c27aef63b6a3519",
     "grade": false,
     "grade_id": "cell-f824abf2777bddf9",
     "locked": true,
     "schema_version": 3,
     "solution": false,
     "task": false
    }
   },
   "source": [
    "## Train test split\n"
   ]
  },
  {
   "cell_type": "code",
   "execution_count": 8,
   "id": "a63343c7-45fd-4152-8f3b-43f9ab0b7ab3",
   "metadata": {
    "deletable": false,
    "editable": false,
    "nbgrader": {
     "cell_type": "code",
     "checksum": "23deccd0874ddd9f81b36d2d04c7a9e9",
     "grade": false,
     "grade_id": "cell-c10fa6d6c5d705a4",
     "locked": true,
     "schema_version": 3,
     "solution": false,
     "task": false
    }
   },
   "outputs": [
    {
     "data": {
      "text/plain": [
       "((517, 15), (173, 15), (517,), (173,))"
      ]
     },
     "execution_count": 8,
     "metadata": {},
     "output_type": "execute_result"
    }
   ],
   "source": [
    "(\n",
    "    df_train,\n",
    "    df_test,\n",
    "    y_train,\n",
    "    y_test,\n",
    ") = train_test_split(\n",
    "    df.drop(columns=\"target\"),\n",
    "    df[\"target\"].cat.rename_categories({\"+\": 1, \"-\": 0}),  # categorical encoding: 0: gets credit (+), 1: does not get credit (-)\n",
    "    test_size=0.25,\n",
    "    random_state=42,\n",
    "    stratify=df[\"target\"].cat.rename_categories({\"+\": 1, \"-\": 0}),\n",
    ")\n",
    "\n",
    "(\n",
    "    df_train.shape,\n",
    "    df_test.shape,\n",
    "    y_train.shape,\n",
    "    y_test.shape,\n",
    ")"
   ]
  },
  {
   "cell_type": "code",
   "execution_count": 9,
   "id": "00677d5e-9e94-4c69-bbbb-f0a657a42291",
   "metadata": {
    "deletable": false,
    "editable": false,
    "nbgrader": {
     "cell_type": "code",
     "checksum": "fb3e6e6a443a793ad3b27fa185deafff",
     "grade": false,
     "grade_id": "cell-de0e619d3eda943e",
     "locked": true,
     "schema_version": 3,
     "solution": false,
     "task": false
    }
   },
   "outputs": [
    {
     "data": {
      "text/plain": [
       "(['A1-cat',\n",
       "  'A4-cat',\n",
       "  'A5-cat',\n",
       "  'A6-cat',\n",
       "  'A7-cat',\n",
       "  'A9-cat',\n",
       "  'A10-cat',\n",
       "  'A12-cat',\n",
       "  'A13-cat'],\n",
       " ['A2-cont', 'A3-cont', 'A8-cont', 'A11-cont', 'A14-cont', 'A15-cont'])"
      ]
     },
     "execution_count": 9,
     "metadata": {},
     "output_type": "execute_result"
    }
   ],
   "source": [
    "cat_features = df_train.dtypes.loc[lambda s: s == \"category\"].index.to_list()\n",
    "cont_features = df_train.dtypes.loc[lambda s: s != \"category\"].index.to_list()\n",
    "\n",
    "cat_features, cont_features"
   ]
  },
  {
   "cell_type": "markdown",
   "id": "12075bb2-e399-4510-b120-1ff4aaa23f12",
   "metadata": {
    "deletable": false,
    "editable": false,
    "nbgrader": {
     "cell_type": "markdown",
     "checksum": "5fa2b096d42f4d76fa1b38112edb55a5",
     "grade": false,
     "grade_id": "cell-2f11658e218767cc",
     "locked": true,
     "schema_version": 3,
     "solution": false,
     "task": false
    }
   },
   "source": [
    "## T: Data preprocessor [**2P**]\n",
    "\n",
    "> :question: **NOTE** Do you have to explicitly deal with missing values? Consult the [Scikit-Learn User Guide](https://scikit-learn.org/stable/user_guide.html) to answer this question *before* you actually start to construct the data pre-preprocessing pipeline.\n",
    "\n",
    "Set up a data preprocessor (a column transformer) that can be used in a pipeline together with a [`RandomForestClassifier`](https://scikit-learn.org/stable/modules/generated/sklearn.ensemble.RandomForestClassifier.html). Make sure to apply *necessary* (this word may have been emphasized deliberately :grin:) \"transformations\" to the different feature types present in the dataset. The column transformer shall output a Pandas `DataFrame`. \n",
    "\n",
    "> :bell: **NOTE** Please use the name `rf_preprocessor` for the `ColumnTransformer` object."
   ]
  },
  {
   "cell_type": "code",
   "execution_count": 10,
   "id": "93e3911c-7266-4e9e-9f29-e13bb7bb8c0f",
   "metadata": {
    "deletable": false,
    "nbgrader": {
     "cell_type": "code",
     "checksum": "3f790ccb9d8cd92de2878fc9f81118e7",
     "grade": true,
     "grade_id": "cell-ed9d75416acc1704",
     "locked": false,
     "points": 2,
     "schema_version": 3,
     "solution": true,
     "task": false
    }
   },
   "outputs": [],
   "source": [
    "# YOUR CODE HERE\n",
    "from sklearn.impute import SimpleImputer\n",
    "from sklearn.pipeline import Pipeline\n",
    "\n",
    "# Preprocessor for categorical features\n",
    "cat_pipeline = Pipeline([\n",
    "    ('imputer', SimpleImputer(strategy='most_frequent')),\n",
    "    ('onehot', OneHotEncoder(handle_unknown='ignore', sparse_output=False))\n",
    "])\n",
    "\n",
    "# Preprocessor for continuous features\n",
    "cont_pipeline = Pipeline([\n",
    "    ('imputer', SimpleImputer(strategy='mean')),\n",
    "    ('scaler', MinMaxScaler())\n",
    "])\n",
    "\n",
    "# Column transformer\n",
    "rf_preprocessor = make_column_transformer(\n",
    "    (cat_pipeline, cat_features),\n",
    "    (cont_pipeline, cont_features),\n",
    "    remainder='passthrough',\n",
    "    verbose_feature_names_out=False\n",
    ").set_output(transform=\"pandas\")"
   ]
  },
  {
   "cell_type": "code",
   "execution_count": 11,
   "id": "f7414aeb-149b-4e92-8584-5be2b24b3192",
   "metadata": {
    "deletable": false,
    "nbgrader": {
     "cell_type": "code",
     "checksum": "a0b6477dfcfd2c005d754bba8e136640",
     "grade": true,
     "grade_id": "cell-97be233c9a261243",
     "locked": false,
     "points": 0,
     "schema_version": 3,
     "solution": true,
     "task": false
    }
   },
   "outputs": [],
   "source": [
    "# YOUR CODE HERE\n",
    "rf_pipeline = make_pipeline(\n",
    "    rf_preprocessor,\n",
    "    RandomForestClassifier(random_state=42)\n",
    ")"
   ]
  },
  {
   "cell_type": "code",
   "execution_count": 12,
   "id": "88d0064c-ff5a-4903-a728-333946a49459",
   "metadata": {
    "deletable": false,
    "editable": false,
    "nbgrader": {
     "cell_type": "code",
     "checksum": "46fd6f34ac0436516e1ba02bbf40e9f0",
     "grade": false,
     "grade_id": "cell-52582623143520c2",
     "locked": true,
     "schema_version": 3,
     "solution": false,
     "task": false
    }
   },
   "outputs": [],
   "source": [
    "### DO NOTE DELETE THIS CELL ###\n",
    "\n",
    "assert(\n",
    "    isinstance(\n",
    "        rf_preprocessor\n",
    "        .fit_transform(df_train), \n",
    "        pd.DataFrame,\n",
    "    )\n",
    ")"
   ]
  },
  {
   "cell_type": "code",
   "execution_count": 13,
   "id": "9fd5c008-c5a3-4d51-9c0b-9155206a27b1",
   "metadata": {
    "deletable": false,
    "editable": false,
    "nbgrader": {
     "cell_type": "code",
     "checksum": "25902fc6f98f2281daac838ea1c83136",
     "grade": false,
     "grade_id": "cell-65e603f4b810c102",
     "locked": true,
     "schema_version": 3,
     "solution": false,
     "task": false
    }
   },
   "outputs": [
    {
     "data": {
      "text/html": [
       "<div>\n",
       "<style scoped>\n",
       "    .dataframe tbody tr th:only-of-type {\n",
       "        vertical-align: middle;\n",
       "    }\n",
       "\n",
       "    .dataframe tbody tr th {\n",
       "        vertical-align: top;\n",
       "    }\n",
       "\n",
       "    .dataframe thead th {\n",
       "        text-align: right;\n",
       "    }\n",
       "</style>\n",
       "<table border=\"1\" class=\"dataframe\">\n",
       "  <thead>\n",
       "    <tr style=\"text-align: right;\">\n",
       "      <th></th>\n",
       "      <th>A1-cat_a</th>\n",
       "      <th>A1-cat_b</th>\n",
       "      <th>A4-cat_l</th>\n",
       "      <th>A4-cat_u</th>\n",
       "      <th>A4-cat_y</th>\n",
       "      <th>A5-cat_g</th>\n",
       "      <th>A5-cat_gg</th>\n",
       "      <th>A5-cat_p</th>\n",
       "      <th>A6-cat_aa</th>\n",
       "      <th>A6-cat_c</th>\n",
       "      <th>...</th>\n",
       "      <th>A12-cat_t</th>\n",
       "      <th>A13-cat_g</th>\n",
       "      <th>A13-cat_p</th>\n",
       "      <th>A13-cat_s</th>\n",
       "      <th>A2-cont</th>\n",
       "      <th>A3-cont</th>\n",
       "      <th>A8-cont</th>\n",
       "      <th>A11-cont</th>\n",
       "      <th>A14-cont</th>\n",
       "      <th>A15-cont</th>\n",
       "    </tr>\n",
       "  </thead>\n",
       "  <tbody>\n",
       "    <tr>\n",
       "      <th>394</th>\n",
       "      <td>0.0</td>\n",
       "      <td>1.0</td>\n",
       "      <td>0.0</td>\n",
       "      <td>0.0</td>\n",
       "      <td>1.0</td>\n",
       "      <td>0.0</td>\n",
       "      <td>0.0</td>\n",
       "      <td>1.0</td>\n",
       "      <td>0.0</td>\n",
       "      <td>0.0</td>\n",
       "      <td>...</td>\n",
       "      <td>0.0</td>\n",
       "      <td>1.0</td>\n",
       "      <td>0.0</td>\n",
       "      <td>0.0</td>\n",
       "      <td>0.399508</td>\n",
       "      <td>0.044643</td>\n",
       "      <td>0.008772</td>\n",
       "      <td>0.000000</td>\n",
       "      <td>0.000000</td>\n",
       "      <td>0.00195</td>\n",
       "    </tr>\n",
       "    <tr>\n",
       "      <th>209</th>\n",
       "      <td>0.0</td>\n",
       "      <td>1.0</td>\n",
       "      <td>0.0</td>\n",
       "      <td>1.0</td>\n",
       "      <td>0.0</td>\n",
       "      <td>1.0</td>\n",
       "      <td>0.0</td>\n",
       "      <td>0.0</td>\n",
       "      <td>0.0</td>\n",
       "      <td>1.0</td>\n",
       "      <td>...</td>\n",
       "      <td>0.0</td>\n",
       "      <td>1.0</td>\n",
       "      <td>0.0</td>\n",
       "      <td>0.0</td>\n",
       "      <td>0.373848</td>\n",
       "      <td>0.151786</td>\n",
       "      <td>0.228070</td>\n",
       "      <td>0.238806</td>\n",
       "      <td>0.100862</td>\n",
       "      <td>0.01210</td>\n",
       "    </tr>\n",
       "    <tr>\n",
       "      <th>449</th>\n",
       "      <td>0.0</td>\n",
       "      <td>1.0</td>\n",
       "      <td>0.0</td>\n",
       "      <td>1.0</td>\n",
       "      <td>0.0</td>\n",
       "      <td>1.0</td>\n",
       "      <td>0.0</td>\n",
       "      <td>0.0</td>\n",
       "      <td>0.0</td>\n",
       "      <td>1.0</td>\n",
       "      <td>...</td>\n",
       "      <td>0.0</td>\n",
       "      <td>1.0</td>\n",
       "      <td>0.0</td>\n",
       "      <td>0.0</td>\n",
       "      <td>0.074216</td>\n",
       "      <td>0.250000</td>\n",
       "      <td>0.017544</td>\n",
       "      <td>0.000000</td>\n",
       "      <td>0.000000</td>\n",
       "      <td>0.00000</td>\n",
       "    </tr>\n",
       "    <tr>\n",
       "      <th>128</th>\n",
       "      <td>0.0</td>\n",
       "      <td>1.0</td>\n",
       "      <td>0.0</td>\n",
       "      <td>1.0</td>\n",
       "      <td>0.0</td>\n",
       "      <td>1.0</td>\n",
       "      <td>0.0</td>\n",
       "      <td>0.0</td>\n",
       "      <td>0.0</td>\n",
       "      <td>0.0</td>\n",
       "      <td>...</td>\n",
       "      <td>0.0</td>\n",
       "      <td>1.0</td>\n",
       "      <td>0.0</td>\n",
       "      <td>0.0</td>\n",
       "      <td>0.295790</td>\n",
       "      <td>0.151786</td>\n",
       "      <td>0.114035</td>\n",
       "      <td>0.029851</td>\n",
       "      <td>0.236207</td>\n",
       "      <td>0.00610</td>\n",
       "    </tr>\n",
       "    <tr>\n",
       "      <th>182</th>\n",
       "      <td>1.0</td>\n",
       "      <td>0.0</td>\n",
       "      <td>0.0</td>\n",
       "      <td>1.0</td>\n",
       "      <td>0.0</td>\n",
       "      <td>1.0</td>\n",
       "      <td>0.0</td>\n",
       "      <td>0.0</td>\n",
       "      <td>0.0</td>\n",
       "      <td>0.0</td>\n",
       "      <td>...</td>\n",
       "      <td>0.0</td>\n",
       "      <td>1.0</td>\n",
       "      <td>0.0</td>\n",
       "      <td>0.0</td>\n",
       "      <td>0.084511</td>\n",
       "      <td>0.107143</td>\n",
       "      <td>0.005789</td>\n",
       "      <td>0.044776</td>\n",
       "      <td>0.086207</td>\n",
       "      <td>0.00006</td>\n",
       "    </tr>\n",
       "  </tbody>\n",
       "</table>\n",
       "<p>5 rows × 46 columns</p>\n",
       "</div>"
      ],
      "text/plain": [
       "     A1-cat_a  A1-cat_b  A4-cat_l  A4-cat_u  A4-cat_y  A5-cat_g  A5-cat_gg  \\\n",
       "394       0.0       1.0       0.0       0.0       1.0       0.0        0.0   \n",
       "209       0.0       1.0       0.0       1.0       0.0       1.0        0.0   \n",
       "449       0.0       1.0       0.0       1.0       0.0       1.0        0.0   \n",
       "128       0.0       1.0       0.0       1.0       0.0       1.0        0.0   \n",
       "182       1.0       0.0       0.0       1.0       0.0       1.0        0.0   \n",
       "\n",
       "     A5-cat_p  A6-cat_aa  A6-cat_c  ...  A12-cat_t  A13-cat_g  A13-cat_p  \\\n",
       "394       1.0        0.0       0.0  ...        0.0        1.0        0.0   \n",
       "209       0.0        0.0       1.0  ...        0.0        1.0        0.0   \n",
       "449       0.0        0.0       1.0  ...        0.0        1.0        0.0   \n",
       "128       0.0        0.0       0.0  ...        0.0        1.0        0.0   \n",
       "182       0.0        0.0       0.0  ...        0.0        1.0        0.0   \n",
       "\n",
       "     A13-cat_s   A2-cont   A3-cont   A8-cont  A11-cont  A14-cont  A15-cont  \n",
       "394        0.0  0.399508  0.044643  0.008772  0.000000  0.000000   0.00195  \n",
       "209        0.0  0.373848  0.151786  0.228070  0.238806  0.100862   0.01210  \n",
       "449        0.0  0.074216  0.250000  0.017544  0.000000  0.000000   0.00000  \n",
       "128        0.0  0.295790  0.151786  0.114035  0.029851  0.236207   0.00610  \n",
       "182        0.0  0.084511  0.107143  0.005789  0.044776  0.086207   0.00006  \n",
       "\n",
       "[5 rows x 46 columns]"
      ]
     },
     "execution_count": 13,
     "metadata": {},
     "output_type": "execute_result"
    }
   ],
   "source": [
    "### DO NOTE DELETE THIS CELL ###\n",
    "\n",
    "(\n",
    "    rf_preprocessor\n",
    "    .fit_transform(df_train)\n",
    "    .head()\n",
    ")"
   ]
  },
  {
   "cell_type": "markdown",
   "id": "6922e726-7fb4-4302-bf01-9c210594eb52",
   "metadata": {
    "deletable": false,
    "editable": false,
    "nbgrader": {
     "cell_type": "markdown",
     "checksum": "7e9934a01c1e43cc4c00b808afda6571",
     "grade": false,
     "grade_id": "cell-bfad45f246aae7d1",
     "locked": true,
     "schema_version": 3,
     "solution": false,
     "task": false
    }
   },
   "source": [
    "## T: Model pipeline [**2P**]\n",
    "\n",
    "Combine the data preprocessor (`rf_preprocessor`) from the previous task together with a random forest classifier instance in a pipeline."
   ]
  },
  {
   "cell_type": "code",
   "execution_count": 14,
   "id": "07959bf5-063d-4664-97bc-e9f952c6dea2",
   "metadata": {
    "deletable": false,
    "nbgrader": {
     "cell_type": "code",
     "checksum": "f34ed245da848e9cec607ebf16495478",
     "grade": true,
     "grade_id": "cell-69926ca5f2e448c8",
     "locked": false,
     "points": 2,
     "schema_version": 3,
     "solution": true,
     "task": false
    }
   },
   "outputs": [
    {
     "data": {
      "image/png": "[encoded data removed]",
      "text/plain": [
       "<Figure size 800x600 with 1 Axes>"
      ]
     },
     "metadata": {},
     "output_type": "display_data"
    }
   ],
   "source": [
    "# YOUR CODE HERE\n",
    "# Fit the model\n",
    "rf_pipeline.fit(df_train, y_train)\n",
    "\n",
    "# Create figure\n",
    "fig, ax = plt.subplots(figsize=(8, 6))\n",
    "\n",
    "# Plot ROC curve for training data\n",
    "RocCurveDisplay.from_estimator(\n",
    "    rf_pipeline,\n",
    "    df_train,\n",
    "    y_train,\n",
    "    ax=ax,\n",
    "    name=\"Training\"\n",
    ")\n",
    "\n",
    "# Plot ROC curve for test data\n",
    "RocCurveDisplay.from_estimator(\n",
    "    rf_pipeline,\n",
    "    df_test,\n",
    "    y_test,\n",
    "    ax=ax,\n",
    "    name=\"Test\"\n",
    ")\n",
    "\n",
    "# Add diagonal line\n",
    "ax.plot([0, 1], [0, 1], linestyle=\"--\", color=\"gray\")\n",
    "\n",
    "# Add title and legend\n",
    "ax.set_title(\"ROC Curve - Random Forest\")\n",
    "ax.legend()\n",
    "\n",
    "plt.show()"
   ]
  },
  {
   "cell_type": "markdown",
   "id": "440208da-90e8-4815-bc8d-feb3acb509c9",
   "metadata": {
    "deletable": false,
    "editable": false,
    "nbgrader": {
     "cell_type": "markdown",
     "checksum": "dd31414cb67730cd9e8f80f3ff83e2e1",
     "grade": false,
     "grade_id": "cell-625a944be36e2e85",
     "locked": true,
     "schema_version": 3,
     "solution": false,
     "task": false
    }
   },
   "source": [
    "## T: Fit the model and evaluate [**2P**]\n",
    "\n",
    "Fit the model to the training data and visualize the ROC curve for the training as well as the test dataset in a single plot."
   ]
  },
  {
   "cell_type": "code",
   "execution_count": 15,
   "id": "93e68dd8-97eb-4479-9ab2-60d82b297291",
   "metadata": {
    "deletable": false,
    "nbgrader": {
     "cell_type": "code",
     "checksum": "920a9e0a260bcb00dde05b206b86c2fb",
     "grade": true,
     "grade_id": "cell-42a629e4616ff130",
     "locked": false,
     "points": 2,
     "schema_version": 3,
     "solution": true,
     "task": false
    }
   },
   "outputs": [],
   "source": [
    "# YOUR CODE HERE\n",
    "from sklearn.preprocessing import FunctionTransformer\n",
    "\n",
    "# Function to replace NaN with encoded missing value\n",
    "def replace_nan_with_encoded(X):\n",
    "    return X.fillna(ENCODED_MISSING_VALUE)\n",
    "\n",
    "# Preprocessor for categorical features\n",
    "cat_pipeline = Pipeline([\n",
    "    ('ordinal', OrdinalEncoder(\n",
    "        handle_unknown='use_encoded_value',\n",
    "        unknown_value=np.nan,\n",
    "        encoded_missing_value=np.nan\n",
    "    )),\n",
    "    ('replace_nan', FunctionTransformer(replace_nan_with_encoded))\n",
    "])\n",
    "\n",
    "# Column transformer\n",
    "hgbc_preprocessor = make_column_transformer(\n",
    "    (cat_pipeline, cat_features),\n",
    "    ('passthrough', cont_features),\n",
    "    remainder='passthrough',\n",
    "    verbose_feature_names_out=False\n",
    ").set_output(transform=\"pandas\")"
   ]
  },
  {
   "cell_type": "markdown",
   "id": "53872241-d779-4997-90a4-d3512776281e",
   "metadata": {
    "deletable": false,
    "editable": false,
    "nbgrader": {
     "cell_type": "markdown",
     "checksum": "001d2ce680fb486db2600ec878459ec4",
     "grade": false,
     "grade_id": "cell-2075453595e24b21",
     "locked": true,
     "schema_version": 3,
     "solution": false,
     "task": false
    }
   },
   "source": [
    "# [`HistGradientBoostingClassifier`](https://scikit-learn.org/stable/modules/generated/sklearn.ensemble.HistGradientBoostingClassifier.html#sklearn.ensemble.HistGradientBoostingClassifier) [**6P**]\n",
    "\n",
    "Scikit-Learn also offers estimators (\"ML models\") that can *inherently* deal with missing values. That is, the imputation step in the data processing pipeline can be skipped. Nevertheless, the data often must be prepared in a suitable manner as for the estimator to \"know\" which values are actually missing. \n",
    "\n",
    "You may refer to the following links for a list of estimators that allow NaN values to be present in the input data:\n",
    "\n",
    "* https://scikit-learn.org/stable/modules/impute.html#estimators-that-handle-nan-values\n",
    "\n",
    "Our choice will be the [`HistGradientBoostingClassifier`](https://scikit-learn.org/stable/modules/generated/sklearn.ensemble.HistGradientBoostingClassifier.html#sklearn.ensemble.HistGradientBoostingClassifier). Its documentation states:\n",
    "\n",
    "> :speech_bubble: [...] Negative values for categorical features encoded as numeric dtypes are treated as missing values. All categorical values are converted to floating point numbers. [...]\n",
    "\n",
    "This is the path we will persue: Encode the *categorical* features as numerical values with an [`OrdinalEncoder`](https://scikit-learn.org/stable/modules/generated/sklearn.preprocessing.OrdinalEncoder.html) and introduce *negative* values for all missing entries.\n",
    "\n",
    "> **NOTE** You may find [this link](https://scikit-learn.org/stable/auto_examples/ensemble/plot_gradient_boosting_categorical.html#sphx-glr-auto-examples-ensemble-plot-gradient-boosting-categorical-py) very helpful.\n",
    "\n",
    "Since this classifier can deal with missing values the train test split is different compared to the previous case with the random forest classifier."
   ]
  },
  {
   "cell_type": "code",
   "execution_count": 16,
   "id": "481d214c-5c57-47e9-a6af-12abe33b8a2f",
   "metadata": {
    "deletable": false,
    "editable": false,
    "nbgrader": {
     "cell_type": "code",
     "checksum": "2ff7db40ad8a6f7e5e9d1be5f962db9e",
     "grade": false,
     "grade_id": "cell-9453eb53db9d05e4",
     "locked": true,
     "schema_version": 3,
     "solution": false,
     "task": false
    }
   },
   "outputs": [
    {
     "data": {
      "text/plain": [
       "((517, 15), (173, 15), (517,), (173,))"
      ]
     },
     "execution_count": 16,
     "metadata": {},
     "output_type": "execute_result"
    }
   ],
   "source": [
    "(\n",
    "    df_train,\n",
    "    df_test,\n",
    "    y_train,\n",
    "    y_test,\n",
    ") = train_test_split(\n",
    "    df.drop(columns=\"target\"),\n",
    "    df[\"target\"].cat.rename_categories({\"+\": 1, \"-\": 0}),  # categorical encoding: 0: gets credit (+), 1: does not get credit (-)\n",
    "    test_size=0.25,\n",
    "    random_state=42,\n",
    "    stratify=df[\"target\"].cat.rename_categories({\"+\": 1, \"-\": 0}),\n",
    ")\n",
    "\n",
    "(\n",
    "    df_train.shape,\n",
    "    df_test.shape,\n",
    "    y_train.shape,\n",
    "    y_test.shape,\n",
    ")"
   ]
  },
  {
   "cell_type": "markdown",
   "id": "afd80d96-88ee-48bc-9ff7-dd3ad95ccd7f",
   "metadata": {
    "deletable": false,
    "editable": false,
    "nbgrader": {
     "cell_type": "markdown",
     "checksum": "3a8ba87da0c396f27b44586a92ad4539",
     "grade": false,
     "grade_id": "cell-e40261a3d462e3f6",
     "locked": true,
     "schema_version": 3,
     "solution": false,
     "task": false
    }
   },
   "source": [
    "## T: Data preprocessor [**2P**]\n",
    "\n",
    "Set up a data preprocessor (column transformer) with the following properties:\n",
    "\n",
    "* Use an [`OrdinalEncoder`](https://scikit-learn.org/stable/modules/generated/sklearn.preprocessing.OrdinalEncoder.html#sklearn.preprocessing.OrdinalEncoder) for the *categorical features*.\n",
    "    * All non-missing data shall be encoded with a numerical value.\n",
    "    * All `NaN` values (missing values) shell be left *unchanged*. That is, if we call the `.transform()` or the `.fit_transform()` method of the `OrdinalEncoder` alone (in isolation) the `NaN` values are still present in the output `DataFrame`. \n",
    "    * In case the `OrdinalEncoder` encounters unseen values (e.g. when applied to the training dataset) these values should also be replaced with `NaN`s.\n",
    "* Add a [`FunctionTransformer`](https://scikit-learn.org/stable/modules/generated/sklearn.preprocessing.FunctionTransformer.html) to replace all `NaN` values output in the previous step with the value assigned to the variable `ENCODED_MISSING_VALUE` below.\n",
    "\n",
    "> **HINT** What has to be done with the continuous features?\n",
    "\n",
    "Have a close look at the parameters available for the [`OrdinalEncoder`](https://scikit-learn.org/stable/modules/generated/sklearn.preprocessing.OrdinalEncoder.html#sklearn.preprocessing.OrdinalEncoder) to see if there are suitable options.\n",
    "\n",
    " \n",
    "> **HINT** Think about if it is really necessary for the column transformer to alter the names of the feature columns. \n",
    "\n",
    "The column transformer shall output a Pandas `DataFrame`.\n",
    "\n",
    "> **NOTE** Please make sure to name the variable referring to the `ColumnTransformer` the name `hgbc_preprocessor`."
   ]
  },
  {
   "cell_type": "code",
   "execution_count": 17,
   "id": "b82253f3-0abf-413c-9ff3-bad4e9538fcb",
   "metadata": {
    "deletable": false,
    "editable": false,
    "nbgrader": {
     "cell_type": "code",
     "checksum": "9962367a66e37a11c2a5b603368fcd0a",
     "grade": false,
     "grade_id": "cell-6e8b90020a0959a5",
     "locked": true,
     "schema_version": 3,
     "solution": false,
     "task": false
    }
   },
   "outputs": [],
   "source": [
    "ENCODED_MISSING_VALUE = -1000"
   ]
  },
  {
   "cell_type": "code",
   "execution_count": 18,
   "id": "736d601f-911a-40d3-a19f-6a1a68b311e5",
   "metadata": {
    "deletable": false,
    "editable": false,
    "nbgrader": {
     "cell_type": "code",
     "checksum": "fd2f9eaf2f1527785a0566267693d13c",
     "grade": false,
     "grade_id": "cell-400f92c1e4c8220f",
     "locked": true,
     "schema_version": 3,
     "solution": false,
     "task": false
    }
   },
   "outputs": [],
   "source": [
    "from sklearn.ensemble import HistGradientBoostingClassifier\n",
    "from sklearn.preprocessing import FunctionTransformer"
   ]
  },
  {
   "cell_type": "code",
   "execution_count": 19,
   "id": "aadbc9b5-f4b7-452d-8715-ebbe0d528b1c",
   "metadata": {
    "deletable": false,
    "nbgrader": {
     "cell_type": "code",
     "checksum": "9de66f34bd5016634febee332bca1f70",
     "grade": true,
     "grade_id": "cell-11630eeb15821c0a",
     "locked": false,
     "points": 2,
     "schema_version": 3,
     "solution": true,
     "task": false
    }
   },
   "outputs": [],
   "source": [
    "# YOUR CODE HERE\n",
    "# Get indices of categorical features\n",
    "categorical_features_indices = [\n",
    "    df_train.columns.get_loc(col) for col in cat_features\n",
    "]\n",
    "\n",
    "hgbc_pipeline = make_pipeline(\n",
    "    hgbc_preprocessor,\n",
    "    HistGradientBoostingClassifier(\n",
    "        random_state=42,\n",
    "        categorical_features=categorical_features_indices\n",
    "    )\n",
    ")"
   ]
  },
  {
   "cell_type": "code",
   "execution_count": 20,
   "id": "9601b457-413a-4882-aac0-c360543ba795",
   "metadata": {
    "deletable": false,
    "editable": false,
    "nbgrader": {
     "cell_type": "code",
     "checksum": "6d384899d1899427b66cdeabbbe49bb2",
     "grade": false,
     "grade_id": "cell-abe1a9fb7f18ab89",
     "locked": true,
     "schema_version": 3,
     "solution": false,
     "task": false
    }
   },
   "outputs": [],
   "source": [
    "### DO NOTE DELETE THIS CELL ###\n",
    "\n",
    "assert(\n",
    "    isinstance(\n",
    "        hgbc_preprocessor.fit_transform(df_train),\n",
    "        pd.DataFrame\n",
    "    )\n",
    ")"
   ]
  },
  {
   "cell_type": "code",
   "execution_count": 21,
   "id": "3513fa9c-cefd-4429-836d-640672ca12a2",
   "metadata": {
    "deletable": false,
    "editable": false,
    "nbgrader": {
     "cell_type": "code",
     "checksum": "523e836891d17c56c8d250a1e5468cf0",
     "grade": false,
     "grade_id": "cell-d414e6f89c3fad05",
     "locked": true,
     "schema_version": 3,
     "solution": false,
     "task": false
    }
   },
   "outputs": [
    {
     "data": {
      "text/html": [
       "<div>\n",
       "<style scoped>\n",
       "    .dataframe tbody tr th:only-of-type {\n",
       "        vertical-align: middle;\n",
       "    }\n",
       "\n",
       "    .dataframe tbody tr th {\n",
       "        vertical-align: top;\n",
       "    }\n",
       "\n",
       "    .dataframe thead th {\n",
       "        text-align: right;\n",
       "    }\n",
       "</style>\n",
       "<table border=\"1\" class=\"dataframe\">\n",
       "  <thead>\n",
       "    <tr style=\"text-align: right;\">\n",
       "      <th></th>\n",
       "      <th>A2-cont</th>\n",
       "      <th>A3-cont</th>\n",
       "      <th>A8-cont</th>\n",
       "      <th>A11-cont</th>\n",
       "      <th>A14-cont</th>\n",
       "      <th>A15-cont</th>\n",
       "    </tr>\n",
       "  </thead>\n",
       "  <tbody>\n",
       "    <tr>\n",
       "      <th>394</th>\n",
       "      <td>41.17</td>\n",
       "      <td>1.25</td>\n",
       "      <td>0.250</td>\n",
       "      <td>0.0</td>\n",
       "      <td>0.0</td>\n",
       "      <td>195.0</td>\n",
       "    </tr>\n",
       "    <tr>\n",
       "      <th>209</th>\n",
       "      <td>39.50</td>\n",
       "      <td>4.25</td>\n",
       "      <td>6.500</td>\n",
       "      <td>16.0</td>\n",
       "      <td>117.0</td>\n",
       "      <td>1210.0</td>\n",
       "    </tr>\n",
       "    <tr>\n",
       "      <th>449</th>\n",
       "      <td>20.00</td>\n",
       "      <td>7.00</td>\n",
       "      <td>0.500</td>\n",
       "      <td>0.0</td>\n",
       "      <td>0.0</td>\n",
       "      <td>0.0</td>\n",
       "    </tr>\n",
       "    <tr>\n",
       "      <th>128</th>\n",
       "      <td>34.42</td>\n",
       "      <td>4.25</td>\n",
       "      <td>3.250</td>\n",
       "      <td>2.0</td>\n",
       "      <td>274.0</td>\n",
       "      <td>610.0</td>\n",
       "    </tr>\n",
       "    <tr>\n",
       "      <th>182</th>\n",
       "      <td>20.67</td>\n",
       "      <td>3.00</td>\n",
       "      <td>0.165</td>\n",
       "      <td>3.0</td>\n",
       "      <td>100.0</td>\n",
       "      <td>6.0</td>\n",
       "    </tr>\n",
       "  </tbody>\n",
       "</table>\n",
       "</div>"
      ],
      "text/plain": [
       "     A2-cont  A3-cont  A8-cont  A11-cont  A14-cont  A15-cont\n",
       "394    41.17     1.25    0.250       0.0       0.0     195.0\n",
       "209    39.50     4.25    6.500      16.0     117.0    1210.0\n",
       "449    20.00     7.00    0.500       0.0       0.0       0.0\n",
       "128    34.42     4.25    3.250       2.0     274.0     610.0\n",
       "182    20.67     3.00    0.165       3.0     100.0       6.0"
      ]
     },
     "execution_count": 21,
     "metadata": {},
     "output_type": "execute_result"
    }
   ],
   "source": [
    "### DO NOTE DELETE THIS CELL ###\n",
    "\n",
    "(\n",
    "    hgbc_preprocessor\n",
    "    .fit_transform(df_train)\n",
    "    .filter(like=\"cont\")\n",
    "    .head(5)\n",
    ")"
   ]
  },
  {
   "cell_type": "code",
   "execution_count": 22,
   "id": "25e411e2-dfeb-4559-9738-14c0b4fd6c8c",
   "metadata": {
    "deletable": false,
    "editable": false,
    "nbgrader": {
     "cell_type": "code",
     "checksum": "0fad919354f65e2c3cd6afaf6fca410d",
     "grade": false,
     "grade_id": "cell-482ddec4b9ded61f",
     "locked": true,
     "schema_version": 3,
     "solution": false,
     "task": false
    }
   },
   "outputs": [
    {
     "data": {
      "text/plain": [
       "A1-cat    11\n",
       "A4-cat     5\n",
       "A5-cat     5\n",
       "A6-cat     8\n",
       "A7-cat     8\n",
       "dtype: int64"
      ]
     },
     "execution_count": 22,
     "metadata": {},
     "output_type": "execute_result"
    }
   ],
   "source": [
    "### DO NOTE DELETE THIS CELL ###\n",
    "\n",
    "(\n",
    "    hgbc_preprocessor\n",
    "    .fit_transform(df_train)\n",
    "    .filter(like=\"cat\")\n",
    "    # [\"A1-cat\"].value_counts()\n",
    "    .loc[:, lambda df_: df_.lt(0).any(axis=\"rows\")]\n",
    "    .astype(int)\n",
    "    .eq(ENCODED_MISSING_VALUE)\n",
    "    .sum(axis=\"rows\")\n",
    ")"
   ]
  },
  {
   "cell_type": "code",
   "execution_count": 23,
   "id": "5d42a859-e625-4049-aa70-9e0ea4ab5232",
   "metadata": {
    "deletable": false,
    "editable": false,
    "nbgrader": {
     "cell_type": "code",
     "checksum": "369444edc4ce52a3297d574932cab534",
     "grade": false,
     "grade_id": "cell-7bea29e016ec5570",
     "locked": true,
     "schema_version": 3,
     "solution": false,
     "task": false
    }
   },
   "outputs": [
    {
     "data": {
      "text/plain": [
       "A1-cat    11\n",
       "A4-cat     5\n",
       "A5-cat     5\n",
       "A6-cat     8\n",
       "A7-cat     8\n",
       "dtype: int64"
      ]
     },
     "execution_count": 23,
     "metadata": {},
     "output_type": "execute_result"
    }
   ],
   "source": [
    "### DO NOTE DELETE THIS CELL ###\n",
    "\n",
    "(\n",
    "    df_train\n",
    "    .loc[:, lambda df_: df_.isna().any()]\n",
    "    .loc[lambda df_: df_.isna().any(axis=\"columns\")]\n",
    "    .filter(like=\"cat\")\n",
    "    .isna()\n",
    "    .sum(axis=\"rows\")\n",
    ")"
   ]
  },
  {
   "cell_type": "markdown",
   "id": "f9ba2f08-8142-44b1-aee6-052cfb9ed347",
   "metadata": {
    "deletable": false,
    "editable": false,
    "nbgrader": {
     "cell_type": "markdown",
     "checksum": "bc7341c11684266b47dfeb355971fef5",
     "grade": false,
     "grade_id": "cell-152910c5cdf231c9",
     "locked": true,
     "schema_version": 3,
     "solution": false,
     "task": false
    }
   },
   "source": [
    "## T: Model pipeline [**2P**]\n",
    "\n",
    "Combine the data preprocessor (`hgbc_preprocessor`) from the previous task together with a `HistGradientBoostingClassifier` in a pipeline.\n",
    "\n",
    "> **NOTE** Make sure the `HistGradientBoostingClassifier` \"knows\" which variables to treat as categorical."
   ]
  },
  {
   "cell_type": "code",
   "execution_count": 24,
   "id": "04ff98f7-1d8a-4422-83ed-d00012f8cea9",
   "metadata": {
    "deletable": false,
    "nbgrader": {
     "cell_type": "code",
     "checksum": "b6cd45558a82c48979d7d75052974642",
     "grade": true,
     "grade_id": "cell-1de2d74482a48807",
     "locked": false,
     "points": 2,
     "schema_version": 3,
     "solution": true,
     "task": false
    }
   },
   "outputs": [
    {
     "name": "stdout",
     "output_type": "stream",
     "text": [
      "Unique values in A2-cont: 297\n",
      "Sample values: 394    41.17\n",
      "209    39.50\n",
      "449    20.00\n",
      "128    34.42\n",
      "182    20.67\n",
      "Name: A2-cont, dtype: float64\n",
      "After conversion - Unique values: 297\n"
     ]
    },
    {
     "name": "stderr",
     "output_type": "stream",
     "text": [
      "/var/folders/2h/n90r7hkn307dxbjp9vn61nkr0000gn/T/ipykernel_2715/3362779375.py:17: FutureWarning: A value is trying to be set on a copy of a DataFrame or Series through chained assignment using an inplace method.\n",
      "The behavior will change in pandas 3.0. This inplace method will never work because the intermediate object on which we are setting values always behaves as a copy.\n",
      "\n",
      "For example, when doing 'df[col].method(value, inplace=True)', try using 'df.method({col: value}, inplace=True)' or df[col] = df[col].method(value) instead, to perform the operation inplace on the original object.\n",
      "\n",
      "\n",
      "  df_train['A2-cont'].fillna(df_train['A2-cont'].median(), inplace=True)\n",
      "/var/folders/2h/n90r7hkn307dxbjp9vn61nkr0000gn/T/ipykernel_2715/3362779375.py:18: FutureWarning: A value is trying to be set on a copy of a DataFrame or Series through chained assignment using an inplace method.\n",
      "The behavior will change in pandas 3.0. This inplace method will never work because the intermediate object on which we are setting values always behaves as a copy.\n",
      "\n",
      "For example, when doing 'df[col].method(value, inplace=True)', try using 'df.method({col: value}, inplace=True)' or df[col] = df[col].method(value) instead, to perform the operation inplace on the original object.\n",
      "\n",
      "\n",
      "  df_test['A2-cont'].fillna(df_train['A2-cont'].median(), inplace=True)  # Use training median\n"
     ]
    },
    {
     "ename": "ValueError",
     "evalue": "Categorical feature 'A2-cont' is expected to have a cardinality <= 255 but actually has a cardinality of 297.",
     "output_type": "error",
     "traceback": [
      "\u001b[31m---------------------------------------------------------------------------\u001b[39m",
      "\u001b[31mValueError\u001b[39m                                Traceback (most recent call last)",
      "\u001b[36mCell\u001b[39m\u001b[36m \u001b[39m\u001b[32mIn[24]\u001b[39m\u001b[32m, line 23\u001b[39m\n\u001b[32m     20\u001b[39m \u001b[38;5;28mprint\u001b[39m(\u001b[33mf\u001b[39m\u001b[33m\"\u001b[39m\u001b[33mAfter conversion - Unique values: \u001b[39m\u001b[38;5;132;01m{\u001b[39;00mdf_train[\u001b[33m'\u001b[39m\u001b[33mA2-cont\u001b[39m\u001b[33m'\u001b[39m].nunique()\u001b[38;5;132;01m}\u001b[39;00m\u001b[33m\"\u001b[39m)\n\u001b[32m     22\u001b[39m \u001b[38;5;66;03m# Now fit the model\u001b[39;00m\n\u001b[32m---> \u001b[39m\u001b[32m23\u001b[39m \u001b[43mhgbc_pipeline\u001b[49m\u001b[43m.\u001b[49m\u001b[43mfit\u001b[49m\u001b[43m(\u001b[49m\u001b[43mdf_train\u001b[49m\u001b[43m,\u001b[49m\u001b[43m \u001b[49m\u001b[43my_train\u001b[49m\u001b[43m)\u001b[49m\n\u001b[32m     25\u001b[39m \u001b[38;5;66;03m# Create figure\u001b[39;00m\n\u001b[32m     26\u001b[39m fig, ax = plt.subplots(figsize=(\u001b[32m8\u001b[39m, \u001b[32m6\u001b[39m))\n",
      "\u001b[36mFile \u001b[39m\u001b[32m/Library/Frameworks/Python.framework/Versions/3.13/lib/python3.13/site-packages/sklearn/base.py:1363\u001b[39m, in \u001b[36m_fit_context.<locals>.decorator.<locals>.wrapper\u001b[39m\u001b[34m(estimator, *args, **kwargs)\u001b[39m\n\u001b[32m   1356\u001b[39m     estimator._validate_params()\n\u001b[32m   1358\u001b[39m \u001b[38;5;28;01mwith\u001b[39;00m config_context(\n\u001b[32m   1359\u001b[39m     skip_parameter_validation=(\n\u001b[32m   1360\u001b[39m         prefer_skip_nested_validation \u001b[38;5;129;01mor\u001b[39;00m global_skip_validation\n\u001b[32m   1361\u001b[39m     )\n\u001b[32m   1362\u001b[39m ):\n\u001b[32m-> \u001b[39m\u001b[32m1363\u001b[39m     \u001b[38;5;28;01mreturn\u001b[39;00m \u001b[43mfit_method\u001b[49m\u001b[43m(\u001b[49m\u001b[43mestimator\u001b[49m\u001b[43m,\u001b[49m\u001b[43m \u001b[49m\u001b[43m*\u001b[49m\u001b[43margs\u001b[49m\u001b[43m,\u001b[49m\u001b[43m \u001b[49m\u001b[43m*\u001b[49m\u001b[43m*\u001b[49m\u001b[43mkwargs\u001b[49m\u001b[43m)\u001b[49m\n",
      "\u001b[36mFile \u001b[39m\u001b[32m/Library/Frameworks/Python.framework/Versions/3.13/lib/python3.13/site-packages/sklearn/pipeline.py:661\u001b[39m, in \u001b[36mPipeline.fit\u001b[39m\u001b[34m(self, X, y, **params)\u001b[39m\n\u001b[32m    655\u001b[39m     \u001b[38;5;28;01mif\u001b[39;00m \u001b[38;5;28mself\u001b[39m._final_estimator != \u001b[33m\"\u001b[39m\u001b[33mpassthrough\u001b[39m\u001b[33m\"\u001b[39m:\n\u001b[32m    656\u001b[39m         last_step_params = \u001b[38;5;28mself\u001b[39m._get_metadata_for_step(\n\u001b[32m    657\u001b[39m             step_idx=\u001b[38;5;28mlen\u001b[39m(\u001b[38;5;28mself\u001b[39m) - \u001b[32m1\u001b[39m,\n\u001b[32m    658\u001b[39m             step_params=routed_params[\u001b[38;5;28mself\u001b[39m.steps[-\u001b[32m1\u001b[39m][\u001b[32m0\u001b[39m]],\n\u001b[32m    659\u001b[39m             all_params=params,\n\u001b[32m    660\u001b[39m         )\n\u001b[32m--> \u001b[39m\u001b[32m661\u001b[39m         \u001b[38;5;28;43mself\u001b[39;49m\u001b[43m.\u001b[49m\u001b[43m_final_estimator\u001b[49m\u001b[43m.\u001b[49m\u001b[43mfit\u001b[49m\u001b[43m(\u001b[49m\u001b[43mXt\u001b[49m\u001b[43m,\u001b[49m\u001b[43m \u001b[49m\u001b[43my\u001b[49m\u001b[43m,\u001b[49m\u001b[43m \u001b[49m\u001b[43m*\u001b[49m\u001b[43m*\u001b[49m\u001b[43mlast_step_params\u001b[49m\u001b[43m[\u001b[49m\u001b[33;43m\"\u001b[39;49m\u001b[33;43mfit\u001b[39;49m\u001b[33;43m\"\u001b[39;49m\u001b[43m]\u001b[49m\u001b[43m)\u001b[49m\n\u001b[32m    663\u001b[39m \u001b[38;5;28;01mreturn\u001b[39;00m \u001b[38;5;28mself\u001b[39m\n",
      "\u001b[36mFile \u001b[39m\u001b[32m/Library/Frameworks/Python.framework/Versions/3.13/lib/python3.13/site-packages/sklearn/base.py:1363\u001b[39m, in \u001b[36m_fit_context.<locals>.decorator.<locals>.wrapper\u001b[39m\u001b[34m(estimator, *args, **kwargs)\u001b[39m\n\u001b[32m   1356\u001b[39m     estimator._validate_params()\n\u001b[32m   1358\u001b[39m \u001b[38;5;28;01mwith\u001b[39;00m config_context(\n\u001b[32m   1359\u001b[39m     skip_parameter_validation=(\n\u001b[32m   1360\u001b[39m         prefer_skip_nested_validation \u001b[38;5;129;01mor\u001b[39;00m global_skip_validation\n\u001b[32m   1361\u001b[39m     )\n\u001b[32m   1362\u001b[39m ):\n\u001b[32m-> \u001b[39m\u001b[32m1363\u001b[39m     \u001b[38;5;28;01mreturn\u001b[39;00m \u001b[43mfit_method\u001b[49m\u001b[43m(\u001b[49m\u001b[43mestimator\u001b[49m\u001b[43m,\u001b[49m\u001b[43m \u001b[49m\u001b[43m*\u001b[49m\u001b[43margs\u001b[49m\u001b[43m,\u001b[49m\u001b[43m \u001b[49m\u001b[43m*\u001b[49m\u001b[43m*\u001b[49m\u001b[43mkwargs\u001b[49m\u001b[43m)\u001b[49m\n",
      "\u001b[36mFile \u001b[39m\u001b[32m/Library/Frameworks/Python.framework/Versions/3.13/lib/python3.13/site-packages/sklearn/ensemble/_hist_gradient_boosting/gradient_boosting.py:564\u001b[39m, in \u001b[36mBaseHistGradientBoosting.fit\u001b[39m\u001b[34m(self, X, y, sample_weight, X_val, y_val, sample_weight_val)\u001b[39m\n\u001b[32m    562\u001b[39m \u001b[38;5;66;03m# time spent predicting X for gradient and hessians update\u001b[39;00m\n\u001b[32m    563\u001b[39m acc_prediction_time = \u001b[32m0.0\u001b[39m\n\u001b[32m--> \u001b[39m\u001b[32m564\u001b[39m X, known_categories = \u001b[38;5;28;43mself\u001b[39;49m\u001b[43m.\u001b[49m\u001b[43m_preprocess_X\u001b[49m\u001b[43m(\u001b[49m\u001b[43mX\u001b[49m\u001b[43m,\u001b[49m\u001b[43m \u001b[49m\u001b[43mreset\u001b[49m\u001b[43m=\u001b[49m\u001b[38;5;28;43;01mTrue\u001b[39;49;00m\u001b[43m)\u001b[49m\n\u001b[32m    565\u001b[39m y = _check_y(y, estimator=\u001b[38;5;28mself\u001b[39m)\n\u001b[32m    566\u001b[39m y = \u001b[38;5;28mself\u001b[39m._encode_y(y)\n",
      "\u001b[36mFile \u001b[39m\u001b[32m/Library/Frameworks/Python.framework/Versions/3.13/lib/python3.13/site-packages/sklearn/ensemble/_hist_gradient_boosting/gradient_boosting.py:297\u001b[39m, in \u001b[36mBaseHistGradientBoosting._preprocess_X\u001b[39m\u001b[34m(self, X, reset)\u001b[39m\n\u001b[32m    295\u001b[39m X = \u001b[38;5;28mself\u001b[39m._preprocessor.fit_transform(X)\n\u001b[32m    296\u001b[39m \u001b[38;5;66;03m# check categories found by the OrdinalEncoder and get their encoded values\u001b[39;00m\n\u001b[32m--> \u001b[39m\u001b[32m297\u001b[39m known_categories = \u001b[38;5;28;43mself\u001b[39;49m\u001b[43m.\u001b[49m\u001b[43m_check_categories\u001b[49m\u001b[43m(\u001b[49m\u001b[43m)\u001b[49m\n\u001b[32m    298\u001b[39m \u001b[38;5;28mself\u001b[39m.n_features_in_ = \u001b[38;5;28mself\u001b[39m._preprocessor.n_features_in_\n\u001b[32m    299\u001b[39m \u001b[38;5;28;01mwith\u001b[39;00m suppress(\u001b[38;5;167;01mAttributeError\u001b[39;00m):\n",
      "\u001b[36mFile \u001b[39m\u001b[32m/Library/Frameworks/Python.framework/Versions/3.13/lib/python3.13/site-packages/sklearn/ensemble/_hist_gradient_boosting/gradient_boosting.py:346\u001b[39m, in \u001b[36mBaseHistGradientBoosting._check_categories\u001b[39m\u001b[34m(self)\u001b[39m\n\u001b[32m    344\u001b[39m         \u001b[38;5;28;01mexcept\u001b[39;00m \u001b[38;5;167;01mAttributeError\u001b[39;00m:\n\u001b[32m    345\u001b[39m             feature_name = \u001b[33mf\u001b[39m\u001b[33m\"\u001b[39m\u001b[33mat index \u001b[39m\u001b[38;5;132;01m{\u001b[39;00mfeature_idx\u001b[38;5;132;01m}\u001b[39;00m\u001b[33m\"\u001b[39m\n\u001b[32m--> \u001b[39m\u001b[32m346\u001b[39m         \u001b[38;5;28;01mraise\u001b[39;00m \u001b[38;5;167;01mValueError\u001b[39;00m(\n\u001b[32m    347\u001b[39m             \u001b[33mf\u001b[39m\u001b[33m\"\u001b[39m\u001b[33mCategorical feature \u001b[39m\u001b[38;5;132;01m{\u001b[39;00mfeature_name\u001b[38;5;132;01m}\u001b[39;00m\u001b[33m is expected to \u001b[39m\u001b[33m\"\u001b[39m\n\u001b[32m    348\u001b[39m             \u001b[33mf\u001b[39m\u001b[33m\"\u001b[39m\u001b[33mhave a cardinality <= \u001b[39m\u001b[38;5;132;01m{\u001b[39;00m\u001b[38;5;28mself\u001b[39m.max_bins\u001b[38;5;132;01m}\u001b[39;00m\u001b[33m but actually \u001b[39m\u001b[33m\"\u001b[39m\n\u001b[32m    349\u001b[39m             \u001b[33mf\u001b[39m\u001b[33m\"\u001b[39m\u001b[33mhas a cardinality of \u001b[39m\u001b[38;5;132;01m{\u001b[39;00mcategories.size\u001b[38;5;132;01m}\u001b[39;00m\u001b[33m.\u001b[39m\u001b[33m\"\u001b[39m\n\u001b[32m    350\u001b[39m         )\n\u001b[32m    351\u001b[39m     known_categories[feature_idx] = np.arange(\u001b[38;5;28mlen\u001b[39m(categories), dtype=X_DTYPE)\n\u001b[32m    352\u001b[39m \u001b[38;5;28;01mreturn\u001b[39;00m known_categories\n",
      "\u001b[31mValueError\u001b[39m: Categorical feature 'A2-cont' is expected to have a cardinality <= 255 but actually has a cardinality of 297."
     ]
    }
   ],
   "source": [
    "# YOUR CODE HERE\n",
    "\n",
    "# Fit the model\n",
    "\n",
    "# SOLUTION : Convert high-cardinality categorical to numerical\n",
    "# This should be done BEFORE fitting the model\n",
    "\n",
    "# Check the cardinality of the problematic feature\n",
    "print(f\"Unique values in A2-cont: {df_train['A2-cont'].nunique()}\")\n",
    "print(f\"Sample values: {df_train['A2-cont'].head()}\")\n",
    "\n",
    "# Convert A2-cont to numerical in both training and test sets\n",
    "df_train['A2-cont'] = pd.to_numeric(df_train['A2-cont'], errors='coerce')\n",
    "df_test['A2-cont'] = pd.to_numeric(df_test['A2-cont'], errors='coerce')\n",
    "\n",
    "# Handle any NaN values that might have been created\n",
    "df_train['A2-cont'].fillna(df_train['A2-cont'].median(), inplace=True)\n",
    "df_test['A2-cont'].fillna(df_train['A2-cont'].median(), inplace=True)  # Use training median\n",
    "\n",
    "print(f\"After conversion - Unique values: {df_train['A2-cont'].nunique()}\")\n",
    "\n",
    "# Now fit the model\n",
    "hgbc_pipeline.fit(df_train, y_train)\n",
    "\n",
    "# Create figure\n",
    "fig, ax = plt.subplots(figsize=(8, 6))\n",
    "\n",
    "# Plot ROC curve for training data\n",
    "RocCurveDisplay.from_estimator(\n",
    "    hgbc_pipeline,\n",
    "    df_train,\n",
    "    y_train,\n",
    "    ax=ax,\n",
    "    name=\"Training\"\n",
    ")\n",
    "\n",
    "# Plot ROC curve for test data\n",
    "RocCurveDisplay.from_estimator(\n",
    "    hgbc_pipeline,\n",
    "    df_test,\n",
    "    y_test,\n",
    "    ax=ax,\n",
    "    name=\"Test\"\n",
    ")\n",
    "\n",
    "# Add diagonal line\n",
    "ax.plot([0, 1], [0, 1], linestyle=\"--\", color=\"gray\")\n",
    "\n",
    "# Add title and legend\n",
    "ax.set_title(\"ROC Curve - HistGradientBoosting\")\n",
    "ax.legend()\n",
    "plt.show()"
   ]
  },
  {
   "cell_type": "markdown",
   "id": "61699b2d-c252-4dcb-97de-2f58a4d44249",
   "metadata": {
    "deletable": false,
    "editable": false,
    "nbgrader": {
     "cell_type": "markdown",
     "checksum": "0a6782f46cf91628b9571b35ab7dbb1a",
     "grade": false,
     "grade_id": "cell-e36419825944e568",
     "locked": true,
     "schema_version": 3,
     "solution": false,
     "task": false
    }
   },
   "source": [
    "## T: Fit the model and evaluate [**2P**] \n",
    "\n",
    "Fit the model to the training data and visualize the ROC curve for the training as well as the test dataset in a single plot."
   ]
  },
  {
   "cell_type": "code",
   "execution_count": null,
   "id": "7796319d-ac9a-4dc3-9cb4-f00115e00c56",
   "metadata": {
    "deletable": false,
    "nbgrader": {
     "cell_type": "code",
     "checksum": "ac5256ae528387bee18d93f0c78ba60d",
     "grade": true,
     "grade_id": "cell-3733f2956657b1bf",
     "locked": false,
     "points": 2,
     "schema_version": 3,
     "solution": true,
     "task": false
    }
   },
   "outputs": [
    {
     "data": {
      "image/png": "[encoded data removed]",
      "text/plain": [
       "<Figure size 800x600 with 1 Axes>"
      ]
     },
     "metadata": {},
     "output_type": "display_data"
    }
   ],
   "source": [
    "# YOUR CODE HERE\n",
    "\n",
    "# Fit the model to the training data\n",
    "rf_pipeline.fit(df_train, y_train)\n",
    "\n",
    "# Create a figure for plotting\n",
    "plt.figure(figsize=(8, 6))\n",
    "\n",
    "# Plot ROC curve for training data\n",
    "RocCurveDisplay.from_estimator(\n",
    "    rf_pipeline,\n",
    "    df_train,\n",
    "    y_train,\n",
    "    name=\"Training Data\",\n",
    "    ax=plt.gca()\n",
    ")\n",
    "\n",
    "# Plot ROC curve for test data\n",
    "RocCurveDisplay.from_estimator(\n",
    "    rf_pipeline,\n",
    "    df_test,\n",
    "    y_test,\n",
    "    name=\"Test Data\",\n",
    "    ax=plt.gca()\n",
    ")\n",
    "\n",
    "# Add the diagonal line representing random guessing\n",
    "plt.plot([0, 1], [0, 1], linestyle=\"--\", color=\"gray\", label=\"Random Chance\")\n",
    "\n",
    "# Add titles and labels\n",
    "plt.title(\"ROC Curve - Random Forest Classifier\")\n",
    "plt.xlabel(\"False Positive Rate\")\n",
    "plt.ylabel(\"True Positive Rate\")\n",
    "plt.legend(loc=\"lower right\")\n",
    "\n",
    "# Show the plot\n",
    "plt.show()"
   ]
  },
  {
   "cell_type": "code",
   "execution_count": null,
   "id": "45a36880-c31b-44b1-89f2-4e6f0fd964ef",
   "metadata": {},
   "outputs": [],
   "source": []
  },
  {
   "cell_type": "code",
   "execution_count": null,
   "id": "4a7b6dd4-d714-45b3-a0c9-3c0366c49810",
   "metadata": {},
   "outputs": [],
   "source": []
  },
  {
   "cell_type": "code",
   "execution_count": null,
   "id": "f4d0f163-3787-47f5-9e50-ecc4f8651fa1",
   "metadata": {},
   "outputs": [],
   "source": []
  },
  {
   "cell_type": "code",
   "execution_count": null,
   "id": "77c2ebf8-88c8-45c6-a036-d056f6267217",
   "metadata": {},
   "outputs": [],
   "source": []
  },
  {
   "cell_type": "code",
   "execution_count": null,
   "id": "ca684c09-1973-4aec-a452-7d0bf44175b7",
   "metadata": {},
   "outputs": [],
   "source": []
  },
  {
   "cell_type": "code",
   "execution_count": null,
   "id": "8f74c42c-9c27-4842-ad5c-bf175e7e2259",
   "metadata": {},
   "outputs": [],
   "source": []
  },
  {
   "cell_type": "code",
   "execution_count": null,
   "id": "14a7df59-ec29-452d-8399-4fe5fede2195",
   "metadata": {},
   "outputs": [],
   "source": []
  }
 ],
 "metadata": {
  "kernelspec": {
   "display_name": "Python 3",
   "language": "python",
   "name": "python3"
  },
  "language_info": {
   "codemirror_mode": {
    "name": "ipython",
    "version": 3
   },
   "file_extension": ".py",
   "mimetype": "text/x-python",
   "name": "python",
   "nbconvert_exporter": "python",
   "pygments_lexer": "ipython3",
   "version": "3.13.3"
  }
 },
 "nbformat": 4,
 "nbformat_minor": 5
}
