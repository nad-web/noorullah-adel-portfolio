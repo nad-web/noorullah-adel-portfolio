
{
 "cells": [
  {
   "cell_type": "markdown",
   "id": "963cbf6b-722b-4a92-a033-ec3f466db23d",
   "metadata": {},
   "source": [

   ]
  },
  {
   "cell_type": "markdown",
   "id": "c4c7503c-2765-414f-add5-25c2c8c3c861",
   "metadata": {},
   "source": [
    "# Tutorial: Lambda-Funktionen"
   ]
  },
  {
   "cell_type": "markdown",
   "id": "bf1274f3-1f0f-4ebc-bcb8-1b54165b6086",
   "metadata": {},
   "source": [
    "In diesem Tutorial werden Sie die grundlegende Funktionsweise von Lambda-Funktionen kennenlernen. Dies beinhaltet das Erstellen und das Aufrufen von Lambda-Funktionen."
   ]
  },
  {
   "cell_type": "markdown",
   "id": "63764f5f-a12f-4f03-80df-81419e791e53",
   "metadata": {},
   "source": [
    "## Einführung"
   ]
  },
  {
   "cell_type": "markdown",
   "id": "4296dbe1-7bf5-4aef-ab7d-e7cd7b095b76",
   "metadata": {},
   "source": [
    "Lambda-Funktionen sind anonyme Funktionen in Python. Sie sind nützlich für kurze, einfache Operationen. Eine Lambda-Funktion wird mit dem Schlüsselwort `lambda` definiert. Im folgenden Beispiel wird eine Lambda-Funktion erstellt, die 2 Zahlen addiert."
   ]
  },
  {
   "cell_type": "code",
   "execution_count": null,
   "id": "e7f9b217-8cad-4c6b-9fe2-f71f75997104",
   "metadata": {},
   "outputs": [],
   "source": [
    "lambda x, y: x + y"
   ]
  },
  {
   "cell_type": "markdown",
   "id": "36049e81-d2d1-402a-8816-8b0efb188746",
   "metadata": {},
   "source": [
    "Jetzt wird die Lambda-Funktion mit 2 Zahlen aufgerufen:"
   ]
  },
  {
   "cell_type": "code",
   "execution_count": null,
   "id": "67aa61ec-477b-497e-9419-08cedf97b5a3",
   "metadata": {},
   "outputs": [],
   "source": [
    "print(f'4 + 8 = {(lambda x, y: x + y)(4, 8)}')"
   ]
  },
  {
   "cell_type": "markdown",
   "id": "bf8ac051-e11c-498c-81ab-6bb7f9ccdcc7",
   "metadata": {},
   "source": [
    "```python\n",
    "lambda bound_var1, bound_var2, ...: body\n",
    "```\n",
    "\n",
    "- `lambda`: Keyword, mit dem eine Lambda Funktionsdefinition eingeleitet wird.\n",
    "- `bound_var`: Variablen, die nur innerhalb der Lambda Funktion gelten. Diese Variablen sind dann auch nur dort verwendbar.\n",
    "- `body`: Enthält *einen* Ausdruck, der den Rückgabewert dieser Funktion bestimmt.\n",
    "\n",
    "Typischerweise werden Lambda-Funktionen direkt verwendet oder an andere Funktionen übergeben. Sie könnten zwar auch auf Variablen zugewiesen und später verwendet werden, dann ist allerdings eine \"klassische\" Funktionsdefinition sinnvoller."
   ]
  },
  {
   "cell_type": "markdown",
   "id": "686cc7ae-c778-49ad-bc11-b4b07313e1c1",
   "metadata": {},
   "source": [
    "## Verwendung von Lambda in Funktionen"
   ]
  },
  {
   "cell_type": "markdown",
   "id": "ce3b7cf7-8bb0-475f-b764-72e5e82a1887",
   "metadata": {},
   "source": [
    "Lambda-Funktionen können in Funktionen wie `map()`, `filter()` und `sorted()` verwendet werden.\n",
    "Hier ein kleines Beispiel, in welchem die Quadratzahlen von verschiedenen Zahlen berechnet werden."
   ]
  },
  {
   "cell_type": "code",
   "execution_count": null,
   "id": "8e46129d-4728-443f-8205-7a71dfc3e4a3",
   "metadata": {},
   "outputs": [],
   "source": [
    "list(map(lambda x: x**2, [1, 2, 3, 4]))"
   ]
  },
  {
   "cell_type": "markdown",
   "id": "302205c5-f72a-458e-8806-ff649b61c8f4",
   "metadata": {},
   "source": [
    "Hier ein kleines Beispiel, in welchem alle Wörter mit einem `\"A\"` am Anfang herausgefiltert werden."
   ]
  },
  {
   "cell_type": "code",
   "execution_count": null,
   "id": "5c028772-bf44-4fb5-a2ae-0a47bccc5d6d",
   "metadata": {},
   "outputs": [],
   "source": [
    "fruits = [\"Apple\", \"Banana\", \"Orange\", \"Pear\", \"Apricot\"]\n",
    "list(filter(lambda s: s.startswith(\"A\"), fruits))"
   ]
  },
  {
   "cell_type": "markdown",
   "id": "5f8d60d7-0e10-476d-a9c3-d84092ed9fb9",
   "metadata": {},
   "source": [
    "Sie können Lambda-Funktionen in benutzerdefinierten Funktionen integrieren.\n",
    "Im folgenden Beispiel wird eine Funktion erstellt und mit der gleichen Lambda-Funktion wie oben aufgerufen."
   ]
  },
  {
   "cell_type": "code",
   "execution_count": null,
   "id": "26398340-3f30-4dd8-b947-8b701c042e5f",
   "metadata": {},
   "outputs": [],
   "source": [
    "def apply_operation(x, operation): \n",
    "    return operation(x)\n",
    "\n",
    "apply_operation(5, lambda x: x**2)"
   ]
  },
  {
   "cell_type": "markdown",
   "id": "126adf2f-a2fa-411a-af12-af42d4d8bca5",
   "metadata": {},
   "source": [
    "## Ihre Aufgabe"
   ]
  },
  {
   "cell_type": "markdown",
   "id": "ddccdb10-841d-4d61-beb4-e67997639dad",
   "metadata": {},
   "source": [
    "Schreiben Sie eine Funktion namens `filter_words_by_length`, die eine Liste von Wörtern und eine minimale Längenbeschränkung als Parameter erhält. Die Funktion sollte eine neue Liste zurückgeben, die nur die Wörter enthält, deren Länge größer oder gleich der angegebenen Längenbeschränkung ist. Verwenden Sie eine Lambda-Funktion, um diese Aufgabe zu lösen.\n",
    "\n",
    "Beispiel:\n",
    "```python\n",
    "def filter_words_by_length(word_list, min_length):\n",
    "    return list(filter(Lambda_Funktion))\n",
    "\n",
    "words = [\"apple\", \"banana\", \"kiwi\", \"orange\", \"grape\", \"fun\"]\n",
    "min_length = 5\n",
    "result = filter_words_by_length(words, min_length)\n",
    "# result = ['apple', 'banana', 'orange', 'grape']\n",
    "```"
   ]
  },
  {
   "cell_type": "code",
   "execution_count": null,
   "id": "72a280ed-34f8-4bea-8633-ea7a03f208a1",
   "metadata": {},
   "outputs": [],
   "source": [
    "words = [\"apple\", \"banana\", \"kiwi\", \"orange\", \"grape\", \"fun\"]\n",
    "min_length = 5"
   ]
  },
  {
   "cell_type": "code",
   "execution_count": null,
   "id": "4528e0d1-2887-414b-962e-52a27ac2bc79",
   "metadata": {
    "deletable": false,
    "nbgrader": {
     "cell_type": "code",
     "checksum": "d3e3642c3c8596086f37992eb3bc2653",
     "grade": false,
     "grade_id": "cell-8adec7b63b20f201",
     "locked": false,
     "schema_version": 3,
     "solution": true,
     "task": false
    }
   },
   "outputs": [],
   "source": [
    "# Bitte schreiben Sie hier Ihren Programmcode."
   ]
  },
  {
   "cell_type": "code",
   "execution_count": null,
   "id": "b48b8274-1c4c-4b1f-ae45-f14f727de334",
   "metadata": {
    "deletable": false,
    "editable": false,
    "nbgrader": {
     "cell_type": "code",
     "checksum": "d5a024711cf5f0131f89fcfe573e57ec",
     "grade": true,
     "grade_id": "cell-5e964c7e24aff6a1",
     "locked": true,
     "points": 1,
     "schema_version": 3,
     "solution": false,
     "task": false
    }
   },
   "outputs": [],
   "source": [
    "import pathlib\n",
    "\n",
    "import pytest\n",
    "from pytest_nbgrader import loader\n",
    "\n",
    "loader.Submission.submit(filter_words_by_length)\n",
    "\n",
    "args = ['-qq', '-x', '-W', 'ignore::_pytest.warning_types.PytestAssertRewriteWarning', '--cases']\n",
    "\n",
    "assert pytest.main([*args, pathlib.Path('tests') / 'Lambda_functions' / 'filter_words.yml']) is pytest.ExitCode.OK"
   ]
  }
 ],
 "metadata": {
  "kernelspec": {
   "display_name": "Python 3 (ipykernel)",
   "language": "python",
   "name": "python3"
  },
  "language_info": {
   "codemirror_mode": {
    "name": "ipython",
    "version": 3
   },
   "file_extension": ".py",
   "mimetype": "text/x-python",
   "name": "python",
   "nbconvert_exporter": "python",
   "pygments_lexer": "ipython3",
   "version": "3.12.7"
  }
 },
 "nbformat": 4,
 "nbformat_minor": 5
}

