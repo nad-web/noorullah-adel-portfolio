{
 "cells": [
  {
   "cell_type": "markdown",
   "metadata": {},
   "source": [
    "(pandas_series)=\n",
    "# Pandas `Series` Objects\n",
    "\n",
    "\n",
    "Pandas [`Series`](https://pandas.pydata.org/docs/reference/series.html) essentially [`np.ndarray`s](https://numpy.org/doc/stable/reference/generated/numpy.array.html) with generalized indexing capabilities. When handling `Series` you will recognize several *syntax features* already familiar from built-in Python containers, most notably [`list`](https://docs.python.org/3/library/stdtypes.html#list) and [`dict`](https://docs.python.org/3/library/stdtypes.html#mapping-types-dict).\n",
    "\n",
    "Let's start by noting that a [`Series` is a Python `class`](https://pandas.pydata.org/docs/reference/api/pandas.Series.html#pandas.Series). A (`Series`) class is a blueprint from which objects (of type `Series`) can be created. These objects have an *inner state* as given by values assigned to its attributes (also called member variables in other programming languages). An object's inner state can be queried or modified by accessing its attributes or by calling methods (also called member functions) to operate on the data.\n",
    "\n",
    "The most important attributes for our purposes are:\n",
    "\n",
    "* [`index`](https://pandas.pydata.org/docs/reference/api/pandas.Series.index.html#pandas.Series.index): The index is used to access that actual data stored in the `Series`. The index can be such that it allows access by a label (like in a `dict`) and not just be index (like in `list`).\n",
    "* [`values`](https://pandas.pydata.org/docs/reference/api/pandas.Series.values.html#pandas.Series.values):[^`array`] A sequence container holding the actual data of a particular `dtype` (see below). The elements can be retrieved from the container using suitable method calls that refer to the `index`.\n",
    "* [`size`](https://pandas.pydata.org/docs/reference/api/pandas.Series.size.html#pandas.Series.size) (or [`shape`](https://pandas.pydata.org/docs/reference/api/pandas.Series.size.html#pandas.Series.shape)): The number of elements contained in the `Series` object. The `shape` attribute returns the `size` as a one-dimensional `tuple`.\n",
    "* [`dtype`](https://pandas.pydata.org/docs/reference/api/pandas.Series.size.html#pandas.Series.dtype): The data type of the elements of the `Series`. The data type is usually one of [NumPy's data types](https://numpy.org/doc/stable/reference/arrays.dtypes.html) --- in particular if we are dealing with numerical data types like floating point or integer values.\n",
    "\n",
    "[^`array`]: The [Pandas documentation](https://pandas.pydata.org/docs/reference/api/pandas.Series.values.html#pandas.Series.values) recommends using the `array` attribute or the `to_numpy()` method to access the data buffer of a `Series` object.\n",
    "\n",
    "![](../../_build_img/PandasSeries-1.png)\n",
    "\n",
    "Before we dive into the details of `Series` we have to make a few `import`s."
   ]
  },
  {
   "cell_type": "code",
   "execution_count": 1,
   "metadata": {},
   "outputs": [
    {
     "data": {
      "text/plain": [
       "\"Pandas version: pd.__version__ = '2.1.1', Numpy version: np.__version__ = '1.26.0'\""
      ]
     },
     "execution_count": 1,
     "metadata": {},
     "output_type": "execute_result"
    }
   ],
   "source": [
    "%matplotlib inline\n",
    "\n",
    "import pandas as pd\n",
    "import numpy as np\n",
    "from matplotlib import pyplot as plt\n",
    "\n",
    "f\"Pandas version: {pd.__version__ = }, Numpy version: {np.__version__ = }\""
   ]
  },
  {
   "cell_type": "markdown",
   "metadata": {},
   "source": [
    "Note how we `import`ed the `pandas` and the `numpy` package in the execution cell: It is common to alias `pandas` with `pd` and `numpy` with `np`. By referring to these aliases we can now access functions or classes defined in the respective package. As an example we access the `Series` class from the `pandas` package:"
   ]
  },
  {
   "cell_type": "code",
   "execution_count": 2,
   "metadata": {
    "deletable": false,
    "nbgrader": {
     "grade": true,
     "grade_id": "cell-ba4f9d7ed6820f70",
     "locked": false,
     "points": 0,
     "schema_version": 3,
     "solution": true,
     "task": false
    },
    "slideshow": {
     "slide_type": "fragment"
    }
   },
   "outputs": [],
   "source": [
    "# Fill the gap!"
   ]
  },
  {
   "cell_type": "markdown",
   "metadata": {
    "slideshow": {
     "slide_type": "slide"
    }
   },
   "source": [
    "## Constructing `Series` from Python objects\n",
    "\n",
    "A straight forward way to create `Series` object is to create them from Python sequence containers like `tuple` and `list`.\n",
    "\n",
    "In this first example we use a `list` literal containing Python `int`s to initialize the elements of the `Series`."
   ]
  },
  {
   "cell_type": "code",
   "execution_count": null,
   "metadata": {
    "deletable": false,
    "nbgrader": {
     "grade": true,
     "grade_id": "cell-3ebeb69b525bc973",
     "locked": false,
     "points": 0,
     "schema_version": 3,
     "solution": true,
     "task": false
    },
    "slideshow": {
     "slide_type": "fragment"
    }
   },
   "outputs": [],
   "source": [
    "# Fill the gap!"
   ]
  },
  {
   "cell_type": "code",
   "execution_count": null,
   "metadata": {
    "deletable": false,
    "nbgrader": {
     "grade": true,
     "grade_id": "cell-37cd922053a7fcfa",
     "locked": false,
     "points": 0,
     "schema_version": 3,
     "solution": true,
     "task": false
    },
    "slideshow": {
     "slide_type": "subslide"
    }
   },
   "outputs": [],
   "source": [
    "# Fill the gap!"
   ]
  },
  {
   "cell_type": "markdown",
   "metadata": {},
   "source": [
    "The output from the previous execution cell contains two columns where the right is the content of the `.index` attribute and the right is that of the `.values` attribute."
   ]
  },
  {
   "cell_type": "code",
   "execution_count": null,
   "metadata": {
    "deletable": false,
    "nbgrader": {
     "grade": true,
     "grade_id": "cell-a90ad6df933c457f",
     "locked": false,
     "points": 0,
     "schema_version": 3,
     "solution": true,
     "task": false
    },
    "slideshow": {
     "slide_type": "fragment"
    }
   },
   "outputs": [],
   "source": [
    "# Fill the gap!"
   ]
  },
  {
   "cell_type": "markdown",
   "metadata": {},
   "source": [
    "We note that the order to the elements in the `.values` attribute is *the same* as in the `list` used to initialize the `Series` object. Do not pay too much attention to the `array([ ... ])` output for now. In fact `.values` returns a `np.ndarray` which we will talk about in more detail later. The `.index` is integer-based in increases by one from one element to the next. This is the default used when we do not specify the index explicitly upon creation of a `Series` object.\n",
    "\n",
    "To access the data we may also use the [`.array`](https://pandas.pydata.org/docs/reference/api/pandas.Series.array.html) attribute or the [`.to_numpy()`](https://pandas.pydata.org/docs/reference/api/pandas.Series.to_numpy.html#pandas.Series.to_numpy) method. The [Pandas documentation](https://pandas.pydata.org/docs/reference/api/pandas.Series.values.html#pandas.Series.values) actually recommends using one of the two possibilities to access the data stored in the `Series` object. "
   ]
  },
  {
   "cell_type": "code",
   "execution_count": null,
   "metadata": {
    "deletable": false,
    "nbgrader": {
     "grade": true,
     "grade_id": "cell-654f9727b636f02e",
     "locked": false,
     "points": 0,
     "schema_version": 3,
     "solution": true,
     "task": false
    }
   },
   "outputs": [],
   "source": [
    "# Fill the gap!"
   ]
  },
  {
   "cell_type": "code",
   "execution_count": null,
   "metadata": {
    "deletable": false,
    "nbgrader": {
     "grade": true,
     "grade_id": "cell-b13a301adb05e2f5",
     "locked": false,
     "points": 0,
     "schema_version": 3,
     "solution": true,
     "task": false
    }
   },
   "outputs": [],
   "source": [
    "# Fill the gap!"
   ]
  },
  {
   "cell_type": "markdown",
   "metadata": {},
   "source": [
    ":::{note} Oftentimes it is not required to access the data with either `.values`, `.array`, or `.to_numpy()`; the `Series` class offers a large variety of methods to access and modify the data that are better suited in most cases.\n",
    ":::"
   ]
  },
  {
   "cell_type": "markdown",
   "metadata": {},
   "source": [
    "In a similar manner as above the we may use ` tuple` of Python `float`s to create a `Series` object."
   ]
  },
  {
   "cell_type": "code",
   "execution_count": null,
   "metadata": {
    "deletable": false,
    "nbgrader": {
     "grade": true,
     "grade_id": "cell-14b9f34af6be7eba",
     "locked": false,
     "points": 0,
     "schema_version": 3,
     "solution": true,
     "task": false
    },
    "slideshow": {
     "slide_type": "fragment"
    }
   },
   "outputs": [],
   "source": [
    "# Fill the gap!"
   ]
  },
  {
   "cell_type": "markdown",
   "metadata": {
    "slideshow": {
     "slide_type": "fragment"
    }
   },
   "source": [
    ":::{note} It is not possible to use Python containers that do not have \"sequence semantics\", i.e., that are not ordered. An example for such a container is a [`set`](https://docs.python.org/3/library/stdtypes.html#set).\n",
    ":::"
   ]
  },
  {
   "cell_type": "code",
   "execution_count": null,
   "metadata": {
    "deletable": false,
    "editable": true,
    "nbgrader": {
     "grade": true,
     "grade_id": "cell-09a7a9c152c1a747",
     "locked": false,
     "points": 0,
     "schema_version": 3,
     "solution": true,
     "task": false
    },
    "slideshow": {
     "slide_type": "subslide"
    },
    "tags": [
     "raises-exception"
    ]
   },
   "outputs": [],
   "source": [
    "# Fill the gap!"
   ]
  },
  {
   "cell_type": "markdown",
   "metadata": {},
   "source": [
    "### Quiz"
   ]
  },
  {
   "cell_type": "markdown",
   "metadata": {
    "deletable": false,
    "editable": false,
    "nbgrader": {
     "grade": false,
     "grade_id": "cell-94269e758e207030",
     "locked": true,
     "points": 0,
     "schema_version": 3,
     "solution": false,
     "task": true
    }
   },
   "source": [
    "<span style=\"display:none\" id=\"1_Series:1\">W3sidHlwZSI6ICJtYW55X2Nob2ljZSIsICJhbnN3ZXJfY29scyI6IDMsICJxdWVzdGlvbiI6ICJXaGljaCBvZiB0aGUgZm9sbG93aW5nIGF0dHJpYnV0ZXMgZG8gcGFuZGFzIFNlcmllcyBoYXZlPyIsICJhbnN3ZXJzIjogW3siY29ycmVjdCI6IHRydWUsICJhbnN3ZXIiOiAiICIsICJjb2RlIjogIi5hcnJheSJ9LCB7ImNvcnJlY3QiOiB0cnVlLCAiYW5zd2VyIjogIiAiLCAiY29kZSI6ICIuaW5kZXgifSwgeyJjb3JyZWN0IjogZmFsc2UsICJhbnN3ZXIiOiAiICIsICJjb2RlIjogIi5jb2x1bW5zIn0sIHsiY29ycmVjdCI6IHRydWUsICJhbnN3ZXIiOiAiICIsICJjb2RlIjogIi52YWx1ZXMifSwgeyJjb3JyZWN0IjogdHJ1ZSwgImFuc3dlciI6ICIgIiwgImNvZGUiOiAiLmR0eXBlIn0sIHsiY29ycmVjdCI6IHRydWUsICJhbnN3ZXIiOiAiICIsICJjb2RlIjogIi5zaXplIn0sIHsiY29ycmVjdCI6IHRydWUsICJhbnN3ZXIiOiAiICIsICJjb2RlIjogIi5zaGFwZSJ9LCB7ImNvcnJlY3QiOiBmYWxzZSwgImFuc3dlciI6ICIgIiwgImNvZGUiOiAiLnJvd3MifSwgeyJjb3JyZWN0IjogZmFsc2UsICJhbnN3ZXIiOiAiICIsICJjb2RlIjogIi5kaW0ifV19XQ==</span>"
   ]
  },
  {
   "cell_type": "code",
   "execution_count": null,
   "metadata": {
    "tags": [
     "remove-input"
    ]
   },
   "outputs": [],
   "source": [
    "import jupyterquiz\n",
    "jupyterquiz.display_quiz(\"#1_Series:1\")"
   ]
  },
  {
   "cell_type": "markdown",
   "metadata": {
    "deletable": false,
    "editable": false,
    "nbgrader": {
     "grade": false,
     "grade_id": "cell-7a71f36907b15af6",
     "locked": true,
     "points": 0,
     "schema_version": 3,
     "solution": false,
     "task": true
    }
   },
   "source": [
    "<span style=\"display:none\" id=\"1_Series:2\">W3sidHlwZSI6ICJtYW55X2Nob2ljZSIsICJhbnN3ZXJfY29scyI6IDEsICJxdWVzdGlvbiI6ICJXaGF0IGlzIGEgdmFsaWQgd2F5IHRvIGNyZWF0ZSBhIGBTZXJpZXNgPyIsICJhbnN3ZXJzIjogW3siY29ycmVjdCI6IHRydWUsICJhbnN3ZXIiOiAiICIsICJjb2RlIjogInBkLlNlcmllcyhsaXN0KHJhbmdlKDUpKSkifSwgeyJjb3JyZWN0IjogdHJ1ZSwgImFuc3dlciI6ICIgIiwgImNvZGUiOiAicGQuU2VyaWVzKHtcImFcIjogMSwgXCJiXCI6IDIsIFwiY1wiOiAzfSkifSwgeyJjb3JyZWN0IjogZmFsc2UsICJhbnN3ZXIiOiAiICIsICJjb2RlIjogInBkLlNlcmllcyh7MSwgMiwgM30pIn0sIHsiY29ycmVjdCI6IHRydWUsICJhbnN3ZXIiOiAiICIsICJjb2RlIjogInBkLlNlcmllcygoMSwgMiwgMyksIGluZGV4PWxpc3QoXCJhYmNcIikpIn0sIHsiY29ycmVjdCI6IGZhbHNlLCAiYW5zd2VyIjogIiAiLCAiY29kZSI6ICJwZC5TZXJpZXMoW1wiYVwiLCBcImJcIiwgXCJjXCJdLCBkdHlwZT1mbG9hdCkifV19XQ==</span>"
   ]
  },
  {
   "cell_type": "code",
   "execution_count": null,
   "metadata": {
    "tags": [
     "remove-input"
    ]
   },
   "outputs": [],
   "source": [
    "\n",
    "jupyterquiz.display_quiz(\"#1_Series:2\")"
   ]
  },
  {
   "cell_type": "markdown",
   "metadata": {
    "deletable": false,
    "editable": false,
    "nbgrader": {
     "grade": false,
     "grade_id": "cell-737c4aaca5e0fb20",
     "locked": true,
     "points": 0,
     "schema_version": 3,
     "solution": false,
     "task": true
    }
   },
   "source": [
    "<span style=\"display:none\" id=\"1_Series:3\">W3sidHlwZSI6ICJtYW55X2Nob2ljZSIsICJhbnN3ZXJfY29scyI6IDEsICJxdWVzdGlvbiI6ICJXaGF0IGRvIHlvdSBnZXQgd2hlbiBhY2Nlc3NpbmcgdGhlIGAudmFsdWVzYCBhdHRyaWJ1dGU/IiwgImFuc3dlcnMiOiBbeyJjb3JyZWN0IjogdHJ1ZSwgImFuc3dlciI6ICJBIG9uZS1kaW1lbnNpb25hbCBOdW1QeSBhcnJheSJ9LCB7ImNvcnJlY3QiOiBmYWxzZSwgImFuc3dlciI6ICJBIFB5dGhvbiBgbGlzdGAgb2JqZWN0In0sIHsiY29ycmVjdCI6IGZhbHNlLCAiYW5zd2VyIjogIkEgdHdvLWRpbWVuc2lvbmFsIE51bVB5IGFycmF5In0sIHsiY29ycmVjdCI6IGZhbHNlLCAiYW5zd2VyIjogIkEgUHl0aG9uIGB0dXBsZWAuIn1dfV0=</span>"
   ]
  },
  {
   "cell_type": "code",
   "execution_count": null,
   "metadata": {
    "tags": [
     "remove-input"
    ]
   },
   "outputs": [],
   "source": [
    "\n",
    "jupyterquiz.display_quiz(\"#1_Series:3\")"
   ]
  },
  {
   "cell_type": "markdown",
   "metadata": {},
   "source": [
    "Use the cell below as scratch space to test if the given possiblities are valid or not."
   ]
  },
  {
   "cell_type": "code",
   "execution_count": null,
   "metadata": {},
   "outputs": [],
   "source": [
    "# Your code goes here!"
   ]
  },
  {
   "cell_type": "markdown",
   "metadata": {
    "slideshow": {
     "slide_type": "slide"
    }
   },
   "source": [
    "## Detour: (One-dimensional) Numpy arrays\n",
    "\n",
    "![](../../_build_img/NumpyArray-1d-1.png)\n",
    "\n",
    "### What about the `dtype`?\n",
    "\n",
    "As mentioned earlier `Series` usually use [`np.ndarrays`](https://numpy.org/doc/stable/reference/generated/numpy.array.html) to store data. This has some important consequences regarding the `dtype` (which we have ignored so far).\n",
    "\n",
    "Let's revisit our example from the previous section: "
   ]
  },
  {
   "cell_type": "code",
   "execution_count": null,
   "metadata": {
    "deletable": false,
    "editable": true,
    "nbgrader": {
     "grade": true,
     "grade_id": "cell-0fdbfffaf4562be4",
     "locked": false,
     "points": 0,
     "schema_version": 3,
     "solution": true,
     "task": false
    },
    "slideshow": {
     "slide_type": "fragment"
    },
    "tags": []
   },
   "outputs": [],
   "source": [
    "# Fill the gap!"
   ]
  },
  {
   "cell_type": "markdown",
   "metadata": {},
   "source": [
    "The `dtype` is here reported to be `int64` *although* we used Python `int`s to intialize the `Series` object. That is, the type of the `list` elements must have been *changed*. The reason is that the object used by Pandas to store the data under the hood (a NumPy array) does *not* support Python `int`s. \n",
    "\n",
    "To get an intuition about this recall that Python `int`s can be arbitrarily large in magnitude (the magnitude might be bound the by a computer's memory). The size of an `int` object in memory (meaning the number of bytes in consumes) actually depends on the magnitude of the number it represents."
   ]
  },
  {
   "cell_type": "code",
   "execution_count": null,
   "metadata": {
    "deletable": false,
    "editable": true,
    "nbgrader": {
     "grade": true,
     "grade_id": "cell-5eb94a55ee073e1e",
     "locked": false,
     "points": 0,
     "schema_version": 3,
     "solution": true,
     "task": false
    },
    "slideshow": {
     "slide_type": ""
    },
    "tags": []
   },
   "outputs": [],
   "source": [
    "import sys\n",
    "\n",
    "a, b = 10, 10**1000\n",
    "sys.getsizeof(a), sys.getsizeof(b)  # sizes are reported in bytes\n",
    "\n",
    "# Fill the gap!"
   ]
  },
  {
   "cell_type": "markdown",
   "metadata": {},
   "source": [
    "To cut the discussion short, a CPU cannot deal with `int` objects while maintaining high performance of (numerical) calculations. In order to be fast a CPU wants integers and floating point number all to have the *same* size in memory. The size of a fundamental data types as integers (or floating point numbers) is given by the number of bits used to represent them. In the example above the `int`s were converted to `int64`: \"64\" means that the internally 64 bits (equal to 8 bytes) are used to represent the numbers.[^base-2-representation]\n",
    "\n",
    "[^base-2-representation]: Recall that computers internally represent number with respect to base 2 and not with respect to base 10 as we humans (mostly) prefer. Base-2 representation means that we write a number $a$ like $[a]_2 = \\sum\\limits_{i = 0}^{N - 1} \\alpha_i 2^i$, where $\\alpha_i \\in [0, 1] \\; \\forall i$.\n",
    "\n",
    "Because of NumPy's C heritage, a NumPy array can only contain elements of the *same* `dtype` and *same* size (in bytes). That is, all elements are, for instance, of `dtype == np.float32` or `dtype == np.int64` (the type implies the size in bytes ). Indeed, this is required for enhanced performance compared to Python `list`s.\n",
    "\n",
    ":::{note} Recall that Python `list`s can contain any kind of (valid) Python object.\n",
    ":::"
   ]
  },
  {
   "cell_type": "code",
   "execution_count": null,
   "metadata": {
    "deletable": false,
    "nbgrader": {
     "grade": true,
     "grade_id": "cell-831363684817a56b",
     "locked": false,
     "points": 0,
     "schema_version": 3,
     "solution": true,
     "task": false
    },
    "slideshow": {
     "slide_type": "fragment"
    }
   },
   "outputs": [],
   "source": [
    "# Fill the gap!"
   ]
  },
  {
   "cell_type": "markdown",
   "metadata": {},
   "source": [
    "NumPy arrays can host elements of various types (see https://numpy.org/doc/stable/reference/arrays.dtypes.html) for an exhaustive list. It is also possible to convert the element's `dtype` using the [`astype()`](https://numpy.org/doc/stable/reference/generated/numpy.ndarray.astype.html) method. Such a conversion of types is also referred to type-casting."
   ]
  },
  {
   "cell_type": "markdown",
   "metadata": {},
   "source": [
    "Convert to 64-bit floating points values."
   ]
  },
  {
   "cell_type": "code",
   "execution_count": null,
   "metadata": {
    "deletable": false,
    "nbgrader": {
     "grade": true,
     "grade_id": "cell-710012641c3320b1",
     "locked": false,
     "points": 0,
     "schema_version": 3,
     "solution": true,
     "task": false
    }
   },
   "outputs": [],
   "source": [
    "# Fill the gap!"
   ]
  },
  {
   "cell_type": "markdown",
   "metadata": {},
   "source": [
    "Convert to *unsigned* 32-bit integer."
   ]
  },
  {
   "cell_type": "code",
   "execution_count": null,
   "metadata": {
    "deletable": false,
    "nbgrader": {
     "grade": true,
     "grade_id": "cell-3b0c3344752d0d48",
     "locked": false,
     "points": 0,
     "schema_version": 3,
     "solution": true,
     "task": false
    }
   },
   "outputs": [],
   "source": [
    "# Fill the gap!"
   ]
  },
  {
   "cell_type": "markdown",
   "metadata": {},
   "source": [
    ":::{note} An unsigned integer cannot be used to represent negative numbers. Take for example `np.uint8`: 8 bits are available the represent integers from 0, 1,..., 255 (in total $2^8 = 256$ different values). `np.int8`, on the other hand can represent values -128,..., 0,..., 127 (again, 256 different values). \n",
    ":::\n",
    "\n",
    ":::{warning} Since the number of bits used to represent numbers is *finite* so is the magnitude of numbers (for floating points numbers this extends to the precision as well). The largest possible value representable with `np.uint8` is 255. Trying to store a value larger than this with this datatype results in quite odd behavior (wrap-arounds) that usually is undesired."
   ]
  },
  {
   "cell_type": "code",
   "execution_count": null,
   "metadata": {
    "deletable": false,
    "nbgrader": {
     "grade": true,
     "grade_id": "cell-44ac15d6286f2212",
     "locked": false,
     "points": 0,
     "schema_version": 3,
     "solution": true,
     "task": false
    }
   },
   "outputs": [],
   "source": [
    "# Fill the gap!"
   ]
  },
  {
   "cell_type": "markdown",
   "metadata": {},
   "source": [
    "### Some properties and creation\n",
    "\n",
    "\n",
    "*Conceptionally*, think of a `np.ndarray` as being somehow similar to a Python `list` containing only numeric data types (e.g. integers). For example, both can be indexed and sliced:"
   ]
  },
  {
   "cell_type": "code",
   "execution_count": null,
   "metadata": {
    "deletable": false,
    "nbgrader": {
     "grade": true,
     "grade_id": "cell-3201a283a433e332",
     "locked": false,
     "points": 0,
     "schema_version": 3,
     "solution": true,
     "task": false
    },
    "slideshow": {
     "slide_type": "fragment"
    }
   },
   "outputs": [],
   "source": [
    "# Fill the gap!"
   ]
  },
  {
   "cell_type": "markdown",
   "metadata": {},
   "source": [
    "Use positional index given by a positive integer."
   ]
  },
  {
   "cell_type": "code",
   "execution_count": null,
   "metadata": {
    "deletable": false,
    "nbgrader": {
     "grade": true,
     "grade_id": "cell-03c39b5417923061",
     "locked": false,
     "points": 0,
     "schema_version": 3,
     "solution": true,
     "task": false
    }
   },
   "outputs": [],
   "source": [
    "# Fill the gap!"
   ]
  },
  {
   "cell_type": "markdown",
   "metadata": {},
   "source": [
    "Index from the end with negative integer."
   ]
  },
  {
   "cell_type": "code",
   "execution_count": null,
   "metadata": {
    "deletable": false,
    "nbgrader": {
     "grade": true,
     "grade_id": "cell-62b013b405bf13f6",
     "locked": false,
     "points": 0,
     "schema_version": 3,
     "solution": true,
     "task": false
    }
   },
   "outputs": [],
   "source": [
    "# Fill the gap!"
   ]
  },
  {
   "cell_type": "markdown",
   "metadata": {},
   "source": [
    "Slicing."
   ]
  },
  {
   "cell_type": "code",
   "execution_count": null,
   "metadata": {
    "deletable": false,
    "nbgrader": {
     "grade": true,
     "grade_id": "cell-556e0fffab15dafd",
     "locked": false,
     "points": 0,
     "schema_version": 3,
     "solution": true,
     "task": false
    }
   },
   "outputs": [],
   "source": [
    "# Fill the gap!"
   ]
  },
  {
   "cell_type": "markdown",
   "metadata": {},
   "source": [
    "As for `Series` objects, `np.ndarray`s can be created from Python sequence containers:"
   ]
  },
  {
   "cell_type": "code",
   "execution_count": null,
   "metadata": {
    "deletable": false,
    "nbgrader": {
     "grade": true,
     "grade_id": "cell-534668b9346b611e",
     "locked": false,
     "points": 0,
     "schema_version": 3,
     "solution": true,
     "task": false
    }
   },
   "outputs": [],
   "source": [
    "# Fill the gap!"
   ]
  },
  {
   "cell_type": "markdown",
   "metadata": {},
   "source": [
    "The `dtype` can be fixed when creating a NumPy array:"
   ]
  },
  {
   "cell_type": "code",
   "execution_count": null,
   "metadata": {
    "deletable": false,
    "nbgrader": {
     "grade": true,
     "grade_id": "cell-80a771cd278290a0",
     "locked": false,
     "points": 0,
     "schema_version": 3,
     "solution": true,
     "task": false
    }
   },
   "outputs": [],
   "source": [
    "# Fill the gap!"
   ]
  },
  {
   "cell_type": "markdown",
   "metadata": {},
   "source": [
    "Recall that a NumPy array can only contain elements with the same `dtype`. As a consequence, if values of mixed type --- say, a list with Python `float`s and `int`s --- are given to the intializer upon array creation, a type conversion will be automatically performed to make all entries of the array to have the same `dtype`. If `int` and `float` are mixed the resulting `dtype` will also be a floating point type (usually `np.float64`). Why is this? Well, using a floating point type we can represent integer values (1 will be 1.0) but with an integer type we fail to represent floating points types: converting 2.134 to an `int` would mean chopping off the decimal places yielding 2. This implies a loss of information.\n",
    "\n",
    ":::{note} When mixing `int` and `float` in the initialization of a `np.ndarray` the resulting `dtype` will be floating points type (sually `np.float64`).\n",
    ":::"
   ]
  },
  {
   "cell_type": "code",
   "execution_count": null,
   "metadata": {
    "deletable": false,
    "editable": true,
    "nbgrader": {
     "grade": true,
     "grade_id": "cell-45541f6c0803d7d5",
     "locked": false,
     "points": 0,
     "schema_version": 3,
     "solution": true,
     "task": false
    },
    "slideshow": {
     "slide_type": ""
    },
    "tags": []
   },
   "outputs": [],
   "source": [
    "# Fill the gap!"
   ]
  },
  {
   "cell_type": "markdown",
   "metadata": {},
   "source": [
    "Needless to say, but it does not make sense to mix numerical types (e.g., `int` and `float`) and container types (like `list` and `tuple`) in a NumPy array. This will result in a `ValueError`."
   ]
  },
  {
   "cell_type": "code",
   "execution_count": null,
   "metadata": {
    "deletable": false,
    "editable": true,
    "nbgrader": {
     "grade": true,
     "grade_id": "cell-4498e9d50f32c6d5",
     "locked": false,
     "points": 0,
     "schema_version": 3,
     "solution": true,
     "task": false
    },
    "slideshow": {
     "slide_type": ""
    },
    "tags": [
     "raises-exception"
    ]
   },
   "outputs": [],
   "source": [
    "# Fill the gap!"
   ]
  },
  {
   "cell_type": "markdown",
   "metadata": {},
   "source": [
    "Other ways to create NumPy arrays are using factory functions available from the `np` namespace."
   ]
  },
  {
   "cell_type": "markdown",
   "metadata": {},
   "source": [
    "An array containing only 1s."
   ]
  },
  {
   "cell_type": "code",
   "execution_count": null,
   "metadata": {
    "deletable": false,
    "nbgrader": {
     "grade": true,
     "grade_id": "cell-b17483c32f2488af",
     "locked": false,
     "points": 0,
     "schema_version": 3,
     "solution": true,
     "task": false
    }
   },
   "outputs": [],
   "source": [
    "# Fill the gap!"
   ]
  },
  {
   "cell_type": "markdown",
   "metadata": {},
   "source": [
    "An array containing only 0s."
   ]
  },
  {
   "cell_type": "code",
   "execution_count": null,
   "metadata": {
    "deletable": false,
    "nbgrader": {
     "grade": true,
     "grade_id": "cell-ce55ad17bf183d85",
     "locked": false,
     "points": 0,
     "schema_version": 3,
     "solution": true,
     "task": false
    }
   },
   "outputs": [],
   "source": [
    "# Fill the gap!"
   ]
  },
  {
   "cell_type": "markdown",
   "metadata": {},
   "source": [
    "An array containing only 5s. And yes, it is possible to conduct arithmectic operations between `ndarray`s and also between a `ndarray` and a scalar value. The latter may be helpful in [one of the exercises below](numpy-one-dimension-min-max-scaling)."
   ]
  },
  {
   "cell_type": "code",
   "execution_count": null,
   "metadata": {
    "deletable": false,
    "nbgrader": {
     "grade": true,
     "grade_id": "cell-6431d68b479aa3b6",
     "locked": false,
     "points": 0,
     "schema_version": 3,
     "solution": true,
     "task": false
    }
   },
   "outputs": [],
   "source": [
    "# Fill the gap!"
   ]
  },
  {
   "cell_type": "markdown",
   "metadata": {},
   "source": [
    "### Revisited: Constructing `Series`  \n",
    "\n",
    "Now that we have learned about NumPy Arrays it seems quite obvious that we construct `Series` from `np.ndarray`s:\n"
   ]
  },
  {
   "cell_type": "code",
   "execution_count": null,
   "metadata": {
    "deletable": false,
    "nbgrader": {
     "grade": true,
     "grade_id": "cell-2d3c539c76cdf9de",
     "locked": false,
     "points": 0,
     "schema_version": 3,
     "solution": true,
     "task": false
    }
   },
   "outputs": [],
   "source": [
    "# Fill the gap!"
   ]
  },
  {
   "cell_type": "markdown",
   "metadata": {},
   "source": [
    "We note that reported `dtype` is `float32`, the same as specified for the NumPy Array.\n",
    "\n",
    "The phenomenon of type conversion when initializing a `Series` from a Python container (which usually can hold elements with *distinct* type) also pertains to `Series`."
   ]
  },
  {
   "cell_type": "code",
   "execution_count": null,
   "metadata": {
    "deletable": false,
    "nbgrader": {
     "grade": true,
     "grade_id": "cell-93ae5d1f7fea7a7c",
     "locked": false,
     "points": 0,
     "schema_version": 3,
     "solution": true,
     "task": false
    }
   },
   "outputs": [],
   "source": [
    "# Fill the gap!"
   ]
  },
  {
   "cell_type": "markdown",
   "metadata": {},
   "source": [
    "### Quiz"
   ]
  },
  {
   "cell_type": "markdown",
   "metadata": {
    "deletable": false,
    "editable": false,
    "nbgrader": {
     "grade": false,
     "grade_id": "cell-ecb496469deb4c4f",
     "locked": true,
     "points": 0,
     "schema_version": 3,
     "solution": false,
     "task": true
    }
   },
   "source": [
    "<span style=\"display:none\" id=\"1_Series:4\">W3sidHlwZSI6ICJtYW55X2Nob2ljZSIsICJhbnN3ZXJfY29scyI6IDEsICJxdWVzdGlvbiI6ICJXaGljaCBhcmUgdHJ1ZSBzdGF0ZW1lbnRzIGFib3V0IGEgc2lnbmVkIDgtYml0IGludGVnZXIgYW5kIC8gb3IgYW4gdW5zaWduZWQgMzItYml0IGludGVnZXI/IiwgImFuc3dlcnMiOiBbeyJjb3JyZWN0IjogdHJ1ZSwgImFuc3dlciI6ICJUaGUgMzItYml0IGludGVnZXIgY2FuIHJlcHJlc2VudCBsYXJnZSBudW1iZXJzIHRoYXQgY2FuIGJlIHBvc2l0aXZlIGFzIHdlbGwgYXMgbmVnYXRpdmUuIEEgOC1iaXQgdW5zaWduZWQgaW50ZWdlciBjYW4gb25seSByZXByZXNlbnQgcG9zaXRpdmUgdmFsdWVzIHVwIHRvIDI1NSBhbmQgemVyby4ifSwgeyJjb3JyZWN0IjogZmFsc2UsICJhbnN3ZXIiOiAiQSA4LWJpdCB1bnNpZ25lZCBpbnRlZ2VyIGNhbiByZXByZXNlbnQgcG9zaXRpdmUgYXMgd2VsbCBhcyBuZWdhdGl2ZSBudW1iZXJzIHdoaWxlIGEgMzItYml0IHNpZ25lZCBpbnRlZ2VyIGNhbm5vdC4ifSwgeyJjb3JyZWN0IjogdHJ1ZSwgImFuc3dlciI6ICJXaGVuIGNob29zaW5nIGEgOC1iaXQgdW5zaWduZWQgaW50ZWdlciB3ZSBoYXZlIHRvIGJlIGNlcnRhaW4gdGhlIG51bWJlcnMgaXQgc2hhbGwgcmVwcmVzZW50IGFyZSBwb3NpdGl2ZSAob3IgemVybykgYW5kIHNtYWxsZXIgdGhhbiAyNTYuIn0sIHsiY29ycmVjdCI6IHRydWUsICJhbnN3ZXIiOiAiQSAzMi1iaXQgc2lnbmVkIGludGVnZXIgaXMgYSByZWFzb25hYmxlIGNob2ljZSBmb3IgbWFueSB1c2UgY2FzZXMgcmVxdWlyaW5nIGludGVnZXJzLiJ9LCB7ImNvcnJlY3QiOiBmYWxzZSwgImFuc3dlciI6ICJBIDMyLWJpdCBpbnRlZ2VyIGlzIHRoZSB0eXBlIG9mIGludGVnZXIgUHl0aG9uIHVzZXMgaW50ZXJuYWxseS4ifV19XQ==</span>"
   ]
  },
  {
   "cell_type": "code",
   "execution_count": null,
   "metadata": {
    "tags": [
     "remove-input"
    ]
   },
   "outputs": [],
   "source": [
    "\n",
    "jupyterquiz.display_quiz(\"#1_Series:4\")"
   ]
  },
  {
   "cell_type": "markdown",
   "metadata": {},
   "source": [
    "You are given the `ndarray`\n",
    "\n",
    "```python\n",
    ">>> a = np.array([1, 2, 3, 4, 5])\n",
    "```\n"
   ]
  },
  {
   "cell_type": "markdown",
   "metadata": {
    "deletable": false,
    "editable": false,
    "nbgrader": {
     "grade": false,
     "grade_id": "cell-632a6ae9633b1855",
     "locked": true,
     "points": 0,
     "schema_version": 3,
     "solution": false,
     "task": true
    }
   },
   "source": [
    "<span style=\"display:none\" id=\"1_Series:5\">W3sidHlwZSI6ICJtYW55X2Nob2ljZSIsICJhbnN3ZXJfY29scyI6IDMsICJxdWVzdGlvbiI6ICJXaGF0IGFyZSB2YWxpZCB3YXlzIHRvIGFjY2VzcyB0aGUgbWlkZGxlIGVsZW1lbnQgd2l0aCB2YWx1ZSAzPyIsICJhbnN3ZXJzIjogW3siY29ycmVjdCI6IHRydWUsICJhbnN3ZXIiOiAiICIsICJjb2RlIjogImFbMl0ifSwgeyJjb3JyZWN0IjogdHJ1ZSwgImFuc3dlciI6ICIgIiwgImNvZGUiOiAiYVstM10ifSwgeyJjb3JyZWN0IjogZmFsc2UsICJhbnN3ZXIiOiAiICIsICJjb2RlIjogImFbMV0ifSwgeyJjb3JyZWN0IjogZmFsc2UsICJhbnN3ZXIiOiAiICIsICJjb2RlIjogImFbLTFdIn0sIHsiY29ycmVjdCI6IHRydWUsICJhbnN3ZXIiOiAiICIsICJjb2RlIjogImxpc3QoYSlbLTNdIn0sIHsiY29ycmVjdCI6IHRydWUsICJhbnN3ZXIiOiAiICIsICJjb2RlIjogInR1cGxlKGEpWzJdIn1dfV0=</span>"
   ]
  },
  {
   "cell_type": "code",
   "execution_count": null,
   "metadata": {
    "tags": [
     "remove-input"
    ]
   },
   "outputs": [],
   "source": [
    "\n",
    "jupyterquiz.display_quiz(\"#1_Series:5\")"
   ]
  },
  {
   "cell_type": "markdown",
   "metadata": {},
   "source": [
    "Have a look at the following assignments: \n",
    "\n",
    "```python\n",
    ">>> a = np.array([0, 1, 2, 3, 4])\n",
    ">>> a[:2] = [10, 20][::-1]\n",
    ">>> a[-1] = -100\n",
    "```\n"
   ]
  },
  {
   "cell_type": "markdown",
   "metadata": {
    "deletable": false,
    "editable": false,
    "nbgrader": {
     "grade": false,
     "grade_id": "cell-6b1562dbbc250fb6",
     "locked": true,
     "points": 0,
     "schema_version": 3,
     "solution": false,
     "task": true
    }
   },
   "source": [
    "<span style=\"display:none\" id=\"1_Series:6\">W3sidHlwZSI6ICJtYW55X2Nob2ljZSIsICJhbnN3ZXJfY29scyI6IDIsICJxdWVzdGlvbiI6ICJXaGF0IGlzIHRoZSBjb250ZW50IG9mIHRoZSBhcnJheXMgYWZ0ZXIgdGhlIGFzc2lnbm1lbnQ/IiwgImFuc3dlcnMiOiBbeyJjb3JyZWN0IjogZmFsc2UsICJhbnN3ZXIiOiAiICIsICJjb2RlIjogIlswLCAxLCAyLCAzLCA0LCA1XSJ9LCB7ImNvcnJlY3QiOiBmYWxzZSwgImFuc3dlciI6ICIgIiwgImNvZGUiOiAiWzEwLCAyMCwgMiwgMywgLTEwMF0ifSwgeyJjb3JyZWN0IjogZmFsc2UsICJhbnN3ZXIiOiAiICIsICJjb2RlIjogIlstMTAwLCAyLCAzLCAyMCwgMTBdIn0sIHsiY29ycmVjdCI6IHRydWUsICJhbnN3ZXIiOiAiICIsICJjb2RlIjogIlsyMCwgMTAsIDIsIDMsIC0xMDBdIn0sIHsiY29ycmVjdCI6IGZhbHNlLCAiYW5zd2VyIjogIiAiLCAiY29kZSI6ICJbIF0ifV19XQ==</span>"
   ]
  },
  {
   "cell_type": "code",
   "execution_count": null,
   "metadata": {
    "tags": [
     "remove-input"
    ]
   },
   "outputs": [],
   "source": [
    "\n",
    "jupyterquiz.display_quiz(\"#1_Series:6\")"
   ]
  },
  {
   "cell_type": "markdown",
   "metadata": {},
   "source": [
    "### Exercises"
   ]
  },
  {
   "cell_type": "markdown",
   "metadata": {},
   "source": [
    "#### Array creation\n",
    "\n",
    "Write a function `make_array` that can create an array of size N with values `[0, ..., N - 1]` with a specified dtype. That is, if the N = 3 and the `dtype` is `np.int32`, the array values should be `[0, 1, 2]`. If N = 5 and the `dtype` is `np.float32` the array values are `[0.0, 1.0, 2.0, 3.0, 4.0]`. Other size-`dtype` combinations must be possible as well. The `dtype` should be defaulted to `np.int32`."
   ]
  },
  {
   "cell_type": "code",
   "execution_count": null,
   "metadata": {
    "deletable": false,
    "nbgrader": {
     "grade": true,
     "grade_id": "cell-cc0f5e4d6ac5973e",
     "locked": false,
     "points": 0,
     "schema_version": 3,
     "solution": true,
     "task": false
    }
   },
   "outputs": [],
   "source": [
    "# Fill the gap!"
   ]
  },
  {
   "cell_type": "markdown",
   "metadata": {},
   "source": [
    "#### Factory functions\n",
    "\n",
    "Use two different numpy factory functions to create two `ndarray` of size 10 with values 100 (an integer!)."
   ]
  },
  {
   "cell_type": "code",
   "execution_count": null,
   "metadata": {
    "deletable": false,
    "nbgrader": {
     "grade": true,
     "grade_id": "cell-5b74ea6bbd4dd3aa",
     "locked": false,
     "points": 0,
     "schema_version": 3,
     "solution": true,
     "task": false
    }
   },
   "outputs": [],
   "source": [
    "# Fill the gap!"
   ]
  },
  {
   "cell_type": "code",
   "execution_count": null,
   "metadata": {
    "deletable": false,
    "nbgrader": {
     "grade": true,
     "grade_id": "cell-60ff76a18d0665b8",
     "locked": false,
     "points": 0,
     "schema_version": 3,
     "solution": true,
     "task": false
    }
   },
   "outputs": [],
   "source": [
    "# Fill the gap!"
   ]
  },
  {
   "cell_type": "markdown",
   "metadata": {},
   "source": [
    "#### Vector norm\n",
    "\n",
    "`ndarray`s can interpreted as vectors (e.g. a three-dimensional vector describing some directions in the 3D space we live in). Let $\\boldsymbol{v} \\in \\mathbb{R}^3$ be such a vector. The *length* of such a vector is defined by the equation\n",
    "\n",
    "$$\n",
    "l = \\sqrt{v_1^2 + v_2^2 + v_3^3} = \\sqrt{\\sum_{i = 1}^3 v_i^2},\n",
    "$$\n",
    "\n",
    "where $v_i$ with $i = 1, 2, 3$ are the components of the vector. You are given the `ndarray` below and consider it to be a three-dimensional vector. Compute its length in 3 different ways."
   ]
  },
  {
   "cell_type": "code",
   "execution_count": null,
   "metadata": {},
   "outputs": [],
   "source": [
    "v = np.arange(1, 4)\n",
    "v"
   ]
  },
  {
   "cell_type": "markdown",
   "metadata": {},
   "source": [
    "1. Accessing the vector elements by index."
   ]
  },
  {
   "cell_type": "code",
   "execution_count": null,
   "metadata": {
    "deletable": false,
    "nbgrader": {
     "grade": true,
     "grade_id": "cell-42c69626510ff922",
     "locked": false,
     "points": 0,
     "schema_version": 3,
     "solution": true,
     "task": false
    }
   },
   "outputs": [],
   "source": [
    "# Fill the gap!"
   ]
  },
  {
   "cell_type": "markdown",
   "metadata": {},
   "source": [
    "2. Use [mathematical functions](https://numpy.org/doc/stable/reference/routines.math.html#sums-products-differences)."
   ]
  },
  {
   "cell_type": "code",
   "execution_count": null,
   "metadata": {
    "deletable": false,
    "nbgrader": {
     "grade": true,
     "grade_id": "cell-1dc4185a0098ffa8",
     "locked": false,
     "points": 0,
     "schema_version": 3,
     "solution": true,
     "task": false
    }
   },
   "outputs": [],
   "source": [
    "# Fill the gap!"
   ]
  },
  {
   "cell_type": "markdown",
   "metadata": {},
   "source": [
    "3. A *single* suitable function from NumPy's [`linalg`](https://numpy.org/doc/2.2/reference/routines.linalg.html) module."
   ]
  },
  {
   "cell_type": "code",
   "execution_count": null,
   "metadata": {
    "deletable": false,
    "nbgrader": {
     "grade": true,
     "grade_id": "cell-5e01fcdc92a456a4",
     "locked": false,
     "points": 0,
     "schema_version": 3,
     "solution": true,
     "task": false
    }
   },
   "outputs": [],
   "source": [
    "# Fill the gap!"
   ]
  },
  {
   "cell_type": "markdown",
   "metadata": {},
   "source": [
    "(numpy-one-dimension-min-max-scaling)=\n",
    "#### Min-max scaling\n",
    "\n",
    "Given the array `a` below, scale all its values to lie in the range $[0, 1]$. Store the rescaled `ndarray` in a variable with named `a_scaled`."
   ]
  },
  {
   "cell_type": "code",
   "execution_count": null,
   "metadata": {},
   "outputs": [],
   "source": [
    "a = np.arange(10, 110, 10)\n",
    "a"
   ]
  },
  {
   "cell_type": "code",
   "execution_count": null,
   "metadata": {
    "deletable": false,
    "nbgrader": {
     "grade": true,
     "grade_id": "cell-95400d88a0eb570f",
     "locked": false,
     "points": 0,
     "schema_version": 3,
     "solution": true,
     "task": false
    }
   },
   "outputs": [],
   "source": [
    "# Fill the gap!"
   ]
  },
  {
   "cell_type": "markdown",
   "metadata": {},
   "source": [
    "#### Cross product\n",
    "\n",
    "The so-called corss product between two vectors $\\boldsymbol{v}, \\boldsymbol{w} \\in \\mathbb{R}^3$ is defined by \n",
    "\n",
    "$$\n",
    "\\boldsymbol{v} \\times \\boldsymbol{w} = \n",
    "\\begin{bmatrix}\n",
    "v_2 w_3 - v_3 w_2\\\\\n",
    "v_3 w_1 - v_1 w_3\\\\\n",
    "v_1 w_2 - v_2 w_1\n",
    "\\end{bmatrix},\n",
    "$$\n",
    "\n",
    "where $v_i, w_i$ with $i = 1, 2, 3$ are the components of each vector. Compute the cross product of `v` and `w` defined below by accessing the right elements *by index* and store result in a `ndarray`. You can test your result with the [`np.cross`](https://numpy.org/doc/stable/reference/generated/numpy.cross.html#numpy.cross) function."
   ]
  },
  {
   "cell_type": "code",
   "execution_count": null,
   "metadata": {},
   "outputs": [],
   "source": [
    "v, w = np.array(range(1, 4)), np.array(range(3, 0, -1))\n",
    "v, w"
   ]
  },
  {
   "cell_type": "code",
   "execution_count": null,
   "metadata": {
    "deletable": false,
    "nbgrader": {
     "grade": true,
     "grade_id": "cell-1135abb86567c649",
     "locked": false,
     "points": 0,
     "schema_version": 3,
     "solution": true,
     "task": false
    }
   },
   "outputs": [],
   "source": [
    "# Fill the gap!"
   ]
  },
  {
   "cell_type": "markdown",
   "metadata": {
    "slideshow": {
     "slide_type": "slide"
    }
   },
   "source": [
    "## Indexing\n",
    "\n",
    "We are aware positional indexing of Python sequence containers and --- at the latest after the last section :-) --- `np.ndarray`s:[^advanced-indexing]\n",
    "\n",
    "* Using a positive integer to refer to positions from the front or a negative integer to refer to positions from the back.\n",
    "* Slicing `start:stop:step` to access a subset of elements in a systematic way.\n",
    "\n",
    "[^advanced-indexing]: NumPy arrays also support so-called advanced (fancy) indexing which we will learn about in the context of `Series`. Refer to [this link](https://numpy.org/doc/stable/user/basics.indexing.html) for details on the indexing capabilities of `np.ndarray`s.\n",
    "\n",
    "The preferred way to access the elements of a `Series` object is using the `.loc` and `.iloc` methods which we will learn about in the next section."
   ]
  },
  {
   "cell_type": "markdown",
   "metadata": {
    "slideshow": {
     "slide_type": "slide"
    }
   },
   "source": [
    "(series-indexing-with-loc-and-iloc)=\n",
    "### Indexing with `.loc`, `.iloc` methods\n",
    "- [`.loc[<index value>]`](https://pandas.pydata.org/pandas-docs/stable/reference/api/pandas.Series.loc.html)\n",
    "    - access by (index) label\n",
    "    - slices include both end points\n",
    "\n",
    "- [`.iloc[<index value>]`](https://pandas.pydata.org/pandas-docs/stable/reference/api/pandas.DataFrame.iloc.html)\n",
    "    - numeric indexing with integers, from 0\n",
    "    - slices exclude the end point (as with e.g. ranges)\n",
    "\n",
    "Before we actually dive into how to use these methods, let's introduce two ways of creating a `Series` with specification of the index."
   ]
  },
  {
   "cell_type": "markdown",
   "metadata": {},
   "source": [
    "Use a Python `dict`. The keys will be entries in `.index`, the values will be the entries in `.values`."
   ]
  },
  {
   "cell_type": "code",
   "execution_count": null,
   "metadata": {
    "deletable": false,
    "nbgrader": {
     "grade": true,
     "grade_id": "cell-d2943934c22bbe11",
     "locked": false,
     "points": 0,
     "schema_version": 3,
     "solution": true,
     "task": false
    }
   },
   "outputs": [],
   "source": [
    "# Fill the gap!"
   ]
  },
  {
   "cell_type": "markdown",
   "metadata": {},
   "source": [
    "Specifiy the `index` argument of the `Series` initializer (and `data` for the values to be hosted by the `Series` object)."
   ]
  },
  {
   "cell_type": "code",
   "execution_count": null,
   "metadata": {
    "deletable": false,
    "nbgrader": {
     "grade": true,
     "grade_id": "cell-5243ed75fdf85200",
     "locked": false,
     "points": 0,
     "schema_version": 3,
     "solution": true,
     "task": false
    }
   },
   "outputs": [],
   "source": [
    "# Fill the gap!"
   ]
  },
  {
   "cell_type": "markdown",
   "metadata": {},
   "source": [
    "To access the position in `.values` where the `.index` holds and `\"a\"` we need the `.loc[]` method, i.e., getting the corresponding entry from `.values` is proxied via the index. Ignoring the content of `.index` and just going by the position in the `.values` attribute means using the `.iloc[]` method. "
   ]
  },
  {
   "cell_type": "code",
   "execution_count": null,
   "metadata": {
    "deletable": false,
    "nbgrader": {
     "grade": true,
     "grade_id": "cell-7da01f4937f1d4f0",
     "locked": false,
     "points": 0,
     "schema_version": 3,
     "solution": true,
     "task": false
    },
    "slideshow": {
     "slide_type": "fragment"
    }
   },
   "outputs": [],
   "source": [
    "# Fill the gap!"
   ]
  },
  {
   "cell_type": "markdown",
   "metadata": {},
   "source": [
    "Slicing is possible with both methods, however, the semantics are different. When using slicing with `.loc[]` the *end* of the slice is included as well.[^not-using-end-would-be-strange]\n",
    "\n",
    "[^not-using-end-would-be-strange]: In fact, ignoring the end would be strange if a non-sorted, non-integer index is used. Imagine the case where you have `.index` entries that are not ordered (maybe it is not even possible to establish an ordering relation). Then ignoring the end would be semantically questionable. Ignoring the end does only make sense if positional indexing is used via the `.loc[]` method."
   ]
  },
  {
   "cell_type": "code",
   "execution_count": null,
   "metadata": {
    "deletable": false,
    "nbgrader": {
     "grade": true,
     "grade_id": "cell-7b34e211f873360a",
     "locked": false,
     "points": 0,
     "schema_version": 3,
     "solution": true,
     "task": false
    },
    "slideshow": {
     "slide_type": "fragment"
    }
   },
   "outputs": [],
   "source": [
    "# Fill the gap!"
   ]
  },
  {
   "cell_type": "markdown",
   "metadata": {},
   "source": [
    ":::{note} As you may have noticed using a stride like in `start:stop:stride` does not really make sense when using slicing the the `.loc[]` method.\n",
    ":::\n",
    "\n",
    ":::{note} Note how both the `.loc[]` as well as the `.iloc[]` methods *may* return `Series` if the slices contain more than a single element.\n",
    ":::\n",
    "\n",
    "One final example to highlight the differences between `.loc[]` and `.iloc[]`."
   ]
  },
  {
   "cell_type": "code",
   "execution_count": null,
   "metadata": {
    "deletable": false,
    "nbgrader": {
     "grade": true,
     "grade_id": "cell-df2b4af671fcfc36",
     "locked": false,
     "points": 0,
     "schema_version": 3,
     "solution": true,
     "task": false
    },
    "slideshow": {
     "slide_type": "slide"
    }
   },
   "outputs": [],
   "source": [
    "# Fill the gap!"
   ]
  },
  {
   "cell_type": "code",
   "execution_count": null,
   "metadata": {
    "deletable": false,
    "nbgrader": {
     "grade": true,
     "grade_id": "cell-2c0a25dbb3b1d9df",
     "locked": false,
     "points": 0,
     "schema_version": 3,
     "solution": true,
     "task": false
    },
    "pycharm": {
     "name": "#%%\n"
    },
    "slideshow": {
     "slide_type": "fragment"
    }
   },
   "outputs": [],
   "source": [
    "# Fill the gap!"
   ]
  },
  {
   "cell_type": "code",
   "execution_count": null,
   "metadata": {
    "deletable": false,
    "nbgrader": {
     "grade": true,
     "grade_id": "cell-c011c4985a4f5670",
     "locked": false,
     "points": 0,
     "schema_version": 3,
     "solution": true,
     "task": false
    },
    "slideshow": {
     "slide_type": "fragment"
    }
   },
   "outputs": [],
   "source": [
    "# Fill the gap!"
   ]
  },
  {
   "cell_type": "code",
   "execution_count": null,
   "metadata": {
    "deletable": false,
    "nbgrader": {
     "grade": true,
     "grade_id": "cell-2fed82870fe628c1",
     "locked": false,
     "points": 0,
     "schema_version": 3,
     "solution": true,
     "task": false
    },
    "slideshow": {
     "slide_type": "fragment"
    }
   },
   "outputs": [],
   "source": [
    "# Fill the gap!"
   ]
  },
  {
   "cell_type": "markdown",
   "metadata": {
    "slideshow": {
     "slide_type": "slide"
    }
   },
   "source": [
    "### Setting values\n",
    "\n",
    "Like some of Python's built-in containers `Series` are *mutable*. That is, once a `Series` object has been created, its attributes (e.g., `.index`, and `.values`) may be modified. The preferred way to modify a `Series` element-wise --- the entries of `.values`, to be more precise --- is to use `.loc` (and `.iloc`) with suitable indexing."
   ]
  },
  {
   "cell_type": "code",
   "execution_count": null,
   "metadata": {
    "deletable": false,
    "nbgrader": {
     "grade": true,
     "grade_id": "cell-a0a2281e0e2dcecb",
     "locked": false,
     "points": 0,
     "schema_version": 3,
     "solution": true,
     "task": false
    },
    "slideshow": {
     "slide_type": "fragment"
    }
   },
   "outputs": [],
   "source": [
    "# Fill the gap!"
   ]
  },
  {
   "cell_type": "markdown",
   "metadata": {},
   "source": [
    "In the following line we change the data by addressing a particular index label with `.loc[]`:"
   ]
  },
  {
   "cell_type": "code",
   "execution_count": null,
   "metadata": {
    "deletable": false,
    "nbgrader": {
     "grade": true,
     "grade_id": "cell-bd77a054fe4199d8",
     "locked": false,
     "points": 0,
     "schema_version": 3,
     "solution": true,
     "task": false
    },
    "slideshow": {
     "slide_type": "fragment"
    }
   },
   "outputs": [],
   "source": [
    "# Fill the gap!"
   ]
  },
  {
   "cell_type": "markdown",
   "metadata": {},
   "source": [
    "We note that the reported `dtype` is `int64`. Now let's see what happens if we assign a floating point value (a Python `float`) to a location in the `Series` object. Again, we use the `.loc[]` method for this."
   ]
  },
  {
   "cell_type": "code",
   "execution_count": null,
   "metadata": {
    "deletable": false,
    "nbgrader": {
     "grade": true,
     "grade_id": "cell-5b4ebec964243bf1",
     "locked": false,
     "points": 0,
     "schema_version": 3,
     "solution": true,
     "task": false
    },
    "slideshow": {
     "slide_type": "fragment"
    }
   },
   "outputs": [],
   "source": [
    "# Fill the gap!"
   ]
  },
  {
   "cell_type": "markdown",
   "metadata": {},
   "source": [
    "Trying to fully revert this modification will not work because an integer value can be represented as floating point value. As a result, the value can be changed but the `dtype` of the `Series` object will remain `float64`."
   ]
  },
  {
   "cell_type": "code",
   "execution_count": null,
   "metadata": {
    "deletable": false,
    "nbgrader": {
     "grade": true,
     "grade_id": "cell-6bf17f415b96b6fa",
     "locked": false,
     "points": 0,
     "schema_version": 3,
     "solution": true,
     "task": false
    }
   },
   "outputs": [],
   "source": [
    "# Fill the gap!"
   ]
  },
  {
   "cell_type": "markdown",
   "metadata": {},
   "source": [
    "Finally, we also note that we can assign to a slice of data as well."
   ]
  },
  {
   "cell_type": "code",
   "execution_count": null,
   "metadata": {
    "deletable": false,
    "nbgrader": {
     "grade": true,
     "grade_id": "cell-394898b5fc455755",
     "locked": false,
     "points": 0,
     "schema_version": 3,
     "solution": true,
     "task": false
    }
   },
   "outputs": [],
   "source": [
    "# Fill the gap!"
   ]
  },
  {
   "cell_type": "markdown",
   "metadata": {
    "slideshow": {
     "slide_type": "fragment"
    }
   },
   "source": [
    ":::{warning} While it is technically possible to mix numerical types and e.g. `string`s,\n",
    "\n",
    "```python\n",
    ">>> yearly_numbers.loc[2014:2018] = [\"this\", \"also\", \"works\"]\n",
    ">>> yearly_numbers\n",
    "2014     this\n",
    "2016     also\n",
    "2018    works\n",
    "2020    271.0\n",
    "dtype: object\n",
    "```\n",
    "it is *not* recommended. The elements of the `Series` are now of type `object` (although some of them still are numbers) which will severly limit computational performance. Apart from that the semantics of operations between elements of the `Series` (e.g., adding them up) is unclear because who knows what adding a number and string is supposed to mean?\n",
    ":::"
   ]
  },
  {
   "cell_type": "markdown",
   "metadata": {
    "slideshow": {
     "slide_type": "slide"
    }
   },
   "source": [
    "### Non-unique indices\n",
    "\n",
    "So far we have only dealt with cases where the content of `.index` was *unique*, i.e., none of the entries occurred more than once. With Pandas `Series`, this need not be the case (contrary to e.g. Python `dicts`). Queries for for entries with a particular index (label) have the same syntax as in case of unique `.index` entires but the return type will be *different*.\n",
    "\n",
    "Let's have an example:"
   ]
  },
  {
   "cell_type": "code",
   "execution_count": null,
   "metadata": {
    "deletable": false,
    "nbgrader": {
     "grade": true,
     "grade_id": "cell-3dd0876cc42d42bc",
     "locked": false,
     "points": 0,
     "schema_version": 3,
     "solution": true,
     "task": false
    },
    "slideshow": {
     "slide_type": "fragment"
    }
   },
   "outputs": [],
   "source": [
    "# Fill the gap!"
   ]
  },
  {
   "cell_type": "markdown",
   "metadata": {},
   "source": [
    "The index contains the `root` entry twice. Now, we query all entries with this index:"
   ]
  },
  {
   "cell_type": "code",
   "execution_count": null,
   "metadata": {
    "deletable": false,
    "nbgrader": {
     "grade": true,
     "grade_id": "cell-b04219d04eca54f1",
     "locked": false,
     "points": 0,
     "schema_version": 3,
     "solution": true,
     "task": false
    },
    "slideshow": {
     "slide_type": "fragment"
    }
   },
   "outputs": [],
   "source": [
    "# Fill the gap!"
   ]
  },
  {
   "cell_type": "markdown",
   "metadata": {},
   "source": [
    ":::{note} Queries with a non-unique index return another `Series` while queries for a unique index yield an element of the particular `dtype`. The resulting `Series` has `.size` equal to the number of occurrences of the corresponding index value and the same `dtype` as the original `Series` object.\n",
    ":::\n",
    "\n",
    "![Result of query for unique / non-unique label in index.](../../_build_img/SeriesQueryLoc-1.png)"
   ]
  },
  {
   "cell_type": "code",
   "execution_count": null,
   "metadata": {
    "deletable": false,
    "nbgrader": {
     "grade": true,
     "grade_id": "cell-3d47779bd2405364",
     "locked": false,
     "points": 0,
     "schema_version": 3,
     "solution": true,
     "task": false
    }
   },
   "outputs": [],
   "source": [
    "# Fill the gap!"
   ]
  },
  {
   "cell_type": "code",
   "execution_count": null,
   "metadata": {
    "deletable": false,
    "editable": true,
    "nbgrader": {
     "grade": true,
     "grade_id": "cell-bd2b333b0a0a633c",
     "locked": false,
     "points": 0,
     "schema_version": 3,
     "solution": true,
     "task": false
    },
    "slideshow": {
     "slide_type": "fragment"
    },
    "tags": [
     "raises-exception"
    ]
   },
   "outputs": [],
   "source": [
    "# Fill the gap!"
   ]
  },
  {
   "cell_type": "markdown",
   "metadata": {
    "slideshow": {
     "slide_type": "slide"
    }
   },
   "source": [
    "### Fancy indexing and boolean masks\n",
    "\n",
    "#### Detour: NumPy Arrays\n",
    "\n",
    "In contrast to `Series` NumPy Arrays only support integer indexing. Well, this is not the full story...NumPy also supports so-called advanced indexing. Advanced indexing is based on sequences of `int`s or `bool`s (e.g. a `list[int]`, or `list[bool]`).\n",
    "\n",
    "Consider the following NumPy array ([`np.arange`](https://numpy.org/doc/stable/reference/generated/numpy.arange.html) works similar to Python's `range`):\n"
   ]
  },
  {
   "cell_type": "code",
   "execution_count": null,
   "metadata": {
    "deletable": false,
    "nbgrader": {
     "grade": true,
     "grade_id": "cell-cc6ec88c23c65c88",
     "locked": false,
     "points": 0,
     "schema_version": 3,
     "solution": true,
     "task": false
    }
   },
   "outputs": [],
   "source": [
    "# Fill the gap!"
   ]
  },
  {
   "cell_type": "markdown",
   "metadata": {},
   "source": [
    "Instead of passing a single integer index, we pass `list[int]`. Note, however, that each of the entries must be a *valid* index of the array."
   ]
  },
  {
   "cell_type": "code",
   "execution_count": null,
   "metadata": {
    "deletable": false,
    "nbgrader": {
     "grade": true,
     "grade_id": "cell-2ef33ea46192d976",
     "locked": false,
     "points": 0,
     "schema_version": 3,
     "solution": true,
     "task": false
    }
   },
   "outputs": [],
   "source": [
    "# Fill the gap!"
   ]
  },
  {
   "cell_type": "markdown",
   "metadata": {
    "slideshow": {
     "slide_type": "fragment"
    }
   },
   "source": [
    "Another option is to use so-called boolean masks; essentially these often are `list[bool]` (`list` with `bool`ean entries). A boolean mask is a sequence of the same length as the NumPy array containing `True` and / or `False` values. An element of the NumPy array will be returned if the entry at the corresponding position in the mask is `True`. The result of this operation will be a new NumPy array (possibly with a different size).\n",
    "\n",
    "![NumPy masking](../../_build_img/NumpyMaskEven-1.png)\n",
    "\n",
    "To illustrate this principle let's assume that we want to return all entries from the array that are *odd* numbers. A corresponding mask must have `True` at the positions where there is an odd number in the array. Such a mask can be programmatically generated with a list comprehension (there is a better, more performant way, which we learn about in a moment)."
   ]
  },
  {
   "cell_type": "code",
   "execution_count": null,
   "metadata": {
    "deletable": false,
    "nbgrader": {
     "grade": true,
     "grade_id": "cell-d00cec9dd1b9c727",
     "locked": false,
     "points": 0,
     "schema_version": 3,
     "solution": true,
     "task": false
    }
   },
   "outputs": [],
   "source": [
    "# Fill the gap!"
   ]
  },
  {
   "cell_type": "code",
   "execution_count": null,
   "metadata": {
    "deletable": false,
    "nbgrader": {
     "grade": true,
     "grade_id": "cell-dc99e5705199c4ac",
     "locked": false,
     "points": 0,
     "schema_version": 3,
     "solution": true,
     "task": false
    }
   },
   "outputs": [],
   "source": [
    "# Fill the gap!"
   ]
  },
  {
   "cell_type": "markdown",
   "metadata": {},
   "source": [
    ":::{warning} While it is possible (as we have just seen) it is strongly discouraged to use Python loop constructs (`list` comprehension, `for` loops) to traverse NumPy arrays. NumPy arrays conveniently support algebraic operations that we now from \"fundamental\" data types such as `flaot` and `int`. In fact, the list comprehension `[x % 2 == 1 for x in a]` can (and should!) be replaced with:\n",
    "\n",
    "```python\n",
    "a % 2 == 1\n",
    "```\n",
    "The result will another a `np.ndarray[bool]` instead of a `list` and this operation will be much more performant than the `list` comprehension.\n",
    ":::\n",
    "\n",
    "Finally, we note that `bool`ean algebra can also be used with `np.ndarray[bool]`. If we additionally to selecting even elements we also want the value to be at least 4 we can say: "
   ]
  },
  {
   "cell_type": "code",
   "execution_count": null,
   "metadata": {
    "deletable": false,
    "nbgrader": {
     "grade": true,
     "grade_id": "cell-c36c384c4746fed0",
     "locked": false,
     "points": 0,
     "schema_version": 3,
     "solution": true,
     "task": false
    }
   },
   "outputs": [],
   "source": [
    "# Fill the gap!"
   ]
  },
  {
   "cell_type": "markdown",
   "metadata": {},
   "source": [
    "The `&` means *element-wise* logical and; similarly, `|` means element-wise logical or. The `~` symbol denotes logical negation.\n",
    "\n",
    "The following sketch gives an example for logical conjunction with boolean masks.\n",
    "\n",
    "![Boolean algebra with masks](../../_build_img/NumpyBooleanAlgebra-1.png)"
   ]
  },
  {
   "cell_type": "code",
   "execution_count": null,
   "metadata": {
    "deletable": false,
    "nbgrader": {
     "grade": true,
     "grade_id": "cell-ec66f2e150e4d09f",
     "locked": false,
     "points": 0,
     "schema_version": 3,
     "solution": true,
     "task": false
    }
   },
   "outputs": [],
   "source": [
    "# Fill the gap!"
   ]
  },
  {
   "cell_type": "code",
   "execution_count": null,
   "metadata": {
    "deletable": false,
    "nbgrader": {
     "grade": true,
     "grade_id": "cell-36a85f2726c65f01",
     "locked": false,
     "points": 0,
     "schema_version": 3,
     "solution": true,
     "task": false
    }
   },
   "outputs": [],
   "source": [
    "# Fill the gap!"
   ]
  },
  {
   "cell_type": "markdown",
   "metadata": {},
   "source": [
    "(series-advanced-indexing-and-boolean-masks)=\n",
    "### `Series`\n",
    "\n",
    "We can directly use the principles just learned for `Series`. All we have to is to call the `.loc[]` / `.iloc[]` method with either a `list` containing valid labels / positions on a `Series` object."
   ]
  },
  {
   "cell_type": "code",
   "execution_count": null,
   "metadata": {
    "deletable": false,
    "nbgrader": {
     "grade": true,
     "grade_id": "cell-5014d6e7ed0e6109",
     "locked": false,
     "points": 0,
     "schema_version": 3,
     "solution": true,
     "task": false
    },
    "slideshow": {
     "slide_type": "subslide"
    }
   },
   "outputs": [],
   "source": [
    "# Fill the gap!"
   ]
  },
  {
   "cell_type": "markdown",
   "metadata": {},
   "source": [
    "We set up two `list`s: One containing labels from the index of the `Series`, and another one containing positions."
   ]
  },
  {
   "cell_type": "code",
   "execution_count": null,
   "metadata": {},
   "outputs": [],
   "source": [
    "labels_to_extract, positions_to_extract = (\n",
    "    [\"a1\", \"a4\", \"a8\", \"a7\"],\n",
    "    list(range(0, 10, 2)),\n",
    ")\n",
    "labels_to_extract, positions_to_extract"
   ]
  },
  {
   "cell_type": "markdown",
   "metadata": {},
   "source": [
    "We apply the `list` of index labels with the `.loc[]` method."
   ]
  },
  {
   "cell_type": "code",
   "execution_count": null,
   "metadata": {
    "deletable": false,
    "nbgrader": {
     "grade": true,
     "grade_id": "cell-8ad2cfd3178d9ceb",
     "locked": false,
     "points": 0,
     "schema_version": 3,
     "solution": true,
     "task": false
    }
   },
   "outputs": [],
   "source": [
    "# Fill the gap!"
   ]
  },
  {
   "cell_type": "markdown",
   "metadata": {},
   "source": [
    "The `list` of positions is passed to the `.iloc[]` method."
   ]
  },
  {
   "cell_type": "code",
   "execution_count": null,
   "metadata": {
    "deletable": false,
    "nbgrader": {
     "grade": true,
     "grade_id": "cell-1495d0ab7f2cd03f",
     "locked": false,
     "points": 0,
     "schema_version": 3,
     "solution": true,
     "task": false
    }
   },
   "outputs": [],
   "source": [
    "# Fill the gap!"
   ]
  },
  {
   "cell_type": "markdown",
   "metadata": {},
   "source": [
    ":::{note} Both operations return a new `Series` object.\n",
    ":::"
   ]
  },
  {
   "cell_type": "markdown",
   "metadata": {},
   "source": [
    "What about boolean masks? Since `Series` are somewhat of a wrapper around NumPy arrays, of course they also support extracting elements with boolean masks. To have a nice transition to the [next section](operations-on-series) we will derive a boolean mask as follows: "
   ]
  },
  {
   "cell_type": "code",
   "execution_count": null,
   "metadata": {
    "deletable": false,
    "nbgrader": {
     "grade": true,
     "grade_id": "cell-d1cf8c3d7d6ba89b",
     "locked": false,
     "points": 0,
     "schema_version": 3,
     "solution": true,
     "task": false
    }
   },
   "outputs": [],
   "source": [
    "# Fill the gap!"
   ]
  },
  {
   "cell_type": "markdown",
   "metadata": {},
   "source": [
    "We have used a `Series` object in a boolean expression like we usually do it with variables like `float` or `int`. Internally, the boolean expression will be applied to every element and the results will be returned as a new `Series` object. Note, however, that the `dtype` is now reported as `bool` (it is `int64` in the original `Series`). This is because the result of a boolean expression is of type `bool`. \n",
    "\n",
    "Now we can use this boolean mask (or `Series` of `bool`s, if you prefer this). It might appear somehow strange that `.loc[]` also accepts *another* `Series` but, well, it works :-)."
   ]
  },
  {
   "cell_type": "code",
   "execution_count": null,
   "metadata": {
    "deletable": false,
    "nbgrader": {
     "grade": true,
     "grade_id": "cell-fa0cddbb08f7d6e6",
     "locked": false,
     "points": 0,
     "schema_version": 3,
     "solution": true,
     "task": false
    }
   },
   "outputs": [],
   "source": [
    "# Fill the gap!"
   ]
  },
  {
   "cell_type": "markdown",
   "metadata": {},
   "source": [
    "### Quiz"
   ]
  },
  {
   "cell_type": "markdown",
   "metadata": {
    "deletable": false,
    "editable": false,
    "nbgrader": {
     "grade": false,
     "grade_id": "cell-47e31836af3e5eb4",
     "locked": true,
     "points": 0,
     "schema_version": 3,
     "solution": false,
     "task": true
    }
   },
   "source": [
    "<span style=\"display:none\" id=\"1_Series:7\">W3sidHlwZSI6ICJtYW55X2Nob2ljZSIsICJhbnN3ZXJfY29scyI6IDEsICJxdWVzdGlvbiI6ICJXaGF0IGlzIHRoZSBkaWZmZXJlbmNlIGJldHdlZW4gdGhlIGAubG9jW11gIGFuZCB0aGUgYC5pbG9jW11gIG1ldGhvZD8iLCAiYW5zd2VycyI6IFt7ImNvcnJlY3QiOiBmYWxzZSwgImFuc3dlciI6ICJUaGVyZSBpcyBub3QgZGlmZmVyZW5jZS4ifSwgeyJjb3JyZWN0IjogdHJ1ZSwgImFuc3dlciI6ICJgLmxvY1tdYCBxdWVyaWVzIHRoZSBpbmRleCB3aGlsZSBgLmlsb2NbXWAgcXVlcmllcyB0aGUgcG9zaXRpb24gaW5kZXguIn0sIHsiY29ycmVjdCI6IGZhbHNlLCAiYW5zd2VyIjogImAubG9jW11gIHF1ZXJpZXMgdGhlIHBvc2l0aW9uIGluZGV4IHdoaWxlIGAuaWxvY1tdYCBxdWVyaWVzIHRoZSBpbmRleC4ifV19XQ==</span>"
   ]
  },
  {
   "cell_type": "code",
   "execution_count": null,
   "metadata": {
    "tags": [
     "remove-input"
    ]
   },
   "outputs": [],
   "source": [
    "\n",
    "jupyterquiz.display_quiz(\"#1_Series:7\")"
   ]
  },
  {
   "cell_type": "markdown",
   "metadata": {
    "deletable": false,
    "editable": false,
    "nbgrader": {
     "grade": false,
     "grade_id": "cell-0d8980fe21a35e93",
     "locked": true,
     "points": 0,
     "schema_version": 3,
     "solution": false,
     "task": true
    }
   },
   "source": [
    "<span style=\"display:none\" id=\"1_Series:8\">W3sidHlwZSI6ICJtYW55X2Nob2ljZSIsICJhbnN3ZXJfY29scyI6IDEsICJxdWVzdGlvbiI6ICJXaGF0IGFyZSB0cnVlIHN0YXRlbWVudHMgYWJvdXQgdGhlIGAubG9jW11gIG1ldGhvZD8iLCAiYW5zd2VycyI6IFt7ImNvcnJlY3QiOiB0cnVlLCAiYW5zd2VyIjogIkl0IGlzIHRoZSBwcmVmZXJyZWQgbWV0aG9kIHRvIGFjY2VzcyBhIHJvdyAvIG11bHRpcGxlIHJvd3Mgb2YgYSBgU2VyaWVzYC4ifSwgeyJjb3JyZWN0IjogZmFsc2UsICJhbnN3ZXIiOiAiSXQgY2Fubm90IGRlYWwgd2l0aCBmYW5jeSBpbmRleGluZyBsaWtlIE51bVB5IGFycmF5cy4ifSwgeyJjb3JyZWN0IjogdHJ1ZSwgImFuc3dlciI6ICJCb29sZWFuIG1hc2tzIGFyZSB2YWxpZCBhcmd1bWVudHMuIn0sIHsiY29ycmVjdCI6IGZhbHNlLCAiYW5zd2VyIjogIldoZW4gdXNpbmcgc2xpY2luZyB0aGUgZW5kIG9mIHRoZSBzbGljZSBpcyBub3QgaW5jbHVkZWQgaW4gdGhlIG91dHB1dC4ifSwgeyJjb3JyZWN0IjogdHJ1ZSwgImFuc3dlciI6ICJXaGVuIHVzaW5nIHNsaWNpbmcgdGhlIGVuZCBvZiB0aGUgc2xpY2UgaXMgYWx3YXlzIGluY2x1ZGVkIGluIHRoZSBvdXRwdXQuIn0sIHsiY29ycmVjdCI6IHRydWUsICJhbnN3ZXIiOiAiU2xpY2luZyBpcyBub3QgcG9zc2libGUgYW55bW9yZSB3aGVuIHRoZSBpbmRleCBoYXMgZHVwbGljYXRlIGVudHJpZXMuIn0sIHsiY29ycmVjdCI6IGZhbHNlLCAiYW5zd2VyIjogIkl0IGNhbm5vdCBiZSB1c2VkIHRvIGFsdGVyIGRhdGEgZWxlbWVudHMuIn1dfV0=</span>"
   ]
  },
  {
   "cell_type": "code",
   "execution_count": null,
   "metadata": {
    "tags": [
     "remove-input"
    ]
   },
   "outputs": [],
   "source": [
    "\n",
    "jupyterquiz.display_quiz(\"#1_Series:8\")"
   ]
  },
  {
   "cell_type": "markdown",
   "metadata": {},
   "source": [
    "Consider the following `Series` and the subsequent assignment:\n",
    "\n",
    "```python\n",
    ">>> s = pd.Series(data=[1.0, 2, 3.0, 4, 5.0], index=list(\"abcde\")) \n",
    ">>> s.loc[\"a\"] = 100\n",
    "```"
   ]
  },
  {
   "cell_type": "markdown",
   "metadata": {
    "deletable": false,
    "editable": false,
    "nbgrader": {
     "grade": false,
     "grade_id": "cell-811268abbc790f5b",
     "locked": true,
     "points": 0,
     "schema_version": 3,
     "solution": false,
     "task": true
    }
   },
   "source": [
    "<span style=\"display:none\" id=\"1_Series:9\">W3sidHlwZSI6ICJtYW55X2Nob2ljZSIsICJhbnN3ZXJfY29scyI6IDEsICJxdWVzdGlvbiI6ICJXaGF0IGlzIHRoZSBgZHR5cGVgIG9mIHRoZSBgU2VyaWVzYCBhZnRlciB0aGUgYXNzaWdubWVudD8gKEFsc28gdHJ5IHRvIGNvbWUgdXAgd2l0aCBhIHJlYXNvbikiLCAiYW5zd2VycyI6IFt7ImNvcnJlY3QiOiB0cnVlLCAiYW5zd2VyIjogIiAiLCAiY29kZSI6ICJmbG9hdDY0In0sIHsiY29ycmVjdCI6IGZhbHNlLCAiYW5zd2VyIjogIiAiLCAiY29kZSI6ICJpbnQ2NCJ9LCB7ImNvcnJlY3QiOiBmYWxzZSwgImFuc3dlciI6ICIgIiwgImNvZGUiOiAiY29tcGxleDEyOCJ9LCB7ImNvcnJlY3QiOiBmYWxzZSwgImFuc3dlciI6ICIgIiwgImNvZGUiOiAiaW50MzIifSwgeyJjb3JyZWN0IjogZmFsc2UsICJhbnN3ZXIiOiAiICIsICJjb2RlIjogInVpbnQzMiJ9XX1d</span>"
   ]
  },
  {
   "cell_type": "code",
   "execution_count": null,
   "metadata": {
    "tags": [
     "remove-input"
    ]
   },
   "outputs": [],
   "source": [
    "\n",
    "jupyterquiz.display_quiz(\"#1_Series:9\")"
   ]
  },
  {
   "cell_type": "markdown",
   "metadata": {},
   "source": [
    "### Exercises"
   ]
  },
  {
   "cell_type": "markdown",
   "metadata": {},
   "source": [
    "#### Modification\n",
    "\n",
    "You are given a `Series` with labels `[\"a\", \"b\", \"c\", \"d\", \"e\", \"f\", \"g\", \"h\"]` in the index. "
   ]
  },
  {
   "cell_type": "code",
   "execution_count": null,
   "metadata": {},
   "outputs": [],
   "source": [
    "index = [\"a\", \"b\", \"c\", \"d\", \"e\", \"f\", \"g\", \"h\"]\n",
    "\n",
    "s = pd.Series(data=range(1, len(index) + 1), index=index)\n",
    "s"
   ]
  },
  {
   "cell_type": "markdown",
   "metadata": {},
   "source": [
    "Modify the data elements with index labels `\"c\"`, `\"d\"`, `\"e\"`, and \"`f`\" to be 10x as larger as in the initial `Series`."
   ]
  },
  {
   "cell_type": "code",
   "execution_count": null,
   "metadata": {
    "deletable": false,
    "nbgrader": {
     "grade": true,
     "grade_id": "cell-4f111de4ec5d20f9",
     "locked": false,
     "points": 0,
     "schema_version": 3,
     "solution": true,
     "task": false
    }
   },
   "outputs": [],
   "source": [
    "# Fill the gap!"
   ]
  },
  {
   "cell_type": "markdown",
   "metadata": {},
   "source": [
    "Set all remaining data elements to 0."
   ]
  },
  {
   "cell_type": "code",
   "execution_count": null,
   "metadata": {
    "deletable": false,
    "nbgrader": {
     "grade": true,
     "grade_id": "cell-e4de0b17923c9540",
     "locked": false,
     "points": 0,
     "schema_version": 3,
     "solution": true,
     "task": false
    }
   },
   "outputs": [],
   "source": [
    "# Fill the gap!"
   ]
  },
  {
   "cell_type": "markdown",
   "metadata": {},
   "source": [
    "#### Boolean mask\n",
    "\n",
    "Consider the following `Series`."
   ]
  },
  {
   "cell_type": "code",
   "execution_count": null,
   "metadata": {},
   "outputs": [],
   "source": [
    "index = [\"aab\", \"bab\", \"caa\", \"daad\", \"ebc\", \"fja\", \"grq\", \"haa\"]\n",
    "\n",
    "s = pd.Series(data=range(1, len(index) + 1), index=index)\n",
    "s"
   ]
  },
  {
   "cell_type": "markdown",
   "metadata": {},
   "source": [
    "Return a `Series` that only contains index labels with two `\"a\"` characters."
   ]
  },
  {
   "cell_type": "code",
   "execution_count": null,
   "metadata": {
    "deletable": false,
    "nbgrader": {
     "grade": true,
     "grade_id": "cell-103ae651fd92f0b5",
     "locked": false,
     "points": 0,
     "schema_version": 3,
     "solution": true,
     "task": false
    }
   },
   "outputs": [],
   "source": [
    "# Fill the gap!"
   ]
  },
  {
   "cell_type": "markdown",
   "metadata": {},
   "source": [
    "Next consider this `Series`:"
   ]
  },
  {
   "cell_type": "code",
   "execution_count": null,
   "metadata": {},
   "outputs": [],
   "source": [
    "index = [\"aab\", \"bab\", \"caa\", \"daab\", \"ebc\", \"fja\", \"grb\", \"haab\"]\n",
    "\n",
    "s = pd.Series(data=range(1, len(index) + 1), index=index)\n",
    "s"
   ]
  },
  {
   "cell_type": "markdown",
   "metadata": {},
   "source": [
    "Return a `Series` that contains entries with index labels ending with `\"b\"` and that have even data elements."
   ]
  },
  {
   "cell_type": "code",
   "execution_count": null,
   "metadata": {
    "deletable": false,
    "nbgrader": {
     "grade": true,
     "grade_id": "cell-2d7ca3c7bc5f85b2",
     "locked": false,
     "points": 0,
     "schema_version": 3,
     "solution": true,
     "task": false
    }
   },
   "outputs": [],
   "source": [
    "# Fill the gap!"
   ]
  },
  {
   "cell_type": "markdown",
   "metadata": {
    "slideshow": {
     "slide_type": "slide"
    }
   },
   "source": [
    "(operations-on-series)=\n",
    "## Operations between `Series`\n",
    "\n",
    "We will now generalize what we have just seen in the [previous section](series-advanced-indexing-and-boolean-masks) to other kinds of binary operations. A *binary operator* combines two so-called *operands* --- a left-hand-side (lhs), and a right-hand-side (rhs) --- to compute the result of the particular operation.  \n",
    "\n",
    "```\n",
    "lhs <operator> rhs\n",
    "```\n",
    "\n",
    "`Series` support the common arithmetic operations like addition, multiplication, and division, ...\n",
    "\n",
    "- Operations are performed element-wise if the index is the default counter-based index (somewhat like adding two vectors in linear algebra).\n",
    "- With other `Series`: The operations are performed *by index*. That is, operations are performed between elements that share *the same* index label (the content of `.index`) in both `Series`.\n",
    "- With scalar values: The scalar value is broadcasted to every position in the `Series` and the operation is applied there.\n",
    "\n",
    "Needless to say, the result of such an operation is another `Series` object.\n",
    "\n",
    ":::{note} The `dtype` of the `Series` resulting from the operation may depend\n",
    "* on the type operation (e.g. `bool`ean expressions, division), or\n",
    "* the `dtype` of the operands (e.g., combining a `Series` with `dtype == np.float32` and `dtype == np.int64` or `Series` with `dtype == np.int64` with a scalar of type `float`) \n",
    ":::"
   ]
  },
  {
   "cell_type": "markdown",
   "metadata": {},
   "source": [
    "### Same size and index\n",
    "\n",
    "To start with, we first consider cases where the `Series` have *the same* entries in `.index`."
   ]
  },
  {
   "cell_type": "code",
   "execution_count": null,
   "metadata": {
    "deletable": false,
    "nbgrader": {
     "grade": true,
     "grade_id": "cell-5ea659b082c0ef79",
     "locked": false,
     "points": 0,
     "schema_version": 3,
     "solution": true,
     "task": false
    },
    "slideshow": {
     "slide_type": "fragment"
    }
   },
   "outputs": [],
   "source": [
    "# Fill the gap!"
   ]
  },
  {
   "cell_type": "code",
   "execution_count": null,
   "metadata": {
    "deletable": false,
    "nbgrader": {
     "grade": true,
     "grade_id": "cell-2bc3b44ce1008887",
     "locked": false,
     "points": 0,
     "schema_version": 3,
     "solution": true,
     "task": false
    },
    "slideshow": {
     "slide_type": "fragment"
    }
   },
   "outputs": [],
   "source": [
    "# Fill the gap!"
   ]
  },
  {
   "cell_type": "code",
   "execution_count": null,
   "metadata": {
    "deletable": false,
    "nbgrader": {
     "grade": true,
     "grade_id": "cell-2dc17cba799f79d1",
     "locked": false,
     "points": 0,
     "schema_version": 3,
     "solution": true,
     "task": false
    },
    "slideshow": {
     "slide_type": "subslide"
    }
   },
   "outputs": [],
   "source": [
    "# Fill the gap!"
   ]
  },
  {
   "cell_type": "markdown",
   "metadata": {},
   "source": [
    "Let's quickly consider some examples that return a new `Series` object with a different `dtype`:"
   ]
  },
  {
   "cell_type": "code",
   "execution_count": null,
   "metadata": {
    "deletable": false,
    "nbgrader": {
     "grade": true,
     "grade_id": "cell-62d678189efc82ec",
     "locked": false,
     "points": 0,
     "schema_version": 3,
     "solution": true,
     "task": false
    },
    "slideshow": {
     "slide_type": "fragment"
    }
   },
   "outputs": [],
   "source": [
    "# Fill the gap!"
   ]
  },
  {
   "cell_type": "code",
   "execution_count": null,
   "metadata": {
    "deletable": false,
    "nbgrader": {
     "grade": true,
     "grade_id": "cell-40811dde0888e37c",
     "locked": false,
     "points": 0,
     "schema_version": 3,
     "solution": true,
     "task": false
    }
   },
   "outputs": [],
   "source": [
    "# Fill the gap!"
   ]
  },
  {
   "cell_type": "code",
   "execution_count": null,
   "metadata": {
    "deletable": false,
    "nbgrader": {
     "grade": true,
     "grade_id": "cell-ecba0561cb20ad4f",
     "locked": false,
     "points": 0,
     "schema_version": 3,
     "solution": true,
     "task": false
    }
   },
   "outputs": [],
   "source": [
    "# Fill the gap!"
   ]
  },
  {
   "cell_type": "markdown",
   "metadata": {},
   "source": [
    "The following sketch depicts the principle of broadcasting a scalar over all elements of `Series`.\n",
    "\n",
    "![Broadcasting a scalar over the elements of a `Series`](../../_build_img/SeriesOperationsWithScalarBroadcast-1.png)"
   ]
  },
  {
   "cell_type": "markdown",
   "metadata": {},
   "source": [
    "### Match by index\n",
    "\n",
    "Now we have a look at the more general cases where ...\n",
    "* ... the index labels are ordered differently in the two `Series` combined in the operation.\n",
    "* ... the index labels (partially) differ. Several cases are conceivable:\n",
    "    * The `Series` have the same `.size` but the entries in `.index` differ (at least partially).\n",
    "    * The `Series` have different `.size`.\n",
    "\n",
    "We first consider the case of different orderings in `.index`. Since the operands are first matched by index the order of labels in `.index` does not matter."
   ]
  },
  {
   "cell_type": "code",
   "execution_count": null,
   "metadata": {
    "deletable": false,
    "nbgrader": {
     "grade": true,
     "grade_id": "cell-9fd4793161ee6006",
     "locked": false,
     "points": 0,
     "schema_version": 3,
     "solution": true,
     "task": false
    },
    "slideshow": {
     "slide_type": "subslide"
    }
   },
   "outputs": [],
   "source": [
    "# Fill the gap!"
   ]
  },
  {
   "cell_type": "markdown",
   "metadata": {},
   "source": [
    "Now the case of indices with different lengths. Note how index labels are matched between both `Series` and the operation is carried out with the corresponding entries of `.values`. \n",
    "\n",
    "The following sketch depicts the principle of matching by index in arithmetic operations between `Series`. \n",
    "\n",
    "![Match by index in arthmetic operation between `Series` objects.](../../_build_img/SeriesOperationMatchIndex-1.png)"
   ]
  },
  {
   "cell_type": "code",
   "execution_count": null,
   "metadata": {
    "deletable": false,
    "nbgrader": {
     "grade": true,
     "grade_id": "cell-884c8f548216ec98",
     "locked": false,
     "points": 0,
     "schema_version": 3,
     "solution": true,
     "task": false
    },
    "slideshow": {
     "slide_type": "fragment"
    }
   },
   "outputs": [],
   "source": [
    "# Fill the gap!"
   ]
  },
  {
   "cell_type": "markdown",
   "metadata": {},
   "source": [
    ":::{note} In arithmetic operations `lhs <operation> rhs` between `Series` the `lhs` index is matched with that of `rhs` (if possible) and `<operation>` is carried out between elements of matching index. In cases where an index has elements with multiplicity > 1 the number of occurrences of that particular label in the index of the resulting `Series` is equal to the product of the multiplicities in `lhs` and `rhs`.\n",
    ":::\n",
    "\n",
    "Let's have an example. `s1` has a single index label `\"a\"` with multiplicity 2, `s2` has index labels `\"a\"` and `\"b\"` with multiplicities 3 for `\"a\"`, and 1 for `\"b\"`. When adding both `Series` the resulting object has size 2 x 3 + 1 = 7 because each `\"a\"` entry from `s1` must be matched and combined with each `\"a\"` entry from `s2`. The +1 comes from the single `\"b\"` entry in `s2`."
   ]
  },
  {
   "cell_type": "code",
   "execution_count": null,
   "metadata": {},
   "outputs": [],
   "source": [
    "s1, s2 = (\n",
    "    pd.Series(data=[10, 20], index=[\"a\", \"a\"]),\n",
    "    pd.Series(data=[100, 200, 300, 1000], index=[\"a\"] * 3 + [\"b\"]),\n",
    ")\n",
    "s1, s2"
   ]
  },
  {
   "cell_type": "code",
   "execution_count": null,
   "metadata": {
    "deletable": false,
    "nbgrader": {
     "grade": true,
     "grade_id": "cell-b1ea5a25e07bbe81",
     "locked": false,
     "points": 0,
     "schema_version": 3,
     "solution": true,
     "task": false
    }
   },
   "outputs": [],
   "source": [
    "# Fill the gap!"
   ]
  },
  {
   "cell_type": "markdown",
   "metadata": {},
   "source": [
    "When looking at the result we note two things:\n",
    "\n",
    "* The reported `dtype` is `float64` while the `dtype`s of both operands were `int64`.\n",
    "* The value corresponding to the `\"b\"` entry is `NaN`. \n",
    "\n",
    "`NaN` is short for \"Not-a-Number\" and results from a missing `\"b\"` entry in `s1`. Since `\"b\"` from `s2` *cannot* does not have a match in the other `Series` there is not reasonable result to be computed, hence the result \"is not a valid number\". We will deal with `NaN` in more depth in the next section.\n",
    "\n",
    "On final note about `np.ndarray`s: When adding two NumPy arrays the only thing that can be used to match the elements of both operands is the position inside the arrays. This is an important distinction between `np.ndarray`s and `Series`."
   ]
  },
  {
   "cell_type": "code",
   "execution_count": null,
   "metadata": {
    "deletable": false,
    "nbgrader": {
     "grade": true,
     "grade_id": "cell-8e87f45f310b29fb",
     "locked": false,
     "points": 0,
     "schema_version": 3,
     "solution": true,
     "task": false
    }
   },
   "outputs": [],
   "source": [
    "# Fill the gap!"
   ]
  },
  {
   "cell_type": "code",
   "execution_count": null,
   "metadata": {
    "deletable": false,
    "editable": true,
    "nbgrader": {
     "grade": true,
     "grade_id": "cell-34667319a2f13a96",
     "locked": false,
     "points": 0,
     "schema_version": 3,
     "solution": true,
     "task": false
    },
    "slideshow": {
     "slide_type": ""
    },
    "tags": [
     "raises-exception"
    ]
   },
   "outputs": [],
   "source": [
    "# Fill the gap!"
   ]
  },
  {
   "cell_type": "code",
   "execution_count": null,
   "metadata": {},
   "outputs": [],
   "source": [
    "pd.Series(np.array([1, 2])) + pd.Series(range(10))"
   ]
  },
  {
   "cell_type": "markdown",
   "metadata": {
    "editable": true,
    "slideshow": {
     "slide_type": ""
    },
    "tags": []
   },
   "source": [
    ":::{warning} Arithmetic operations with Pandas `Series` generally do *not* have array semantics. This means that elements from both `Series` involved in the operations are *not* matched by their position index but rather by their index label (which may be a positional index, but not in general). \n",
    ":::"
   ]
  },
  {
   "cell_type": "markdown",
   "metadata": {},
   "source": [
    "### Exercises"
   ]
  },
  {
   "cell_type": "markdown",
   "metadata": {},
   "source": [
    "#### Min-max scaling\n",
    "\n",
    "You are given the `Series` below as well as its smallest and largest element. Use these to map the elements to the range $[-0.5, 0.5]$."
   ]
  },
  {
   "cell_type": "code",
   "execution_count": null,
   "metadata": {},
   "outputs": [],
   "source": [
    "s = pd.Series([200, 400, 600, 500, 1000, 900, 700, 300])\n",
    "min_element, max_element = 200, 1000"
   ]
  },
  {
   "cell_type": "code",
   "execution_count": null,
   "metadata": {
    "deletable": false,
    "nbgrader": {
     "grade": true,
     "grade_id": "cell-dce5b1e559ee3201",
     "locked": false,
     "points": 0,
     "schema_version": 3,
     "solution": true,
     "task": false
    }
   },
   "outputs": [],
   "source": [
    "# Fill the gap!"
   ]
  },
  {
   "cell_type": "markdown",
   "metadata": {},
   "source": [
    "#### Arithmetic\n",
    "\n",
    "Consider the `Series` below that have different lengths and index entries."
   ]
  },
  {
   "cell_type": "code",
   "execution_count": null,
   "metadata": {},
   "outputs": [],
   "source": [
    "s1 = pd.Series(range(4), index=list(\"defg\"))\n",
    "s2 = pd.Series(range(10), index=list(\"abcdefghij\"))\n",
    "s1, s2"
   ]
  },
  {
   "cell_type": "markdown",
   "metadata": {},
   "source": [
    "Compute the sum of both `Series`. What do you observe and why is it observed?"
   ]
  },
  {
   "cell_type": "code",
   "execution_count": null,
   "metadata": {
    "deletable": false,
    "nbgrader": {
     "grade": true,
     "grade_id": "cell-c8613f23aedfe86d",
     "locked": false,
     "points": 0,
     "schema_version": 3,
     "solution": true,
     "task": false
    }
   },
   "outputs": [],
   "source": [
    "# Fill the gap!"
   ]
  },
  {
   "cell_type": "markdown",
   "metadata": {},
   "source": [
    "Return a `Series` that only contains the result of the addition but at those index entries common to both `s1` and `s2`. Find two possibilites to return such a `Series`."
   ]
  },
  {
   "cell_type": "code",
   "execution_count": null,
   "metadata": {
    "deletable": false,
    "nbgrader": {
     "grade": true,
     "grade_id": "cell-6f17c265317ac2d9",
     "locked": false,
     "points": 0,
     "schema_version": 3,
     "solution": true,
     "task": false
    }
   },
   "outputs": [],
   "source": [
    "# Fill the gap!"
   ]
  },
  {
   "cell_type": "code",
   "execution_count": null,
   "metadata": {
    "deletable": false,
    "nbgrader": {
     "grade": true,
     "grade_id": "cell-d6f5ccefdb398857",
     "locked": false,
     "points": 0,
     "schema_version": 3,
     "solution": true,
     "task": false
    }
   },
   "outputs": [],
   "source": [
    "# Fill the gap!"
   ]
  },
  {
   "cell_type": "markdown",
   "metadata": {},
   "source": [
    "Replace the `NaN` values in result of adding `s1` and `s2` with a value of your choice. Refer to the [documentation](https://pandas.pydata.org/pandas-docs/stable/reference/series.html) of the `Series` API to find a suitable method for this."
   ]
  },
  {
   "cell_type": "code",
   "execution_count": null,
   "metadata": {
    "deletable": false,
    "nbgrader": {
     "grade": true,
     "grade_id": "cell-9029afdbbc5d8eb2",
     "locked": false,
     "points": 0,
     "schema_version": 3,
     "solution": true,
     "task": false
    }
   },
   "outputs": [],
   "source": [
    "# Fill the gap!"
   ]
  },
  {
   "cell_type": "markdown",
   "metadata": {},
   "source": [
    "Use the [`.add()`](https://pandas.pydata.org/pandas-docs/stable/reference/api/pandas.Series.add.html) method and fill in a default value for entries missing in `s1`. What is the difference of the result compared to replacing the `NaN` values?"
   ]
  },
  {
   "cell_type": "code",
   "execution_count": null,
   "metadata": {
    "deletable": false,
    "nbgrader": {
     "grade": true,
     "grade_id": "cell-a565e9f43fb441a7",
     "locked": false,
     "points": 0,
     "schema_version": 3,
     "solution": true,
     "task": false
    }
   },
   "outputs": [],
   "source": [
    "# Fill the gap!"
   ]
  },
  {
   "cell_type": "markdown",
   "metadata": {},
   "source": [
    "(series-what-is-nan)=\n",
    "## What is `NaN`?\n",
    "\n",
    "While discussing the properties of arithmetic operations between `Series` we came across `NaN` values. In this section we will dwell on this topic a bit.\n",
    "\n",
    "### Where do they come from ?\n",
    "\n",
    "Let's start with the question how `NaN` values come about? `NaN`s are special value of *floating point* data types that usually result from invalid operations on data. We refer you to [this Wikipedia article](https://en.wikipedia.org/wiki/NaN) for an exhaustive list of operations that can yield `NaN`. \n",
    "\n",
    "For our purposes consider the (natural) [logarithm](https://en.wikipedia.org/wiki/Logarithm). Let's make a quick visualization (please ignore the details of creating the plot for time being): "
   ]
  },
  {
   "cell_type": "code",
   "execution_count": null,
   "metadata": {},
   "outputs": [],
   "source": [
    "x = np.linspace(0, 5, 1001)\n",
    "y = np.log(x)\n",
    "plt.grid()\n",
    "plt.title(\"Natural logarithm\")\n",
    "plt.xlabel(r\"$x$\")\n",
    "plt.ylabel(r\"$\\ln{x}$\")\n",
    "plt.plot(x, y)"
   ]
  },
  {
   "cell_type": "markdown",
   "metadata": {},
   "source": [
    "The logarithm goes asymptitically to $-\\infty$ as $x \\to 0$; it is not defined for *negative* arguments, $x < 0$. Now, what happens if we break this rule and compute the log of, say, -1? We use the [`np.log`](https://numpy.org/doc/stable/reference/generated/numpy.log.html) function provided by NumPy.[^numpy-functions]\n",
    "\n",
    "[^numpy-functions]: NumPy provides a large number of functions (so-called universal functions (ufuncs)) that can operate on `np.ndarrays`."
   ]
  },
  {
   "cell_type": "code",
   "execution_count": null,
   "metadata": {
    "deletable": false,
    "nbgrader": {
     "grade": true,
     "grade_id": "cell-84dc3d3facc315e2",
     "locked": false,
     "points": 0,
     "schema_version": 3,
     "solution": true,
     "task": false
    }
   },
   "outputs": [],
   "source": [
    "# Fill the gap!"
   ]
  },
  {
   "cell_type": "markdown",
   "metadata": {},
   "source": [
    "The result is `NaN` as this is not a well-defined operation for this function. `NaN` is a special encoding for numerical calculations that do not have well-defined results.\n",
    "\n",
    ":::{note} `NaN` is only available for floating points types but not for integral types. As a result, whenever Pandas encouters a `NaN` value in an operation, the the `dtype` will be changed to e.g. `float64` and all elements (also thos that are not `NaN`) will be type-cast to a floating points type.\n",
    ":::\n",
    "\n",
    "It is still possible to execute computations on `np.ndarrays` that have `NaN` entries. The result will mostly be, however, be (more) `NaN`(s) because e.g. `NaN + 3` still is `NaN`. So, whenever you encounter a `NaN` result in a computation performed with NumPy arrays (we *exclude* Pandas objects here intentionally), it is very likely that something went wrong and you have to do some debugging."
   ]
  },
  {
   "cell_type": "code",
   "execution_count": null,
   "metadata": {
    "deletable": false,
    "nbgrader": {
     "grade": true,
     "grade_id": "cell-066f99410673abc2",
     "locked": false,
     "points": 0,
     "schema_version": 3,
     "solution": true,
     "task": false
    }
   },
   "outputs": [],
   "source": [
    "# Fill the gap!"
   ]
  },
  {
   "cell_type": "markdown",
   "metadata": {},
   "source": [
    "(nans-in-series)=\n",
    "### `NaN`s in `Series`\n",
    "\n",
    "When performing operations on `Series` Pandas chooses to deal with `NaN` values (a bit?) differently by default. We illustrate this with the following examples. We first construct a `Series` with `NaN` values and then sum all values with the `np.sum` functions that we have used earlier on a `np.ndarray` (yes, it is possible to feed `Series` objects into NumPy functions):"
   ]
  },
  {
   "cell_type": "code",
   "execution_count": null,
   "metadata": {
    "deletable": false,
    "nbgrader": {
     "grade": true,
     "grade_id": "cell-352ed0a3fc81b81d",
     "locked": false,
     "points": 0,
     "schema_version": 3,
     "solution": true,
     "task": false
    }
   },
   "outputs": [],
   "source": [
    "# Fill the gap!"
   ]
  },
  {
   "cell_type": "code",
   "execution_count": null,
   "metadata": {
    "deletable": false,
    "nbgrader": {
     "grade": true,
     "grade_id": "cell-46ad0747ebac33b3",
     "locked": false,
     "points": 0,
     "schema_version": 3,
     "solution": true,
     "task": false
    }
   },
   "outputs": [],
   "source": [
    "# Fill the gap!"
   ]
  },
  {
   "cell_type": "markdown",
   "metadata": {},
   "source": [
    "For comparison we also include the result of applying  `np.sum` to the underlying NumPy data buffer. The results *differ*! Close inspection of the result of `np.sum(s)` reveals that Pandas chooses to *skip* all `NaN` values and only summing those that are not `NaN`s.\n",
    "\n",
    ":::{warning} Pandas `Series` (and also `DataFrames`) tend to ignore `NaN` values if not told otherwise. See e.g. the documentation of the [`Series.mean`](https://pandas.pydata.org/pandas-docs/stable/reference/api/pandas.Series.mean.html) method.\n",
    ":::"
   ]
  },
  {
   "cell_type": "code",
   "execution_count": null,
   "metadata": {
    "deletable": false,
    "nbgrader": {
     "grade": true,
     "grade_id": "cell-5516a2b462ad9cc9",
     "locked": false,
     "points": 0,
     "schema_version": 3,
     "solution": true,
     "task": false
    }
   },
   "outputs": [],
   "source": [
    "# Fill the gap!"
   ]
  },
  {
   "cell_type": "markdown",
   "metadata": {},
   "source": [
    "Pandas has special methods to detect `NaN` values. Calling the [`.isna()`](https://pandas.pydata.org/pandas-docs/stable/reference/api/pandas.Series.isna.html) method on a `Series` returns another `Series` with `dtype == bool` of the same size where an entry equals `True` if the entry at the same position in the original `Series` was `NaN`. Otherwise an entry is `False`."
   ]
  },
  {
   "cell_type": "code",
   "execution_count": null,
   "metadata": {
    "deletable": false,
    "nbgrader": {
     "grade": true,
     "grade_id": "cell-51c001ed4d91946d",
     "locked": false,
     "points": 0,
     "schema_version": 3,
     "solution": true,
     "task": false
    }
   },
   "outputs": [],
   "source": [
    "# Fill the gap!"
   ]
  },
  {
   "cell_type": "markdown",
   "metadata": {},
   "source": [
    "The [`.notna()`](https://pandas.pydata.org/pandas-docs/stable/reference/api/pandas.Series.notna.html#pandas.Series.notna) method is the boolean inverse of the `.isna()` method: Its result is the element-wise negation of the output of `.isna()`."
   ]
  },
  {
   "cell_type": "code",
   "execution_count": null,
   "metadata": {
    "deletable": false,
    "nbgrader": {
     "grade": true,
     "grade_id": "cell-7dc3d42c7045c604",
     "locked": false,
     "points": 0,
     "schema_version": 3,
     "solution": true,
     "task": false
    }
   },
   "outputs": [],
   "source": [
    "# Fill the gap!"
   ]
  },
  {
   "cell_type": "markdown",
   "metadata": {},
   "source": [
    "Finally, we note that you can also choose to remove `NaN` values from a `Series`. This can be accomplished with the [`.dropna()`](https://pandas.pydata.org/pandas-docs/stable/reference/api/pandas.Series.dropna.html#pandas.Series.dropna) method. The result is a new `Serres` object without the `NaN` entries:"
   ]
  },
  {
   "cell_type": "code",
   "execution_count": null,
   "metadata": {
    "deletable": false,
    "nbgrader": {
     "grade": true,
     "grade_id": "cell-09d0fef07f43d8c0",
     "locked": false,
     "points": 0,
     "schema_version": 3,
     "solution": true,
     "task": false
    }
   },
   "outputs": [],
   "source": [
    "# Fill the gap!"
   ]
  },
  {
   "cell_type": "markdown",
   "metadata": {},
   "source": [
    "### Exercise"
   ]
  },
  {
   "cell_type": "code",
   "execution_count": null,
   "metadata": {},
   "outputs": [],
   "source": [
    "rng = np.random.default_rng(seed=42)"
   ]
  },
  {
   "cell_type": "markdown",
   "metadata": {},
   "source": [
    "You are given a `Series` containing some `NaN` values."
   ]
  },
  {
   "cell_type": "code",
   "execution_count": null,
   "metadata": {},
   "outputs": [],
   "source": [
    "data = list(range(100)) + [np.nan] * rng.choice(range(10, 50)) + list(range(50))\n",
    "np.random.shuffle(data)\n",
    "s = pd.Series(data=data)\n",
    "s"
   ]
  },
  {
   "cell_type": "markdown",
   "metadata": {},
   "source": [
    "How many `NaN` and non-`NaN` values are contained in the `Series`?"
   ]
  },
  {
   "cell_type": "code",
   "execution_count": null,
   "metadata": {
    "deletable": false,
    "nbgrader": {
     "grade": true,
     "grade_id": "cell-6d6fb592a6ef5d13",
     "locked": false,
     "points": 0,
     "schema_version": 3,
     "solution": true,
     "task": false
    }
   },
   "outputs": [],
   "source": [
    "# Fill the gap!"
   ]
  },
  {
   "cell_type": "markdown",
   "metadata": {},
   "source": [
    "Determine the mean and the max value, as well as the standard deviation by passing the `Series` to suitable [NumPy functions](https://numpy.org/doc/stable/index.html) (use the search!)"
   ]
  },
  {
   "cell_type": "code",
   "execution_count": null,
   "metadata": {
    "deletable": false,
    "nbgrader": {
     "grade": true,
     "grade_id": "cell-ef28a9fdb78a882f",
     "locked": false,
     "points": 0,
     "schema_version": 3,
     "solution": true,
     "task": false
    }
   },
   "outputs": [],
   "source": [
    "# Fill the gap!"
   ]
  },
  {
   "cell_type": "markdown",
   "metadata": {},
   "source": [
    "Determine the mean and the max value, as well as the standard deviation by using the underlying NumPy array. Of course, the results must be the same as when using the `Series`.\n",
    "\n",
    "In fact, there are multiple ways to do this. Search the [NumPy documentation](https://numpy.org/doc/stable/index.html) for \"nan\" to find suitable functions."
   ]
  },
  {
   "cell_type": "code",
   "execution_count": null,
   "metadata": {
    "deletable": false,
    "nbgrader": {
     "grade": true,
     "grade_id": "cell-22796631cea21fea",
     "locked": false,
     "points": 0,
     "schema_version": 3,
     "solution": true,
     "task": false
    }
   },
   "outputs": [],
   "source": [
    "# Fill the gap!"
   ]
  },
  {
   "cell_type": "code",
   "execution_count": null,
   "metadata": {
    "deletable": false,
    "nbgrader": {
     "grade": true,
     "grade_id": "cell-f1cbc04ed86a6d2f",
     "locked": false,
     "points": 0,
     "schema_version": 3,
     "solution": true,
     "task": false
    }
   },
   "outputs": [],
   "source": [
    "# Fill the gap!"
   ]
  },
  {
   "cell_type": "markdown",
   "metadata": {},
   "source": [
    "Come up with two different methods to return a `Series` with *all* `NaN` values removed and `dtype == int`."
   ]
  },
  {
   "cell_type": "code",
   "execution_count": null,
   "metadata": {
    "deletable": false,
    "nbgrader": {
     "grade": true,
     "grade_id": "cell-0602001407854112",
     "locked": false,
     "points": 0,
     "schema_version": 3,
     "solution": true,
     "task": false
    }
   },
   "outputs": [],
   "source": [
    "# Fill the gap!"
   ]
  },
  {
   "cell_type": "code",
   "execution_count": null,
   "metadata": {
    "deletable": false,
    "nbgrader": {
     "grade": true,
     "grade_id": "cell-0370ffb21f5a72b3",
     "locked": false,
     "points": 0,
     "schema_version": 3,
     "solution": true,
     "task": false
    }
   },
   "outputs": [],
   "source": [
    "# Fill the gap!"
   ]
  }
 ],
 "metadata": {
  "file_extension": ".py",
  "kernelspec": {
   "display_name": "learn-python",
   "language": "python",
   "name": "learn-python"
  },
  "language_info": {
   "codemirror_mode": {
    "name": "ipython",
    "version": 3
   },
   "file_extension": ".py",
   "mimetype": "text/x-python",
   "name": "python",
   "nbconvert_exporter": "python",
   "pygments_lexer": "ipython3",
   "version": "3.12.0"
  },
  "mimetype": "text/x-python",
  "name": "python",
  "npconvert_exporter": "python",
  "pygments_lexer": "ipython3",
  "version": 3
 },
 "nbformat": 4,
 "nbformat_minor": 4
}
