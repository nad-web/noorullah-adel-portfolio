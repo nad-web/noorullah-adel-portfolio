{
 "cells": [
  {
   "cell_type": "markdown",
   "id": "963cbf6b-722b-4a92-a033-ec3f466db23d",
   "metadata": {},
   "source": [
  
   ]
  },
  {
   "cell_type": "markdown",
   "id": "4f6a951e-74c6-4b4e-b958-2f4e3669db24",
   "metadata": {},
   "source": [
    "# Das Skalarprodukt"
   ]
  },
  {
   "cell_type": "markdown",
   "id": "024b1b33-a9f9-44c6-b46d-a8b0dd72b7f9",
   "metadata": {},
   "source": [
    "Das Skalarprodukt ist eine grundlegende Operation in der linearen Algebra. Es nimmt zwei Vektoren und gibt einen Skalar zurück. In diesem Tutorial werden Sie lernen, wie Sie das Skalarprodukt in Python berechnen können.\n",
    "\n"
   ]
  },
  {
   "cell_type": "markdown",
   "id": "e6650c8e-89b4-4db9-acc0-2dafbdefb8a7",
   "metadata": {},
   "source": [
    "## Grundlage"
   ]
  },
  {
   "cell_type": "markdown",
   "id": "71695167-c08f-4061-a23a-e9d7e54cc722",
   "metadata": {},
   "source": [
    "Das Skalarprodukt wird häufig durch $\\langle\\cdot,\\cdot\\rangle$ oder durch das Multiplikationssymbol \"$\\cdot$\" angegeben. Für zwei Vektoren **a** und **b** also beispielsweise durch $\\langle\\mathbf{a},\\mathbf{b}\\rangle$ oder $\\mathbf{a}\\cdot\\mathbf{b}$.  Die Standardform des Skalarprodukts kann mit der folgenden Formel berechnet werden:\n",
    "$$\n",
    "\\mathbf{a} \\cdot \\mathbf{b} = \\sum_{i=1}^n a_i \\cdot b_i,\n",
    "$$\n",
    "wobei $a_i$ und $b_i$ die $i$-ten Elemente der Vektoren $\\mathbf{a}$ und $\\mathbf{b}$ sind und $n$ die Länge beider Vektoren wieder gibt."
   ]
  },
  {
   "cell_type": "markdown",
   "id": "c7905652-33d1-4e58-8370-1a3f7533d8c6",
   "metadata": {},
   "source": [
    "## Tutorial"
   ]
  },
  {
   "cell_type": "markdown",
   "id": "b090984c-956f-4fc3-bfff-4215ccb9bae3",
   "metadata": {},
   "source": [
    "### Einfache Implementierung"
   ]
  },
  {
   "cell_type": "markdown",
   "id": "6200914b-c0bd-4010-a081-3833be08afa0",
   "metadata": {},
   "source": [
    "In Python können Sie das Skalarprodukt auf verschiedene Weisen berechnen, \n",
    "welche im Folgendem kurz vorgestellt werden. Wir werden hierbei von der \"unpythonisch\"sten Variante zu der \"pythoischsten\" Variante, welche Sie mit Ihren momentanen Kenntnissen implementieren können, kommen. \n",
    "\n",
    "Wir werden die Vektoren in Form von Listen betrachten, beispielsweise"
   ]
  },
  {
   "cell_type": "code",
   "execution_count": 61,
   "id": "a28ae46d-7909-47da-912f-fb6637973967",
   "metadata": {},
   "outputs": [],
   "source": [
    "a = [1, 2, 3]\n",
    "b = [4, 5, 6]"
   ]
  },
  {
   "cell_type": "markdown",
   "id": "7446350e-a40e-4a1b-b63e-44e31eae730b",
   "metadata": {},
   "source": [
    "#### Methode 1: indexbasierte `for`-Schleife"
   ]
  },
  {
   "cell_type": "markdown",
   "id": "c839ceae-240f-43f6-85da-db321009e172",
   "metadata": {},
   "source": [
    "Sie können das Skalarprodukt berechnen, indem Sie über die Elemente der Listen iterieren und die Produkte summieren. Da Sie über zwei Vektoren iterieren, liegt der Ansatz einer indexbasierten `for`-Schleife nahe:"
   ]
  },
  {
   "cell_type": "code",
   "execution_count": 62,
   "id": "847da88e-eb05-4980-9858-628d467d7418",
   "metadata": {},
   "outputs": [
    {
     "data": {
      "text/plain": [
       "32"
      ]
     },
     "execution_count": 62,
     "metadata": {},
     "output_type": "execute_result"
    }
   ],
   "source": [
    "ergebnis = 0\n",
    "for i in range(len(a)):\n",
    "    ergebnis += a[i] * b[i]\n",
    "\n",
    "ergebnis"
   ]
  },
  {
   "cell_type": "markdown",
   "id": "cdb683bd-b7d1-4d93-a460-d130663796d7",
   "metadata": {},
   "source": [
    "Dieser Ansatz hat neben einer schlechten Lesbarkeit noch Probleme mit dem Grenzfall `len(a)`$>$ `len(b)`, welcher in einem `IndexError` resultiert. \n",
    "(Streng genommen gibt es rein mathematisch gesehen aber auch kein Skalarprodukt für unterschiedliche Dimensionen)."
   ]
  },
  {
   "cell_type": "markdown",
   "id": "ca639952-4058-4dfb-ac31-f84c0ba13766",
   "metadata": {},
   "source": [
    "#### Methode 2: `zip` in einer `for`-Schleife\n"
   ]
  },
  {
   "cell_type": "markdown",
   "id": "78b4fe68-0253-485d-a371-0463e3dfdee9",
   "metadata": {},
   "source": [
    "Eine weitere Möglichkeit, das Skalarprodukt zu berechnen, besteht darin, die `zip`-Funktion in einer `for`-Schleife zu verwenden. Hierbei iterieren\n",
    "Sie direkt über die beiden Listen $a$ und $b$. Dieser Ansatz hat eine höhere Lesbarkeit, außerdem wird im Fall unterschiedlich langer Listen automatisch nur bis zu der kürzeren Länge iteriert. "
   ]
  },
  {
   "cell_type": "code",
   "execution_count": 63,
   "id": "15decdd7-b9c4-4425-92c6-ee4d9ae4500a",
   "metadata": {},
   "outputs": [
    {
     "data": {
      "text/plain": [
       "32"
      ]
     },
     "execution_count": 63,
     "metadata": {},
     "output_type": "execute_result"
    }
   ],
   "source": [
    "ergebnis = 0\n",
    "\n",
    "for ai, bi in zip(a, b):\n",
    "    ergebnis += ai * bi\n",
    "\n",
    "ergebnis"
   ]
  },
  {
   "cell_type": "markdown",
   "id": "622a5068-0079-4dcb-86a1-a88a3fa7ae50",
   "metadata": {},
   "source": [
    "### Fortgeschrittene Methoden\n"
   ]
  },
  {
   "cell_type": "markdown",
   "id": "d25e628b-17be-4348-b85f-0e3ac281ca23",
   "metadata": {},
   "source": [
    "#### Mit einer List Comprehension und der `sum`-Funktion"
   ]
  },
  {
   "cell_type": "markdown",
   "id": "7a6f367f-9ca1-41fd-9dc3-22fc93419e76",
   "metadata": {},
   "source": [
    "Eine weitere Möglichkeit, das Skalarprodukt zu berechnen, besteht darin, eine Comprehension zu verwenden. Falls Sie diese noch nicht kennen, werden sie Sie in Kürze in der Vorlesung kennenlernen. \n",
    "\n",
    "Dieser Ansatz verwendet die `sum`-Funktion. Mittels einer Comprehension werden die einzelnen Produkte innerhalb der `sum`-Funktion berechnet. Hierdurch erhalten Sie das Ergebnis ohne irgendwelche *Nebeneffekte*, da weder die Variablen `ai` und `bi` noch ein Container mit den Produkten nach der Ausführung existieren. Außerdem zeichnet sich dieser Ansatz durch eine hohe Lesbarkeit aus und ist wahrscheinlich der *pythonischste* für die Berechnung das Skalarprodukts.\n"
   ]
  },
  {
   "cell_type": "code",
   "execution_count": 64,
   "id": "54ba5bc3-f807-4dbe-806a-fc3d8756a2b9",
   "metadata": {},
   "outputs": [
    {
     "data": {
      "text/plain": [
       "32"
      ]
     },
     "execution_count": 64,
     "metadata": {},
     "output_type": "execute_result"
    }
   ],
   "source": [
    "sum(ai * bi for ai, bi in zip(a, b))"
   ]
  },
  {
   "cell_type": "markdown",
   "id": "8dd3deed-b185-4d5b-845b-63074cd9817e",
   "metadata": {},
   "source": [
    "Zusätzlich könnte man mit `zip(a, b, strict=True)` erzwingen, dass `a` und `b` gleich lang sind und sonst einen Fehler erzeugen."
   ]
  },
  {
   "cell_type": "markdown",
   "id": "b6096c71-cc34-4a8e-81b8-2b0c4c00c964",
   "metadata": {},
   "source": [
    "#### Mit der `map`-Funktion und einer `lambda`-Funktion\n"
   ]
  },
  {
   "cell_type": "markdown",
   "id": "48f97aec-b46a-405a-a0aa-4cd1be7e01a1",
   "metadata": {},
   "source": [
    "Eine weitere Möglichkeit wäre, die `map`-Funktion zu verwenden. Da es allerdings keine eingebaute Produkt-Funktion gibt, müssen wir hierfür eine `lambda`-Funktion verwenden. Dieser Ansatz hat allerdings keine ersichtlichen Vorteile gegenüber der vorherigen Methode und eine schlechtere Lesbarkeit."
   ]
  },
  {
   "cell_type": "code",
   "execution_count": 65,
   "id": "4411ff55-fa97-4277-b1a5-b790e96f8a9e",
   "metadata": {},
   "outputs": [
    {
     "data": {
      "text/plain": [
       "32"
      ]
     },
     "execution_count": 65,
     "metadata": {},
     "output_type": "execute_result"
    }
   ],
   "source": [
    "sum(map(lambda ai, bi: ai * bi, a, b))"
   ]
  },
  {
   "cell_type": "markdown",
   "id": "c9c96e4e-562d-44e9-b68c-d42493220e10",
   "metadata": {},
   "source": [
    "### Mit Hilfe von außen"
   ]
  },
  {
   "cell_type": "markdown",
   "id": "67bc6ef9-11d9-44fc-9bc2-64e63924b29a",
   "metadata": {},
   "source": [
    "#### Produkt-Funktion aus Standardlibrary-Modul `operator`"
   ]
  },
  {
   "cell_type": "markdown",
   "id": "92a34f8e-fd6e-49b5-b4a1-7e6bbf766570",
   "metadata": {},
   "source": [
    "In der Standardlibrary (Standard-Bibliothek der Sprache Python) existiert das Modul `operator`. Dieses enthält die Multiplikation als Operator:"
   ]
  },
  {
   "cell_type": "code",
   "execution_count": 66,
   "id": "9afdba56-765f-4719-85eb-4b9ac019e9b3",
   "metadata": {},
   "outputs": [
    {
     "data": {
      "text/plain": [
       "32"
      ]
     },
     "execution_count": 66,
     "metadata": {},
     "output_type": "execute_result"
    }
   ],
   "source": [
    "import operator as op\n",
    "\n",
    "sum(map(op.mul, a, b))"
   ]
  },
  {
   "cell_type": "markdown",
   "id": "8331393f-79b4-4786-aad4-b99e1cc3c147",
   "metadata": {},
   "source": [
    "#### Produkt-Funktion aus Standardlibrary-Modul `math`"
   ]
  },
  {
   "cell_type": "markdown",
   "id": "ed7db11b-694a-411c-b4b5-071e704eda3d",
   "metadata": {},
   "source": [
    "Im Modul `math` der Standardlibrary existiert die Funktion `prod`, die das Produkt beliebig vieler Werte berechnet:"
   ]
  },
  {
   "cell_type": "code",
   "execution_count": 67,
   "id": "32b546ad-29bb-4656-83ed-60c85fd904eb",
   "metadata": {},
   "outputs": [
    {
     "data": {
      "text/plain": [
       "32"
      ]
     },
     "execution_count": 67,
     "metadata": {},
     "output_type": "execute_result"
    }
   ],
   "source": [
    "import math\n",
    "\n",
    "sum(map(math.prod, zip(a, b)))"
   ]
  },
  {
   "cell_type": "markdown",
   "id": "5464aa0e-feee-4d2a-a695-41f96c77ed09",
   "metadata": {},
   "source": [
    "Mit Python 3.12 wurde die Funktion `math.sumprod` hinzugefügt, die das Problem sofort löst:"
   ]
  },
  {
   "cell_type": "code",
   "execution_count": 68,
   "id": "bcaff8b0-271e-4a48-8661-bb55732f4503",
   "metadata": {},
   "outputs": [
    {
     "data": {
      "text/plain": [
       "32"
      ]
     },
     "execution_count": 68,
     "metadata": {},
     "output_type": "execute_result"
    }
   ],
   "source": [
    "math.sumprod(a, b)"
   ]
  },
  {
   "cell_type": "markdown",
   "id": "36714d9c-7319-4f9c-88a9-092e5a8b2747",
   "metadata": {},
   "source": [
    "#### Externe Pakete: Numpy, Pandas, etc."
   ]
  },
  {
   "cell_type": "markdown",
   "id": "a6e563a5-e209-455a-8f81-7dbf2da0044b",
   "metadata": {},
   "source": [
    "In der Praxis würde man für alle außer die einfachsten Anwendungszwecke ein Paket für lineare Algebra oder Datenanalyse verwenden. Wir implementieren das Skalarprodukt mit Python-`built-ins` rein zu Übungszwecken. `numpy`-Arrays beispielsweise haben eine Methode `dot` und überladen den Operator `@` zum Berechnen von Skalarprodukten."
   ]
  },
  {
   "cell_type": "markdown",
   "id": "87ad3625-e13b-43ed-b2cd-3758563f02cf",
   "metadata": {},
   "source": [
    "## Ihre Aufgabe"
   ]
  },
  {
   "cell_type": "markdown",
   "id": "7764fbed-f823-4bf9-b28b-7e7df4a27955",
   "metadata": {},
   "source": [
    "Implementieren Sie nun das Skalarprodukt für zwei *Listen* oder *Tuple* `a` und `b`. Im Fall von unterschiedlich langen Listen soll die Länge der kürzeren verwendet werden. "
   ]
  },
  {
   "cell_type": "code",
   "execution_count": 69,
   "id": "7000d07a-fd9f-40a7-ac9d-32074e5333fa",
   "metadata": {
    "deletable": false,
    "editable": false,
    "nbgrader": {
     "cell_type": "code",
     "checksum": "ba2cba5a2b1bfe6d59fb6a0e9f4a883f",
     "grade": false,
     "grade_id": "cell-d9c868179841ae81",
     "locked": true,
     "schema_version": 3,
     "solution": false,
     "task": false
    }
   },
   "outputs": [],
   "source": [
    "a = [1, 2, 3]\n",
    "b = (4, 5, 6)"
   ]
  },
  {
   "cell_type": "code",
   "execution_count": 70,
   "id": "c8582cb7-46b3-43fa-8102-25624f644b07",
   "metadata": {
    "deletable": false,
    "nbgrader": {
     "cell_type": "code",
     "checksum": "17b30846e7d942ccfdc03a79489aff82",
     "grade": false,
     "grade_id": "cell-8feabe3a52e9bb07",
     "locked": false,
     "schema_version": 3,
     "solution": true,
     "task": false
    }
   },
   "outputs": [],
   "source": [
    "# Bitte schreiben Sie hier Ihren Programmcode.\n",
    "\n",
    "ergebnis = sum(ai * bi for ai, bi in zip(a, b))\n",
    "\n"
   ]
  },
  {
   "cell_type": "code",
   "execution_count": 71,
   "id": "8a9f06a2-8fd7-4a3f-904a-e2d3d6a81887",
   "metadata": {
    "deletable": false,
    "editable": false,
    "nbgrader": {
     "cell_type": "code",
     "checksum": "2d372dffecc286c2b4395096061c31e1",
     "grade": true,
     "grade_id": "cell-0b5f247f6adb9a0f",
     "locked": true,
     "points": 1,
     "schema_version": 3,
     "solution": false,
     "task": false
    }
   },
   "outputs": [
    {
     "name": "stdout",
     "output_type": "stream",
     "text": [
      "The following submission will be tested:\n",
      "\n",
      "# Bitte schreiben Sie hier Ihren Programmcode.\n",
      "\n",
      "ergebnis = sum(ai * bi for ai, bi in zip(a, b))\n",
      "\u001b[33ms\u001b[0m\u001b[32m.\u001b[0m\u001b[32m.\u001b[0m\u001b[32m.\u001b[0m\u001b[32m.\u001b[0m\u001b[32m.\u001b[0m\u001b[32m.\u001b[0m\u001b[32m.\u001b[0m\u001b[32m.\u001b[0m\u001b[32m.\u001b[0m\u001b[32m.\u001b[0m\u001b[32m.\u001b[0m\u001b[32m.\u001b[0m\u001b[32m.\u001b[0m\u001b[32m.\u001b[0m\u001b[32m.\u001b[0m\u001b[32m.\u001b[0m\u001b[32m.\u001b[0m\u001b[32m.\u001b[0m\u001b[32m.\u001b[0m\u001b[32m.\u001b[0m\u001b[32m.\u001b[0m\u001b[32m.\u001b[0m\u001b[32m.\u001b[0m\u001b[32m.\u001b[0m\u001b[32m.\u001b[0m\u001b[32m.\u001b[0m\u001b[32m.\u001b[0m\u001b[32m.\u001b[0m\u001b[32m.\u001b[0m\u001b[32m.\u001b[0m\u001b[32m.\u001b[0m\u001b[32m.\u001b[0m\u001b[32m.\u001b[0m\u001b[32m.\u001b[0m\u001b[32m.\u001b[0m\u001b[32m.\u001b[0m\u001b[32m.\u001b[0m\u001b[32m.\u001b[0m\u001b[32m.\u001b[0m\u001b[32m.\u001b[0m\u001b[32m.\u001b[0m\u001b[32m.\u001b[0m\u001b[32m.\u001b[0m\u001b[32m.\u001b[0m\u001b[32m.\u001b[0m\u001b[32m.\u001b[0m\u001b[32m.\u001b[0m\u001b[32m.\u001b[0m\u001b[32m.\u001b[0m\u001b[32m.\u001b[0m\u001b[32m.\u001b[0m\u001b[32m.\u001b[0m\u001b[32m.\u001b[0m\u001b[32m.\u001b[0m\u001b[32m.\u001b[0m\u001b[32m.\u001b[0m\u001b[32m.\u001b[0m\u001b[32m.\u001b[0m\u001b[32m.\u001b[0m\u001b[32m.\u001b[0m\u001b[32m.\u001b[0m\u001b[32m.\u001b[0m\u001b[32m.\u001b[0m\u001b[32m.\u001b[0m\u001b[32m        [100%]\u001b[0m\n",
      "\u001b[33ms\u001b[0m\u001b[32m.\u001b[0m\u001b[32m.\u001b[0m\u001b[32m.\u001b[0m\u001b[32m.\u001b[0m\u001b[32m.\u001b[0m\u001b[32m.\u001b[0m\u001b[32m.\u001b[0m\u001b[32m.\u001b[0m\u001b[32m.\u001b[0m\u001b[32m.\u001b[0m\u001b[32m.\u001b[0m\u001b[32m.\u001b[0m\u001b[32m.\u001b[0m\u001b[32m.\u001b[0m\u001b[32m.\u001b[0m\u001b[32m.\u001b[0m\u001b[32m.\u001b[0m\u001b[32m.\u001b[0m\u001b[32m.\u001b[0m\u001b[32m.\u001b[0m\u001b[32m.\u001b[0m\u001b[32m.\u001b[0m\u001b[32m.\u001b[0m\u001b[32m.\u001b[0m\u001b[32m.\u001b[0m\u001b[32m.\u001b[0m\u001b[32m.\u001b[0m\u001b[32m.\u001b[0m\u001b[32m.\u001b[0m\u001b[32m.\u001b[0m\u001b[32m.\u001b[0m\u001b[32m.\u001b[0m\u001b[32m.\u001b[0m\u001b[32m.\u001b[0m\u001b[32m.\u001b[0m\u001b[32m.\u001b[0m\u001b[32m.\u001b[0m\u001b[32m.\u001b[0m\u001b[32m.\u001b[0m\u001b[32m.\u001b[0m\u001b[32m.\u001b[0m\u001b[32m.\u001b[0m\u001b[32m.\u001b[0m\u001b[32m.\u001b[0m\u001b[32m.\u001b[0m\u001b[32m.\u001b[0m\u001b[32m.\u001b[0m\u001b[32m.\u001b[0m\u001b[32m.\u001b[0m\u001b[32m.\u001b[0m\u001b[32m.\u001b[0m\u001b[32m.\u001b[0m\u001b[32m.\u001b[0m\u001b[32m.\u001b[0m\u001b[32m.\u001b[0m\u001b[32m.\u001b[0m\u001b[32m.\u001b[0m\u001b[32m.\u001b[0m\u001b[32m.\u001b[0m\u001b[32m.\u001b[0m\u001b[32m.\u001b[0m\u001b[32m.\u001b[0m\u001b[32m.\u001b[0m\u001b[32m.\u001b[0m\u001b[32m        [100%]\u001b[0m\n",
      "\u001b[33ms\u001b[0m\u001b[32m.\u001b[0m\u001b[32m.\u001b[0m\u001b[32m.\u001b[0m\u001b[32m.\u001b[0m\u001b[32m.\u001b[0m\u001b[32m.\u001b[0m\u001b[32m.\u001b[0m\u001b[32m.\u001b[0m\u001b[32m.\u001b[0m\u001b[32m.\u001b[0m\u001b[32m.\u001b[0m\u001b[32m.\u001b[0m\u001b[32m.\u001b[0m\u001b[32m.\u001b[0m\u001b[32m.\u001b[0m\u001b[32m.\u001b[0m\u001b[32m.\u001b[0m\u001b[32m.\u001b[0m\u001b[32m.\u001b[0m\u001b[32m.\u001b[0m\u001b[32m.\u001b[0m\u001b[32m.\u001b[0m\u001b[32m.\u001b[0m\u001b[32m.\u001b[0m\u001b[32m.\u001b[0m\u001b[32m.\u001b[0m\u001b[32m.\u001b[0m\u001b[32m.\u001b[0m\u001b[32m.\u001b[0m\u001b[32m.\u001b[0m\u001b[32m.\u001b[0m\u001b[32m.\u001b[0m\u001b[32m.\u001b[0m\u001b[32m.\u001b[0m\u001b[32m.\u001b[0m\u001b[32m.\u001b[0m\u001b[32m.\u001b[0m\u001b[32m.\u001b[0m\u001b[32m.\u001b[0m\u001b[32m.\u001b[0m\u001b[32m.\u001b[0m\u001b[32m.\u001b[0m\u001b[32m.\u001b[0m\u001b[32m.\u001b[0m\u001b[32m.\u001b[0m\u001b[32m.\u001b[0m\u001b[32m.\u001b[0m\u001b[32m.\u001b[0m\u001b[32m.\u001b[0m\u001b[32m.\u001b[0m\u001b[32m.\u001b[0m\u001b[32m.\u001b[0m\u001b[32m.\u001b[0m\u001b[32m.\u001b[0m\u001b[32m.\u001b[0m\u001b[32m.\u001b[0m\u001b[32m.\u001b[0m\u001b[32m.\u001b[0m\u001b[32m.\u001b[0m\u001b[32m.\u001b[0m\u001b[32m.\u001b[0m\u001b[32m.\u001b[0m\u001b[32m.\u001b[0m\u001b[32m.\u001b[0m\u001b[32m.\u001b[0m\u001b[32m.\u001b[0m\u001b[32m.\u001b[0m\u001b[32m.\u001b[0m\u001b[32m.\u001b[0m\u001b[32m.\u001b[0m\u001b[32m.\u001b[0m\u001b[32m [ 28%]\n",
      "\u001b[0m\u001b[32m.\u001b[0m\u001b[32m.\u001b[0m\u001b[32m.\u001b[0m\u001b[32m.\u001b[0m\u001b[32m.\u001b[0m\u001b[32m.\u001b[0m\u001b[32m.\u001b[0m\u001b[32m.\u001b[0m\u001b[32m.\u001b[0m\u001b[32m.\u001b[0m\u001b[32m.\u001b[0m\u001b[32m.\u001b[0m\u001b[32m.\u001b[0m\u001b[32m.\u001b[0m\u001b[32m.\u001b[0m\u001b[32m.\u001b[0m\u001b[32m.\u001b[0m\u001b[32m.\u001b[0m\u001b[32m.\u001b[0m\u001b[32m.\u001b[0m\u001b[32m.\u001b[0m\u001b[32m.\u001b[0m\u001b[32m.\u001b[0m\u001b[32m.\u001b[0m\u001b[32m.\u001b[0m\u001b[32m.\u001b[0m\u001b[32m.\u001b[0m\u001b[32m.\u001b[0m\u001b[32m.\u001b[0m\u001b[32m.\u001b[0m\u001b[32m.\u001b[0m\u001b[32m.\u001b[0m\u001b[32m.\u001b[0m\u001b[32m.\u001b[0m\u001b[32m.\u001b[0m\u001b[32m.\u001b[0m\u001b[32m.\u001b[0m\u001b[32m.\u001b[0m\u001b[32m.\u001b[0m\u001b[32m.\u001b[0m\u001b[32m.\u001b[0m\u001b[32m.\u001b[0m\u001b[32m.\u001b[0m\u001b[32m.\u001b[0m\u001b[32m.\u001b[0m\u001b[32m.\u001b[0m\u001b[32m.\u001b[0m\u001b[32m.\u001b[0m\u001b[32m.\u001b[0m\u001b[32m.\u001b[0m\u001b[32m.\u001b[0m\u001b[32m.\u001b[0m\u001b[32m.\u001b[0m\u001b[32m.\u001b[0m\u001b[32m.\u001b[0m\u001b[32m.\u001b[0m\u001b[32m.\u001b[0m\u001b[32m.\u001b[0m\u001b[32m.\u001b[0m\u001b[32m.\u001b[0m\u001b[32m.\u001b[0m\u001b[32m.\u001b[0m\u001b[32m.\u001b[0m\u001b[32m.\u001b[0m\u001b[32m.\u001b[0m\u001b[32m.\u001b[0m\u001b[32m.\u001b[0m\u001b[32m.\u001b[0m\u001b[32m.\u001b[0m\u001b[32m.\u001b[0m\u001b[32m.\u001b[0m\u001b[32m.\u001b[0m\u001b[32m [ 56%]\n",
      "\u001b[0m\u001b[32m.\u001b[0m\u001b[32m.\u001b[0m\u001b[32m.\u001b[0m\u001b[32m.\u001b[0m\u001b[32m.\u001b[0m\u001b[32m.\u001b[0m\u001b[32m.\u001b[0m\u001b[32m.\u001b[0m\u001b[32m.\u001b[0m\u001b[32m.\u001b[0m\u001b[32m.\u001b[0m\u001b[32m.\u001b[0m\u001b[32m.\u001b[0m\u001b[32m.\u001b[0m\u001b[32m.\u001b[0m\u001b[32m.\u001b[0m\u001b[32m.\u001b[0m\u001b[32m.\u001b[0m\u001b[32m.\u001b[0m\u001b[32m.\u001b[0m\u001b[32m.\u001b[0m\u001b[32m.\u001b[0m\u001b[32m.\u001b[0m\u001b[32m.\u001b[0m\u001b[32m.\u001b[0m\u001b[32m.\u001b[0m\u001b[32m.\u001b[0m\u001b[32m.\u001b[0m\u001b[32m.\u001b[0m\u001b[32m.\u001b[0m\u001b[32m.\u001b[0m\u001b[32m.\u001b[0m\u001b[32m.\u001b[0m\u001b[32m.\u001b[0m\u001b[32m.\u001b[0m\u001b[32m.\u001b[0m\u001b[32m.\u001b[0m\u001b[32m.\u001b[0m\u001b[32m.\u001b[0m\u001b[32m.\u001b[0m\u001b[32m.\u001b[0m\u001b[32m.\u001b[0m\u001b[32m.\u001b[0m\u001b[32m.\u001b[0m\u001b[32m.\u001b[0m\u001b[32m.\u001b[0m\u001b[32m.\u001b[0m\u001b[32m.\u001b[0m\u001b[32m.\u001b[0m\u001b[32m.\u001b[0m\u001b[32m.\u001b[0m\u001b[32m.\u001b[0m\u001b[32m.\u001b[0m\u001b[32m.\u001b[0m\u001b[32m.\u001b[0m\u001b[32m.\u001b[0m\u001b[32m.\u001b[0m\u001b[32m.\u001b[0m\u001b[32m.\u001b[0m\u001b[32m.\u001b[0m\u001b[32m.\u001b[0m\u001b[32m.\u001b[0m\u001b[32m.\u001b[0m\u001b[32m.\u001b[0m\u001b[32m.\u001b[0m\u001b[32m.\u001b[0m\u001b[32m.\u001b[0m\u001b[32m.\u001b[0m\u001b[32m.\u001b[0m\u001b[32m.\u001b[0m\u001b[32m.\u001b[0m\u001b[32m.\u001b[0m\u001b[32m [ 84%]\n",
      "\u001b[0m\u001b[32m.\u001b[0m\u001b[32m.\u001b[0m\u001b[32m.\u001b[0m\u001b[32m.\u001b[0m\u001b[32m.\u001b[0m\u001b[32m.\u001b[0m\u001b[32m.\u001b[0m\u001b[32m.\u001b[0m\u001b[32m.\u001b[0m\u001b[32m.\u001b[0m\u001b[32m.\u001b[0m\u001b[32m.\u001b[0m\u001b[32m.\u001b[0m\u001b[32m.\u001b[0m\u001b[32m.\u001b[0m\u001b[32m.\u001b[0m\u001b[32m.\u001b[0m\u001b[32m.\u001b[0m\u001b[32m.\u001b[0m\u001b[32m.\u001b[0m\u001b[32m.\u001b[0m\u001b[32m.\u001b[0m\u001b[32m.\u001b[0m\u001b[32m.\u001b[0m\u001b[32m.\u001b[0m\u001b[32m.\u001b[0m\u001b[32m.\u001b[0m\u001b[32m.\u001b[0m\u001b[32m.\u001b[0m\u001b[32m.\u001b[0m\u001b[32m.\u001b[0m\u001b[32m.\u001b[0m\u001b[32m.\u001b[0m\u001b[32m.\u001b[0m\u001b[32m.\u001b[0m\u001b[32m.\u001b[0m\u001b[32m.\u001b[0m\u001b[32m.\u001b[0m\u001b[32m.\u001b[0m\u001b[32m.\u001b[0m\u001b[32m.\u001b[0m\u001b[32m                                [100%]\u001b[0m\n"
     ]
    }
   ],
   "source": [
    "import pathlib\n",
    "\n",
    "import pytest\n",
    "from pytest_nbgrader import loader\n",
    "\n",
    "loader.Submission.submit(_i)\n",
    "\n",
    "args = ['-qq', '-x', '-W', 'ignore::_pytest.warning_types.PytestAssertRewriteWarning', '--cases']\n",
    "subtasks = ['integer_tuples','float_tuples','arbitrary_iterables']\n",
    "\n",
    "assert all(\n",
    "    pytest.main([*args, pathlib.Path('tests') / 'Skalarprodukt' / f'{subtask}.yml']) is pytest.ExitCode.OK\n",
    "    for subtask in subtasks\n",
    ")"
   ]
  }
 ],
 "metadata": {
  "kernelspec": {
   "display_name": "learn-python",
   "language": "python",
   "name": "learn-python"
  },
  "language_info": {
   "codemirror_mode": {
    "name": "ipython",
    "version": 3
   },
   "file_extension": ".py",
   "mimetype": "text/x-python",
   "name": "python",
   "nbconvert_exporter": "python",
   "pygments_lexer": "ipython3",
   "version": "3.12.0"
  }
 },
 "nbformat": 4,
 "nbformat_minor": 5
}
