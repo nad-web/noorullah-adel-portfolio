{
 "cells": [
  {
   "cell_type": "markdown",
   "id": "963cbf6b-722b-4a92-a033-ec3f466db23d",
   "metadata": {},
   "source": [
     ]
  },
  {
   "cell_type": "markdown",
   "id": "9e7eb5da-d294-4e96-af64-d9e7178cc93f",
   "metadata": {},
   "source": [
    "# Multimap umdrehen"
   ]
  },
  {
   "cell_type": "markdown",
   "id": "f27ab60d-a847-4a2d-b89d-4423f74d3061",
   "metadata": {},
   "source": [
    "In dieser Aufgabe iterieren Sie über Schlüssel-Wert-Paare eines Dictionaries und erstellen ein neues Dictionary. Die Aufgabe ist schnell gestellt und gibt keinen Lösungsweg vor."
   ]
  },
  {
   "cell_type": "markdown",
   "id": "e503f79d-e770-4630-a03b-0c805187cd2b",
   "metadata": {},
   "source": [
    "## Problemstellung"
   ]
  },
  {
   "cell_type": "markdown",
   "id": "1c63e743-b217-4d63-8df2-8c20f219219d",
   "metadata": {},
   "source": [
    "Dictionaries sind sogenannte *Mappings*. Dabei ist jedem Schlüssel genau ein Wert zugeordnet. Manchmal möchte man einem Schlüssel mehr als einen Wert zuordnen. Beispielsweise kann eine Person mehrere Module besuchen, an jedem Modul nehmen andererseits beliebig viele Personen teil. In Python könnte man dies repräsentieren, indem man jedem Schlüssel nicht nur einen Wert, sondern eine *Menge* (ein `set`) von Werten zuordnet.\n",
    "\n",
    "Da sowohl Schlüssel eines Dictionaries als auch Elemente einer Menge unveränderlich (\"immutable\") sind, lässt sich diese Zuordnung stets umkehren. Beispielsweise haben Sie ein Dictionary, das Personen als Schlüssel und Mengen von besuchten Veranstaltungen als Werte enthält. Dann könnten Sie ein neues Dictionary erstellen, das die einzelnen Veranstaltungen als Schlüssel und die Mengen der jeweils teilnehmenden Personen als Werte enthält."
   ]
  },
  {
   "cell_type": "markdown",
   "id": "35434191-4d60-4db8-b9ce-0fde821b31db",
   "metadata": {},
   "source": [
    "## Ihre Aufgabe"
   ]
  },
  {
   "cell_type": "markdown",
   "id": "9127f740-de84-4635-86ab-9ace0df46e7f",
   "metadata": {},
   "source": [
    "Sie erhalten ein Dictionary `multimap`. Darin sind Schlüsseln (als Strings) ein oder mehrere Werte (als Sets von Integern) zugeordnet.\n",
    "\n",
    "Erstellen Sie ein Dictionary `reverse_multimap` mit der umgekehrten Zuordnung. Dabei sollen die Integer in den Mengen des ursprünglichen Dictionaries zu Schlüsseln im neuen Dictionary werden und die ursprünglichen Schlüssel als Elemente von Mengen gespeichert werden, die den jeweiligen Integern als Werte zugeordnet sind. \n",
    "\n",
    "Beispiel:\n",
    "```python\n",
    "multimap = {\n",
    "    'a': {1, 2, 3},\n",
    "    'b': {1, 3},\n",
    "    'c': {2}\n",
    "}\n",
    "\n",
    "reverse_multimap = {\n",
    "    1: {'a', 'b'},\n",
    "    2: {'a', 'c'},\n",
    "    3: {'a', 'b'}\n",
    "}\n",
    "```"
   ]
  },
  {
   "cell_type": "markdown",
   "id": "85f26e97-55c0-49bc-a420-7a5792afb190",
   "metadata": {},
   "source": [
    "Auch wenn jede Antwort, die die Tests besteht, die Aufgabe \"zutreffend bearbeitet\" und nicht weiter bewertet wird: Geben Sie sich Mühe, die klarste und idiomatischste Antwort zu finden."
   ]
  },
  {
   "cell_type": "code",
   "execution_count": 5,
   "id": "62b8d371-fc93-4d3c-a731-c87718823045",
   "metadata": {
    "deletable": false,
    "editable": false,
    "nbgrader": {
     "cell_type": "code",
     "checksum": "4ee77ea665ed3869b1857ce83bb6209e",
     "grade": false,
     "grade_id": "cell-d7ceec1190e40ed2",
     "locked": true,
     "schema_version": 3,
     "solution": false,
     "task": false
    }
   },
   "outputs": [],
   "source": [
    "# variable initialization.\n",
    "multimap = {\n",
    "    'a': {1, 2, 3},\n",
    "    'b': {1, 3},\n",
    "    'c': {2}\n",
    "}"
   ]
  },
  {
   "cell_type": "code",
   "execution_count": 6,
   "id": "ef9bd700-aad1-4f5a-b8c9-6a8f346ada67",
   "metadata": {
    "deletable": false,
    "nbgrader": {
     "cell_type": "code",
     "checksum": "1ea5603e87b8dff89c127b837b87e941",
     "grade": false,
     "grade_id": "cell-2a4f82a0fcc67409",
     "locked": false,
     "schema_version": 3,
     "solution": true,
     "task": false
    }
   },
   "outputs": [],
   "source": [
    "# Bitte schreiben Sie hier Ihren Programmcode.\n",
    "\n",
    "reverse_multimap = {}\n",
    "\n",
    "for key, values in multimap.items():\n",
    "    for value in values:\n",
    "        if value not in reverse_multimap:\n",
    "            reverse_multimap[value] = set()\n",
    "        reverse_multimap[value].add(key)\n",
    "\n"
   ]
  },
  {
   "cell_type": "code",
   "execution_count": 7,
   "id": "b328dbf8-af29-4bd1-b056-e1a190d787f0",
   "metadata": {
    "deletable": false,
    "editable": false,
    "nbgrader": {
     "cell_type": "code",
     "checksum": "0db199036d094ef31c6ebc0f3a947a52",
     "grade": true,
     "grade_id": "cell-b9e264a484cf89bd",
     "locked": true,
     "points": 1,
     "schema_version": 3,
     "solution": false,
     "task": false
    }
   },
   "outputs": [
    {
     "name": "stdout",
     "output_type": "stream",
     "text": [
      "The following submission will be tested:\n",
      "\n",
      "# Bitte schreiben Sie hier Ihren Programmcode.\n",
      "\n",
      "reverse_multimap = {}\n",
      "\n",
      "for key, values in multimap.items():\n",
      "    for value in values:\n",
      "        if value not in reverse_multimap:\n",
      "            reverse_multimap[value] = set()\n",
      "        reverse_multimap[value].add(key)\n",
      "\u001b[33ms\u001b[0m\u001b[32m.\u001b[0m\u001b[32m.\u001b[0m\u001b[32m.\u001b[0m\u001b[32m.\u001b[0m\u001b[32m.\u001b[0m\u001b[32m.\u001b[0m\u001b[32m.\u001b[0m\u001b[32m.\u001b[0m\u001b[32m.\u001b[0m\u001b[32m.\u001b[0m\u001b[32m.\u001b[0m\u001b[32m.\u001b[0m\u001b[32m.\u001b[0m\u001b[32m.\u001b[0m\u001b[32m.\u001b[0m\u001b[32m.\u001b[0m\u001b[32m.\u001b[0m\u001b[32m.\u001b[0m\u001b[32m.\u001b[0m\u001b[32m.\u001b[0m\u001b[32m.\u001b[0m\u001b[32m.\u001b[0m\u001b[32m.\u001b[0m\u001b[32m.\u001b[0m\u001b[32m.\u001b[0m\u001b[32m.\u001b[0m\u001b[32m.\u001b[0m\u001b[32m.\u001b[0m\u001b[32m.\u001b[0m\u001b[32m.\u001b[0m\u001b[32m.\u001b[0m\u001b[32m.\u001b[0m\u001b[32m.\u001b[0m\u001b[32m.\u001b[0m\u001b[32m.\u001b[0m\u001b[32m.\u001b[0m\u001b[32m                                    [100%]\u001b[0m\n"
     ]
    }
   ],
   "source": [
    "import pathlib\n",
    "\n",
    "import pytest\n",
    "from pytest_nbgrader import loader\n",
    "\n",
    "loader.Submission.submit(_i)\n",
    "\n",
    "cases = pathlib.Path('tests') / 'Multimap_umdrehen'\n",
    "args = ['-qq', '-x', '-W', 'ignore::_pytest.warning_types.PytestAssertRewriteWarning', '--cases']\n",
    "\n",
    "assert pytest.main([*args, cases / 'reverse_multimap.yml']) is pytest.ExitCode.OK"
   ]
  },
  {
   "cell_type": "code",
   "execution_count": null,
   "id": "871b1f45-e7cb-4c65-b4b0-f592b7643d72",
   "metadata": {},
   "outputs": [],
   "source": []
  }
 ],
 "metadata": {
  "kernelspec": {
   "display_name": "learn-python",
   "language": "python",
   "name": "learn-python"
  },
  "language_info": {
   "codemirror_mode": {
    "name": "ipython",
    "version": 3
   },
   "file_extension": ".py",
   "mimetype": "text/x-python",
   "name": "python",
   "nbconvert_exporter": "python",
   "pygments_lexer": "ipython3",
   "version": "3.12.0"
  }
 },
 "nbformat": 4,
 "nbformat_minor": 5
}
